{
 "cells": [
  {
   "cell_type": "markdown",
   "metadata": {},
   "source": [
    "## 1. 입력한 질문 벡터화 및 차원축소 "
   ]
  },
  {
   "cell_type": "code",
   "execution_count": 1,
   "metadata": {},
   "outputs": [
    {
     "name": "stderr",
     "output_type": "stream",
     "text": [
      "c:\\Users\\Paris\\miniconda3\\envs\\ds_study\\Lib\\site-packages\\torch\\utils\\_pytree.py:185: FutureWarning: optree is installed but the version is too old to support PyTorch Dynamo in C++ pytree. C++ pytree support is disabled. Please consider upgrading optree using `python3 -m pip install --upgrade 'optree>=0.13.0'`.\n",
      "  warnings.warn(\n"
     ]
    },
    {
     "name": "stdout",
     "output_type": "stream",
     "text": [
      "WARNING:tensorflow:From c:\\Users\\Paris\\miniconda3\\envs\\ds_study\\Lib\\site-packages\\tf_keras\\src\\losses.py:2976: The name tf.losses.sparse_softmax_cross_entropy is deprecated. Please use tf.compat.v1.losses.sparse_softmax_cross_entropy instead.\n",
      "\n"
     ]
    },
    {
     "name": "stderr",
     "output_type": "stream",
     "text": [
      "The installed version of bitsandbytes was compiled without GPU support. 8-bit optimizers, 8-bit multiplication, and GPU quantization are unavailable.\n"
     ]
    }
   ],
   "source": [
    "from sentence_transformers import SentenceTransformer\n",
    "\n",
    "# KoSentence-BERT 모델 불러오기\n",
    "model = SentenceTransformer('snunlp/KR-SBERT-V40K-klueNLI-augSTS')"
   ]
  },
  {
   "cell_type": "code",
   "execution_count": 2,
   "metadata": {},
   "outputs": [],
   "source": [
    "question = '오른쪽 머리에서 찌릿하는 두통은 뭔가요?'\n",
    "question_vec = model.encode([question], batchsize=32)"
   ]
  },
  {
   "cell_type": "code",
   "execution_count": 3,
   "metadata": {},
   "outputs": [
    {
     "data": {
      "text/plain": [
       "(1, 768)"
      ]
     },
     "execution_count": 3,
     "metadata": {},
     "output_type": "execute_result"
    }
   ],
   "source": [
    "question_vec.shape"
   ]
  },
  {
   "cell_type": "code",
   "execution_count": 4,
   "metadata": {},
   "outputs": [
    {
     "name": "stderr",
     "output_type": "stream",
     "text": [
      "c:\\Users\\Paris\\miniconda3\\envs\\ds_study\\Lib\\site-packages\\sklearn\\base.py:376: InconsistentVersionWarning: Trying to unpickle estimator DecisionTreeClassifier from version 1.6.1 when using version 1.5.1. This might lead to breaking code or invalid results. Use at your own risk. For more info please refer to:\n",
      "https://scikit-learn.org/stable/model_persistence.html#security-maintainability-limitations\n",
      "  warnings.warn(\n",
      "c:\\Users\\Paris\\miniconda3\\envs\\ds_study\\Lib\\site-packages\\sklearn\\base.py:376: InconsistentVersionWarning: Trying to unpickle estimator RandomForestClassifier from version 1.6.1 when using version 1.5.1. This might lead to breaking code or invalid results. Use at your own risk. For more info please refer to:\n",
      "https://scikit-learn.org/stable/model_persistence.html#security-maintainability-limitations\n",
      "  warnings.warn(\n",
      "c:\\Users\\Paris\\miniconda3\\envs\\ds_study\\Lib\\site-packages\\sklearn\\base.py:376: InconsistentVersionWarning: Trying to unpickle estimator StandardScaler from version 1.6.1 when using version 1.5.1. This might lead to breaking code or invalid results. Use at your own risk. For more info please refer to:\n",
      "https://scikit-learn.org/stable/model_persistence.html#security-maintainability-limitations\n",
      "  warnings.warn(\n",
      "c:\\Users\\Paris\\miniconda3\\envs\\ds_study\\Lib\\site-packages\\sklearn\\base.py:376: InconsistentVersionWarning: Trying to unpickle estimator PCA from version 1.6.1 when using version 1.5.1. This might lead to breaking code or invalid results. Use at your own risk. For more info please refer to:\n",
      "https://scikit-learn.org/stable/model_persistence.html#security-maintainability-limitations\n",
      "  warnings.warn(\n"
     ]
    }
   ],
   "source": [
    "import joblib\n",
    "\n",
    "# 저장된 RandomForestClassifier 모델 불러오기\n",
    "rf_model = joblib.load('./headache_randomforest.pkl')\n",
    "scaler = joblib.load('./headache_scaler.pkl')\n",
    "pca = joblib.load('./headache_pca.pkl')"
   ]
  },
  {
   "cell_type": "code",
   "execution_count": 5,
   "metadata": {},
   "outputs": [],
   "source": [
    "from sklearn.preprocessing import StandardScaler\n",
    "from sklearn.decomposition import PCA\n",
    "\n",
    "question_ss = scaler.transform(question_vec)\n",
    "question_pca = pca.transform(question_ss)"
   ]
  },
  {
   "cell_type": "code",
   "execution_count": 6,
   "metadata": {},
   "outputs": [
    {
     "data": {
      "text/plain": [
       "array([3], dtype=int64)"
      ]
     },
     "execution_count": 6,
     "metadata": {},
     "output_type": "execute_result"
    }
   ],
   "source": [
    "# 예측\n",
    "result = rf_model.predict(question_pca)\n",
    "result"
   ]
  },
  {
   "cell_type": "code",
   "execution_count": 7,
   "metadata": {},
   "outputs": [
    {
     "data": {
      "text/plain": [
       "array([0, 0, 0, ..., 5, 5, 5])"
      ]
     },
     "execution_count": 7,
     "metadata": {},
     "output_type": "execute_result"
    }
   ],
   "source": [
    "import pandas as pd\n",
    "from sklearn.preprocessing import LabelEncoder\n",
    "\n",
    "# 질문 데이터 불러오기\n",
    "question_df = pd.read_csv('두통 질문.csv', index_col=0)\n",
    "\n",
    "le = LabelEncoder()\n",
    "le_intention = le.fit_transform(question_df['intention'])\n",
    "le_intention\n"
   ]
  },
  {
   "cell_type": "code",
   "execution_count": 8,
   "metadata": {},
   "outputs": [
    {
     "name": "stderr",
     "output_type": "stream",
     "text": [
      "c:\\Users\\Paris\\miniconda3\\envs\\ds_study\\Lib\\site-packages\\sklearn\\preprocessing\\_label.py:153: DataConversionWarning: A column-vector y was passed when a 1d array was expected. Please change the shape of y to (n_samples, ), for example using ravel().\n",
      "  y = column_or_1d(y, warn=True)\n"
     ]
    },
    {
     "data": {
      "text/plain": [
       "array(['증상'], dtype=object)"
      ]
     },
     "execution_count": 8,
     "metadata": {},
     "output_type": "execute_result"
    }
   ],
   "source": [
    "label = le.inverse_transform([result])\n",
    "label"
   ]
  },
  {
   "cell_type": "markdown",
   "metadata": {},
   "source": [
    "## 2. faiss\n",
    "- 대규모 데이터셋에서 빠르고 효율적으로 문장 유사도 검색.\n",
    "- faiss로 벡터 DB 구축\n",
    "- 사용자가 입력한 질문을 벡터화하고 faiss를 통해 가장 유사한 벡터 검색"
   ]
  },
  {
   "cell_type": "markdown",
   "metadata": {},
   "source": [
    "### 답변 임베딩\n",
    "#### 1) 텍스트 나누기\n",
    "- 각 언어 모델은 한 번에 처리할 수 있는 텍스트의 길이(토큰수)가 제한적이다.\n",
    "- 한번에 처리하는 텍스트 길이에 제한을 두어 큰 텍스트를 처리할 때 효율적으로 하기 위함."
   ]
  },
  {
   "cell_type": "code",
   "execution_count": 9,
   "metadata": {},
   "outputs": [],
   "source": [
    "import faiss\n",
    "import re\n",
    "from langchain.text_splitter import RecursiveCharacterTextSplitter"
   ]
  },
  {
   "cell_type": "code",
   "execution_count": 22,
   "metadata": {},
   "outputs": [
    {
     "data": {
      "text/plain": [
       "['두통을 예방하기 위해서는 일상적으로 바른 자세를 유지해야 합니다.',\n",
       " '일상 생활에서의 자세한 관리는 두통 예방에 도움이 될 수 있습니다.',\n",
       " '컴퓨터를 사용할 때는 모니터를 눈높이에 배치하는 것이 좋습니다.',\n",
       " '의자에 앉을 때는 등을 펴고 허리를 곧게 세워 앉습니다.',\n",
       " '책을 읽을 때는 눈높이에 맞추어 읽으며 책을 읽을 때는 한손으로 받친 자세로 읽는 것이 좋습니다.',\n",
       " '모니터를 멀리 배치할 경우 눈의 피로를 줄일 수 있습니다.',\n",
       " '긴 시간동안 앉아 있는 경우에는 일어나서 스트레칭을 해주거나 몸을 좌우로 비틀어서 자세를 풀어주는 것이 좋습니다.',\n",
       " '또한, 일상생활에서 적절한 자세를 유지하는 것과 충분한 수면을 취함으로써 두통 예방에 도움을 줄 수 있습니다.',\n",
       " '올바른 자세와 수면, 스트레칭을 통해 일상 생활에서 올바른 자세를 유지하는 것이 두통 예방에 도움이 됩니다.']"
      ]
     },
     "execution_count": 22,
     "metadata": {},
     "output_type": "execute_result"
    }
   ],
   "source": [
    "test_sentence = '두통을 예방하기 위해서는 일상적으로 바른 자세를 유지해야 합니다. 일상 생활에서의 자세한 관리는 두통 예방에 도움이 될 수 있습니다. 컴퓨터를 사용할 때는 모니터를 눈높이에 배치하는 것이 좋습니다. 의자에 앉을 때는 등을 펴고 허리를 곧게 세워 앉습니다. 책을 읽을 때는 눈높이에 맞추어 읽으며 책을 읽을 때는 한손으로 받친 자세로 읽는 것이 좋습니다. 모니터를 멀리 배치할 경우 눈의 피로를 줄일 수 있습니다. 긴 시간동안 앉아 있는 경우에는 일어나서 스트레칭을 해주거나 몸을 좌우로 비틀어서 자세를 풀어주는 것이 좋습니다. 또한, 일상생활에서 적절한 자세를 유지하는 것과 충분한 수면을 취함으로써 두통 예방에 도움을 줄 수 있습니다. 올바른 자세와 수면, 스트레칭을 통해 일상 생활에서 올바른 자세를 유지하는 것이 두통 예방에 도움이 됩니다.'\n",
    "re.split(r'(?<=[.!?]) +', test_sentence)"
   ]
  },
  {
   "cell_type": "code",
   "execution_count": 23,
   "metadata": {},
   "outputs": [],
   "source": [
    "# 2문장씩 문장을 나누는 함수\n",
    "def split_sentences(sentences, max_sentences=2):\n",
    "    sentence_list = re.split(r'(?<=[.!?]) +', sentences) # 문장을 마침표, 느낌표, 물음표 뒤에오는 공백을 기준으로 나눔(공백 뒤에 +를 붙여서 하나이상을 의미)\n",
    "    chunks = []\n",
    "    for i in range(0, len(sentence_list), max_sentences): # max_sentences 간격만큼\n",
    "        chunks.append(' '.join(sentence_list[i:i + max_sentences])) # join으로 두개의 문장 공백으로 연결, 리스트 대신 문자열로 생성됨.\n",
    "    \n",
    "    return chunks\n"
   ]
  },
  {
   "cell_type": "code",
   "execution_count": 24,
   "metadata": {},
   "outputs": [
    {
     "data": {
      "text/plain": [
       "['두통을 예방하기 위해서는 일상적으로 바른 자세를 유지해야 합니다. 일상 생활에서의 자세한 관리는 두통 예방에 도움이 될 수 있습니다.',\n",
       " '컴퓨터를 사용할 때는 모니터를 눈높이에 배치하는 것이 좋습니다. 의자에 앉을 때는 등을 펴고 허리를 곧게 세워 앉습니다.',\n",
       " '책을 읽을 때는 눈높이에 맞추어 읽으며 책을 읽을 때는 한손으로 받친 자세로 읽는 것이 좋습니다. 모니터를 멀리 배치할 경우 눈의 피로를 줄일 수 있습니다.',\n",
       " '긴 시간동안 앉아 있는 경우에는 일어나서 스트레칭을 해주거나 몸을 좌우로 비틀어서 자세를 풀어주는 것이 좋습니다. 또한, 일상생활에서 적절한 자세를 유지하는 것과 충분한 수면을 취함으로써 두통 예방에 도움을 줄 수 있습니다.',\n",
       " '올바른 자세와 수면, 스트레칭을 통해 일상 생활에서 올바른 자세를 유지하는 것이 두통 예방에 도움이 됩니다.']"
      ]
     },
     "execution_count": 24,
     "metadata": {},
     "output_type": "execute_result"
    }
   ],
   "source": [
    "split_sentences(test_sentence)"
   ]
  },
  {
   "cell_type": "code",
   "execution_count": 25,
   "metadata": {},
   "outputs": [],
   "source": [
    "# chunks 속 2문장씩 결합되어있는 문장들의 길이가 너무 긴 경우 나눠주기 위함.\n",
    "def split_text_with_recursive_splitter(text, chunk_size=300, chunk_overlap=50):\n",
    "    text_splitter = RecursiveCharacterTextSplitter(\n",
    "        chunk_size = chunk_size, # 최대 몇자로 설정할지\n",
    "        chunk_overlap = chunk_overlap # 50개 겹쳐서 시작\n",
    "    )\n",
    "\n",
    "    return text_splitter.split_text(text)"
   ]
  },
  {
   "cell_type": "code",
   "execution_count": 26,
   "metadata": {},
   "outputs": [
    {
     "data": {
      "text/plain": [
       "['두통을 예방하기 위해서는 일상적으로 바른 자세를 유지해야 합니다. 일상 생활에서의 자세한 관리는 두통 예방에 도움이 될 수 있습니다. 컴퓨터를 사용할 때는 모니터를 눈높이에 배치하는 것이 좋습니다. 의자에 앉을 때는 등을 펴고 허리를 곧게 세워 앉습니다. 책을 읽을 때는 눈높이에 맞추어 읽으며 책을 읽을 때는 한손으로 받친 자세로 읽는 것이 좋습니다. 모니터를 멀리 배치할 경우 눈의 피로를 줄일 수 있습니다. 긴 시간동안 앉아 있는 경우에는 일어나서 스트레칭을 해주거나 몸을 좌우로 비틀어서 자세를 풀어주는 것이 좋습니다. 또한,',\n",
       " '일어나서 스트레칭을 해주거나 몸을 좌우로 비틀어서 자세를 풀어주는 것이 좋습니다. 또한, 일상생활에서 적절한 자세를 유지하는 것과 충분한 수면을 취함으로써 두통 예방에 도움을 줄 수 있습니다. 올바른 자세와 수면, 스트레칭을 통해 일상 생활에서 올바른 자세를 유지하는 것이 두통 예방에 도움이 됩니다.']"
      ]
     },
     "execution_count": 26,
     "metadata": {},
     "output_type": "execute_result"
    }
   ],
   "source": [
    "split_text_with_recursive_splitter(test_sentence)"
   ]
  },
  {
   "cell_type": "code",
   "execution_count": 16,
   "metadata": {},
   "outputs": [],
   "source": [
    "# # 질문 불러오기\n",
    "# question_df = pd.read_csv('두통 질문.csv', index_col=0)\n",
    "# question_df"
   ]
  },
  {
   "cell_type": "code",
   "execution_count": 27,
   "metadata": {},
   "outputs": [
    {
     "data": {
      "text/html": [
       "<div>\n",
       "<style scoped>\n",
       "    .dataframe tbody tr th:only-of-type {\n",
       "        vertical-align: middle;\n",
       "    }\n",
       "\n",
       "    .dataframe tbody tr th {\n",
       "        vertical-align: top;\n",
       "    }\n",
       "\n",
       "    .dataframe thead th {\n",
       "        text-align: right;\n",
       "    }\n",
       "</style>\n",
       "<table border=\"1\" class=\"dataframe\">\n",
       "  <thead>\n",
       "    <tr style=\"text-align: right;\">\n",
       "      <th></th>\n",
       "      <th>disease_category</th>\n",
       "      <th>disease_name</th>\n",
       "      <th>intention</th>\n",
       "      <th>answer_intro_conclusion</th>\n",
       "      <th>answer</th>\n",
       "    </tr>\n",
       "  </thead>\n",
       "  <tbody>\n",
       "    <tr>\n",
       "      <th>0</th>\n",
       "      <td>응급질환</td>\n",
       "      <td>두통</td>\n",
       "      <td>예방</td>\n",
       "      <td>두통을 예방하기 위해서는 일상적으로 바른 자세를 유지해야 합니다. 일상 생활에서의 ...</td>\n",
       "      <td>두통을 예방하기 위해서는 일상적으로 바른 자세를 유지해야 합니다. 일상 생활에서의 ...</td>\n",
       "    </tr>\n",
       "    <tr>\n",
       "      <th>1</th>\n",
       "      <td>응급질환</td>\n",
       "      <td>두통</td>\n",
       "      <td>예방</td>\n",
       "      <td>긴장성 두통을 예방하기 위한 몇 가지 조치를 취할 수 있습니다. 마지막으로, 의사나...</td>\n",
       "      <td>긴장성 두통을 예방하기 위한 몇 가지 조치를 취할 수 있습니다. 먼저, 건강한 생활...</td>\n",
       "    </tr>\n",
       "    <tr>\n",
       "      <th>2</th>\n",
       "      <td>응급질환</td>\n",
       "      <td>두통</td>\n",
       "      <td>예방</td>\n",
       "      <td>두통 예방을 위한 생활습관은 다양한 방법으로 개선할 수 있습니다. 일상적인 습관 중...</td>\n",
       "      <td>두통 예방을 위한 생활습관은 다양한 방법으로 개선할 수 있습니다. 일상적인 습관 중...</td>\n",
       "    </tr>\n",
       "    <tr>\n",
       "      <th>3</th>\n",
       "      <td>응급질환</td>\n",
       "      <td>두통</td>\n",
       "      <td>예방</td>\n",
       "      <td>머리 통증을 예방하기 위해 몇 가지 전략을 시도해볼 수 있습니다. 이러한 전략들은 ...</td>\n",
       "      <td>머리 통증을 예방하기 위해 몇 가지 전략을 시도해볼 수 있습니다. 스트레스를 관리하...</td>\n",
       "    </tr>\n",
       "    <tr>\n",
       "      <th>4</th>\n",
       "      <td>응급질환</td>\n",
       "      <td>두통</td>\n",
       "      <td>예방</td>\n",
       "      <td>스트레스는 긴장성 두통을 유발하는 중요한 요인 중 하나입니다. 스트레스를 줄이는 것...</td>\n",
       "      <td>스트레스는 긴장성 두통을 유발하는 중요한 요인 중 하나입니다. 스트레스를 줄이는 것...</td>\n",
       "    </tr>\n",
       "    <tr>\n",
       "      <th>...</th>\n",
       "      <td>...</td>\n",
       "      <td>...</td>\n",
       "      <td>...</td>\n",
       "      <td>...</td>\n",
       "      <td>...</td>\n",
       "    </tr>\n",
       "    <tr>\n",
       "      <th>5513</th>\n",
       "      <td>응급질환</td>\n",
       "      <td>두통</td>\n",
       "      <td>치료</td>\n",
       "      <td>두통은 우리 일상생활에서 흔히 겪는 증상입니다. 만약 두통이 반복적으로 발생한다면,...</td>\n",
       "      <td>두통은 우리 일상생활에서 흔히 겪는 증상입니다. 두통의 치료는 그 원인과 심각성에 ...</td>\n",
       "    </tr>\n",
       "    <tr>\n",
       "      <th>5514</th>\n",
       "      <td>응급질환</td>\n",
       "      <td>두통</td>\n",
       "      <td>치료</td>\n",
       "      <td>두통은 많은 사람들이 겪는 일상적인 문제입니다. 치료 방법은 두통의 종류와 원인에 ...</td>\n",
       "      <td>두통은 많은 사람들이 겪는 일상적인 문제입니다. 치료 방법은 두통의 종류와 원인에 ...</td>\n",
       "    </tr>\n",
       "    <tr>\n",
       "      <th>5515</th>\n",
       "      <td>응급질환</td>\n",
       "      <td>두통</td>\n",
       "      <td>치료</td>\n",
       "      <td>두통은 일상 생활에 불편을 초래할 수 있는 주요한 증상 중 하나입니다. 치료법은 두...</td>\n",
       "      <td>두통은 일상 생활에 불편을 초래할 수 있는 주요한 증상 중 하나입니다. 치료법은 두...</td>\n",
       "    </tr>\n",
       "    <tr>\n",
       "      <th>5516</th>\n",
       "      <td>응급질환</td>\n",
       "      <td>두통</td>\n",
       "      <td>치료</td>\n",
       "      <td>두통은 일반적으로 일차성 두통과 이차성 두통으로 구분됩니다. 일차성 두통은 두통을 ...</td>\n",
       "      <td>두통은 일반적으로 일차성 두통과 이차성 두통으로 구분됩니다. 일차성 두통은 두통을 ...</td>\n",
       "    </tr>\n",
       "    <tr>\n",
       "      <th>5517</th>\n",
       "      <td>응급질환</td>\n",
       "      <td>두통</td>\n",
       "      <td>치료</td>\n",
       "      <td>두통은 일상생활에 큰 지장을 주는 증상입니다. 두통이 심하거나 지속적인 증상이 있을...</td>\n",
       "      <td>두통은 일상생활에 큰 지장을 주는 증상입니다. 두통이 심하거나 지속적인 증상이 있을...</td>\n",
       "    </tr>\n",
       "  </tbody>\n",
       "</table>\n",
       "<p>5518 rows × 5 columns</p>\n",
       "</div>"
      ],
      "text/plain": [
       "     disease_category disease_name intention  \\\n",
       "0                응급질환           두통        예방   \n",
       "1                응급질환           두통        예방   \n",
       "2                응급질환           두통        예방   \n",
       "3                응급질환           두통        예방   \n",
       "4                응급질환           두통        예방   \n",
       "...               ...          ...       ...   \n",
       "5513             응급질환           두통        치료   \n",
       "5514             응급질환           두통        치료   \n",
       "5515             응급질환           두통        치료   \n",
       "5516             응급질환           두통        치료   \n",
       "5517             응급질환           두통        치료   \n",
       "\n",
       "                                answer_intro_conclusion  \\\n",
       "0     두통을 예방하기 위해서는 일상적으로 바른 자세를 유지해야 합니다. 일상 생활에서의 ...   \n",
       "1     긴장성 두통을 예방하기 위한 몇 가지 조치를 취할 수 있습니다. 마지막으로, 의사나...   \n",
       "2     두통 예방을 위한 생활습관은 다양한 방법으로 개선할 수 있습니다. 일상적인 습관 중...   \n",
       "3     머리 통증을 예방하기 위해 몇 가지 전략을 시도해볼 수 있습니다. 이러한 전략들은 ...   \n",
       "4     스트레스는 긴장성 두통을 유발하는 중요한 요인 중 하나입니다. 스트레스를 줄이는 것...   \n",
       "...                                                 ...   \n",
       "5513  두통은 우리 일상생활에서 흔히 겪는 증상입니다. 만약 두통이 반복적으로 발생한다면,...   \n",
       "5514  두통은 많은 사람들이 겪는 일상적인 문제입니다. 치료 방법은 두통의 종류와 원인에 ...   \n",
       "5515  두통은 일상 생활에 불편을 초래할 수 있는 주요한 증상 중 하나입니다. 치료법은 두...   \n",
       "5516  두통은 일반적으로 일차성 두통과 이차성 두통으로 구분됩니다. 일차성 두통은 두통을 ...   \n",
       "5517  두통은 일상생활에 큰 지장을 주는 증상입니다. 두통이 심하거나 지속적인 증상이 있을...   \n",
       "\n",
       "                                                 answer  \n",
       "0     두통을 예방하기 위해서는 일상적으로 바른 자세를 유지해야 합니다. 일상 생활에서의 ...  \n",
       "1     긴장성 두통을 예방하기 위한 몇 가지 조치를 취할 수 있습니다. 먼저, 건강한 생활...  \n",
       "2     두통 예방을 위한 생활습관은 다양한 방법으로 개선할 수 있습니다. 일상적인 습관 중...  \n",
       "3     머리 통증을 예방하기 위해 몇 가지 전략을 시도해볼 수 있습니다. 스트레스를 관리하...  \n",
       "4     스트레스는 긴장성 두통을 유발하는 중요한 요인 중 하나입니다. 스트레스를 줄이는 것...  \n",
       "...                                                 ...  \n",
       "5513  두통은 우리 일상생활에서 흔히 겪는 증상입니다. 두통의 치료는 그 원인과 심각성에 ...  \n",
       "5514  두통은 많은 사람들이 겪는 일상적인 문제입니다. 치료 방법은 두통의 종류와 원인에 ...  \n",
       "5515  두통은 일상 생활에 불편을 초래할 수 있는 주요한 증상 중 하나입니다. 치료법은 두...  \n",
       "5516  두통은 일반적으로 일차성 두통과 이차성 두통으로 구분됩니다. 일차성 두통은 두통을 ...  \n",
       "5517  두통은 일상생활에 큰 지장을 주는 증상입니다. 두통이 심하거나 지속적인 증상이 있을...  \n",
       "\n",
       "[5518 rows x 5 columns]"
      ]
     },
     "execution_count": 27,
     "metadata": {},
     "output_type": "execute_result"
    }
   ],
   "source": [
    "# 답변 불러오기\n",
    "answer_df = pd.read_csv('두통 답변.csv', index_col=0)\n",
    "answer_df"
   ]
  },
  {
   "cell_type": "code",
   "execution_count": 28,
   "metadata": {},
   "outputs": [],
   "source": [
    "answer_list = answer_df['answer'].tolist()\n",
    "intention_list = answer_df['intention'].tolist()"
   ]
  },
  {
   "cell_type": "code",
   "execution_count": 29,
   "metadata": {},
   "outputs": [
    {
     "data": {
      "text/plain": [
       "['하이요', '하이요']"
      ]
     },
     "execution_count": 29,
     "metadata": {},
     "output_type": "execute_result"
    }
   ],
   "source": [
    "test_list = []\n",
    "a='하이요'\n",
    "[a]*2"
   ]
  },
  {
   "cell_type": "code",
   "execution_count": 30,
   "metadata": {},
   "outputs": [
    {
     "data": {
      "text/plain": [
       "['하이요', '하이요']"
      ]
     },
     "execution_count": 30,
     "metadata": {},
     "output_type": "execute_result"
    }
   ],
   "source": [
    "test_list.extend([a]*2)\n",
    "test_list"
   ]
  },
  {
   "cell_type": "code",
   "execution_count": null,
   "metadata": {},
   "outputs": [],
   "source": [
    "final_chunk = []\n",
    "answer_map = []\n",
    "intention_map = []\n",
    "\n",
    "for answer in answer_list:\n",
    "    # 2문장씩 나누기\n",
    "    sentence_chunk = split_sentences(answer, max_sentences=2)\n",
    "\n",
    "    # 긴 문장 쪼개기\n",
    "    for chunk in sentence_chunk:\n",
    "        split_chunks = split_text_with_recursive_splitter(chunk, chunk_size=300, chunk_overlap=50)\n",
    "        final_chunk.extend(split_chunks)\n",
    "\n",
    "        # 분할된 chunk마다 원본 맵핑\n",
    "        answer_map.extend([answer] * len(split_chunks))\n",
    "        # 분할된 chunk마다 답변 의도 맵핑\n",
    "        intention = answer_df[answer_df['answer'] == answer]['intention'].values[0] # series 형태여서 values로 텍스트만 가져옴.\n",
    "        intention_map.extend([intention] * len(split_chunks))\n"
   ]
  },
  {
   "cell_type": "code",
   "execution_count": 52,
   "metadata": {},
   "outputs": [
    {
     "data": {
      "text/plain": [
       "(23635,\n",
       " ['두통을 예방하기 위해서는 일상적으로 바른 자세를 유지해야 합니다. 일상 생활에서의 자세한 관리는 두통 예방에 도움이 될 수 있습니다.',\n",
       "  '컴퓨터를 사용할 때는 모니터를 눈높이에 배치하는 것이 좋습니다. 의자에 앉을 때는 등을 펴고 허리를 곧게 세워 앉습니다.',\n",
       "  '책을 읽을 때는 눈높이에 맞추어 읽으며 책을 읽을 때는 한손으로 받친 자세로 읽는 것이 좋습니다. 모니터를 멀리 배치할 경우 눈의 피로를 줄일 수 있습니다.',\n",
       "  '긴 시간동안 앉아 있는 경우에는 일어나서 스트레칭을 해주거나 몸을 좌우로 비틀어서 자세를 풀어주는 것이 좋습니다. 또한, 일상생활에서 적절한 자세를 유지하는 것과 충분한 수면을 취함으로써 두통 예방에 도움을 줄 수 있습니다.',\n",
       "  '올바른 자세와 수면, 스트레칭을 통해 일상 생활에서 올바른 자세를 유지하는 것이 두통 예방에 도움이 됩니다.',\n",
       "  '긴장성 두통을 예방하기 위한 몇 가지 조치를 취할 수 있습니다. 먼저, 건강한 생활 습관을 유지하는 것이 중요합니다.',\n",
       "  '규칙적인 운동과 올바른 식단은 혈압을 조절하고 신경성 두통을 예방하는 데 도움이 됩니다. 또한, 스트레스 관리도 중요합니다.',\n",
       "  '스트레스는 긴장성 두통의 주된 원인이므로, 적절한 휴식과 명상을 통해 스트레스를 효과적으로 관리해야 합니다. 마지막으로, 의사나 영양사와의 상담을 통해 적절한 예방 조치를 취하는 것도 중요합니다.',\n",
       "  '의사나 영양사의 조언을 따르고 정기적인 건강 관리와 스트레스 관리를 하면 긴장성 두통을 예방하는 데 도움이 될 것입니다.',\n",
       "  '두통 예방을 위한 생활습관은 다양한 방법으로 개선할 수 있습니다. 일상적인 습관 중 하나는 충분한 수면을 취하는 것입니다.'])"
      ]
     },
     "execution_count": 52,
     "metadata": {},
     "output_type": "execute_result"
    }
   ],
   "source": [
    "len(final_chunk), final_chunk[:10]"
   ]
  },
  {
   "cell_type": "code",
   "execution_count": 51,
   "metadata": {},
   "outputs": [
    {
     "data": {
      "text/plain": [
       "(23635,\n",
       " ['두통을 예방하기 위해서는 일상적으로 바른 자세를 유지해야 합니다. 일상 생활에서의 자세한 관리는 두통 예방에 도움이 될 수 있습니다. 컴퓨터를 사용할 때는 모니터를 눈높이에 배치하는 것이 좋습니다. 의자에 앉을 때는 등을 펴고 허리를 곧게 세워 앉습니다. 책을 읽을 때는 눈높이에 맞추어 읽으며 책을 읽을 때는 한손으로 받친 자세로 읽는 것이 좋습니다. 모니터를 멀리 배치할 경우 눈의 피로를 줄일 수 있습니다. 긴 시간동안 앉아 있는 경우에는 일어나서 스트레칭을 해주거나 몸을 좌우로 비틀어서 자세를 풀어주는 것이 좋습니다. 또한, 일상생활에서 적절한 자세를 유지하는 것과 충분한 수면을 취함으로써 두통 예방에 도움을 줄 수 있습니다. 올바른 자세와 수면, 스트레칭을 통해 일상 생활에서 올바른 자세를 유지하는 것이 두통 예방에 도움이 됩니다.',\n",
       "  '두통을 예방하기 위해서는 일상적으로 바른 자세를 유지해야 합니다. 일상 생활에서의 자세한 관리는 두통 예방에 도움이 될 수 있습니다. 컴퓨터를 사용할 때는 모니터를 눈높이에 배치하는 것이 좋습니다. 의자에 앉을 때는 등을 펴고 허리를 곧게 세워 앉습니다. 책을 읽을 때는 눈높이에 맞추어 읽으며 책을 읽을 때는 한손으로 받친 자세로 읽는 것이 좋습니다. 모니터를 멀리 배치할 경우 눈의 피로를 줄일 수 있습니다. 긴 시간동안 앉아 있는 경우에는 일어나서 스트레칭을 해주거나 몸을 좌우로 비틀어서 자세를 풀어주는 것이 좋습니다. 또한, 일상생활에서 적절한 자세를 유지하는 것과 충분한 수면을 취함으로써 두통 예방에 도움을 줄 수 있습니다. 올바른 자세와 수면, 스트레칭을 통해 일상 생활에서 올바른 자세를 유지하는 것이 두통 예방에 도움이 됩니다.',\n",
       "  '두통을 예방하기 위해서는 일상적으로 바른 자세를 유지해야 합니다. 일상 생활에서의 자세한 관리는 두통 예방에 도움이 될 수 있습니다. 컴퓨터를 사용할 때는 모니터를 눈높이에 배치하는 것이 좋습니다. 의자에 앉을 때는 등을 펴고 허리를 곧게 세워 앉습니다. 책을 읽을 때는 눈높이에 맞추어 읽으며 책을 읽을 때는 한손으로 받친 자세로 읽는 것이 좋습니다. 모니터를 멀리 배치할 경우 눈의 피로를 줄일 수 있습니다. 긴 시간동안 앉아 있는 경우에는 일어나서 스트레칭을 해주거나 몸을 좌우로 비틀어서 자세를 풀어주는 것이 좋습니다. 또한, 일상생활에서 적절한 자세를 유지하는 것과 충분한 수면을 취함으로써 두통 예방에 도움을 줄 수 있습니다. 올바른 자세와 수면, 스트레칭을 통해 일상 생활에서 올바른 자세를 유지하는 것이 두통 예방에 도움이 됩니다.',\n",
       "  '두통을 예방하기 위해서는 일상적으로 바른 자세를 유지해야 합니다. 일상 생활에서의 자세한 관리는 두통 예방에 도움이 될 수 있습니다. 컴퓨터를 사용할 때는 모니터를 눈높이에 배치하는 것이 좋습니다. 의자에 앉을 때는 등을 펴고 허리를 곧게 세워 앉습니다. 책을 읽을 때는 눈높이에 맞추어 읽으며 책을 읽을 때는 한손으로 받친 자세로 읽는 것이 좋습니다. 모니터를 멀리 배치할 경우 눈의 피로를 줄일 수 있습니다. 긴 시간동안 앉아 있는 경우에는 일어나서 스트레칭을 해주거나 몸을 좌우로 비틀어서 자세를 풀어주는 것이 좋습니다. 또한, 일상생활에서 적절한 자세를 유지하는 것과 충분한 수면을 취함으로써 두통 예방에 도움을 줄 수 있습니다. 올바른 자세와 수면, 스트레칭을 통해 일상 생활에서 올바른 자세를 유지하는 것이 두통 예방에 도움이 됩니다.',\n",
       "  '두통을 예방하기 위해서는 일상적으로 바른 자세를 유지해야 합니다. 일상 생활에서의 자세한 관리는 두통 예방에 도움이 될 수 있습니다. 컴퓨터를 사용할 때는 모니터를 눈높이에 배치하는 것이 좋습니다. 의자에 앉을 때는 등을 펴고 허리를 곧게 세워 앉습니다. 책을 읽을 때는 눈높이에 맞추어 읽으며 책을 읽을 때는 한손으로 받친 자세로 읽는 것이 좋습니다. 모니터를 멀리 배치할 경우 눈의 피로를 줄일 수 있습니다. 긴 시간동안 앉아 있는 경우에는 일어나서 스트레칭을 해주거나 몸을 좌우로 비틀어서 자세를 풀어주는 것이 좋습니다. 또한, 일상생활에서 적절한 자세를 유지하는 것과 충분한 수면을 취함으로써 두통 예방에 도움을 줄 수 있습니다. 올바른 자세와 수면, 스트레칭을 통해 일상 생활에서 올바른 자세를 유지하는 것이 두통 예방에 도움이 됩니다.',\n",
       "  '긴장성 두통을 예방하기 위한 몇 가지 조치를 취할 수 있습니다. 먼저, 건강한 생활 습관을 유지하는 것이 중요합니다. 규칙적인 운동과 올바른 식단은 혈압을 조절하고 신경성 두통을 예방하는 데 도움이 됩니다. 또한, 스트레스 관리도 중요합니다. 스트레스는 긴장성 두통의 주된 원인이므로, 적절한 휴식과 명상을 통해 스트레스를 효과적으로 관리해야 합니다. 마지막으로, 의사나 영양사와의 상담을 통해 적절한 예방 조치를 취하는 것도 중요합니다. 의사나 영양사의 조언을 따르고 정기적인 건강 관리와 스트레스 관리를 하면 긴장성 두통을 예방하는 데 도움이 될 것입니다.',\n",
       "  '긴장성 두통을 예방하기 위한 몇 가지 조치를 취할 수 있습니다. 먼저, 건강한 생활 습관을 유지하는 것이 중요합니다. 규칙적인 운동과 올바른 식단은 혈압을 조절하고 신경성 두통을 예방하는 데 도움이 됩니다. 또한, 스트레스 관리도 중요합니다. 스트레스는 긴장성 두통의 주된 원인이므로, 적절한 휴식과 명상을 통해 스트레스를 효과적으로 관리해야 합니다. 마지막으로, 의사나 영양사와의 상담을 통해 적절한 예방 조치를 취하는 것도 중요합니다. 의사나 영양사의 조언을 따르고 정기적인 건강 관리와 스트레스 관리를 하면 긴장성 두통을 예방하는 데 도움이 될 것입니다.',\n",
       "  '긴장성 두통을 예방하기 위한 몇 가지 조치를 취할 수 있습니다. 먼저, 건강한 생활 습관을 유지하는 것이 중요합니다. 규칙적인 운동과 올바른 식단은 혈압을 조절하고 신경성 두통을 예방하는 데 도움이 됩니다. 또한, 스트레스 관리도 중요합니다. 스트레스는 긴장성 두통의 주된 원인이므로, 적절한 휴식과 명상을 통해 스트레스를 효과적으로 관리해야 합니다. 마지막으로, 의사나 영양사와의 상담을 통해 적절한 예방 조치를 취하는 것도 중요합니다. 의사나 영양사의 조언을 따르고 정기적인 건강 관리와 스트레스 관리를 하면 긴장성 두통을 예방하는 데 도움이 될 것입니다.',\n",
       "  '긴장성 두통을 예방하기 위한 몇 가지 조치를 취할 수 있습니다. 먼저, 건강한 생활 습관을 유지하는 것이 중요합니다. 규칙적인 운동과 올바른 식단은 혈압을 조절하고 신경성 두통을 예방하는 데 도움이 됩니다. 또한, 스트레스 관리도 중요합니다. 스트레스는 긴장성 두통의 주된 원인이므로, 적절한 휴식과 명상을 통해 스트레스를 효과적으로 관리해야 합니다. 마지막으로, 의사나 영양사와의 상담을 통해 적절한 예방 조치를 취하는 것도 중요합니다. 의사나 영양사의 조언을 따르고 정기적인 건강 관리와 스트레스 관리를 하면 긴장성 두통을 예방하는 데 도움이 될 것입니다.',\n",
       "  '두통 예방을 위한 생활습관은 다양한 방법으로 개선할 수 있습니다. 일상적인 습관 중 하나는 충분한 수면을 취하는 것입니다. 수면 시간을 충분히 확보하고 잠자리에 들기 전에 긴장을 풀어주는 운동이나 활동을 하는 것도 좋습니다. 또한 스트레스를 관리하는 것도 중요한 요소입니다. 스트레스는 긴장성 두통을 유발하는 주요한 요인이므로 스트레스를 효과적으로 관리하는 방법을 찾는 것이 중요합니다. 스트레스에 민감한 사람들은 요가나 명상을 통해 스트레스를 완화시킬 수 있습니다. 또한 휴식과 힐링을 위해 운동을 하는 것도 추천됩니다. 건강한 식습관과 충분한 수분 섭취, 흡연과 음주는 두통을 악화시킬 수 있으므로 피하는 것이 좋습니다. 두통 예방을 위해서는 일상적인 습관 개선과 스트레스 관리, 그리고 충분한 휴식이 필요합니다. 스트레스가 높을 경우에는 의사와 상담하여 적절한 치료 방법을 찾아보는 것이 좋습니다.'])"
      ]
     },
     "execution_count": 51,
     "metadata": {},
     "output_type": "execute_result"
    }
   ],
   "source": [
    "len(answer_map), answer_map[:10]"
   ]
  },
  {
   "cell_type": "code",
   "execution_count": 50,
   "metadata": {},
   "outputs": [
    {
     "data": {
      "text/plain": [
       "(23635, ['예방', '예방', '예방', '예방', '예방', '예방', '예방', '예방', '예방', '예방'])"
      ]
     },
     "execution_count": 50,
     "metadata": {},
     "output_type": "execute_result"
    }
   ],
   "source": [
    "len(intention_map), intention_map[:10]"
   ]
  },
  {
   "cell_type": "markdown",
   "metadata": {},
   "source": [
    "#### 2) 답변 임베딩 및 답변 벡터 DB 만들기"
   ]
  },
  {
   "cell_type": "code",
   "execution_count": null,
   "metadata": {},
   "outputs": [
    {
     "name": "stdout",
     "output_type": "stream",
     "text": [
      "생성된 임베딩 개수:  23635\n"
     ]
    }
   ],
   "source": [
    "model = SentenceTransformer('snunlp/KR-SBERT-V40K-klueNLI-augSTS')\n",
    "embeddings = model.encode(final_chunk)\n",
    "print('생성된 임베딩 개수: ', len(embeddings))"
   ]
  },
  {
   "cell_type": "code",
   "execution_count": 38,
   "metadata": {},
   "outputs": [
    {
     "data": {
      "text/plain": [
       "(23635, 768)"
      ]
     },
     "execution_count": 38,
     "metadata": {},
     "output_type": "execute_result"
    }
   ],
   "source": [
    "embeddings.shape"
   ]
  },
  {
   "cell_type": "markdown",
   "metadata": {},
   "source": [
    "- 답변 벡터 DB 생성"
   ]
  },
  {
   "cell_type": "code",
   "execution_count": 42,
   "metadata": {},
   "outputs": [
    {
     "name": "stdout",
     "output_type": "stream",
     "text": [
      "FAISS 인덱스에 저장된 벡터 개수: 23635\n"
     ]
    }
   ],
   "source": [
    "import numpy as np\n",
    "\n",
    "# faiss 인덱스 생성 및 데이터 삽입\n",
    "dimension = embeddings.shape[1] # 임베딩 벡터의 차원\n",
    "index = faiss.IndexFlatL2(dimension)  # L2 거리(유클리드 거리) 기반으로 검색을 수행하도록 설정(인덱스 생성). 벡터 검색 기계를 만듬.\n",
    "index.add(np.array(embeddings)) # 각 벡터를 L2 거리 기반 인덱스에 추가하고, 검색을 빠르게 할 수 있도록 데이터 구조를 최적화\n",
    "\n",
    "# 디버깅용 출력: 저장된 벡터 개수 확인\n",
    "print(f\"FAISS 인덱스에 저장된 벡터 개수: {index.ntotal}\")"
   ]
  },
  {
   "cell_type": "markdown",
   "metadata": {},
   "source": [
    "## 3. 벡터 DB에서 검색\n",
    "1) 질문을 받고 의도를 예측한다 (학습시킨 분류 모델 사용)\n",
    "2) 의도에 해당하는 답변 DB만 추출\n",
    "3) 임베딩한 질문과 가장 유사한 답변을 추출한 답변 벡터 DB에서 찾는다(faiss 사용)"
   ]
  },
  {
   "cell_type": "markdown",
   "metadata": {},
   "source": [
    "- 1) 질문 의도 예측 "
   ]
  },
  {
   "cell_type": "code",
   "execution_count": 43,
   "metadata": {},
   "outputs": [
    {
     "data": {
      "text/html": [
       "<div>\n",
       "<style scoped>\n",
       "    .dataframe tbody tr th:only-of-type {\n",
       "        vertical-align: middle;\n",
       "    }\n",
       "\n",
       "    .dataframe tbody tr th {\n",
       "        vertical-align: top;\n",
       "    }\n",
       "\n",
       "    .dataframe thead th {\n",
       "        text-align: right;\n",
       "    }\n",
       "</style>\n",
       "<table border=\"1\" class=\"dataframe\">\n",
       "  <thead>\n",
       "    <tr style=\"text-align: right;\">\n",
       "      <th></th>\n",
       "      <th>disease_category</th>\n",
       "      <th>disease_name</th>\n",
       "      <th>intention</th>\n",
       "      <th>question</th>\n",
       "    </tr>\n",
       "  </thead>\n",
       "  <tbody>\n",
       "    <tr>\n",
       "      <th>0</th>\n",
       "      <td>응급질환</td>\n",
       "      <td>두통</td>\n",
       "      <td>예방</td>\n",
       "      <td>두통 예방을 위해 어떤 자세나 활동이 도움이 될까요?</td>\n",
       "    </tr>\n",
       "    <tr>\n",
       "      <th>1</th>\n",
       "      <td>응급질환</td>\n",
       "      <td>두통</td>\n",
       "      <td>예방</td>\n",
       "      <td>스트레스를 많이 받는 사람이 두통을 예방하기 위해 어떤 생활습관을 가져야 할까요?</td>\n",
       "    </tr>\n",
       "    <tr>\n",
       "      <th>2</th>\n",
       "      <td>응급질환</td>\n",
       "      <td>두통</td>\n",
       "      <td>예방</td>\n",
       "      <td>대상포진 예방접종 후에 어지럼증과 두통이 예방접종과 관련이 있다면 어떻게 되나요?</td>\n",
       "    </tr>\n",
       "    <tr>\n",
       "      <th>3</th>\n",
       "      <td>응급질환</td>\n",
       "      <td>두통</td>\n",
       "      <td>예방</td>\n",
       "      <td>갈색세포증과 관련하여 일상생활에서 신경써야할 점은 무엇인가요?</td>\n",
       "    </tr>\n",
       "    <tr>\n",
       "      <th>4</th>\n",
       "      <td>응급질환</td>\n",
       "      <td>두통</td>\n",
       "      <td>예방</td>\n",
       "      <td>두통을 예방하기 위한 수면 자세에는 어떤 것들이 있을까요?</td>\n",
       "    </tr>\n",
       "    <tr>\n",
       "      <th>...</th>\n",
       "      <td>...</td>\n",
       "      <td>...</td>\n",
       "      <td>...</td>\n",
       "      <td>...</td>\n",
       "    </tr>\n",
       "    <tr>\n",
       "      <th>3423</th>\n",
       "      <td>응급질환</td>\n",
       "      <td>두통</td>\n",
       "      <td>치료</td>\n",
       "      <td>두통과 스트레스 반응에 대한 급성 과민성을 진단하고 치료하는 방법에는 어떤 것들이 ...</td>\n",
       "    </tr>\n",
       "    <tr>\n",
       "      <th>3424</th>\n",
       "      <td>응급질환</td>\n",
       "      <td>두통</td>\n",
       "      <td>치료</td>\n",
       "      <td>약국에서 구입 가능한 두통 치료제 중에서 어떤 것이 가장 효과적인지 알려주세요.</td>\n",
       "    </tr>\n",
       "    <tr>\n",
       "      <th>3425</th>\n",
       "      <td>응급질환</td>\n",
       "      <td>두통</td>\n",
       "      <td>치료</td>\n",
       "      <td>만성 두통을 치료하기 위해 어떤 방법이 있는지 알려주세요.</td>\n",
       "    </tr>\n",
       "    <tr>\n",
       "      <th>3426</th>\n",
       "      <td>응급질환</td>\n",
       "      <td>두통</td>\n",
       "      <td>치료</td>\n",
       "      <td>두통의 치료를 위해 어떤 약물이 사용될 수 있을까요?</td>\n",
       "    </tr>\n",
       "    <tr>\n",
       "      <th>3427</th>\n",
       "      <td>응급질환</td>\n",
       "      <td>두통</td>\n",
       "      <td>치료</td>\n",
       "      <td>두통이 자주 생기는데, 이를 치료하기 위해 어떤 치료법을 사용할 수 있을까요?</td>\n",
       "    </tr>\n",
       "  </tbody>\n",
       "</table>\n",
       "<p>3428 rows × 4 columns</p>\n",
       "</div>"
      ],
      "text/plain": [
       "     disease_category disease_name intention  \\\n",
       "0                응급질환           두통        예방   \n",
       "1                응급질환           두통        예방   \n",
       "2                응급질환           두통        예방   \n",
       "3                응급질환           두통        예방   \n",
       "4                응급질환           두통        예방   \n",
       "...               ...          ...       ...   \n",
       "3423             응급질환           두통        치료   \n",
       "3424             응급질환           두통        치료   \n",
       "3425             응급질환           두통        치료   \n",
       "3426             응급질환           두통        치료   \n",
       "3427             응급질환           두통        치료   \n",
       "\n",
       "                                               question  \n",
       "0                         두통 예방을 위해 어떤 자세나 활동이 도움이 될까요?  \n",
       "1         스트레스를 많이 받는 사람이 두통을 예방하기 위해 어떤 생활습관을 가져야 할까요?  \n",
       "2         대상포진 예방접종 후에 어지럼증과 두통이 예방접종과 관련이 있다면 어떻게 되나요?  \n",
       "3                    갈색세포증과 관련하여 일상생활에서 신경써야할 점은 무엇인가요?  \n",
       "4                      두통을 예방하기 위한 수면 자세에는 어떤 것들이 있을까요?  \n",
       "...                                                 ...  \n",
       "3423  두통과 스트레스 반응에 대한 급성 과민성을 진단하고 치료하는 방법에는 어떤 것들이 ...  \n",
       "3424       약국에서 구입 가능한 두통 치료제 중에서 어떤 것이 가장 효과적인지 알려주세요.  \n",
       "3425                   만성 두통을 치료하기 위해 어떤 방법이 있는지 알려주세요.  \n",
       "3426                      두통의 치료를 위해 어떤 약물이 사용될 수 있을까요?  \n",
       "3427        두통이 자주 생기는데, 이를 치료하기 위해 어떤 치료법을 사용할 수 있을까요?  \n",
       "\n",
       "[3428 rows x 4 columns]"
      ]
     },
     "execution_count": 43,
     "metadata": {},
     "output_type": "execute_result"
    }
   ],
   "source": [
    "question_df = pd.read_csv('두통 질문.csv', index_col=0)\n",
    "question_df"
   ]
  },
  {
   "cell_type": "code",
   "execution_count": 44,
   "metadata": {},
   "outputs": [],
   "source": [
    "question = '오른쪽 머리에서 찌릿하는 두통은 뭔가요?'\n",
    "question_vec = model.encode([question], batch_size=32)"
   ]
  },
  {
   "cell_type": "code",
   "execution_count": 45,
   "metadata": {},
   "outputs": [
    {
     "data": {
      "text/plain": [
       "array([3], dtype=int64)"
      ]
     },
     "execution_count": 45,
     "metadata": {},
     "output_type": "execute_result"
    }
   ],
   "source": [
    "question_ss = scaler.transform(question_vec)\n",
    "question_pca = pca.transform(question_ss)\n",
    "result = rf_model.predict(question_pca)\n",
    "result"
   ]
  },
  {
   "cell_type": "code",
   "execution_count": 46,
   "metadata": {},
   "outputs": [
    {
     "name": "stderr",
     "output_type": "stream",
     "text": [
      "c:\\Users\\Paris\\miniconda3\\envs\\ds_study\\Lib\\site-packages\\sklearn\\preprocessing\\_label.py:153: DataConversionWarning: A column-vector y was passed when a 1d array was expected. Please change the shape of y to (n_samples, ), for example using ravel().\n",
      "  y = column_or_1d(y, warn=True)\n"
     ]
    },
    {
     "data": {
      "text/plain": [
       "'증상'"
      ]
     },
     "execution_count": 46,
     "metadata": {},
     "output_type": "execute_result"
    }
   ],
   "source": [
    "label = le.inverse_transform([result])\n",
    "label[0]"
   ]
  },
  {
   "cell_type": "markdown",
   "metadata": {},
   "source": [
    "- 2) 의도에 해당하는 답변 DB만 추출"
   ]
  },
  {
   "cell_type": "code",
   "execution_count": 47,
   "metadata": {},
   "outputs": [
    {
     "data": {
      "text/plain": [
       "(1335,\n",
       " [16392,\n",
       "  16393,\n",
       "  16394,\n",
       "  16395,\n",
       "  16396,\n",
       "  16397,\n",
       "  16398,\n",
       "  16399,\n",
       "  16400,\n",
       "  16401,\n",
       "  16402,\n",
       "  16403,\n",
       "  16404,\n",
       "  16405,\n",
       "  16406,\n",
       "  16407,\n",
       "  16408,\n",
       "  16409,\n",
       "  16410,\n",
       "  16411,\n",
       "  16412,\n",
       "  16413,\n",
       "  16414,\n",
       "  16415,\n",
       "  16416,\n",
       "  16417,\n",
       "  16418,\n",
       "  16419,\n",
       "  16420,\n",
       "  16421,\n",
       "  16422,\n",
       "  16423,\n",
       "  16424,\n",
       "  16425,\n",
       "  16426,\n",
       "  16427,\n",
       "  16428,\n",
       "  16429,\n",
       "  16430,\n",
       "  16431,\n",
       "  16432,\n",
       "  16433,\n",
       "  16434,\n",
       "  16435,\n",
       "  16436,\n",
       "  16437,\n",
       "  16438,\n",
       "  16439,\n",
       "  16440,\n",
       "  16441,\n",
       "  16442,\n",
       "  16443,\n",
       "  16444,\n",
       "  16445,\n",
       "  16446,\n",
       "  16447,\n",
       "  16448,\n",
       "  16449,\n",
       "  16450,\n",
       "  16451,\n",
       "  16452,\n",
       "  16453,\n",
       "  16454,\n",
       "  16455,\n",
       "  16456,\n",
       "  16457,\n",
       "  16458,\n",
       "  16459,\n",
       "  16460,\n",
       "  16461,\n",
       "  16462,\n",
       "  16463,\n",
       "  16464,\n",
       "  16465,\n",
       "  16466,\n",
       "  16467,\n",
       "  16468,\n",
       "  16469,\n",
       "  16470,\n",
       "  16471,\n",
       "  16472,\n",
       "  16473,\n",
       "  16474,\n",
       "  16475,\n",
       "  16476,\n",
       "  16477,\n",
       "  16478,\n",
       "  16479,\n",
       "  16480,\n",
       "  16481,\n",
       "  16482,\n",
       "  16483,\n",
       "  16484,\n",
       "  16485,\n",
       "  16486,\n",
       "  16487,\n",
       "  16488,\n",
       "  16489,\n",
       "  16490,\n",
       "  16491,\n",
       "  16492,\n",
       "  16493,\n",
       "  16494,\n",
       "  16495,\n",
       "  16496,\n",
       "  16497,\n",
       "  16498,\n",
       "  16499,\n",
       "  16500,\n",
       "  16501,\n",
       "  16502,\n",
       "  16503,\n",
       "  16504,\n",
       "  16505,\n",
       "  16506,\n",
       "  16507,\n",
       "  16508,\n",
       "  16509,\n",
       "  16510,\n",
       "  16511,\n",
       "  16512,\n",
       "  16513,\n",
       "  16514,\n",
       "  16515,\n",
       "  16516,\n",
       "  16517,\n",
       "  16518,\n",
       "  16519,\n",
       "  16520,\n",
       "  16521,\n",
       "  16522,\n",
       "  16523,\n",
       "  16524,\n",
       "  16525,\n",
       "  16526,\n",
       "  16527,\n",
       "  16528,\n",
       "  16529,\n",
       "  16530,\n",
       "  16531,\n",
       "  16532,\n",
       "  16533,\n",
       "  16534,\n",
       "  16535,\n",
       "  16536,\n",
       "  16537,\n",
       "  16538,\n",
       "  16539,\n",
       "  16540,\n",
       "  16541,\n",
       "  16542,\n",
       "  16543,\n",
       "  16544,\n",
       "  16545,\n",
       "  16546,\n",
       "  16547,\n",
       "  16548,\n",
       "  16549,\n",
       "  16550,\n",
       "  16551,\n",
       "  16552,\n",
       "  16553,\n",
       "  16554,\n",
       "  16555,\n",
       "  16556,\n",
       "  16557,\n",
       "  16558,\n",
       "  16559,\n",
       "  16560,\n",
       "  16561,\n",
       "  16562,\n",
       "  16563,\n",
       "  16564,\n",
       "  16565,\n",
       "  16566,\n",
       "  16567,\n",
       "  16568,\n",
       "  16569,\n",
       "  16570,\n",
       "  16571,\n",
       "  16572,\n",
       "  16573,\n",
       "  16574,\n",
       "  16575,\n",
       "  16576,\n",
       "  16577,\n",
       "  16578,\n",
       "  16579,\n",
       "  16580,\n",
       "  16581,\n",
       "  16582,\n",
       "  16583,\n",
       "  16584,\n",
       "  16585,\n",
       "  16586,\n",
       "  16587,\n",
       "  16588,\n",
       "  16589,\n",
       "  16590,\n",
       "  16591,\n",
       "  16592,\n",
       "  16593,\n",
       "  16594,\n",
       "  16595,\n",
       "  16596,\n",
       "  16597,\n",
       "  16598,\n",
       "  16599,\n",
       "  16600,\n",
       "  16601,\n",
       "  16602,\n",
       "  16603,\n",
       "  16604,\n",
       "  16605,\n",
       "  16606,\n",
       "  16607,\n",
       "  16608,\n",
       "  16609,\n",
       "  16610,\n",
       "  16611,\n",
       "  16612,\n",
       "  16613,\n",
       "  16614,\n",
       "  16615,\n",
       "  16616,\n",
       "  16617,\n",
       "  16618,\n",
       "  16619,\n",
       "  16620,\n",
       "  16621,\n",
       "  16622,\n",
       "  16623,\n",
       "  16624,\n",
       "  16625,\n",
       "  16626,\n",
       "  16627,\n",
       "  16628,\n",
       "  16629,\n",
       "  16630,\n",
       "  16631,\n",
       "  16632,\n",
       "  16633,\n",
       "  16634,\n",
       "  16635,\n",
       "  16636,\n",
       "  16637,\n",
       "  16638,\n",
       "  16639,\n",
       "  16640,\n",
       "  16641,\n",
       "  16642,\n",
       "  16643,\n",
       "  16644,\n",
       "  16645,\n",
       "  16646,\n",
       "  16647,\n",
       "  16648,\n",
       "  16649,\n",
       "  16650,\n",
       "  16651,\n",
       "  16652,\n",
       "  16653,\n",
       "  16654,\n",
       "  16655,\n",
       "  16656,\n",
       "  16657,\n",
       "  16658,\n",
       "  16659,\n",
       "  16660,\n",
       "  16661,\n",
       "  16662,\n",
       "  16663,\n",
       "  16664,\n",
       "  16665,\n",
       "  16666,\n",
       "  16667,\n",
       "  16668,\n",
       "  16669,\n",
       "  16670,\n",
       "  16671,\n",
       "  16672,\n",
       "  16673,\n",
       "  16674,\n",
       "  16675,\n",
       "  16676,\n",
       "  16677,\n",
       "  16678,\n",
       "  16679,\n",
       "  16680,\n",
       "  16681,\n",
       "  16682,\n",
       "  16683,\n",
       "  16684,\n",
       "  16685,\n",
       "  16686,\n",
       "  16687,\n",
       "  16688,\n",
       "  16689,\n",
       "  16690,\n",
       "  16691,\n",
       "  16692,\n",
       "  16693,\n",
       "  16694,\n",
       "  16695,\n",
       "  16696,\n",
       "  16697,\n",
       "  16698,\n",
       "  16699,\n",
       "  16700,\n",
       "  16701,\n",
       "  16702,\n",
       "  16703,\n",
       "  16704,\n",
       "  16705,\n",
       "  16706,\n",
       "  16707,\n",
       "  16708,\n",
       "  16709,\n",
       "  16710,\n",
       "  16711,\n",
       "  16712,\n",
       "  16713,\n",
       "  16714,\n",
       "  16715,\n",
       "  16716,\n",
       "  16717,\n",
       "  16718,\n",
       "  16719,\n",
       "  16720,\n",
       "  16721,\n",
       "  16722,\n",
       "  16723,\n",
       "  16724,\n",
       "  16725,\n",
       "  16726,\n",
       "  16727,\n",
       "  16728,\n",
       "  16729,\n",
       "  16730,\n",
       "  16731,\n",
       "  16732,\n",
       "  16733,\n",
       "  16734,\n",
       "  16735,\n",
       "  16736,\n",
       "  16737,\n",
       "  16738,\n",
       "  16739,\n",
       "  16740,\n",
       "  16741,\n",
       "  16742,\n",
       "  16743,\n",
       "  16744,\n",
       "  16745,\n",
       "  16746,\n",
       "  16747,\n",
       "  16748,\n",
       "  16749,\n",
       "  16750,\n",
       "  16751,\n",
       "  16752,\n",
       "  16753,\n",
       "  16754,\n",
       "  16755,\n",
       "  16756,\n",
       "  16757,\n",
       "  16758,\n",
       "  16759,\n",
       "  16760,\n",
       "  16761,\n",
       "  16762,\n",
       "  16763,\n",
       "  16764,\n",
       "  16765,\n",
       "  16766,\n",
       "  16767,\n",
       "  16768,\n",
       "  16769,\n",
       "  16770,\n",
       "  16771,\n",
       "  16772,\n",
       "  16773,\n",
       "  16774,\n",
       "  16775,\n",
       "  16776,\n",
       "  16777,\n",
       "  16778,\n",
       "  16779,\n",
       "  16780,\n",
       "  16781,\n",
       "  16782,\n",
       "  16783,\n",
       "  16784,\n",
       "  16785,\n",
       "  16786,\n",
       "  16787,\n",
       "  16788,\n",
       "  16789,\n",
       "  16790,\n",
       "  16791,\n",
       "  16792,\n",
       "  16793,\n",
       "  16794,\n",
       "  16795,\n",
       "  16796,\n",
       "  16797,\n",
       "  16798,\n",
       "  16799,\n",
       "  16800,\n",
       "  16801,\n",
       "  16802,\n",
       "  16803,\n",
       "  16804,\n",
       "  16805,\n",
       "  16806,\n",
       "  16807,\n",
       "  16808,\n",
       "  16809,\n",
       "  16810,\n",
       "  16811,\n",
       "  16812,\n",
       "  16813,\n",
       "  16814,\n",
       "  16815,\n",
       "  16816,\n",
       "  16817,\n",
       "  16818,\n",
       "  16819,\n",
       "  16820,\n",
       "  16821,\n",
       "  16822,\n",
       "  16823,\n",
       "  16824,\n",
       "  16825,\n",
       "  16826,\n",
       "  16827,\n",
       "  16828,\n",
       "  16829,\n",
       "  16830,\n",
       "  16831,\n",
       "  16832,\n",
       "  16833,\n",
       "  16834,\n",
       "  16835,\n",
       "  16836,\n",
       "  16837,\n",
       "  16838,\n",
       "  16839,\n",
       "  16840,\n",
       "  16841,\n",
       "  16842,\n",
       "  16843,\n",
       "  16844,\n",
       "  16845,\n",
       "  16846,\n",
       "  16847,\n",
       "  16848,\n",
       "  16849,\n",
       "  16850,\n",
       "  16851,\n",
       "  16852,\n",
       "  16853,\n",
       "  16854,\n",
       "  16855,\n",
       "  16856,\n",
       "  16857,\n",
       "  16858,\n",
       "  16859,\n",
       "  16860,\n",
       "  16861,\n",
       "  16862,\n",
       "  16863,\n",
       "  16864,\n",
       "  16865,\n",
       "  16866,\n",
       "  16867,\n",
       "  16868,\n",
       "  16869,\n",
       "  16870,\n",
       "  16871,\n",
       "  16872,\n",
       "  16873,\n",
       "  16874,\n",
       "  16875,\n",
       "  16876,\n",
       "  16877,\n",
       "  16878,\n",
       "  16879,\n",
       "  16880,\n",
       "  16881,\n",
       "  16882,\n",
       "  16883,\n",
       "  16884,\n",
       "  16885,\n",
       "  16886,\n",
       "  16887,\n",
       "  16888,\n",
       "  16889,\n",
       "  16890,\n",
       "  16891,\n",
       "  16892,\n",
       "  16893,\n",
       "  16894,\n",
       "  16895,\n",
       "  16896,\n",
       "  16897,\n",
       "  16898,\n",
       "  16899,\n",
       "  16900,\n",
       "  16901,\n",
       "  16902,\n",
       "  16903,\n",
       "  16904,\n",
       "  16905,\n",
       "  16906,\n",
       "  16907,\n",
       "  16908,\n",
       "  16909,\n",
       "  16910,\n",
       "  16911,\n",
       "  16912,\n",
       "  16913,\n",
       "  16914,\n",
       "  16915,\n",
       "  16916,\n",
       "  16917,\n",
       "  16918,\n",
       "  16919,\n",
       "  16920,\n",
       "  16921,\n",
       "  16922,\n",
       "  16923,\n",
       "  16924,\n",
       "  16925,\n",
       "  16926,\n",
       "  16927,\n",
       "  16928,\n",
       "  16929,\n",
       "  16930,\n",
       "  16931,\n",
       "  16932,\n",
       "  16933,\n",
       "  16934,\n",
       "  16935,\n",
       "  16936,\n",
       "  16937,\n",
       "  16938,\n",
       "  16939,\n",
       "  16940,\n",
       "  16941,\n",
       "  16942,\n",
       "  16943,\n",
       "  16944,\n",
       "  16945,\n",
       "  16946,\n",
       "  16947,\n",
       "  16948,\n",
       "  16949,\n",
       "  16950,\n",
       "  16951,\n",
       "  16952,\n",
       "  16953,\n",
       "  16954,\n",
       "  16955,\n",
       "  16956,\n",
       "  16957,\n",
       "  16958,\n",
       "  16959,\n",
       "  16960,\n",
       "  16961,\n",
       "  16962,\n",
       "  16963,\n",
       "  16964,\n",
       "  16965,\n",
       "  16966,\n",
       "  16967,\n",
       "  16968,\n",
       "  16969,\n",
       "  16970,\n",
       "  16971,\n",
       "  16972,\n",
       "  16973,\n",
       "  16974,\n",
       "  16975,\n",
       "  16976,\n",
       "  16977,\n",
       "  16978,\n",
       "  16979,\n",
       "  16980,\n",
       "  16981,\n",
       "  16982,\n",
       "  16983,\n",
       "  16984,\n",
       "  16985,\n",
       "  16986,\n",
       "  16987,\n",
       "  16988,\n",
       "  16989,\n",
       "  16990,\n",
       "  16991,\n",
       "  16992,\n",
       "  16993,\n",
       "  16994,\n",
       "  16995,\n",
       "  16996,\n",
       "  16997,\n",
       "  16998,\n",
       "  16999,\n",
       "  17000,\n",
       "  17001,\n",
       "  17002,\n",
       "  17003,\n",
       "  17004,\n",
       "  17005,\n",
       "  17006,\n",
       "  17007,\n",
       "  17008,\n",
       "  17009,\n",
       "  17010,\n",
       "  17011,\n",
       "  17012,\n",
       "  17013,\n",
       "  17014,\n",
       "  17015,\n",
       "  17016,\n",
       "  17017,\n",
       "  17018,\n",
       "  17019,\n",
       "  17020,\n",
       "  17021,\n",
       "  17022,\n",
       "  17023,\n",
       "  17024,\n",
       "  17025,\n",
       "  17026,\n",
       "  17027,\n",
       "  17028,\n",
       "  17029,\n",
       "  17030,\n",
       "  17031,\n",
       "  17032,\n",
       "  17033,\n",
       "  17034,\n",
       "  17035,\n",
       "  17036,\n",
       "  17037,\n",
       "  17038,\n",
       "  17039,\n",
       "  17040,\n",
       "  17041,\n",
       "  17042,\n",
       "  17043,\n",
       "  17044,\n",
       "  17045,\n",
       "  17046,\n",
       "  17047,\n",
       "  17048,\n",
       "  17049,\n",
       "  17050,\n",
       "  17051,\n",
       "  17052,\n",
       "  17053,\n",
       "  17054,\n",
       "  17055,\n",
       "  17056,\n",
       "  17057,\n",
       "  17058,\n",
       "  17059,\n",
       "  17060,\n",
       "  17061,\n",
       "  17062,\n",
       "  17063,\n",
       "  17064,\n",
       "  17065,\n",
       "  17066,\n",
       "  17067,\n",
       "  17068,\n",
       "  17069,\n",
       "  17070,\n",
       "  17071,\n",
       "  17072,\n",
       "  17073,\n",
       "  17074,\n",
       "  17075,\n",
       "  17076,\n",
       "  17077,\n",
       "  17078,\n",
       "  17079,\n",
       "  17080,\n",
       "  17081,\n",
       "  17082,\n",
       "  17083,\n",
       "  17084,\n",
       "  17085,\n",
       "  17086,\n",
       "  17087,\n",
       "  17088,\n",
       "  17089,\n",
       "  17090,\n",
       "  17091,\n",
       "  17092,\n",
       "  17093,\n",
       "  17094,\n",
       "  17095,\n",
       "  17096,\n",
       "  17097,\n",
       "  17098,\n",
       "  17099,\n",
       "  17100,\n",
       "  17101,\n",
       "  17102,\n",
       "  17103,\n",
       "  17104,\n",
       "  17105,\n",
       "  17106,\n",
       "  17107,\n",
       "  17108,\n",
       "  17109,\n",
       "  17110,\n",
       "  17111,\n",
       "  17112,\n",
       "  17113,\n",
       "  17114,\n",
       "  17115,\n",
       "  17116,\n",
       "  17117,\n",
       "  17118,\n",
       "  17119,\n",
       "  17120,\n",
       "  17121,\n",
       "  17122,\n",
       "  17123,\n",
       "  17124,\n",
       "  17125,\n",
       "  17126,\n",
       "  17127,\n",
       "  17128,\n",
       "  17129,\n",
       "  17130,\n",
       "  17131,\n",
       "  17132,\n",
       "  17133,\n",
       "  17134,\n",
       "  17135,\n",
       "  17136,\n",
       "  17137,\n",
       "  17138,\n",
       "  17139,\n",
       "  17140,\n",
       "  17141,\n",
       "  17142,\n",
       "  17143,\n",
       "  17144,\n",
       "  17145,\n",
       "  17146,\n",
       "  17147,\n",
       "  17148,\n",
       "  17149,\n",
       "  17150,\n",
       "  17151,\n",
       "  17152,\n",
       "  17153,\n",
       "  17154,\n",
       "  17155,\n",
       "  17156,\n",
       "  17157,\n",
       "  17158,\n",
       "  17159,\n",
       "  17160,\n",
       "  17161,\n",
       "  17162,\n",
       "  17163,\n",
       "  17164,\n",
       "  17165,\n",
       "  17166,\n",
       "  17167,\n",
       "  17168,\n",
       "  17169,\n",
       "  17170,\n",
       "  17171,\n",
       "  17172,\n",
       "  17173,\n",
       "  17174,\n",
       "  17175,\n",
       "  17176,\n",
       "  17177,\n",
       "  17178,\n",
       "  17179,\n",
       "  17180,\n",
       "  17181,\n",
       "  17182,\n",
       "  17183,\n",
       "  17184,\n",
       "  17185,\n",
       "  17186,\n",
       "  17187,\n",
       "  17188,\n",
       "  17189,\n",
       "  17190,\n",
       "  17191,\n",
       "  17192,\n",
       "  17193,\n",
       "  17194,\n",
       "  17195,\n",
       "  17196,\n",
       "  17197,\n",
       "  17198,\n",
       "  17199,\n",
       "  17200,\n",
       "  17201,\n",
       "  17202,\n",
       "  17203,\n",
       "  17204,\n",
       "  17205,\n",
       "  17206,\n",
       "  17207,\n",
       "  17208,\n",
       "  17209,\n",
       "  17210,\n",
       "  17211,\n",
       "  17212,\n",
       "  17213,\n",
       "  17214,\n",
       "  17215,\n",
       "  17216,\n",
       "  17217,\n",
       "  17218,\n",
       "  17219,\n",
       "  17220,\n",
       "  17221,\n",
       "  17222,\n",
       "  17223,\n",
       "  17224,\n",
       "  17225,\n",
       "  17226,\n",
       "  17227,\n",
       "  17228,\n",
       "  17229,\n",
       "  17230,\n",
       "  17231,\n",
       "  17232,\n",
       "  17233,\n",
       "  17234,\n",
       "  17235,\n",
       "  17236,\n",
       "  17237,\n",
       "  17238,\n",
       "  17239,\n",
       "  17240,\n",
       "  17241,\n",
       "  17242,\n",
       "  17243,\n",
       "  17244,\n",
       "  17245,\n",
       "  17246,\n",
       "  17247,\n",
       "  17248,\n",
       "  17249,\n",
       "  17250,\n",
       "  17251,\n",
       "  17252,\n",
       "  17253,\n",
       "  17254,\n",
       "  17255,\n",
       "  17256,\n",
       "  17257,\n",
       "  17258,\n",
       "  17259,\n",
       "  17260,\n",
       "  17261,\n",
       "  17262,\n",
       "  17263,\n",
       "  17264,\n",
       "  17265,\n",
       "  17266,\n",
       "  17267,\n",
       "  17268,\n",
       "  17269,\n",
       "  17270,\n",
       "  17271,\n",
       "  17272,\n",
       "  17273,\n",
       "  17274,\n",
       "  17275,\n",
       "  17276,\n",
       "  17277,\n",
       "  17278,\n",
       "  17279,\n",
       "  17280,\n",
       "  17281,\n",
       "  17282,\n",
       "  17283,\n",
       "  17284,\n",
       "  17285,\n",
       "  17286,\n",
       "  17287,\n",
       "  17288,\n",
       "  17289,\n",
       "  17290,\n",
       "  17291,\n",
       "  17292,\n",
       "  17293,\n",
       "  17294,\n",
       "  17295,\n",
       "  17296,\n",
       "  17297,\n",
       "  17298,\n",
       "  17299,\n",
       "  17300,\n",
       "  17301,\n",
       "  17302,\n",
       "  17303,\n",
       "  17304,\n",
       "  17305,\n",
       "  17306,\n",
       "  17307,\n",
       "  17308,\n",
       "  17309,\n",
       "  17310,\n",
       "  17311,\n",
       "  17312,\n",
       "  17313,\n",
       "  17314,\n",
       "  17315,\n",
       "  17316,\n",
       "  17317,\n",
       "  17318,\n",
       "  17319,\n",
       "  17320,\n",
       "  17321,\n",
       "  17322,\n",
       "  17323,\n",
       "  17324,\n",
       "  17325,\n",
       "  17326,\n",
       "  17327,\n",
       "  17328,\n",
       "  17329,\n",
       "  17330,\n",
       "  17331,\n",
       "  17332,\n",
       "  17333,\n",
       "  17334,\n",
       "  17335,\n",
       "  17336,\n",
       "  17337,\n",
       "  17338,\n",
       "  17339,\n",
       "  17340,\n",
       "  17341,\n",
       "  17342,\n",
       "  17343,\n",
       "  17344,\n",
       "  17345,\n",
       "  17346,\n",
       "  17347,\n",
       "  17348,\n",
       "  17349,\n",
       "  17350,\n",
       "  17351,\n",
       "  17352,\n",
       "  17353,\n",
       "  17354,\n",
       "  17355,\n",
       "  17356,\n",
       "  17357,\n",
       "  17358,\n",
       "  17359,\n",
       "  17360,\n",
       "  17361,\n",
       "  17362,\n",
       "  17363,\n",
       "  17364,\n",
       "  17365,\n",
       "  17366,\n",
       "  17367,\n",
       "  17368,\n",
       "  17369,\n",
       "  17370,\n",
       "  17371,\n",
       "  17372,\n",
       "  17373,\n",
       "  17374,\n",
       "  17375,\n",
       "  17376,\n",
       "  17377,\n",
       "  17378,\n",
       "  17379,\n",
       "  17380,\n",
       "  17381,\n",
       "  17382,\n",
       "  17383,\n",
       "  17384,\n",
       "  17385,\n",
       "  17386,\n",
       "  17387,\n",
       "  17388,\n",
       "  17389,\n",
       "  17390,\n",
       "  17391,\n",
       "  ...])"
      ]
     },
     "execution_count": 47,
     "metadata": {},
     "output_type": "execute_result"
    }
   ],
   "source": [
    "# 분류 결과와 같은 증상의 인덱스만 추출\n",
    "filtered_intention_idx = []\n",
    "for idx, text in enumerate(intention_map):\n",
    "    if text == label[0]:\n",
    "        filtered_intention_idx.append(idx)\n",
    "\n",
    "len(filtered_intention_idx), filtered_intention_idx"
   ]
  },
  {
   "cell_type": "code",
   "execution_count": 59,
   "metadata": {},
   "outputs": [
    {
     "data": {
      "text/html": [
       "<div>\n",
       "<style scoped>\n",
       "    .dataframe tbody tr th:only-of-type {\n",
       "        vertical-align: middle;\n",
       "    }\n",
       "\n",
       "    .dataframe tbody tr th {\n",
       "        vertical-align: top;\n",
       "    }\n",
       "\n",
       "    .dataframe thead th {\n",
       "        text-align: right;\n",
       "    }\n",
       "</style>\n",
       "<table border=\"1\" class=\"dataframe\">\n",
       "  <thead>\n",
       "    <tr style=\"text-align: right;\">\n",
       "      <th></th>\n",
       "      <th>intention</th>\n",
       "      <th>answer</th>\n",
       "    </tr>\n",
       "  </thead>\n",
       "  <tbody>\n",
       "    <tr>\n",
       "      <th>3811</th>\n",
       "      <td>증상</td>\n",
       "      <td>두통은 흔히 뇌 혈액 순환 장애로 인해 발생하며, 두통은 일상 생활에 직접적인 영향...</td>\n",
       "    </tr>\n",
       "  </tbody>\n",
       "</table>\n",
       "</div>"
      ],
      "text/plain": [
       "     intention                                             answer\n",
       "3811        증상  두통은 흔히 뇌 혈액 순환 장애로 인해 발생하며, 두통은 일상 생활에 직접적인 영향..."
      ]
     },
     "execution_count": 59,
     "metadata": {},
     "output_type": "execute_result"
    }
   ],
   "source": [
    "# intention이 증상인지 확인\n",
    "answer_df[['intention', 'answer']].loc[answer_df['answer']==answer_map[16392]]"
   ]
  },
  {
   "cell_type": "markdown",
   "metadata": {},
   "source": [
    "- 3. 임베딩한 질문과 가장 유사한 답변을 답변 벡터 DB에서 찾음"
   ]
  },
  {
   "cell_type": "code",
   "execution_count": 61,
   "metadata": {},
   "outputs": [
    {
     "data": {
      "text/plain": [
       "array(['a', 'c'], dtype='<U1')"
      ]
     },
     "execution_count": 61,
     "metadata": {},
     "output_type": "execute_result"
    }
   ],
   "source": [
    "a = np.array(['a', 'b', 'c', 'd', 'e'])\n",
    "li = [0, 2]\n",
    "a[li]"
   ]
  },
  {
   "cell_type": "code",
   "execution_count": 62,
   "metadata": {},
   "outputs": [],
   "source": [
    "# 필터링된 인덱스에 해당하는 부분만 벡터 DB로 재생성\n",
    "filtered_index = faiss.IndexFlatL2(dimension) # 차원 설정\n",
    "filtered_index.add(np.array(embeddings)[filtered_intention_idx]) # np.array는 리스트를 리스트로 감싸서 필터링 가능"
   ]
  },
  {
   "cell_type": "code",
   "execution_count": 63,
   "metadata": {},
   "outputs": [
    {
     "data": {
      "text/plain": [
       "1335"
      ]
     },
     "execution_count": 63,
     "metadata": {},
     "output_type": "execute_result"
    }
   ],
   "source": [
    "# 생성된 벡터 DB 개수\n",
    "filtered_index.ntotal"
   ]
  },
  {
   "cell_type": "code",
   "execution_count": null,
   "metadata": {},
   "outputs": [],
   "source": [
    "fi_distances, fi_indicies = filtered_index.search(question_vec, 5)  # 쿼리 벡터와 가장 유사한(거리가 가까운) 벡터 검색"
   ]
  },
  {
   "cell_type": "code",
   "execution_count": 65,
   "metadata": {},
   "outputs": [
    {
     "data": {
      "text/plain": [
       "(array([[164.31354, 173.27637, 175.1254 , 175.27673, 176.04108]],\n",
       "       dtype=float32),\n",
       " array([[ 930,  581,  936, 1237,  805]], dtype=int64))"
      ]
     },
     "execution_count": 65,
     "metadata": {},
     "output_type": "execute_result"
    }
   ],
   "source": [
    "fi_distances, fi_indicies"
   ]
  },
  {
   "cell_type": "markdown",
   "metadata": {},
   "source": [
    "- 새로운 벡터 DB에서 나온 인덱스는 새로운 DB 기준의 인덱스 이므로 원래 벡터 DB에 해당하는 인덱스로 변환해야함."
   ]
  },
  {
   "cell_type": "code",
   "execution_count": 66,
   "metadata": {},
   "outputs": [
    {
     "data": {
      "text/plain": [
       "array([ 930,  581,  936, 1237,  805], dtype=int64)"
      ]
     },
     "execution_count": 66,
     "metadata": {},
     "output_type": "execute_result"
    }
   ],
   "source": [
    "fi_indicies[0]"
   ]
  },
  {
   "cell_type": "code",
   "execution_count": 67,
   "metadata": {},
   "outputs": [
    {
     "data": {
      "text/plain": [
       "[17322, 16973, 17328, 17629, 17197]"
      ]
     },
     "execution_count": 67,
     "metadata": {},
     "output_type": "execute_result"
    }
   ],
   "source": [
    "filtered_top_idx = [filtered_intention_idx[i] for i in fi_indicies[0]]\n",
    "filtered_top_idx"
   ]
  },
  {
   "cell_type": "code",
   "execution_count": 106,
   "metadata": {},
   "outputs": [
    {
     "name": "stdout",
     "output_type": "stream",
     "text": [
      "벡터 거리: 164.31 \n",
      "답변: 편두통은 일반적인 두통과 비슷한 증상을 보이는 경향이 있습니다. 그러나 편두통의 두통이 주로 한쪽 머리에만 나타나는 것과는 다른 점이 있습니다. 편두통은 일반적인 두통과는 다른 양상을 보입니다. 주로 한쪽 머리에 심한 통증을 일으키는 편두통은 일반적으로 한쪽 얼굴에 두통이 나타납니다. 또한 편두통은 구토, 빛에 대한 증상, 수면 장애, 어지러움과 같은 다양한 증상도 동반할 수 있습니다. 두통은 발작적으로 나타나며, 주로 밝은 불빛에 대한 민감도가 증가합니다. 이러한 특징을 통해 편두통은 주로 편두통 발작 시에 머리 통증뿐만 아니라 두통, 눈의 통증, 구토, 빛에 대한 민감도 증가 등의 다양한 증상도 동반할 수 있음을 알 수 있습니다.\n",
      "벡터 거리: 173.28 \n",
      "답변: 두통은 흔히 발생하는 증상으로, 일반적으로 통증의 크기나 지속시간이 다를 수 있습니다. 두통의 주요 증상은 한쪽에서 시작되는 두통입니다. 가장 특징적인 증상은 다음 날까지 계속되는 통증입니다. 발작적인 두통은 대부분 아침에 발생하며, 활동한 후에 완화됩니다. 두통은 머리와 턱을 포함한 머리 전체에서 발생하며, 일반적으로 욱신욱신한 아픔을 동반합니다. 두통은 일시적인 편두통과 만성적인 두통으로 나뉩니다. 편두통은 매우 심한 두통으로, 두통 발작 사이에 통증의 강도는 약해져 견딜 수 있을 정도가 됩니다. 또한 통증이 한 쪽이나 양쪽 귀에서 느껴지거나, 다른 쪽 귀에서 느껴질 수도 있습니다. 두통은 여러 요인에 의해 발생할 수 있으며, 이러한 이유로 정확한 원인을 파악하기 위해 진단 검사가 필요합니다.\n",
      "벡터 거리: 175.13 \n",
      "답변: 두통은 흔한 증상이며, 일반적으로 한쪽 머리에서 시작하여 욱신욱신한 느낌이나 통증이 발생합니다. 심한 두통은 잠을 자거나 활동한 후에 완화되는 경향이 있습니다. 통증은 대부분의 경우 편측성을 띠며, 가끔은 양쪽에서도 발생할 수 있습니다. 두통 발작은 주로 아침에 증상이 나타나고, 오후에는 완화됩니다. 두통은 한쪽 편에만 발생하는 경우도 있고 양쪽에 나타나는 경우도 있습니다. 두통 발작이 발생하면, 대부분의 경우 통증이 편측성을 보이며, 주로 욱신욱신한 느낌이나 통증을 경험할 수 있습니다. 때로는 두통 발작이 한쪽 눈에서 시작하여 다른 쪽 눈으로 확산될 수도 있습니다. 두통은 대부분 편측성을 보이지만, 한쪽 귀에서 시작되면 다른 쪽 귀에서도 발생할 수 있습니다. 편두통은 다른 질환의 증상일 수도 있으므로, 반드시 의사를 방문하여 정확한 진단과 치료를 받아야 합니다. 두통을 완화하기 위해 생활 습관의 변화도 필요합니다. 식이조절이나 운동을 통해 스트레스를 줄일 수도 있습니다. 두통에 대한 자세한 내용은 의사의 조언을 듣는 것이 가장 좋습니다.\n",
      "벡터 거리: 175.28 \n",
      "답변: 두통의 증상은 다양하지만, 일반적으로 편두통을 가진 사람들은 지속적인 통증과 발작을 경험할 수 있습니다. 그 외에도 증상은 다양합니다. 두통은 주로 한쪽에서 시작되지만, 일부 사람들은 다른 쪽에서도 느낄 수 있습니다. 한쪽 머리가 아프거나 따끔거리는 느낌이 드는 것으로 충분한 치료 없이 진통제만으로는 효과적인 통증 관리가 어려울 수 있습니다. 또한 머리가 무거운 느낌이나 어지럼증을 동반한 두통도 나타날 수 있습니다. 이러한 두통은 통증을 완화하기 위해 신경학적 치료나 약물 치료가 필요할 수 있습니다. 편두통은 적절한 치료 없이 방치하면 더욱 심해질 수 있습니다. 증상이 심각할 경우에는 전문의의 진단과 치료를 받아야 합니다. 이를 통해 두통을 완화시키고 일상생활에 불편을 최소화할 수 있습니다.\n",
      "벡터 거리: 176.04 \n",
      "답변: 두통은 사람들이 자주 겪는 두통의 일반적인 형태입니다. 두통은 머리의 한쪽 부분에서 발생하는 통증을 의미합니다. 이 통증은 다양한 부위에서 나타날 수 있으며, 근육통, 관절통, 피로감, 불안감, 흥분 등의 다른 증상과 함께 나타날 수 있습니다. 일부 경우, 두통은 얼굴, 목, 팔, 어깨, 다리 등의 다양한 부위에서 나타날 수 있습니다. 일반적으로는 머리 통증이 가장 흔한 증상이지만, 때로는 다른 신체 부위에서도 두통을 느낄 수 있습니다. 두통은 매우 흔한 증상으로, 주로 머리의 한쪽 부분에서 발생합니다. 만약 두통이 심하거나 지속된다면, 의사와 상담하여 원인을 확인하고 적절한 치료를 받는 것이 좋습니다.\n"
     ]
    }
   ],
   "source": [
    "for j, i in enumerate(filtered_top_idx):\n",
    "    # print(j, i)\n",
    "    print(f'벡터 거리: {fi_distances[0][j]:.2f} \\n답변: {answer_map[i]}')"
   ]
  },
  {
   "cell_type": "code",
   "execution_count": null,
   "metadata": {},
   "outputs": [
    {
     "data": {
      "text/plain": [
       "[{'연관 답변1: 편두통은 일반적인 두통과 비슷한 증상을 보이는 경향이 있습니다. 그러나 편두통의 두통이 주로 한쪽 머리에만 나타나는 것과는 다른 점이 있습니다. 편두통은 일반적인 두통과는 다른 양상을 보입니다. 주로 한쪽 머리에 심한 통증을 일으키는 편두통은 일반적으로 한쪽 얼굴에 두통이 나타납니다. 또한 편두통은 구토, 빛에 대한 증상, 수면 장애, 어지러움과 같은 다양한 증상도 동반할 수 있습니다. 두통은 발작적으로 나타나며, 주로 밝은 불빛에 대한 민감도가 증가합니다. 이러한 특징을 통해 편두통은 주로 편두통 발작 시에 머리 통증뿐만 아니라 두통, 눈의 통증, 구토, 빛에 대한 민감도 증가 등의 다양한 증상도 동반할 수 있음을 알 수 있습니다.'},\n",
       " {'연관 답변2: 두통은 흔히 발생하는 증상으로, 일반적으로 통증의 크기나 지속시간이 다를 수 있습니다. 두통의 주요 증상은 한쪽에서 시작되는 두통입니다. 가장 특징적인 증상은 다음 날까지 계속되는 통증입니다. 발작적인 두통은 대부분 아침에 발생하며, 활동한 후에 완화됩니다. 두통은 머리와 턱을 포함한 머리 전체에서 발생하며, 일반적으로 욱신욱신한 아픔을 동반합니다. 두통은 일시적인 편두통과 만성적인 두통으로 나뉩니다. 편두통은 매우 심한 두통으로, 두통 발작 사이에 통증의 강도는 약해져 견딜 수 있을 정도가 됩니다. 또한 통증이 한 쪽이나 양쪽 귀에서 느껴지거나, 다른 쪽 귀에서 느껴질 수도 있습니다. 두통은 여러 요인에 의해 발생할 수 있으며, 이러한 이유로 정확한 원인을 파악하기 위해 진단 검사가 필요합니다.'},\n",
       " {'연관 답변3: 두통은 흔한 증상이며, 일반적으로 한쪽 머리에서 시작하여 욱신욱신한 느낌이나 통증이 발생합니다. 심한 두통은 잠을 자거나 활동한 후에 완화되는 경향이 있습니다. 통증은 대부분의 경우 편측성을 띠며, 가끔은 양쪽에서도 발생할 수 있습니다. 두통 발작은 주로 아침에 증상이 나타나고, 오후에는 완화됩니다. 두통은 한쪽 편에만 발생하는 경우도 있고 양쪽에 나타나는 경우도 있습니다. 두통 발작이 발생하면, 대부분의 경우 통증이 편측성을 보이며, 주로 욱신욱신한 느낌이나 통증을 경험할 수 있습니다. 때로는 두통 발작이 한쪽 눈에서 시작하여 다른 쪽 눈으로 확산될 수도 있습니다. 두통은 대부분 편측성을 보이지만, 한쪽 귀에서 시작되면 다른 쪽 귀에서도 발생할 수 있습니다. 편두통은 다른 질환의 증상일 수도 있으므로, 반드시 의사를 방문하여 정확한 진단과 치료를 받아야 합니다. 두통을 완화하기 위해 생활 습관의 변화도 필요합니다. 식이조절이나 운동을 통해 스트레스를 줄일 수도 있습니다. 두통에 대한 자세한 내용은 의사의 조언을 듣는 것이 가장 좋습니다.'},\n",
       " {'연관 답변4: 두통의 증상은 다양하지만, 일반적으로 편두통을 가진 사람들은 지속적인 통증과 발작을 경험할 수 있습니다. 그 외에도 증상은 다양합니다. 두통은 주로 한쪽에서 시작되지만, 일부 사람들은 다른 쪽에서도 느낄 수 있습니다. 한쪽 머리가 아프거나 따끔거리는 느낌이 드는 것으로 충분한 치료 없이 진통제만으로는 효과적인 통증 관리가 어려울 수 있습니다. 또한 머리가 무거운 느낌이나 어지럼증을 동반한 두통도 나타날 수 있습니다. 이러한 두통은 통증을 완화하기 위해 신경학적 치료나 약물 치료가 필요할 수 있습니다. 편두통은 적절한 치료 없이 방치하면 더욱 심해질 수 있습니다. 증상이 심각할 경우에는 전문의의 진단과 치료를 받아야 합니다. 이를 통해 두통을 완화시키고 일상생활에 불편을 최소화할 수 있습니다.'},\n",
       " {'연관 답변5: 두통은 사람들이 자주 겪는 두통의 일반적인 형태입니다. 두통은 머리의 한쪽 부분에서 발생하는 통증을 의미합니다. 이 통증은 다양한 부위에서 나타날 수 있으며, 근육통, 관절통, 피로감, 불안감, 흥분 등의 다른 증상과 함께 나타날 수 있습니다. 일부 경우, 두통은 얼굴, 목, 팔, 어깨, 다리 등의 다양한 부위에서 나타날 수 있습니다. 일반적으로는 머리 통증이 가장 흔한 증상이지만, 때로는 다른 신체 부위에서도 두통을 느낄 수 있습니다. 두통은 매우 흔한 증상으로, 주로 머리의 한쪽 부분에서 발생합니다. 만약 두통이 심하거나 지속된다면, 의사와 상담하여 원인을 확인하고 적절한 치료를 받는 것이 좋습니다.'}]"
      ]
     },
     "execution_count": 109,
     "metadata": {},
     "output_type": "execute_result"
    }
   ],
   "source": [
    "top3_answers = []\n",
    "for j, i in enumerate(filtered_top_idx):\n",
    "    top3_answers.append({f'연관 답변{j+1}: {answer_map[i]}'})\n",
    "\n",
    "top3_answers"
   ]
  },
  {
   "cell_type": "markdown",
   "metadata": {},
   "source": [
    "## 4. fine tunning한 LLM 모델에 최종 사용하기 위해 클래스로 만들기"
   ]
  },
  {
   "cell_type": "code",
   "execution_count": 1,
   "metadata": {},
   "outputs": [
    {
     "name": "stderr",
     "output_type": "stream",
     "text": [
      "c:\\Users\\Paris\\miniconda3\\envs\\ds_study\\Lib\\site-packages\\torch\\utils\\_pytree.py:185: FutureWarning: optree is installed but the version is too old to support PyTorch Dynamo in C++ pytree. C++ pytree support is disabled. Please consider upgrading optree using `python3 -m pip install --upgrade 'optree>=0.13.0'`.\n",
      "  warnings.warn(\n"
     ]
    },
    {
     "name": "stdout",
     "output_type": "stream",
     "text": [
      "WARNING:tensorflow:From c:\\Users\\Paris\\miniconda3\\envs\\ds_study\\Lib\\site-packages\\tf_keras\\src\\losses.py:2976: The name tf.losses.sparse_softmax_cross_entropy is deprecated. Please use tf.compat.v1.losses.sparse_softmax_cross_entropy instead.\n",
      "\n"
     ]
    },
    {
     "name": "stderr",
     "output_type": "stream",
     "text": [
      "The installed version of bitsandbytes was compiled without GPU support. 8-bit optimizers, 8-bit multiplication, and GPU quantization are unavailable.\n"
     ]
    }
   ],
   "source": [
    "import faiss\n",
    "import re\n",
    "import numpy as np\n",
    "import pandas as pd\n",
    "from langchain.text_splitter import RecursiveCharacterTextSplitter\n",
    "from sentence_transformers import SentenceTransformer\n",
    "from sklearn.metrics.pairwise import cosine_similarity\n",
    "\n",
    "\n",
    "class SelectReferenceAnswer:\n",
    "\n",
    "    def __init__(self, answer_df, scaler, pca, rf_model, embed_model, labelencoder):\n",
    "        self.df = answer_df\n",
    "        self.scaler = scaler\n",
    "        self.pca = pca\n",
    "        self.rfmodel = rf_model\n",
    "        self.embed_model = embed_model\n",
    "        self.le = labelencoder\n",
    "        \n",
    "        # 변수 초기화\n",
    "        self.embeddings = None\n",
    "        self.dimension = None\n",
    "\n",
    "    # 벡터 DB 만드는 메서드\n",
    "    def make_vec_db(self):\n",
    "\n",
    "        # 2문장씩 문장을 나누는 함수\n",
    "        def split_sentences(sentences, max_sentences=2):\n",
    "            sentence_list = re.split(r'(?<=[.!?]) +', sentences) # 문장을 마침표, 느낌표, 물음표 뒤에오는 공백을 기준으로 나눔(공백 뒤에 +를 붙여서 하나이상을 의미)\n",
    "            chunks = []\n",
    "            for i in range(0, len(sentence_list), max_sentences): # max_sentences 간격만큼\n",
    "                chunks.append(' '.join(sentence_list[i:i + max_sentences])) # join으로 두개의 문장 공백으로 연결, 리스트 대신 문자열로 생성됨.\n",
    "            \n",
    "            return chunks\n",
    "\n",
    "        # chunks 속 2문장씩 결합되어있는 문장들의 길이가 너무 긴 경우 나눠주기 위함.\n",
    "        def split_text_with_recursive_splitter(text, chunk_size=300, chunk_overlap=50):\n",
    "            text_splitter = RecursiveCharacterTextSplitter(\n",
    "                chunk_size = chunk_size, # 최대 몇자로 설정할지\n",
    "                chunk_overlap = chunk_overlap # 50개 겹쳐서 시작\n",
    "            )\n",
    "\n",
    "            return text_splitter.split_text(text)\n",
    "\n",
    "\n",
    "        answer_list = self.df['answer'].tolist()\n",
    "        intention_list = self.df['intention'].tolist()\n",
    "        le_intention = self.le.fit_transform(self.df['intention'])\n",
    "\n",
    "\n",
    "        final_chunk = []\n",
    "        answer_map = []\n",
    "        intention_map = []\n",
    "\n",
    "        for answer in answer_list:\n",
    "            # 2문장씩 나누기\n",
    "            sentence_chunk = split_sentences(answer, max_sentences=2)\n",
    "\n",
    "            # 긴 문장 쪼개기\n",
    "            for chunk in sentence_chunk:\n",
    "                split_chunks = split_text_with_recursive_splitter(chunk, chunk_size=300, chunk_overlap=50)\n",
    "                final_chunk.extend(split_chunks)\n",
    "\n",
    "                # 분할된 chunk마다 원본 맵핑\n",
    "                answer_map.extend([answer] * len(split_chunks))\n",
    "                # 분할된 chunk마다 질문 의도 맵핑\n",
    "                intention = self.df[self.df['answer'] == answer]['intention'].values[0] # series 형태여서 values로 텍스트만 가져옴.\n",
    "                intention_map.extend([intention] * len(split_chunks))\n",
    "\n",
    "        # 임베딩\n",
    "        self.embeddings = self.embed_model.encode(final_chunk)\n",
    "        \n",
    "        self.dimension = self.embeddings.shape[1] # 임베딩 벡터의 차원\n",
    "        self.index = faiss.IndexFlatL2(self.dimension)  # L2 거리(유클리드 거리) 기반으로 검색을 수행하도록 설정(인덱스 생성)\n",
    "        self.index.add(np.array(self.embeddings)) # 각 벡터를 L2 거리 기반 인덱스에 추가하고, 검색을 빠르게 할 수 있도록 데이터 구조를 최적화\n",
    "\n",
    "        return intention_map, answer_map\n",
    "\n",
    "    def search_answer(self, question, intention_map, answer_map, answer_num=3):\n",
    "        \n",
    "        #질문 임베딩\n",
    "        question_vec = self.embed_model.encode([question], batch_size=32)\n",
    "\n",
    "        question_ss = self.scaler.transform(question_vec)\n",
    "        question_pca = self.pca.transform(question_ss)\n",
    "        result = self.rfmodel.predict(question_pca)\n",
    "\n",
    "        label = self.le.inverse_transform([result])\n",
    "\n",
    "        # 분류 결과와 같은 증상의 인덱스만 추출\n",
    "        filtered_intention_idx = []\n",
    "        for idx, text in enumerate(intention_map):\n",
    "            if text == label[0]:\n",
    "                filtered_intention_idx.append(idx)\n",
    "\n",
    "        # 필터링된 인덱스에 해당하는 부분만 벡터 DB로 재생성\n",
    "        filtered_index = faiss.IndexFlatL2(self.dimension) # 차원 설정\n",
    "        filtered_index.add(np.array(self.embeddings)[filtered_intention_idx]) # np.array는 리스트를 리스트로 감싸서 필터링 가능\n",
    "\n",
    "        fi_distances, fi_indicies = filtered_index.search(question_vec, answer_num)  # 쿼리 벡터와 가장 유사한(거리가 가까운) 벡터 검색\n",
    "        filtered_top_idx = [filtered_intention_idx[i] for i in fi_indicies[0]]\n",
    "        \n",
    "        top_answers = []\n",
    "        for j, i in enumerate(filtered_top_idx):\n",
    "            top3_answers.append({f'참고 정보{j+1}: {answer_map[i]}'})\n",
    "        \n",
    "        return top_answers"
   ]
  },
  {
   "cell_type": "markdown",
   "metadata": {},
   "source": [
    "- 생성한 Class를 .py 형식으로 저장"
   ]
  },
  {
   "cell_type": "code",
   "execution_count": 2,
   "metadata": {},
   "outputs": [],
   "source": [
    "with open('SearchAnswers.py', 'w') as f:\n",
    "    f.write('''\n",
    "import faiss\n",
    "import re\n",
    "import numpy as np\n",
    "import pandas as pd\n",
    "from langchain.text_splitter import RecursiveCharacterTextSplitter\n",
    "from sentence_transformers import SentenceTransformer\n",
    "from sklearn.metrics.pairwise import cosine_similarity\n",
    "\n",
    "\n",
    "class SelectReferenceAnswer:\n",
    "\n",
    "    def __init__(self, answer_df, scaler, pca, rf_model, embed_model, labelencoder):\n",
    "        self.df = answer_df\n",
    "        self.scaler = scaler\n",
    "        self.pca = pca\n",
    "        self.rfmodel = rf_model\n",
    "        self.embed_model = embed_model\n",
    "        self.le = labelencoder\n",
    "        \n",
    "        # 변수 초기화\n",
    "        self.embeddings = None\n",
    "        self.dimension = None\n",
    "\n",
    "    # 벡터 DB 만드는 메서드\n",
    "    def make_vec_db(self):\n",
    "\n",
    "        # 2문장씩 문장을 나누는 함수\n",
    "        def split_sentences(sentences, max_sentences=2):\n",
    "            sentence_list = re.split(r'(?<=[.!?]) +', sentences) # 문장을 마침표, 느낌표, 물음표 뒤에오는 공백을 기준으로 나눔(공백 뒤에 +를 붙여서 하나이상을 의미)\n",
    "            chunks = []\n",
    "            for i in range(0, len(sentence_list), max_sentences): # max_sentences 간격만큼\n",
    "                chunks.append(' '.join(sentence_list[i:i + max_sentences])) # join으로 두개의 문장 공백으로 연결, 리스트 대신 문자열로 생성됨.\n",
    "            \n",
    "            return chunks\n",
    "\n",
    "        # chunks 속 2문장씩 결합되어있는 문장들의 길이가 너무 긴 경우 나눠주기 위함.\n",
    "        def split_text_with_recursive_splitter(text, chunk_size=300, chunk_overlap=50):\n",
    "            text_splitter = RecursiveCharacterTextSplitter(\n",
    "                chunk_size = chunk_size, # 최대 몇자로 설정할지\n",
    "                chunk_overlap = chunk_overlap # 50개 겹쳐서 시작\n",
    "            )\n",
    "\n",
    "            return text_splitter.split_text(text)\n",
    "\n",
    "\n",
    "        answer_list = self.df['answer'].tolist()\n",
    "        intention_list = self.df['intention'].tolist()\n",
    "        le_intention = self.le.fit_transform(self.df['intention'])\n",
    "\n",
    "\n",
    "        final_chunk = []\n",
    "        answer_map = []\n",
    "        intention_map = []\n",
    "\n",
    "        for answer in answer_list:\n",
    "            # 2문장씩 나누기\n",
    "            sentence_chunk = split_sentences(answer, max_sentences=2)\n",
    "\n",
    "            # 긴 문장 쪼개기\n",
    "            for chunk in sentence_chunk:\n",
    "                split_chunks = split_text_with_recursive_splitter(chunk, chunk_size=300, chunk_overlap=50)\n",
    "                final_chunk.extend(split_chunks)\n",
    "\n",
    "                # 분할된 chunk마다 원본 맵핑\n",
    "                answer_map.extend([answer] * len(split_chunks))\n",
    "                # 분할된 chunk마다 질문 의도 맵핑\n",
    "                intention = self.df[self.df['answer'] == answer]['intention'].values[0] # series 형태여서 values로 텍스트만 가져옴.\n",
    "                intention_map.extend([intention] * len(split_chunks))\n",
    "\n",
    "        # 임베딩\n",
    "        self.embeddings = self.embed_model.encode(final_chunk)\n",
    "        \n",
    "        self.dimension = self.embeddings.shape[1] # 임베딩 벡터의 차원\n",
    "        self.index = faiss.IndexFlatL2(self.dimension)  # L2 거리(유클리드 거리) 기반으로 검색을 수행하도록 설정(인덱스 생성)\n",
    "        self.index.add(np.array(self.embeddings)) # 각 벡터를 L2 거리 기반 인덱스에 추가하고, 검색을 빠르게 할 수 있도록 데이터 구조를 최적화\n",
    "\n",
    "        return intention_map, answer_map\n",
    "\n",
    "    def search_answer(self, question, intention_map, answer_map, answer_num=3):\n",
    "        \n",
    "        #질문 임베딩\n",
    "        question_vec = self.embed_model.encode([question], batch_size=32)\n",
    "\n",
    "        question_ss = self.scaler.transform(question_vec)\n",
    "        question_pca = self.pca.transform(question_ss)\n",
    "        result = self.rfmodel.predict(question_pca)\n",
    "\n",
    "        label = self.le.inverse_transform([result])\n",
    "\n",
    "        # 분류 결과와 같은 증상의 인덱스만 추출\n",
    "        filtered_intention_idx = []\n",
    "        for idx, text in enumerate(intention_map):\n",
    "            if text == label[0]:\n",
    "                filtered_intention_idx.append(idx)\n",
    "\n",
    "        # 필터링된 인덱스에 해당하는 부분만 벡터 DB로 재생성\n",
    "        filtered_index = faiss.IndexFlatL2(self.dimension) # 차원 설정\n",
    "        filtered_index.add(np.array(self.embeddings)[filtered_intention_idx]) # np.array는 리스트를 리스트로 감싸서 필터링 가능\n",
    "\n",
    "        fi_distances, fi_indicies = filtered_index.search(question_vec, answer_num)  # 쿼리 벡터와 가장 유사한(거리가 가까운) 벡터 검색\n",
    "        filtered_top_idx = [filtered_intention_idx[i] for i in fi_indicies[0]]\n",
    "        \n",
    "        top_answers = []\n",
    "        for j, i in enumerate(filtered_top_idx):\n",
    "            top_answers.append({f'참고 정보{j+1}: {answer_map[i]}'})\n",
    "        \n",
    "        return top_answers\n",
    "    ''')"
   ]
  },
  {
   "cell_type": "code",
   "execution_count": 4,
   "metadata": {},
   "outputs": [],
   "source": [
    "import faiss\n",
    "import numpy as np\n",
    "import pandas as pd\n",
    "from langchain.text_splitter import RecursiveCharacterTextSplitter\n",
    "from sentence_transformers import SentenceTransformer\n",
    "from sklearn.metrics.pairwise import cosine_similarity"
   ]
  },
  {
   "cell_type": "code",
   "execution_count": 3,
   "metadata": {},
   "outputs": [
    {
     "name": "stderr",
     "output_type": "stream",
     "text": [
      "c:\\Users\\Paris\\miniconda3\\envs\\ds_study\\Lib\\site-packages\\sklearn\\base.py:376: InconsistentVersionWarning: Trying to unpickle estimator DecisionTreeClassifier from version 1.6.1 when using version 1.5.1. This might lead to breaking code or invalid results. Use at your own risk. For more info please refer to:\n",
      "https://scikit-learn.org/stable/model_persistence.html#security-maintainability-limitations\n",
      "  warnings.warn(\n",
      "c:\\Users\\Paris\\miniconda3\\envs\\ds_study\\Lib\\site-packages\\sklearn\\base.py:376: InconsistentVersionWarning: Trying to unpickle estimator RandomForestClassifier from version 1.6.1 when using version 1.5.1. This might lead to breaking code or invalid results. Use at your own risk. For more info please refer to:\n",
      "https://scikit-learn.org/stable/model_persistence.html#security-maintainability-limitations\n",
      "  warnings.warn(\n",
      "c:\\Users\\Paris\\miniconda3\\envs\\ds_study\\Lib\\site-packages\\sklearn\\base.py:376: InconsistentVersionWarning: Trying to unpickle estimator StandardScaler from version 1.6.1 when using version 1.5.1. This might lead to breaking code or invalid results. Use at your own risk. For more info please refer to:\n",
      "https://scikit-learn.org/stable/model_persistence.html#security-maintainability-limitations\n",
      "  warnings.warn(\n",
      "c:\\Users\\Paris\\miniconda3\\envs\\ds_study\\Lib\\site-packages\\sklearn\\base.py:376: InconsistentVersionWarning: Trying to unpickle estimator PCA from version 1.6.1 when using version 1.5.1. This might lead to breaking code or invalid results. Use at your own risk. For more info please refer to:\n",
      "https://scikit-learn.org/stable/model_persistence.html#security-maintainability-limitations\n",
      "  warnings.warn(\n"
     ]
    }
   ],
   "source": [
    "import joblib\n",
    "from sentence_transformers import SentenceTransformer\n",
    "from sklearn.preprocessing import LabelEncoder\n",
    "from SearchAnswers import SelectReferenceAnswer\n",
    "\n",
    "# 저장된 RandomForestClassifier 모델 불러오기\n",
    "rf_model = joblib.load('./headache_randomforest.pkl')\n",
    "scaler = joblib.load('./headache_scaler.pkl')\n",
    "pca = joblib.load('./headache_pca.pkl')\n",
    "\n",
    "answer_df = pd.read_csv(\"두통 답변.csv\", index_col=0)\n",
    "embed_model = SentenceTransformer('snunlp/KR-SBERT-V40K-klueNLI-augSTS')\n",
    "labelencoder = LabelEncoder()"
   ]
  },
  {
   "cell_type": "code",
   "execution_count": 5,
   "metadata": {},
   "outputs": [],
   "source": [
    "# 객체 생성\n",
    "select_answers = SelectReferenceAnswer(answer_df, scaler, pca, rf_model, embed_model, labelencoder)"
   ]
  },
  {
   "cell_type": "code",
   "execution_count": 6,
   "metadata": {},
   "outputs": [],
   "source": [
    "# 벡터 DB 만들기\n",
    "intention_map, answer_map = select_answers.make_vec_db()"
   ]
  },
  {
   "cell_type": "code",
   "execution_count": 9,
   "metadata": {},
   "outputs": [
    {
     "name": "stderr",
     "output_type": "stream",
     "text": [
      "c:\\Users\\Paris\\miniconda3\\envs\\ds_study\\Lib\\site-packages\\sklearn\\preprocessing\\_label.py:153: DataConversionWarning: A column-vector y was passed when a 1d array was expected. Please change the shape of y to (n_samples, ), for example using ravel().\n",
      "  y = column_or_1d(y, warn=True)\n"
     ]
    },
    {
     "data": {
      "text/plain": [
       "[{'참고 정보1: 편두통은 일반적인 두통과 비슷한 증상을 보이는 경향이 있습니다. 그러나 편두통의 두통이 주로 한쪽 머리에만 나타나는 것과는 다른 점이 있습니다. 편두통은 일반적인 두통과는 다른 양상을 보입니다. 주로 한쪽 머리에 심한 통증을 일으키는 편두통은 일반적으로 한쪽 얼굴에 두통이 나타납니다. 또한 편두통은 구토, 빛에 대한 증상, 수면 장애, 어지러움과 같은 다양한 증상도 동반할 수 있습니다. 두통은 발작적으로 나타나며, 주로 밝은 불빛에 대한 민감도가 증가합니다. 이러한 특징을 통해 편두통은 주로 편두통 발작 시에 머리 통증뿐만 아니라 두통, 눈의 통증, 구토, 빛에 대한 민감도 증가 등의 다양한 증상도 동반할 수 있음을 알 수 있습니다.'},\n",
       " {'참고 정보2: 두통은 흔히 발생하는 증상으로, 일반적으로 통증의 크기나 지속시간이 다를 수 있습니다. 두통의 주요 증상은 한쪽에서 시작되는 두통입니다. 가장 특징적인 증상은 다음 날까지 계속되는 통증입니다. 발작적인 두통은 대부분 아침에 발생하며, 활동한 후에 완화됩니다. 두통은 머리와 턱을 포함한 머리 전체에서 발생하며, 일반적으로 욱신욱신한 아픔을 동반합니다. 두통은 일시적인 편두통과 만성적인 두통으로 나뉩니다. 편두통은 매우 심한 두통으로, 두통 발작 사이에 통증의 강도는 약해져 견딜 수 있을 정도가 됩니다. 또한 통증이 한 쪽이나 양쪽 귀에서 느껴지거나, 다른 쪽 귀에서 느껴질 수도 있습니다. 두통은 여러 요인에 의해 발생할 수 있으며, 이러한 이유로 정확한 원인을 파악하기 위해 진단 검사가 필요합니다.'},\n",
       " {'참고 정보3: 두통은 흔한 증상이며, 일반적으로 한쪽 머리에서 시작하여 욱신욱신한 느낌이나 통증이 발생합니다. 심한 두통은 잠을 자거나 활동한 후에 완화되는 경향이 있습니다. 통증은 대부분의 경우 편측성을 띠며, 가끔은 양쪽에서도 발생할 수 있습니다. 두통 발작은 주로 아침에 증상이 나타나고, 오후에는 완화됩니다. 두통은 한쪽 편에만 발생하는 경우도 있고 양쪽에 나타나는 경우도 있습니다. 두통 발작이 발생하면, 대부분의 경우 통증이 편측성을 보이며, 주로 욱신욱신한 느낌이나 통증을 경험할 수 있습니다. 때로는 두통 발작이 한쪽 눈에서 시작하여 다른 쪽 눈으로 확산될 수도 있습니다. 두통은 대부분 편측성을 보이지만, 한쪽 귀에서 시작되면 다른 쪽 귀에서도 발생할 수 있습니다. 편두통은 다른 질환의 증상일 수도 있으므로, 반드시 의사를 방문하여 정확한 진단과 치료를 받아야 합니다. 두통을 완화하기 위해 생활 습관의 변화도 필요합니다. 식이조절이나 운동을 통해 스트레스를 줄일 수도 있습니다. 두통에 대한 자세한 내용은 의사의 조언을 듣는 것이 가장 좋습니다.'}]"
      ]
     },
     "execution_count": 9,
     "metadata": {},
     "output_type": "execute_result"
    }
   ],
   "source": [
    "question = '오른쪽 머리에서 찌릿하는 두통은 뭔가요?'\n",
    "result = select_answers.search_answer(question, intention_map, answer_map)\n",
    "result"
   ]
  },
  {
   "cell_type": "code",
   "execution_count": null,
   "metadata": {},
   "outputs": [],
   "source": []
  }
 ],
 "metadata": {
  "kernelspec": {
   "display_name": "ds_study",
   "language": "python",
   "name": "python3"
  },
  "language_info": {
   "codemirror_mode": {
    "name": "ipython",
    "version": 3
   },
   "file_extension": ".py",
   "mimetype": "text/x-python",
   "name": "python",
   "nbconvert_exporter": "python",
   "pygments_lexer": "ipython3",
   "version": "3.12.3"
  }
 },
 "nbformat": 4,
 "nbformat_minor": 2
}
