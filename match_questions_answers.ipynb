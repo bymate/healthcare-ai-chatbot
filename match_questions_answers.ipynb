{
 "cells": [
  {
   "cell_type": "code",
   "execution_count": 2,
   "metadata": {},
   "outputs": [],
   "source": [
    "import numpy as np\n",
    "import pandas as pd\n",
    "import os"
   ]
  },
  {
   "cell_type": "code",
   "execution_count": 2,
   "metadata": {},
   "outputs": [],
   "source": [
    "answer_df = pd.read_csv('./두통 답변.csv', index_col=0)\n",
    "question_df = pd.read_csv('./두통 질문.csv', index_col=0)"
   ]
  },
  {
   "cell_type": "code",
   "execution_count": 3,
   "metadata": {},
   "outputs": [
    {
     "data": {
      "text/html": [
       "<div>\n",
       "<style scoped>\n",
       "    .dataframe tbody tr th:only-of-type {\n",
       "        vertical-align: middle;\n",
       "    }\n",
       "\n",
       "    .dataframe tbody tr th {\n",
       "        vertical-align: top;\n",
       "    }\n",
       "\n",
       "    .dataframe thead th {\n",
       "        text-align: right;\n",
       "    }\n",
       "</style>\n",
       "<table border=\"1\" class=\"dataframe\">\n",
       "  <thead>\n",
       "    <tr style=\"text-align: right;\">\n",
       "      <th></th>\n",
       "      <th>disease_category</th>\n",
       "      <th>disease_name</th>\n",
       "      <th>intention</th>\n",
       "      <th>answer_intro_conclusion</th>\n",
       "      <th>answer</th>\n",
       "    </tr>\n",
       "  </thead>\n",
       "  <tbody>\n",
       "    <tr>\n",
       "      <th>0</th>\n",
       "      <td>응급질환</td>\n",
       "      <td>두통</td>\n",
       "      <td>예방</td>\n",
       "      <td>두통을 예방하기 위해서는 일상적으로 바른 자세를 유지해야 합니다. 일상 생활에서의 ...</td>\n",
       "      <td>두통을 예방하기 위해서는 일상적으로 바른 자세를 유지해야 합니다. 일상 생활에서의 ...</td>\n",
       "    </tr>\n",
       "    <tr>\n",
       "      <th>1</th>\n",
       "      <td>응급질환</td>\n",
       "      <td>두통</td>\n",
       "      <td>예방</td>\n",
       "      <td>긴장성 두통을 예방하기 위한 몇 가지 조치를 취할 수 있습니다. 마지막으로, 의사나...</td>\n",
       "      <td>긴장성 두통을 예방하기 위한 몇 가지 조치를 취할 수 있습니다. 먼저, 건강한 생활...</td>\n",
       "    </tr>\n",
       "    <tr>\n",
       "      <th>2</th>\n",
       "      <td>응급질환</td>\n",
       "      <td>두통</td>\n",
       "      <td>예방</td>\n",
       "      <td>두통 예방을 위한 생활습관은 다양한 방법으로 개선할 수 있습니다. 일상적인 습관 중...</td>\n",
       "      <td>두통 예방을 위한 생활습관은 다양한 방법으로 개선할 수 있습니다. 일상적인 습관 중...</td>\n",
       "    </tr>\n",
       "    <tr>\n",
       "      <th>3</th>\n",
       "      <td>응급질환</td>\n",
       "      <td>두통</td>\n",
       "      <td>예방</td>\n",
       "      <td>머리 통증을 예방하기 위해 몇 가지 전략을 시도해볼 수 있습니다. 이러한 전략들은 ...</td>\n",
       "      <td>머리 통증을 예방하기 위해 몇 가지 전략을 시도해볼 수 있습니다. 스트레스를 관리하...</td>\n",
       "    </tr>\n",
       "    <tr>\n",
       "      <th>4</th>\n",
       "      <td>응급질환</td>\n",
       "      <td>두통</td>\n",
       "      <td>예방</td>\n",
       "      <td>스트레스는 긴장성 두통을 유발하는 중요한 요인 중 하나입니다. 스트레스를 줄이는 것...</td>\n",
       "      <td>스트레스는 긴장성 두통을 유발하는 중요한 요인 중 하나입니다. 스트레스를 줄이는 것...</td>\n",
       "    </tr>\n",
       "    <tr>\n",
       "      <th>...</th>\n",
       "      <td>...</td>\n",
       "      <td>...</td>\n",
       "      <td>...</td>\n",
       "      <td>...</td>\n",
       "      <td>...</td>\n",
       "    </tr>\n",
       "    <tr>\n",
       "      <th>5513</th>\n",
       "      <td>응급질환</td>\n",
       "      <td>두통</td>\n",
       "      <td>치료</td>\n",
       "      <td>두통은 우리 일상생활에서 흔히 겪는 증상입니다. 만약 두통이 반복적으로 발생한다면,...</td>\n",
       "      <td>두통은 우리 일상생활에서 흔히 겪는 증상입니다. 두통의 치료는 그 원인과 심각성에 ...</td>\n",
       "    </tr>\n",
       "    <tr>\n",
       "      <th>5514</th>\n",
       "      <td>응급질환</td>\n",
       "      <td>두통</td>\n",
       "      <td>치료</td>\n",
       "      <td>두통은 많은 사람들이 겪는 일상적인 문제입니다. 치료 방법은 두통의 종류와 원인에 ...</td>\n",
       "      <td>두통은 많은 사람들이 겪는 일상적인 문제입니다. 치료 방법은 두통의 종류와 원인에 ...</td>\n",
       "    </tr>\n",
       "    <tr>\n",
       "      <th>5515</th>\n",
       "      <td>응급질환</td>\n",
       "      <td>두통</td>\n",
       "      <td>치료</td>\n",
       "      <td>두통은 일상 생활에 불편을 초래할 수 있는 주요한 증상 중 하나입니다. 치료법은 두...</td>\n",
       "      <td>두통은 일상 생활에 불편을 초래할 수 있는 주요한 증상 중 하나입니다. 치료법은 두...</td>\n",
       "    </tr>\n",
       "    <tr>\n",
       "      <th>5516</th>\n",
       "      <td>응급질환</td>\n",
       "      <td>두통</td>\n",
       "      <td>치료</td>\n",
       "      <td>두통은 일반적으로 일차성 두통과 이차성 두통으로 구분됩니다. 일차성 두통은 두통을 ...</td>\n",
       "      <td>두통은 일반적으로 일차성 두통과 이차성 두통으로 구분됩니다. 일차성 두통은 두통을 ...</td>\n",
       "    </tr>\n",
       "    <tr>\n",
       "      <th>5517</th>\n",
       "      <td>응급질환</td>\n",
       "      <td>두통</td>\n",
       "      <td>치료</td>\n",
       "      <td>두통은 일상생활에 큰 지장을 주는 증상입니다. 두통이 심하거나 지속적인 증상이 있을...</td>\n",
       "      <td>두통은 일상생활에 큰 지장을 주는 증상입니다. 두통이 심하거나 지속적인 증상이 있을...</td>\n",
       "    </tr>\n",
       "  </tbody>\n",
       "</table>\n",
       "<p>5518 rows × 5 columns</p>\n",
       "</div>"
      ],
      "text/plain": [
       "     disease_category disease_name intention  \\\n",
       "0                응급질환           두통        예방   \n",
       "1                응급질환           두통        예방   \n",
       "2                응급질환           두통        예방   \n",
       "3                응급질환           두통        예방   \n",
       "4                응급질환           두통        예방   \n",
       "...               ...          ...       ...   \n",
       "5513             응급질환           두통        치료   \n",
       "5514             응급질환           두통        치료   \n",
       "5515             응급질환           두통        치료   \n",
       "5516             응급질환           두통        치료   \n",
       "5517             응급질환           두통        치료   \n",
       "\n",
       "                                answer_intro_conclusion  \\\n",
       "0     두통을 예방하기 위해서는 일상적으로 바른 자세를 유지해야 합니다. 일상 생활에서의 ...   \n",
       "1     긴장성 두통을 예방하기 위한 몇 가지 조치를 취할 수 있습니다. 마지막으로, 의사나...   \n",
       "2     두통 예방을 위한 생활습관은 다양한 방법으로 개선할 수 있습니다. 일상적인 습관 중...   \n",
       "3     머리 통증을 예방하기 위해 몇 가지 전략을 시도해볼 수 있습니다. 이러한 전략들은 ...   \n",
       "4     스트레스는 긴장성 두통을 유발하는 중요한 요인 중 하나입니다. 스트레스를 줄이는 것...   \n",
       "...                                                 ...   \n",
       "5513  두통은 우리 일상생활에서 흔히 겪는 증상입니다. 만약 두통이 반복적으로 발생한다면,...   \n",
       "5514  두통은 많은 사람들이 겪는 일상적인 문제입니다. 치료 방법은 두통의 종류와 원인에 ...   \n",
       "5515  두통은 일상 생활에 불편을 초래할 수 있는 주요한 증상 중 하나입니다. 치료법은 두...   \n",
       "5516  두통은 일반적으로 일차성 두통과 이차성 두통으로 구분됩니다. 일차성 두통은 두통을 ...   \n",
       "5517  두통은 일상생활에 큰 지장을 주는 증상입니다. 두통이 심하거나 지속적인 증상이 있을...   \n",
       "\n",
       "                                                 answer  \n",
       "0     두통을 예방하기 위해서는 일상적으로 바른 자세를 유지해야 합니다. 일상 생활에서의 ...  \n",
       "1     긴장성 두통을 예방하기 위한 몇 가지 조치를 취할 수 있습니다. 먼저, 건강한 생활...  \n",
       "2     두통 예방을 위한 생활습관은 다양한 방법으로 개선할 수 있습니다. 일상적인 습관 중...  \n",
       "3     머리 통증을 예방하기 위해 몇 가지 전략을 시도해볼 수 있습니다. 스트레스를 관리하...  \n",
       "4     스트레스는 긴장성 두통을 유발하는 중요한 요인 중 하나입니다. 스트레스를 줄이는 것...  \n",
       "...                                                 ...  \n",
       "5513  두통은 우리 일상생활에서 흔히 겪는 증상입니다. 두통의 치료는 그 원인과 심각성에 ...  \n",
       "5514  두통은 많은 사람들이 겪는 일상적인 문제입니다. 치료 방법은 두통의 종류와 원인에 ...  \n",
       "5515  두통은 일상 생활에 불편을 초래할 수 있는 주요한 증상 중 하나입니다. 치료법은 두...  \n",
       "5516  두통은 일반적으로 일차성 두통과 이차성 두통으로 구분됩니다. 일차성 두통은 두통을 ...  \n",
       "5517  두통은 일상생활에 큰 지장을 주는 증상입니다. 두통이 심하거나 지속적인 증상이 있을...  \n",
       "\n",
       "[5518 rows x 5 columns]"
      ]
     },
     "execution_count": 3,
     "metadata": {},
     "output_type": "execute_result"
    }
   ],
   "source": [
    "answer_df"
   ]
  },
  {
   "cell_type": "markdown",
   "metadata": {},
   "source": [
    "### 키워드 및 문장기반 유사도 측정 및 질문-답변 매칭\n",
    "(1) KeyBERT 모델을 사용해 키워드 유사도가 높은 질문들만 1차 추출\n",
    "- 명사, 형용사 형태소로만 재 문장 구성 \n",
    "- KeyBERT 모델을 활용해 문장의 키워드 추출(BERT 기반이므로 문맥정보 이해)\n",
    "- TF-IDF 벡터로 변환 후 코사인 유사도 계산. 답변당 상위 n개의 질문만 추출\n",
    "- 바로 모든 질문과 답변을 비교하기보다 1차 필터링을 통해 문장수를 줄여 대용량시 연산 속도를 높이기 위함.\n",
    "\n",
    "(2) 필터링된 문장들만 임베딩 후 유사도 비교\n",
    "- KoBERT: 한국어로 된 문장, 단어, 문맥을 이해하고 처리하는 범용 모델. ex) 감정 분석, 문서 분류, 질의 응답 등\n",
    "- KR-SBERT: 문장 유사도에 조금 더 최적화\n",
    "\n",
    "(3) 가장 연관성이 높은 질문 데이터프레임화"
   ]
  },
  {
   "cell_type": "markdown",
   "metadata": {},
   "source": [
    "### (1)-1 형태소 분석 후 문장 재생성"
   ]
  },
  {
   "cell_type": "code",
   "execution_count": 4,
   "metadata": {},
   "outputs": [],
   "source": [
    "from konlpy.tag import Okt\n",
    "\n",
    "okt = Okt()\n",
    "\n",
    "# 형태소 분석 및 품사 정보\n",
    "test_keyword = []\n",
    "for sentence in question_df['question']:\n",
    "    test_keyword.append(okt.pos(sentence))"
   ]
  },
  {
   "cell_type": "markdown",
   "metadata": {},
   "source": [
    "- 키워드 추출, 문장 재생성 함수"
   ]
  },
  {
   "cell_type": "code",
   "execution_count": 6,
   "metadata": {},
   "outputs": [],
   "source": [
    "def text_extract(df, column):\n",
    "    # 의도\n",
    "    pos_keywords = []\n",
    "    for q in df[f'{column}']:\n",
    "        pos_keywords.append(okt.pos(q))\n",
    "\n",
    "    # Noun, Adjective 키워드만 추출\n",
    "    keyword_lists = []\n",
    "    for list in pos_keywords:\n",
    "        \n",
    "        sentence_keywords = []\n",
    "        for pair in list:\n",
    "            keyword, pos = pair\n",
    "            if pos in ['Noun', 'Adjective']:\n",
    "                sentence_keywords.append((keyword, pos))\n",
    "\n",
    "        keyword_lists.append(sentence_keywords)\n",
    "\n",
    "    return keyword_lists"
   ]
  },
  {
   "cell_type": "code",
   "execution_count": 7,
   "metadata": {},
   "outputs": [],
   "source": [
    "question_keyword_lists = text_extract(question_df, 'question')"
   ]
  },
  {
   "cell_type": "code",
   "execution_count": 8,
   "metadata": {},
   "outputs": [],
   "source": [
    "# 다시 문장으로 만드는 함수 만들기\n",
    "def remake_sentence(keyword_lists):\n",
    "    remake_question = []\n",
    "    for list in keyword_lists:\n",
    "        sentence = ''\n",
    "        for pair in list:\n",
    "            sentence = sentence + pair[0] + ' '\n",
    "        remake_question.append(sentence)\n",
    "\n",
    "    return remake_question"
   ]
  },
  {
   "cell_type": "code",
   "execution_count": 9,
   "metadata": {},
   "outputs": [
    {
     "data": {
      "text/plain": [
       "['두통 예방 위해 어떤 자세 활동 도움 요 ',\n",
       " '스트레스 사람 두통 예방 위해 어떤 생활 습관 요 ',\n",
       " '대상포진 예방접종 후 어지럼증 두통 예방접종 관련 있다면 어떻게 ',\n",
       " '갈색 포증 관련 일상생활 신경 점 무엇 ',\n",
       " '두통 예방 위 수면 자세 어떤 것 있을까요 ']"
      ]
     },
     "execution_count": 9,
     "metadata": {},
     "output_type": "execute_result"
    }
   ],
   "source": [
    "question_remake_sentence = remake_sentence(question_keyword_lists)\n",
    "question_remake_sentence[:5]"
   ]
  },
  {
   "cell_type": "markdown",
   "metadata": {},
   "source": [
    "- 의도별 키워드 추출 및 문장 재생성 함수로 문장 재생성하기"
   ]
  },
  {
   "cell_type": "code",
   "execution_count": 10,
   "metadata": {},
   "outputs": [
    {
     "data": {
      "text/plain": [
       "array(['예방', '원인', '정의', '증상', '진단', '치료'], dtype=object)"
      ]
     },
     "execution_count": 10,
     "metadata": {},
     "output_type": "execute_result"
    }
   ],
   "source": [
    "question_df['intention'].unique()"
   ]
  },
  {
   "cell_type": "code",
   "execution_count": 11,
   "metadata": {},
   "outputs": [],
   "source": [
    "# 키워드 추출 및 문장 재생성 함수\n",
    "def remake_sentence_by_intention(df, intention, column):\n",
    "    filtered_df = df[df['intention'] == f'{intention}']\n",
    "    # 형태소 키워드 추출\n",
    "    keyword_lists = text_extract(filtered_df, column)\n",
    "    # 문장 재생성\n",
    "    result = remake_sentence(keyword_lists)\n",
    "\n",
    "    return result"
   ]
  },
  {
   "cell_type": "code",
   "execution_count": 12,
   "metadata": {},
   "outputs": [
    {
     "data": {
      "text/plain": [
       "308"
      ]
     },
     "execution_count": 12,
     "metadata": {},
     "output_type": "execute_result"
    }
   ],
   "source": [
    "len(remake_sentence_by_intention(question_df, '예방', 'question'))"
   ]
  },
  {
   "cell_type": "code",
   "execution_count": 14,
   "metadata": {},
   "outputs": [
    {
     "name": "stdout",
     "output_type": "stream",
     "text": [
      "prevention_sentence\n",
      "cause_sentence\n",
      "definition_sentence\n",
      "symptom_sentence\n",
      "diagnosis_sentence\n",
      "treatment_sentence\n"
     ]
    }
   ],
   "source": [
    "intention_en = {'예방': 'prevention',\n",
    "                '원인': 'cause',\n",
    "                '정의': 'definition',\n",
    "                '증상': 'symptom',\n",
    "                '진단': 'diagnosis',\n",
    "                '치료': 'treatment'}\n",
    "\n",
    "for i in question_df['intention'].unique():\n",
    "    print(f'{intention_en[i]}_sentence')"
   ]
  },
  {
   "cell_type": "code",
   "execution_count": 15,
   "metadata": {},
   "outputs": [],
   "source": [
    "# 의도별 질문 문장 재생성\n",
    "question_sentences_dic = {} # 딕셔너리로 변수명 저장\n",
    "\n",
    "for i in question_df['intention'].unique():\n",
    "    var_name = f'{intention_en[i]}_sentence' # 변수명\n",
    "    question_sentences_dic[var_name] = remake_sentence_by_intention(question_df, i, 'question')"
   ]
  },
  {
   "cell_type": "code",
   "execution_count": 16,
   "metadata": {},
   "outputs": [
    {
     "data": {
      "text/plain": [
       "['두통 예방 위해 어떤 자세 활동 도움 요 ',\n",
       " '스트레스 사람 두통 예방 위해 어떤 생활 습관 요 ',\n",
       " '대상포진 예방접종 후 어지럼증 두통 예방접종 관련 있다면 어떻게 ']"
      ]
     },
     "execution_count": 16,
     "metadata": {},
     "output_type": "execute_result"
    }
   ],
   "source": [
    "question_sentences_dic['prevention_sentence'][:3]"
   ]
  },
  {
   "cell_type": "code",
   "execution_count": 17,
   "metadata": {},
   "outputs": [],
   "source": [
    "# 의도별 답변 문장 재생성\n",
    "answer_sentences_dic = {} # 딕셔너리로 변수명 저장\n",
    "\n",
    "for i in answer_df['intention'].unique():\n",
    "    var_name = f'{intention_en[i]}_sentence' # 변수명\n",
    "    answer_sentences_dic[var_name] = remake_sentence_by_intention(answer_df, i, 'answer_intro_conclusion')"
   ]
  },
  {
   "cell_type": "code",
   "execution_count": 18,
   "metadata": {},
   "outputs": [
    {
     "data": {
      "text/plain": [
       "['두통 예방 위 일상 자세 유지 일상 생활 자세한 관리 두통 예방 도움 수 있습니다 올바른 자세 수면 스트레칭 통해 일상 생활 올바른 자세 유지 것 두통 예방 도움 ',\n",
       " '긴장 두통 예방 위 몇 가지 조치 취할 수 있습니다 마지막 의사 영양사 상담 통해 적절한 예방 조치 취하 것 중요합니다 의사 영양사 조언 정기 건강 관리 스트레스 관리 긴장 두통 예방 데 도움 것 입니다 ',\n",
       " '두통 예방 위 생활 습관 다양한 방법 개선 수 있습니다 일상 습관 중 하나 충분한 수면 취하 것 입니다 수면 시간 충분히 확보 잠자리 전 긴장 운동 활동 것 좋습니다 또한 스트레스 관리 것 중요한 요소 입니다 스트레스 긴장 두통 유발 주요한 요인 므 스트레스 효과 관리 방법 것 중요합니다 두통 예방 위 일상 습관 개선 스트레스 관리 충분한 휴식 필요합니다 스트레스 높을 경우 의사 상담 적절한 치료 방법 것 좋습니다 ']"
      ]
     },
     "execution_count": 18,
     "metadata": {},
     "output_type": "execute_result"
    }
   ],
   "source": [
    "answer_sentences_dic['prevention_sentence'][:3]"
   ]
  },
  {
   "cell_type": "markdown",
   "metadata": {},
   "source": [
    "### (1)-2 keybert 모델로 키워드 추출\n",
    "- 재생산한 문장에서의 키워드 중요도 반영"
   ]
  },
  {
   "cell_type": "code",
   "execution_count": 25,
   "metadata": {},
   "outputs": [],
   "source": [
    "# !pip install --upgrade httpx"
   ]
  },
  {
   "cell_type": "code",
   "execution_count": 24,
   "metadata": {},
   "outputs": [
    {
     "data": {
      "application/vnd.jupyter.widget-view+json": {
       "model_id": "d3a19bcfcb7b4228ba8a845c911ac128",
       "version_major": 2,
       "version_minor": 0
      },
      "text/plain": [
       "modules.json:   0%|          | 0.00/349 [00:00<?, ?B/s]"
      ]
     },
     "metadata": {},
     "output_type": "display_data"
    },
    {
     "name": "stderr",
     "output_type": "stream",
     "text": [
      "c:\\Users\\Paris\\miniconda3\\envs\\ds_study\\Lib\\site-packages\\huggingface_hub\\file_download.py:147: UserWarning: `huggingface_hub` cache-system uses symlinks by default to efficiently store duplicated files but your machine does not support them in C:\\Users\\Paris\\.cache\\huggingface\\hub\\models--sentence-transformers--all-MiniLM-L6-v2. Caching files will still work but in a degraded version that might require more space on your disk. This warning can be disabled by setting the `HF_HUB_DISABLE_SYMLINKS_WARNING` environment variable. For more details, see https://huggingface.co/docs/huggingface_hub/how-to-cache#limitations.\n",
      "To support symlinks on Windows, you either need to activate Developer Mode or to run Python as an administrator. In order to activate developer mode, see this article: https://docs.microsoft.com/en-us/windows/apps/get-started/enable-your-device-for-development\n",
      "  warnings.warn(message)\n"
     ]
    },
    {
     "data": {
      "application/vnd.jupyter.widget-view+json": {
       "model_id": "8eb0734b887049a3b16a6feac07197e7",
       "version_major": 2,
       "version_minor": 0
      },
      "text/plain": [
       "config_sentence_transformers.json:   0%|          | 0.00/116 [00:00<?, ?B/s]"
      ]
     },
     "metadata": {},
     "output_type": "display_data"
    },
    {
     "data": {
      "application/vnd.jupyter.widget-view+json": {
       "model_id": "258653484e8d4da8b5b7d1900c5621ce",
       "version_major": 2,
       "version_minor": 0
      },
      "text/plain": [
       "README.md:   0%|          | 0.00/10.5k [00:00<?, ?B/s]"
      ]
     },
     "metadata": {},
     "output_type": "display_data"
    },
    {
     "data": {
      "application/vnd.jupyter.widget-view+json": {
       "model_id": "6448a5ab6112434899cb643d98e3c80b",
       "version_major": 2,
       "version_minor": 0
      },
      "text/plain": [
       "sentence_bert_config.json:   0%|          | 0.00/53.0 [00:00<?, ?B/s]"
      ]
     },
     "metadata": {},
     "output_type": "display_data"
    },
    {
     "data": {
      "application/vnd.jupyter.widget-view+json": {
       "model_id": "ee6b7e5c67f749eaada850e63e74e8b3",
       "version_major": 2,
       "version_minor": 0
      },
      "text/plain": [
       "config.json:   0%|          | 0.00/612 [00:00<?, ?B/s]"
      ]
     },
     "metadata": {},
     "output_type": "display_data"
    },
    {
     "data": {
      "application/vnd.jupyter.widget-view+json": {
       "model_id": "843d59ada64248c6bd7c4aeaab80af04",
       "version_major": 2,
       "version_minor": 0
      },
      "text/plain": [
       "model.safetensors:   0%|          | 0.00/90.9M [00:00<?, ?B/s]"
      ]
     },
     "metadata": {},
     "output_type": "display_data"
    },
    {
     "data": {
      "application/vnd.jupyter.widget-view+json": {
       "model_id": "91228d9b0fdc40a99abd0fa77a974fe8",
       "version_major": 2,
       "version_minor": 0
      },
      "text/plain": [
       "tokenizer_config.json:   0%|          | 0.00/350 [00:00<?, ?B/s]"
      ]
     },
     "metadata": {},
     "output_type": "display_data"
    },
    {
     "data": {
      "application/vnd.jupyter.widget-view+json": {
       "model_id": "ab11bafc476f4af59dcdec1ccbad4a80",
       "version_major": 2,
       "version_minor": 0
      },
      "text/plain": [
       "vocab.txt:   0%|          | 0.00/232k [00:00<?, ?B/s]"
      ]
     },
     "metadata": {},
     "output_type": "display_data"
    },
    {
     "data": {
      "application/vnd.jupyter.widget-view+json": {
       "model_id": "590ef0e1886b48ccb7931fcb82c5892d",
       "version_major": 2,
       "version_minor": 0
      },
      "text/plain": [
       "tokenizer.json:   0%|          | 0.00/466k [00:00<?, ?B/s]"
      ]
     },
     "metadata": {},
     "output_type": "display_data"
    },
    {
     "data": {
      "application/vnd.jupyter.widget-view+json": {
       "model_id": "c515f3741dfc4243a3de55a818adf7f0",
       "version_major": 2,
       "version_minor": 0
      },
      "text/plain": [
       "special_tokens_map.json:   0%|          | 0.00/112 [00:00<?, ?B/s]"
      ]
     },
     "metadata": {},
     "output_type": "display_data"
    },
    {
     "data": {
      "application/vnd.jupyter.widget-view+json": {
       "model_id": "8f31544e5e874560973037436cbccc09",
       "version_major": 2,
       "version_minor": 0
      },
      "text/plain": [
       "config.json:   0%|          | 0.00/190 [00:00<?, ?B/s]"
      ]
     },
     "metadata": {},
     "output_type": "display_data"
    }
   ],
   "source": [
    "from keybert import KeyBERT\n",
    "\n",
    "# 모델 불러오기\n",
    "kw_model = KeyBERT()"
   ]
  },
  {
   "cell_type": "code",
   "execution_count": 26,
   "metadata": {},
   "outputs": [
    {
     "data": {
      "text/plain": [
       "['prevention_sentence',\n",
       " 'cause_sentence',\n",
       " 'definition_sentence',\n",
       " 'symptom_sentence',\n",
       " 'diagnosis_sentence',\n",
       " 'treatment_sentence']"
      ]
     },
     "execution_count": 26,
     "metadata": {},
     "output_type": "execute_result"
    }
   ],
   "source": [
    "list(question_sentences_dic.keys())"
   ]
  },
  {
   "cell_type": "code",
   "execution_count": 27,
   "metadata": {},
   "outputs": [
    {
     "data": {
      "text/plain": [
       "dict_keys(['prevention_sentence', 'cause_sentence', 'definition_sentence', 'symptom_sentence', 'diagnosis_sentence', 'treatment_sentence'])"
      ]
     },
     "execution_count": 27,
     "metadata": {},
     "output_type": "execute_result"
    }
   ],
   "source": [
    "question_sentences_dic.keys()"
   ]
  },
  {
   "cell_type": "code",
   "execution_count": 28,
   "metadata": {},
   "outputs": [
    {
     "name": "stderr",
     "output_type": "stream",
     "text": [
      "c:\\Users\\Paris\\miniconda3\\envs\\ds_study\\Lib\\site-packages\\transformers\\models\\bert\\modeling_bert.py:435: UserWarning: 1Torch was not compiled with flash attention. (Triggered internally at C:\\cb\\pytorch_1000000000000\\work\\aten\\src\\ATen\\native\\transformers\\cuda\\sdp_utils.cpp:555.)\n",
      "  attn_output = torch.nn.functional.scaled_dot_product_attention(\n"
     ]
    }
   ],
   "source": [
    "# 질문 keybert 키워드 추출\n",
    "question_keybert_dic = {}\n",
    "\n",
    "# 변수명 딕셔너리에 키값으로 담음.\n",
    "for key in list(question_sentences_dic.keys()):\n",
    "    var = key.split('_')[0]\n",
    "    var_name = f'{var}_question_keywords'\n",
    "\n",
    "    question_keybert_dic[var_name] = []\n",
    "    # question_keywords = []\n",
    "    for q in question_sentences_dic[key]:\n",
    "        kw = kw_model.extract_keywords(q, keyphrase_ngram_range=(1, 1), top_n=10)\n",
    "        question_keybert_dic[var_name].append(kw)"
   ]
  },
  {
   "cell_type": "code",
   "execution_count": 29,
   "metadata": {},
   "outputs": [
    {
     "data": {
      "text/plain": [
       "(dict_keys(['prevention_question_keywords', 'cause_question_keywords', 'definition_question_keywords', 'symptom_question_keywords', 'diagnosis_question_keywords', 'treatment_question_keywords']),\n",
       " [[('진통제', 0.6325),\n",
       "   ('충분한', 0.5314),\n",
       "   ('두통', 0.4342),\n",
       "   ('치료', 0.3565),\n",
       "   ('효과', 0.3234),\n",
       "   ('있을까요', 0.201),\n",
       "   ('있을', 0.201)],\n",
       "  [('성적', 0.5468),\n",
       "   ('달성', 0.4924),\n",
       "   ('장기', 0.444),\n",
       "   ('두통', 0.4321),\n",
       "   ('목표', 0.4252),\n",
       "   ('도움', 0.2602),\n",
       "   ('전략', 0.1802),\n",
       "   ('예방', 0.1802),\n",
       "   ('어떤', 0.1802)]])"
      ]
     },
     "execution_count": 29,
     "metadata": {},
     "output_type": "execute_result"
    }
   ],
   "source": [
    "# 제대로 들어갔나 확인\n",
    "question_keybert_dic.keys(), question_keybert_dic['treatment_question_keywords'][:2]"
   ]
  },
  {
   "cell_type": "code",
   "execution_count": 30,
   "metadata": {},
   "outputs": [],
   "source": [
    "# 답변 keybert 키워드 추출\n",
    "answer_keybert_dic = {}\n",
    "\n",
    "# 변수명 딕셔너리에 키값으로 담음.\n",
    "for key in list(answer_sentences_dic.keys()):\n",
    "    var = key.split('_')[0]\n",
    "    var_name = f'{var}_answer_keywords'\n",
    "\n",
    "    answer_keybert_dic[var_name] = []\n",
    "    for q in answer_sentences_dic[key]:\n",
    "        kw = kw_model.extract_keywords(q, keyphrase_ngram_range=(1, 1), top_n=10)\n",
    "        answer_keybert_dic[var_name].append(kw)"
   ]
  },
  {
   "cell_type": "code",
   "execution_count": 31,
   "metadata": {},
   "outputs": [
    {
     "data": {
      "text/plain": [
       "(dict_keys(['prevention_answer_keywords', 'cause_answer_keywords', 'definition_answer_keywords', 'symptom_answer_keywords', 'diagnosis_answer_keywords', 'treatment_answer_keywords']),\n",
       " [[('중요합니다', 0.5574),\n",
       "   ('정신', 0.4489),\n",
       "   ('적절한', 0.4295),\n",
       "   ('사용', 0.4231),\n",
       "   ('요법', 0.4121),\n",
       "   ('치료', 0.4052),\n",
       "   ('결정', 0.4021),\n",
       "   ('생활', 0.3958),\n",
       "   ('이완', 0.3898),\n",
       "   ('전문가', 0.385)],\n",
       "  [('정확한', 0.2811),\n",
       "   ('성적', 0.2523),\n",
       "   ('적절한', 0.2416),\n",
       "   ('건강한', 0.2302),\n",
       "   ('통증', 0.2273),\n",
       "   ('중요합니다', 0.2206),\n",
       "   ('라이프스타일', 0.2107),\n",
       "   ('증상', 0.2028),\n",
       "   ('의해', 0.1943),\n",
       "   ('정기', 0.1932)]])"
      ]
     },
     "execution_count": 31,
     "metadata": {},
     "output_type": "execute_result"
    }
   ],
   "source": [
    "# 제대로 들어갔나 확인\n",
    "answer_keybert_dic.keys(), answer_keybert_dic['treatment_answer_keywords'][:2]"
   ]
  },
  {
   "cell_type": "markdown",
   "metadata": {},
   "source": [
    "#### (1)-3 TF-IDF 벡터로 변환 후 코사인 유사도 계산\n",
    "- TF-IDF 사용 이유: 유사한 [질문-> 답변]들이 있을경우 키워드간 중요도를 판별하기 위함."
   ]
  },
  {
   "cell_type": "code",
   "execution_count": null,
   "metadata": {},
   "outputs": [],
   "source": [
    "# # 변경전전\n",
    "# from sklearn.feature_extraction.text import TfidfVectorizer\n",
    "# from sklearn.metrics.pairwise import cosine_similarity\n",
    "\n",
    "# # 키워드를 TF-IDF 벡터로 변환\n",
    "# # 질문을 학습시킨 벡터화 모델에 답변을 벡터화해야 차원을 맞출 수 있음.\n",
    "# # 질문만 학습시켜 생긴 어휘사전 기반으로 답변은 변환만 하면 어휘사전에 없는 단어들은 벡터화가 안됨.\n",
    "# # 즉, 답변에만 등장하는 단어들의 유사도를 비교할 필요가 없는 것.\n",
    "# # 답변이 질문보다 훨씬 길기 때문에 불필요한 단어들이 있을것이라 판단해 이렇게 벡터화함.\n",
    "# vectorizer = TfidfVectorizer()\n",
    "\n",
    "# def tfidf_vectorizer(q_keybert_dic, a_keybert_dic, q_column, a_column, vectorizer):\n",
    "    \n",
    "#     q_tfidf_dic = {}\n",
    "#     a_tfidf_dic = {}\n",
    "#     for q_key, a_key in zip(q_keybert_dic.keys(), a_keybert_dic.keys()):\n",
    "#         var = q_key.split('_')[0]\n",
    "#         q_var_name = f'{var}_{q_column}_vectors'\n",
    "#         a_var_name = f'{var}_{a_column}_vectors'\n",
    "\n",
    "\n",
    "#         q_tfidf_dic[q_var_name] = vectorizer.fit_transform([' '.join([kw[0] for kw in kblist]) for kblist in q_keybert_dic[q_key]])\n",
    "#         a_tfidf_dic[a_var_name] = vectorizer.transform([' '.join([kw[0] for kw in kblist]) for kblist in a_keybert_dic[a_key]])\n",
    "\n",
    "#     return q_tfidf_dic, a_tfidf_dic"
   ]
  },
  {
   "cell_type": "code",
   "execution_count": 40,
   "metadata": {},
   "outputs": [],
   "source": [
    "from sklearn.feature_extraction.text import TfidfVectorizer\n",
    "from sklearn.metrics.pairwise import cosine_similarity\n",
    "\n",
    "# 키워드를 TF-IDF 벡터로 변환\n",
    "# 답변을 학습시킨 벡터화 모델에 답변을 벡터화해야 차원을 맞출 수 있음.\n",
    "# 답변만 학습시켜 생긴 어휘사전 기반으로 질문은 변환만 하면 어휘사전에 없는 단어들은 벡터화가 안됨.\n",
    "# 즉, 질문에만 등장하는 단어들의 유사도를 비교할 필요가 없는 것.\n",
    "# 답변이 질문보다 훨씬 길기 때문에 답변에 나온 키워드로 어휘사전을 만들고 질문을 변환함.\n",
    "vectorizer = TfidfVectorizer()\n",
    "\n",
    "def tfidf_vectorizer(q_keybert_dic, a_keybert_dic, q_column, a_column, vectorizer):\n",
    "    \n",
    "    q_tfidf_dic = {}\n",
    "    a_tfidf_dic = {}\n",
    "    for q_key, a_key in zip(q_keybert_dic.keys(), a_keybert_dic.keys()):\n",
    "        var = q_key.split('_')[0]\n",
    "        q_var_name = f'{var}_{q_column}_vectors'\n",
    "        a_var_name = f'{var}_{a_column}_vectors'\n",
    "\n",
    "        a_tfidf_dic[a_var_name] = vectorizer.fit_transform([' '.join([kw[0] for kw in kblist]) for kblist in a_keybert_dic[a_key]])\n",
    "        q_tfidf_dic[q_var_name] = vectorizer.transform([' '.join([kw[0] for kw in kblist]) for kblist in q_keybert_dic[q_key]])\n",
    "\n",
    "    return q_tfidf_dic, a_tfidf_dic"
   ]
  },
  {
   "cell_type": "code",
   "execution_count": 41,
   "metadata": {},
   "outputs": [],
   "source": [
    "# tfi-df 벡터화 진행\n",
    "question_vectors_dic, answer_vectors_dic = tfidf_vectorizer(question_keybert_dic, answer_keybert_dic, 'question', 'answer', vectorizer)"
   ]
  },
  {
   "cell_type": "code",
   "execution_count": 42,
   "metadata": {},
   "outputs": [
    {
     "data": {
      "text/plain": [
       "{'prevention_question_vectors': <308x509 sparse matrix of type '<class 'numpy.float64'>'\n",
       " \twith 1566 stored elements in Compressed Sparse Row format>,\n",
       " 'cause_question_vectors': <567x562 sparse matrix of type '<class 'numpy.float64'>'\n",
       " \twith 2303 stored elements in Compressed Sparse Row format>,\n",
       " 'definition_question_vectors': <606x588 sparse matrix of type '<class 'numpy.float64'>'\n",
       " \twith 2545 stored elements in Compressed Sparse Row format>,\n",
       " 'symptom_question_vectors': <772x371 sparse matrix of type '<class 'numpy.float64'>'\n",
       " \twith 2605 stored elements in Compressed Sparse Row format>,\n",
       " 'diagnosis_question_vectors': <707x515 sparse matrix of type '<class 'numpy.float64'>'\n",
       " \twith 3049 stored elements in Compressed Sparse Row format>,\n",
       " 'treatment_question_vectors': <468x230 sparse matrix of type '<class 'numpy.float64'>'\n",
       " \twith 1816 stored elements in Compressed Sparse Row format>}"
      ]
     },
     "execution_count": 42,
     "metadata": {},
     "output_type": "execute_result"
    }
   ],
   "source": [
    "question_vectors_dic"
   ]
  },
  {
   "cell_type": "code",
   "execution_count": 44,
   "metadata": {},
   "outputs": [
    {
     "name": "stdout",
     "output_type": "stream",
     "text": [
      "(316, 371)\n"
     ]
    }
   ],
   "source": [
    "print(answer_vectors_dic['symptom_answer_vectors'].shape) # 316개의 문장이 371개의 키워드로 표현됨."
   ]
  },
  {
   "cell_type": "code",
   "execution_count": null,
   "metadata": {},
   "outputs": [],
   "source": [
    "# # 코사인 유사도 함수화\n",
    "# # 증상 질문과 증상 답변, 진단 질문과 진단 답변들 간의 유사도\n",
    "# # 코사인 유사도 결과 값을 보면 첫번째 데이터는 첫번째 답변과 모든 질문간의 유사도가 하나의 행렬 벡터에 있는 것이다.\n",
    "# # 즉 각 벡터마다 답변 문장의 수만큼 유사도 점수가 있음.\n",
    "# # 모든 답변 벡터에 대한 질문들의 유사도를 비교하고 싶으므로 답변 벡터를 먼저 배치.\n",
    "# def from_dic_cos_similarity(q_vector_dic, a_vector_dic):\n",
    "\n",
    "#     similarity_dic = {}\n",
    "    \n",
    "#     for q_key, a_key in zip(q_vector_dic.keys(), a_vector_dic.keys()):\n",
    "#         var = q_key.split('_')[0]\n",
    "#         var_name = f'{var}_keyword_similarities'\n",
    "\n",
    "#         # 질문에 대한 \n",
    "#         similarity_dic[var_name] = cosine_similarity(a_vector_dic[a_key], q_vector_dic[q_key])\n",
    "    \n",
    "#     return similarity_dic"
   ]
  },
  {
   "cell_type": "code",
   "execution_count": null,
   "metadata": {},
   "outputs": [],
   "source": [
    "# 코사인 유사도 함수화\n",
    "# 증상 질문과 증상 답변, 진단 질문과 진단 답변들 간의 유사도\n",
    "# 코사인 유사도 결과 값을 보면 첫번째 데이터는 첫번째 질문과 모든 답변간의 유사도가 하나의 행렬 벡터에 있는 것이다.\n",
    "# 즉 각 벡터마다 답변 문장의 수만큼 유사도 점수가 있음.\n",
    "# 모든 질문 벡터에 대한 답변들의 유사도를 비교하고 싶으므로 질문 벡터를 먼저 배치.\n",
    "def from_dic_cos_similarity(q_vector_dic, a_vector_dic):\n",
    "\n",
    "    similarity_dic = {}\n",
    "    \n",
    "    for q_key, a_key in zip(q_vector_dic.keys(), a_vector_dic.keys()):\n",
    "        var = q_key.split('_')[0]\n",
    "        var_name = f'{var}_keyword_similarities'\n",
    "\n",
    "        # 질문에 대한 \n",
    "        similarity_dic[var_name] = cosine_similarity(q_vector_dic[q_key], a_vector_dic[a_key])\n",
    "    \n",
    "    return similarity_dic"
   ]
  },
  {
   "cell_type": "code",
   "execution_count": 46,
   "metadata": {},
   "outputs": [],
   "source": [
    "keyword_similarities_dic = from_dic_cos_similarity(question_vectors_dic, answer_vectors_dic)"
   ]
  },
  {
   "cell_type": "code",
   "execution_count": 82,
   "metadata": {},
   "outputs": [
    {
     "data": {
      "text/plain": [
       "{'prevention_keyword_similarities': array([[0.16677467, 0.        , 0.        , ..., 0.02665527, 0.03594705,\n",
       "         0.        ],\n",
       "        [0.05236798, 0.        , 0.04925338, ..., 0.02975389, 0.11306892,\n",
       "         0.04714863],\n",
       "        [0.04271667, 0.        , 0.        , ..., 0.03774474, 0.0509022 ,\n",
       "         0.        ],\n",
       "        ...,\n",
       "        [0.04358659, 0.17856111, 0.        , ..., 0.03851341, 0.05193882,\n",
       "         0.        ],\n",
       "        [0.03921575, 0.        , 0.        , ..., 0.0346513 , 0.04673042,\n",
       "         0.        ],\n",
       "        [0.06040547, 0.        , 0.        , ..., 0.12067852, 0.16274592,\n",
       "         0.        ]]),\n",
       " 'cause_keyword_similarities': array([[0.2621224 , 0.31669515, 0.16640981, ..., 0.        , 0.27480986,\n",
       "         0.24120924],\n",
       "        [0.09149232, 0.11054062, 0.05808439, ..., 0.        , 0.0959208 ,\n",
       "         0.0841927 ],\n",
       "        [0.22667187, 0.36622495, 0.23876203, ..., 0.11400927, 0.31778897,\n",
       "         0.20858709],\n",
       "        ...,\n",
       "        [0.12550994, 0.15164057, 0.07968066, ..., 0.        , 0.13158497,\n",
       "         0.11549626],\n",
       "        [0.11421117, 0.18452655, 0.12030293, ..., 0.05744485, 0.16012154,\n",
       "         0.10509895],\n",
       "        [0.18749071, 0.22652546, 0.23265014, ..., 0.        , 0.19656578,\n",
       "         0.17253195]]),\n",
       " 'definition_keyword_similarities': array([[0.        , 0.        , 0.04097468, ..., 0.01030657, 0.        ,\n",
       "         0.03405902],\n",
       "        [0.        , 0.        , 0.        , ..., 0.        , 0.        ,\n",
       "         0.        ],\n",
       "        [0.        , 0.        , 0.03401006, ..., 0.        , 0.        ,\n",
       "         0.03790982],\n",
       "        ...,\n",
       "        [0.        , 0.        , 0.06469106, ..., 0.        , 0.06664253,\n",
       "         0.07210887],\n",
       "        [0.        , 0.        , 0.        , ..., 0.        , 0.        ,\n",
       "         0.        ],\n",
       "        [0.        , 0.        , 0.05730899, ..., 0.01441522, 0.        ,\n",
       "         0.04763645]]),\n",
       " 'symptom_keyword_similarities': array([[0.04103279, 0.01770935, 0.05767159, ..., 0.05151985, 0.01564853,\n",
       "         0.01910377],\n",
       "        [0.        , 0.02355583, 0.        , ..., 0.        , 0.02081466,\n",
       "         0.0254106 ],\n",
       "        [0.        , 0.        , 0.06756401, ..., 0.        , 0.        ,\n",
       "         0.        ],\n",
       "        ...,\n",
       "        [0.        , 0.06611967, 0.21532276, ..., 0.        , 0.05842539,\n",
       "         0.07132587],\n",
       "        [0.07339942, 0.08557758, 0.18188902, ..., 0.09215865, 0.075619  ,\n",
       "         0.09231587],\n",
       "        [0.        , 0.02463711, 0.08023225, ..., 0.        , 0.02177011,\n",
       "         0.02657701]]),\n",
       " 'diagnosis_keyword_similarities': array([[0.12894502, 0.11711618, 0.08238326, ..., 0.10258734, 0.        ,\n",
       "         0.07717224],\n",
       "        [0.03888108, 0.0353143 , 0.02484121, ..., 0.03093339, 0.0310025 ,\n",
       "         0.02326992],\n",
       "        [0.40739176, 0.18486927, 0.26028351, ..., 0.16193533, 0.05573303,\n",
       "         0.1218173 ],\n",
       "        ...,\n",
       "        [0.16245039, 0.16176904, 0.10378991, ..., 0.06457288, 0.09952418,\n",
       "         0.04857552],\n",
       "        [0.07813947, 0.        , 0.04992348, ..., 0.        , 0.        ,\n",
       "         0.        ],\n",
       "        [0.11515684, 0.04141776, 0.07357396, ..., 0.03627968, 0.        ,\n",
       "         0.02729172]]),\n",
       " 'treatment_keyword_similarities': array([[0.06303352, 0.        , 0.        , ..., 0.        , 0.        ,\n",
       "         0.        ],\n",
       "        [0.        , 0.25876855, 0.        , ..., 0.        , 0.        ,\n",
       "         0.        ],\n",
       "        [0.        , 0.        , 0.        , ..., 0.13241464, 0.        ,\n",
       "         0.        ],\n",
       "        ...,\n",
       "        [0.07199044, 0.        , 0.        , ..., 0.        , 0.        ,\n",
       "         0.        ],\n",
       "        [0.33072897, 0.        , 0.        , ..., 0.        , 0.        ,\n",
       "         0.        ],\n",
       "        [0.29083474, 0.        , 0.        , ..., 0.11388886, 0.        ,\n",
       "         0.        ]])}"
      ]
     },
     "execution_count": 82,
     "metadata": {},
     "output_type": "execute_result"
    }
   ],
   "source": [
    "keyword_similarities_dic"
   ]
  },
  {
   "cell_type": "code",
   "execution_count": 69,
   "metadata": {},
   "outputs": [
    {
     "name": "stdout",
     "output_type": "stream",
     "text": [
      "데이터 프레임 '예방' 질문 개수:  308\n",
      "'예방' 유사도 리스트 개수:  308\n"
     ]
    }
   ],
   "source": [
    "# 모든 질문에 대한 답변을 매칭해야 하므로 질문의 개수만큼 유사도 리스트가 생성되야함.\n",
    "\n",
    "print(\"데이터 프레임 '예방' 질문 개수: \", len(question_df[question_df['intention'] == '예방']))\n",
    "print(\"'예방' 유사도 리스트 개수: \", len(keyword_similarities_dic['prevention_keyword_similarities']))"
   ]
  },
  {
   "cell_type": "code",
   "execution_count": 80,
   "metadata": {},
   "outputs": [
    {
     "name": "stdout",
     "output_type": "stream",
     "text": [
      "예방 첫번째 질문에 매칭된 답변 유사도 개수:  1108\n",
      "예방 두번째 질문에 매칭된 답변 유사도 개수:  1108\n",
      "원인 첫번째 질문에 매칭된 답변 유사도 개수:  1328\n"
     ]
    }
   ],
   "source": [
    "# 각 증상 질문당 매칭된 답변의 유사도 개수\n",
    "print('예방 첫번째 질문에 매칭된 답변 유사도 개수: ', len(keyword_similarities_dic['prevention_keyword_similarities'][0]))\n",
    "print('예방 두번째 질문에 매칭된 답변 유사도 개수: ', len(keyword_similarities_dic['prevention_keyword_similarities'][1]))\n",
    "print('원인 첫번째 질문에 매칭된 답변 유사도 개수: ', len(keyword_similarities_dic['cause_keyword_similarities'][0]))"
   ]
  },
  {
   "cell_type": "code",
   "execution_count": 71,
   "metadata": {},
   "outputs": [
    {
     "data": {
      "text/plain": [
       "308"
      ]
     },
     "execution_count": 71,
     "metadata": {},
     "output_type": "execute_result"
    }
   ],
   "source": [
    "len(keyword_similarities_dic['prevention_keyword_similarities'])"
   ]
  },
  {
   "cell_type": "code",
   "execution_count": 72,
   "metadata": {},
   "outputs": [
    {
     "name": "stdout",
     "output_type": "stream",
     "text": [
      "308\n",
      "567\n",
      "606\n",
      "772\n",
      "707\n",
      "468\n"
     ]
    }
   ],
   "source": [
    "k = list(keyword_similarities_dic.keys())\n",
    "for i in k:\n",
    "    print(len(keyword_similarities_dic[i]))"
   ]
  },
  {
   "cell_type": "code",
   "execution_count": 73,
   "metadata": {},
   "outputs": [
    {
     "name": "stdout",
     "output_type": "stream",
     "text": [
      "ddd\n",
      "cause_keyword_similarities\n",
      "definition_keyword_similarities\n",
      "symptom_keyword_similarities\n",
      "diagnosis_keyword_similarities\n",
      "treatment_keyword_similarities\n"
     ]
    }
   ],
   "source": [
    "k = list(keyword_similarities_dic.keys())\n",
    "for i in k:\n",
    "    if i == k[0]:\n",
    "        print('ddd')\n",
    "    else:\n",
    "        print(i)"
   ]
  },
  {
   "cell_type": "code",
   "execution_count": null,
   "metadata": {},
   "outputs": [],
   "source": [
    "# def top_n_similarity_idx(similarity_dic, top_n=5):\n",
    "\n",
    "#     # key 리스트를 먼저 만들어야 마지막 for문에 사용할 수 있음.\n",
    "#     key_lists = list(similarity_dic.keys())\n",
    "#     answer_total_num = 0\n",
    "#     question_total_num = 0\n",
    "#     final_candidate_pairs =[]\n",
    "    \n",
    "#     for k in key_lists:\n",
    "        \n",
    "#         candidate_pairs = []\n",
    "        \n",
    "#         for i, row in enumerate(similarity_dic[k]):\n",
    "#             idx_row=[]\n",
    "#             for j, score in enumerate(row):\n",
    "#                 # 유사도와 인덱스를 튜플로 만들어서 저장\n",
    "#                 idx_row.append((j, score))\n",
    "            \n",
    "#             # reverse=True: 내림차순\n",
    "#             # key: x[1]에 있는 값(=score)을 기준으로 정렬\n",
    "#             top_sim = sorted(idx_row, reverse=True, key=lambda x: x[1])[:top_n]\n",
    "#             for j, score in top_sim:\n",
    "#                 if k == key_lists[0]:\n",
    "#                     candidate_pairs.append((i, j))\n",
    "#                 else:\n",
    "#                     candidate_pairs.append((i + answer_total_num, j + question_total_num))\n",
    "                \n",
    "#         answer_total_num += len(similarity_dic[k])\n",
    "#         question_total_num += len(similarity_dic[k][0])\n",
    "#         final_candidate_pairs += candidate_pairs\n",
    "                    \n",
    "\n",
    "#     return final_candidate_pairs"
   ]
  },
  {
   "cell_type": "code",
   "execution_count": 83,
   "metadata": {},
   "outputs": [],
   "source": [
    "def top_n_similarity_idx(similarity_dic, top_n=5):\n",
    "\n",
    "    # key 리스트를 먼저 만들어야 마지막 for문에 사용할 수 있음.\n",
    "    key_lists = list(similarity_dic.keys())\n",
    "    answer_total_num = 0\n",
    "    question_total_num = 0\n",
    "    final_candidate_pairs =[]\n",
    "    \n",
    "    for k in key_lists:\n",
    "        \n",
    "        candidate_pairs = []\n",
    "        \n",
    "        for i, row in enumerate(similarity_dic[k]):\n",
    "            idx_row=[]\n",
    "            for j, score in enumerate(row):\n",
    "                # 유사도와 인덱스를 튜플로 만들어서 저장\n",
    "                idx_row.append((j, score))\n",
    "            \n",
    "            # reverse=True: 내림차순\n",
    "            # key: x[1]에 있는 값(=score)을 기준으로 정렬\n",
    "            top_sim = sorted(idx_row, reverse=True, key=lambda x: x[1])[:top_n]\n",
    "            for j, score in top_sim:\n",
    "                # 딕셔너리의 첫번째 key에 해당할때는 인덱스값 그대로 적용\n",
    "                if k == key_lists[0]:\n",
    "                    candidate_pairs.append((i, j))\n",
    "                # 딕셔너리 두번째 key에 해당할때는 이전 key에 해당하는 데이터 개수만큼 더해줘야 전체 데이터에서의 인덱스를 설정해줄 수 있음\n",
    "                else:\n",
    "                    candidate_pairs.append((i + question_total_num, j + answer_total_num))\n",
    "                \n",
    "        question_total_num += len(similarity_dic[k])\n",
    "        answer_total_num += len(similarity_dic[k][0])\n",
    "        final_candidate_pairs += candidate_pairs\n",
    "                    \n",
    "\n",
    "    return final_candidate_pairs"
   ]
  },
  {
   "cell_type": "code",
   "execution_count": 84,
   "metadata": {},
   "outputs": [],
   "source": [
    "final_candidate_pairs = top_n_similarity_idx(keyword_similarities_dic, top_n=20)"
   ]
  },
  {
   "cell_type": "code",
   "execution_count": 86,
   "metadata": {},
   "outputs": [
    {
     "name": "stdout",
     "output_type": "stream",
     "text": [
      "원천데이터 질문 개수:  3428\n",
      "최종 유사도 인덱스 쌍의 개수/n개:  3428.0\n"
     ]
    }
   ],
   "source": [
    "print('원천데이터 질문 개수: ', len(question_df))\n",
    "print('최종 유사도 인덱스 쌍의 개수/n개: ', len(final_candidate_pairs) / 20)"
   ]
  },
  {
   "cell_type": "code",
   "execution_count": 87,
   "metadata": {},
   "outputs": [
    {
     "data": {
      "text/plain": [
       "68560"
      ]
     },
     "execution_count": 87,
     "metadata": {},
     "output_type": "execute_result"
    }
   ],
   "source": [
    "len(final_candidate_pairs)"
   ]
  },
  {
   "cell_type": "code",
   "execution_count": 90,
   "metadata": {},
   "outputs": [
    {
     "data": {
      "text/plain": [
       "[(307, 387),\n",
       " (307, 247),\n",
       " (307, 36),\n",
       " (307, 753),\n",
       " (307, 318),\n",
       " (307, 805),\n",
       " (307, 305),\n",
       " (307, 826),\n",
       " (307, 861),\n",
       " (307, 10),\n",
       " (307, 657),\n",
       " (307, 710),\n",
       " (307, 213),\n",
       " (307, 857),\n",
       " (307, 840),\n",
       " (307, 338),\n",
       " (307, 434),\n",
       " (307, 63),\n",
       " (307, 976),\n",
       " (307, 468),\n",
       " (308, 2255),\n",
       " (308, 1954),\n",
       " (308, 2254),\n",
       " (308, 2286),\n",
       " (308, 2347),\n",
       " (308, 1868),\n",
       " (308, 1180),\n",
       " (308, 1625),\n",
       " (308, 2413),\n",
       " (308, 1344)]"
      ]
     },
     "execution_count": 90,
     "metadata": {},
     "output_type": "execute_result"
    }
   ],
   "source": [
    "# 답변당 20개씩 매칭이 되어있음.\n",
    "# (답변 위치(몇 번째 답변), 질문 위치)\n",
    "final_candidate_pairs[6140:6170]"
   ]
  },
  {
   "cell_type": "markdown",
   "metadata": {},
   "source": [
    "### (2) 필터링된 문장들만 문장 임베딩\n",
    "- KoBert 모델 사용"
   ]
  },
  {
   "cell_type": "code",
   "execution_count": 91,
   "metadata": {},
   "outputs": [],
   "source": [
    "import torch\n",
    "from kobert_transformers import get_kobert_model, get_tokenizer\n",
    "model = get_kobert_model()\n",
    "tokenizer = get_tokenizer()\n",
    "\n",
    "# tokenizer.tokenize(\"[CLS] 한국어 모델을 공유합니다. [SEP]\")"
   ]
  },
  {
   "cell_type": "code",
   "execution_count": 93,
   "metadata": {},
   "outputs": [],
   "source": [
    "# 임베딩 구하는 함수 만들기\n",
    "def embedding(sentence_list, batch_size=32):\n",
    "    \n",
    "    # numpy 배열이 연산 속도가 빠르고 메모리 사용량이 적음.\n",
    "    hidden_size = model.config.hidden_size  # BERT의 출력 차원 (예: 768). 단어 하나당 768개의 벡터로 표현\n",
    "    all_embeddings = np.empty((len(sentence_list), hidden_size)) # 768개로 이루어진 배열 len(sentence)개 만큼 생성 \n",
    "\n",
    "    # BERT 모델 최대 입력길이 제한이 512 토큰 이라고 함.\n",
    "    for i in range(0, len(sentence_list), batch_size):\n",
    "        \n",
    "        # 임베딩하려는 문장을 batch 크기 만큼 묶어서 임베딩함.\n",
    "        batch = sentence_list[i:i + batch_size]\n",
    "        # 각 문장들을 토큰화함. 단어 개수대로 토큰화 되는게 아님.      \n",
    "        tokens = tokenizer(batch, return_tensors='pt', max_length=512, truncation=True, padding=True)\n",
    "\n",
    "        # 추론과정에서 기울기 구하지 않도록 설정\n",
    "        # 학습이 아니라 추론만 하므로 메모리 사용량을 줄이고 속도를 높이기 위해 no_grad 사용\n",
    "        with torch.no_grad():\n",
    "            output = model(**tokens) # tokenizer 반환 형태 딕셔너리. **: 딕셔너리를 개별 키워드 값으로 전달.\n",
    "\n",
    "\n",
    "        # [CLS]: 문장의 전체 의미를 요약하는 특수 토큰\n",
    "        # output[0]: 각 문장의 cls(문장의 전체 의미) 토큰에 대한 임베딩 / (시퀀스 길이, 768)의 형태\n",
    "        # shape: [batch_size, seq_length, hidden_size] / seq_length(시퀀스 길이): 각 문장마다 토큰화된 토큰 수\n",
    "        # output[1]: 각 문장의 모든 토큰에 대한 임베딩\n",
    "        # [:, 0, :]: 모든 batch 차원(한번에 처리하는 데이터 묶음), 시퀀스 길이에서 첫번째 토큰, 마지막 차원 모두\n",
    "        batch_embeddings = output[0][:, 0, :].squeeze().numpy() # 유사도 비교를 위해 numpy 배열로 변환\n",
    "        # numpy 배열에 바로 저장\n",
    "        all_embeddings[i:i + batch_size] = batch_embeddings\n",
    "    \n",
    "    # 누적된 배치 임베딩을 하나의 큰 배열로 합침 \n",
    "    return all_embeddings"
   ]
  },
  {
   "cell_type": "code",
   "execution_count": 94,
   "metadata": {},
   "outputs": [],
   "source": [
    "question_embeddings_kobert = embedding(question_df['question'].tolist())"
   ]
  },
  {
   "cell_type": "code",
   "execution_count": 96,
   "metadata": {},
   "outputs": [],
   "source": [
    "ic_answer_embeddings_kobert = embedding(answer_df['answer_intro_conclusion'].tolist())"
   ]
  },
  {
   "cell_type": "code",
   "execution_count": 97,
   "metadata": {},
   "outputs": [],
   "source": [
    "answer_embeddings_kobert = embedding(answer_df['answer'].tolist())"
   ]
  },
  {
   "cell_type": "code",
   "execution_count": 65,
   "metadata": {},
   "outputs": [],
   "source": [
    "# # 임베딩 구하는 함수 만들기\n",
    "# def embedding(sentence):\n",
    "#     # BERT 모델 최대 입력길이 제한이 512 토큰 이라고 함.\n",
    "#     tokens = tokenizer.encode(sentence, return_tensors='pt', max_length=512, truncation=True, padding=True)\n",
    "\n",
    "#     # 추론과정에서 기울기 구하지 않도록 설정\n",
    "#     # 학습이 아니라 추론만 하므로 메모리 사용량을 줄이고 속도를 높이기 위해 no_grad 사용\n",
    "#     with torch.no_grad():\n",
    "#         output = model(tokens)\n",
    "\n",
    "\n",
    "#     # output[0]: 각 입력 토큰에 대한 벡터\n",
    "#     # shape: [batch_size, seq_length, hidden_size]\n",
    "#     # output[1]: 문장 전체적인 의미\n",
    "#     # [:, 0, :]: 모든 batch 차원(한번에 처리하는 데이터 묶음), 첫번째 토큰, 마지막 차원 모두\n",
    "#     return output[0][:, 0, :].squeeze().numpy() # 유사도 비교를 위해 numpy 배열로 변환"
   ]
  },
  {
   "cell_type": "code",
   "execution_count": 66,
   "metadata": {},
   "outputs": [],
   "source": [
    "# # 인트로+결론 답변, 전체 답변, 질문에 대한 임베딩 계산\n",
    "# question_embeddings_kobert = [embedding(q) for q in question_df['question']] "
   ]
  },
  {
   "cell_type": "code",
   "execution_count": 53,
   "metadata": {},
   "outputs": [],
   "source": [
    "# ic_answer_embeddings_kobert = [embedding(a) for a in answer_df['answer_intro_conclusion']]"
   ]
  },
  {
   "cell_type": "code",
   "execution_count": 54,
   "metadata": {},
   "outputs": [],
   "source": [
    "# answer_embeddings_kobert = [embedding(a) for a in answer_df['answer']]"
   ]
  },
  {
   "cell_type": "code",
   "execution_count": 99,
   "metadata": {},
   "outputs": [
    {
     "data": {
      "text/plain": [
       "(3428, 5518, 5518)"
      ]
     },
     "execution_count": 99,
     "metadata": {},
     "output_type": "execute_result"
    }
   ],
   "source": [
    "len(question_embeddings_kobert), len(ic_answer_embeddings_kobert), len(answer_embeddings_kobert)"
   ]
  },
  {
   "cell_type": "code",
   "execution_count": 103,
   "metadata": {},
   "outputs": [],
   "source": [
    "# 후보 쌍에 대한 코싸인 유사도 계산 함수\n",
    "\n",
    "def make_cosine_similarity(candidate_pairs, question_embedding, answer_embedding):\n",
    "    \n",
    "    similarities = []\n",
    "    for q_idx, a_idx in candidate_pairs:\n",
    "        # print(q_idx, a_idx)\n",
    "        c_simi = cosine_similarity([question_embedding[q_idx]], [answer_embedding[a_idx]])\n",
    "        similarities.append((q_idx, a_idx, c_simi))\n",
    "\n",
    "    return similarities"
   ]
  },
  {
   "cell_type": "code",
   "execution_count": null,
   "metadata": {},
   "outputs": [],
   "source": [
    "# 전체 답변과 질문\n",
    "# 후보 쌍에 대해 코싸인 유사도 계산\n",
    "kobert_final_similarities = make_cosine_similarity(final_candidate_pairs, question_embeddings_kobert, answer_embeddings_kobert)"
   ]
  },
  {
   "cell_type": "code",
   "execution_count": 105,
   "metadata": {},
   "outputs": [
    {
     "data": {
      "text/plain": [
       "(68560, (95, 252, array([[0.73021439]])))"
      ]
     },
     "execution_count": 105,
     "metadata": {},
     "output_type": "execute_result"
    }
   ],
   "source": [
    "len(kobert_final_similarities), kobert_final_similarities[1900]"
   ]
  },
  {
   "cell_type": "code",
   "execution_count": 106,
   "metadata": {},
   "outputs": [],
   "source": [
    "# intro+conclusion 답변과 질문\n",
    "# 후보 쌍에 대해 코싸인 유사도 계산\n",
    "ic_kobert_final_similarities = make_cosine_similarity(final_candidate_pairs, question_embeddings_kobert, ic_answer_embeddings_kobert)"
   ]
  },
  {
   "cell_type": "code",
   "execution_count": 107,
   "metadata": {},
   "outputs": [
    {
     "data": {
      "text/plain": [
       "(68560, (95, 252, array([[0.77582595]])))"
      ]
     },
     "execution_count": 107,
     "metadata": {},
     "output_type": "execute_result"
    }
   ],
   "source": [
    "len(ic_kobert_final_similarities), ic_kobert_final_similarities[1900]"
   ]
  },
  {
   "cell_type": "markdown",
   "metadata": {},
   "source": [
    "- 가중치를 부여한 유사도 점수 계산\n",
    "- intro + conclusion 답변에 대한 유사도에 가중치 0.4, 전체 답변에 대한 유사도에 가중치 0.6 부여"
   ]
  },
  {
   "cell_type": "code",
   "execution_count": 108,
   "metadata": {},
   "outputs": [
    {
     "data": {
      "text/plain": [
       "(3427, 5489, array([[0.63683665]]))"
      ]
     },
     "execution_count": 108,
     "metadata": {},
     "output_type": "execute_result"
    }
   ],
   "source": [
    "ic_kobert_final_similarities[-1]"
   ]
  },
  {
   "cell_type": "code",
   "execution_count": 109,
   "metadata": {},
   "outputs": [],
   "source": [
    "combine_similarities = []\n",
    "for ic_s, s in zip(ic_kobert_final_similarities, kobert_final_similarities):\n",
    "    a, b, ic_c = ic_s\n",
    "    _, _, c = s\n",
    "\n",
    "    combine_score = 0.4*ic_c + 0.6*c\n",
    "\n",
    "    combine_similarities.append((a, b, combine_score))\n",
    "\n",
    "kobert_final_similarities = combine_similarities"
   ]
  },
  {
   "cell_type": "code",
   "execution_count": 110,
   "metadata": {},
   "outputs": [
    {
     "data": {
      "text/plain": [
       "(3427, 5489, array([[0.59241638]]))"
      ]
     },
     "execution_count": 110,
     "metadata": {},
     "output_type": "execute_result"
    }
   ],
   "source": [
    "kobert_final_similarities[-1]"
   ]
  },
  {
   "cell_type": "markdown",
   "metadata": {},
   "source": [
    "### (3) 가장 연관성이 높은 질문 데이터 프레임화"
   ]
  },
  {
   "cell_type": "markdown",
   "metadata": {},
   "source": [
    "- 대량의 데이터를 계속 for문 속에 for문을 넣으면서 코드를 돌리니 시간이 너무 오래걸림.\n",
    "- defaultdict를 사용해 한 번만 순회하면서 최대유사도를 업데이트하는 방향으로 코드 변경\n",
    "- 160분 넘어도 안끝나던 코드가 -> 0.2초만에 끝남\n",
    "- defaultdict\n",
    "    - dictionary와 동일하게 key: value 형식.\n",
    "    - 존재하지 않는 key에 대해 기본값을 설정할 수 있음."
   ]
  },
  {
   "cell_type": "code",
   "execution_count": 82,
   "metadata": {},
   "outputs": [],
   "source": [
    "# # 인덱스와 유사도 리스트화\n",
    "# idx_group = set(i[0] for i in kobert_final_similarities) # set(): 유니크한 값을 가지는 집합\n",
    "\n",
    "# for g in idx_group:\n",
    "#     simi_list = [i[2] for i in kobert_final_similarities if i[0] == g]\n",
    "\n",
    "#     # 유사도가 가장 높은 값에 해당하는 데이터 하나만 추출\n",
    "#     result = [row for row in kobert_final_similarities if (row[2] == max(simi_list)) and (row[0]==g)] "
   ]
  },
  {
   "cell_type": "code",
   "execution_count": 111,
   "metadata": {},
   "outputs": [],
   "source": [
    "from collections import defaultdict\n",
    "a = defaultdict(int)"
   ]
  },
  {
   "cell_type": "code",
   "execution_count": 113,
   "metadata": {},
   "outputs": [
    {
     "data": {
      "text/plain": [
       "(0, 0, dict_values([0, 0]))"
      ]
     },
     "execution_count": 113,
     "metadata": {},
     "output_type": "execute_result"
    }
   ],
   "source": [
    "a[0], a['키값'], a.values()"
   ]
  },
  {
   "cell_type": "code",
   "execution_count": 115,
   "metadata": {},
   "outputs": [],
   "source": [
    "from collections import defaultdict\n",
    "\n",
    "# 키에 대한 기본값 설정\n",
    "# 어떤 키를 넣든 없으면 해당 기본값을 줌\n",
    "max_group = defaultdict(lambda: (-1, None)) # max_group에 처음 접근할 때 키가 없으면 (-1(유사도), None(원래값))이 기본값\n",
    "\n",
    "for row in kobert_final_similarities:\n",
    "    q_idx, a_idx, simi = row\n",
    "    if simi > max_group[q_idx][0]: # simi > 현재 할당되어있는 유사도 이면\n",
    "        max_group[q_idx] = (simi, row) # 동일한 q_idx 키에대해 값 업데이트\n",
    "\n",
    "kobert_final_result = [row for simi, row in max_group.values()]"
   ]
  },
  {
   "cell_type": "code",
   "execution_count": 119,
   "metadata": {},
   "outputs": [
    {
     "data": {
      "text/plain": [
       "(3428, (3002, 5419, array([[0.70191665]])))"
      ]
     },
     "execution_count": 119,
     "metadata": {},
     "output_type": "execute_result"
    }
   ],
   "source": [
    "len(kobert_final_result), kobert_final_result[3002]"
   ]
  },
  {
   "cell_type": "code",
   "execution_count": 168,
   "metadata": {},
   "outputs": [
    {
     "data": {
      "text/html": [
       "<div>\n",
       "<style scoped>\n",
       "    .dataframe tbody tr th:only-of-type {\n",
       "        vertical-align: middle;\n",
       "    }\n",
       "\n",
       "    .dataframe tbody tr th {\n",
       "        vertical-align: top;\n",
       "    }\n",
       "\n",
       "    .dataframe thead th {\n",
       "        text-align: right;\n",
       "    }\n",
       "</style>\n",
       "<table border=\"1\" class=\"dataframe\">\n",
       "  <thead>\n",
       "    <tr style=\"text-align: right;\">\n",
       "      <th></th>\n",
       "      <th>disease_category</th>\n",
       "      <th>disease_name</th>\n",
       "      <th>intention</th>\n",
       "      <th>question</th>\n",
       "    </tr>\n",
       "  </thead>\n",
       "  <tbody>\n",
       "    <tr>\n",
       "      <th>0</th>\n",
       "      <td>응급질환</td>\n",
       "      <td>두통</td>\n",
       "      <td>예방</td>\n",
       "      <td>두통 예방을 위해 어떤 자세나 활동이 도움이 될까요?</td>\n",
       "    </tr>\n",
       "    <tr>\n",
       "      <th>1</th>\n",
       "      <td>응급질환</td>\n",
       "      <td>두통</td>\n",
       "      <td>예방</td>\n",
       "      <td>스트레스를 많이 받는 사람이 두통을 예방하기 위해 어떤 생활습관을 가져야 할까요?</td>\n",
       "    </tr>\n",
       "    <tr>\n",
       "      <th>2</th>\n",
       "      <td>응급질환</td>\n",
       "      <td>두통</td>\n",
       "      <td>예방</td>\n",
       "      <td>대상포진 예방접종 후에 어지럼증과 두통이 예방접종과 관련이 있다면 어떻게 되나요?</td>\n",
       "    </tr>\n",
       "    <tr>\n",
       "      <th>3</th>\n",
       "      <td>응급질환</td>\n",
       "      <td>두통</td>\n",
       "      <td>예방</td>\n",
       "      <td>갈색세포증과 관련하여 일상생활에서 신경써야할 점은 무엇인가요?</td>\n",
       "    </tr>\n",
       "    <tr>\n",
       "      <th>4</th>\n",
       "      <td>응급질환</td>\n",
       "      <td>두통</td>\n",
       "      <td>예방</td>\n",
       "      <td>두통을 예방하기 위한 수면 자세에는 어떤 것들이 있을까요?</td>\n",
       "    </tr>\n",
       "    <tr>\n",
       "      <th>...</th>\n",
       "      <td>...</td>\n",
       "      <td>...</td>\n",
       "      <td>...</td>\n",
       "      <td>...</td>\n",
       "    </tr>\n",
       "    <tr>\n",
       "      <th>3423</th>\n",
       "      <td>응급질환</td>\n",
       "      <td>두통</td>\n",
       "      <td>치료</td>\n",
       "      <td>두통과 스트레스 반응에 대한 급성 과민성을 진단하고 치료하는 방법에는 어떤 것들이 ...</td>\n",
       "    </tr>\n",
       "    <tr>\n",
       "      <th>3424</th>\n",
       "      <td>응급질환</td>\n",
       "      <td>두통</td>\n",
       "      <td>치료</td>\n",
       "      <td>약국에서 구입 가능한 두통 치료제 중에서 어떤 것이 가장 효과적인지 알려주세요.</td>\n",
       "    </tr>\n",
       "    <tr>\n",
       "      <th>3425</th>\n",
       "      <td>응급질환</td>\n",
       "      <td>두통</td>\n",
       "      <td>치료</td>\n",
       "      <td>만성 두통을 치료하기 위해 어떤 방법이 있는지 알려주세요.</td>\n",
       "    </tr>\n",
       "    <tr>\n",
       "      <th>3426</th>\n",
       "      <td>응급질환</td>\n",
       "      <td>두통</td>\n",
       "      <td>치료</td>\n",
       "      <td>두통의 치료를 위해 어떤 약물이 사용될 수 있을까요?</td>\n",
       "    </tr>\n",
       "    <tr>\n",
       "      <th>3427</th>\n",
       "      <td>응급질환</td>\n",
       "      <td>두통</td>\n",
       "      <td>치료</td>\n",
       "      <td>두통이 자주 생기는데, 이를 치료하기 위해 어떤 치료법을 사용할 수 있을까요?</td>\n",
       "    </tr>\n",
       "  </tbody>\n",
       "</table>\n",
       "<p>3428 rows × 4 columns</p>\n",
       "</div>"
      ],
      "text/plain": [
       "     disease_category disease_name intention  \\\n",
       "0                응급질환           두통        예방   \n",
       "1                응급질환           두통        예방   \n",
       "2                응급질환           두통        예방   \n",
       "3                응급질환           두통        예방   \n",
       "4                응급질환           두통        예방   \n",
       "...               ...          ...       ...   \n",
       "3423             응급질환           두통        치료   \n",
       "3424             응급질환           두통        치료   \n",
       "3425             응급질환           두통        치료   \n",
       "3426             응급질환           두통        치료   \n",
       "3427             응급질환           두통        치료   \n",
       "\n",
       "                                               question  \n",
       "0                         두통 예방을 위해 어떤 자세나 활동이 도움이 될까요?  \n",
       "1         스트레스를 많이 받는 사람이 두통을 예방하기 위해 어떤 생활습관을 가져야 할까요?  \n",
       "2         대상포진 예방접종 후에 어지럼증과 두통이 예방접종과 관련이 있다면 어떻게 되나요?  \n",
       "3                    갈색세포증과 관련하여 일상생활에서 신경써야할 점은 무엇인가요?  \n",
       "4                      두통을 예방하기 위한 수면 자세에는 어떤 것들이 있을까요?  \n",
       "...                                                 ...  \n",
       "3423  두통과 스트레스 반응에 대한 급성 과민성을 진단하고 치료하는 방법에는 어떤 것들이 ...  \n",
       "3424       약국에서 구입 가능한 두통 치료제 중에서 어떤 것이 가장 효과적인지 알려주세요.  \n",
       "3425                   만성 두통을 치료하기 위해 어떤 방법이 있는지 알려주세요.  \n",
       "3426                      두통의 치료를 위해 어떤 약물이 사용될 수 있을까요?  \n",
       "3427        두통이 자주 생기는데, 이를 치료하기 위해 어떤 치료법을 사용할 수 있을까요?  \n",
       "\n",
       "[3428 rows x 4 columns]"
      ]
     },
     "execution_count": 168,
     "metadata": {},
     "output_type": "execute_result"
    }
   ],
   "source": [
    "question_df"
   ]
  },
  {
   "cell_type": "code",
   "execution_count": 169,
   "metadata": {},
   "outputs": [],
   "source": [
    "kobert_final_matching_list = []\n",
    "for row in kobert_final_result:\n",
    "\n",
    "    # 답변\n",
    "    answer = answer_df.loc[row[1], 'answer']\n",
    "    answer_intro_conclusion = answer_df.loc[row[1], 'answer_intro_conclusion']\n",
    "    # 질문\n",
    "    question = question_df.loc[row[0], 'question']\n",
    "    # 유사도 점수\n",
    "    similarity_score = row[2]\n",
    "    # 질문 의도\n",
    "    intent = question_df.loc[row[0], 'intention']\n",
    "    # 질병관련 정보\n",
    "    dc = answer_df.loc[row[1], 'disease_category']\n",
    "    dn = answer_df.loc[row[1], 'disease_name']\n",
    "\n",
    "    kobert_final_matching_list.append({'disease_category': dc, 'disease_name': dn,\n",
    "                                       'intention': intent, 'question': question,\n",
    "                                       # 'answer_intro_conclusion': answer_intro_conclusion,\n",
    "                                       'answer': answer,\n",
    "                                       'similarity_score': np.round(similarity_score, 4)})"
   ]
  },
  {
   "cell_type": "code",
   "execution_count": 170,
   "metadata": {},
   "outputs": [
    {
     "data": {
      "text/html": [
       "<div>\n",
       "<style scoped>\n",
       "    .dataframe tbody tr th:only-of-type {\n",
       "        vertical-align: middle;\n",
       "    }\n",
       "\n",
       "    .dataframe tbody tr th {\n",
       "        vertical-align: top;\n",
       "    }\n",
       "\n",
       "    .dataframe thead th {\n",
       "        text-align: right;\n",
       "    }\n",
       "</style>\n",
       "<table border=\"1\" class=\"dataframe\">\n",
       "  <thead>\n",
       "    <tr style=\"text-align: right;\">\n",
       "      <th></th>\n",
       "      <th>question</th>\n",
       "      <th>answer</th>\n",
       "      <th>similarity_score</th>\n",
       "    </tr>\n",
       "  </thead>\n",
       "  <tbody>\n",
       "    <tr>\n",
       "      <th>0</th>\n",
       "      <td>두통 예방을 위해 어떤 자세나 활동이 도움이 될까요?</td>\n",
       "      <td>만약 일상적인 예방 및 조절 조치를 취하는 것이 어렵거나 효과가 없다면 다음과 같은...</td>\n",
       "      <td>[[0.6894]]</td>\n",
       "    </tr>\n",
       "    <tr>\n",
       "      <th>1</th>\n",
       "      <td>스트레스를 많이 받는 사람이 두통을 예방하기 위해 어떤 생활습관을 가져야 할까요?</td>\n",
       "      <td>두통의 예방법에는 몇 가지 방법이 있습니다. 첫째로, 일상생활에서 올바른 자세를 유...</td>\n",
       "      <td>[[0.6251]]</td>\n",
       "    </tr>\n",
       "    <tr>\n",
       "      <th>2</th>\n",
       "      <td>대상포진 예방접종 후에 어지럼증과 두통이 예방접종과 관련이 있다면 어떻게 되나요?</td>\n",
       "      <td>만약 두통이 오랫동안 지속된다면 의사의 진단을 받아보는 것이 좋습니다. 스트레스와 ...</td>\n",
       "      <td>[[0.6988]]</td>\n",
       "    </tr>\n",
       "    <tr>\n",
       "      <th>3</th>\n",
       "      <td>갈색세포증과 관련하여 일상생활에서 신경써야할 점은 무엇인가요?</td>\n",
       "      <td>만약 두통이 오랫동안 지속된다면 의사의 진단을 받아보는 것이 좋습니다. 스트레스와 ...</td>\n",
       "      <td>[[0.7173]]</td>\n",
       "    </tr>\n",
       "    <tr>\n",
       "      <th>4</th>\n",
       "      <td>두통을 예방하기 위한 수면 자세에는 어떤 것들이 있을까요?</td>\n",
       "      <td>두통의 예방법에는 몇 가지 방법이 있습니다. 첫째로, 일상생활에서 올바른 자세를 유...</td>\n",
       "      <td>[[0.6314]]</td>\n",
       "    </tr>\n",
       "    <tr>\n",
       "      <th>...</th>\n",
       "      <td>...</td>\n",
       "      <td>...</td>\n",
       "      <td>...</td>\n",
       "    </tr>\n",
       "    <tr>\n",
       "      <th>3423</th>\n",
       "      <td>두통과 스트레스 반응에 대한 급성 과민성을 진단하고 치료하는 방법에는 어떤 것들이 ...</td>\n",
       "      <td>두통은 일상 생활에서 자주 경험할 수 있는 증상입니다. 두통은 다양한 원인에 의해 ...</td>\n",
       "      <td>[[0.7376]]</td>\n",
       "    </tr>\n",
       "    <tr>\n",
       "      <th>3424</th>\n",
       "      <td>약국에서 구입 가능한 두통 치료제 중에서 어떤 것이 가장 효과적인지 알려주세요.</td>\n",
       "      <td>두통은 흔한 증상이며 많은 치료법이 있습니다. 두통은 치료하기 위해 여러 가지 방법...</td>\n",
       "      <td>[[0.7367]]</td>\n",
       "    </tr>\n",
       "    <tr>\n",
       "      <th>3425</th>\n",
       "      <td>만성 두통을 치료하기 위해 어떤 방법이 있는지 알려주세요.</td>\n",
       "      <td>두통은 흔한 증상이며 많은 치료법이 있습니다. 두통은 치료하기 위해 여러 가지 방법...</td>\n",
       "      <td>[[0.748]]</td>\n",
       "    </tr>\n",
       "    <tr>\n",
       "      <th>3426</th>\n",
       "      <td>두통의 치료를 위해 어떤 약물이 사용될 수 있을까요?</td>\n",
       "      <td>두통 치료에는 다양한 방법이 있습니다. 약물 치료는 일반적인 원인 질환에 따라 사용...</td>\n",
       "      <td>[[0.6547]]</td>\n",
       "    </tr>\n",
       "    <tr>\n",
       "      <th>3427</th>\n",
       "      <td>두통이 자주 생기는데, 이를 치료하기 위해 어떤 치료법을 사용할 수 있을까요?</td>\n",
       "      <td>두통은 흔한 증상이며 많은 치료법이 있습니다. 두통은 치료하기 위해 여러 가지 방법...</td>\n",
       "      <td>[[0.6952]]</td>\n",
       "    </tr>\n",
       "  </tbody>\n",
       "</table>\n",
       "<p>3428 rows × 3 columns</p>\n",
       "</div>"
      ],
      "text/plain": [
       "                                               question  \\\n",
       "0                         두통 예방을 위해 어떤 자세나 활동이 도움이 될까요?   \n",
       "1         스트레스를 많이 받는 사람이 두통을 예방하기 위해 어떤 생활습관을 가져야 할까요?   \n",
       "2         대상포진 예방접종 후에 어지럼증과 두통이 예방접종과 관련이 있다면 어떻게 되나요?   \n",
       "3                    갈색세포증과 관련하여 일상생활에서 신경써야할 점은 무엇인가요?   \n",
       "4                      두통을 예방하기 위한 수면 자세에는 어떤 것들이 있을까요?   \n",
       "...                                                 ...   \n",
       "3423  두통과 스트레스 반응에 대한 급성 과민성을 진단하고 치료하는 방법에는 어떤 것들이 ...   \n",
       "3424       약국에서 구입 가능한 두통 치료제 중에서 어떤 것이 가장 효과적인지 알려주세요.   \n",
       "3425                   만성 두통을 치료하기 위해 어떤 방법이 있는지 알려주세요.   \n",
       "3426                      두통의 치료를 위해 어떤 약물이 사용될 수 있을까요?   \n",
       "3427        두통이 자주 생기는데, 이를 치료하기 위해 어떤 치료법을 사용할 수 있을까요?   \n",
       "\n",
       "                                                 answer similarity_score  \n",
       "0     만약 일상적인 예방 및 조절 조치를 취하는 것이 어렵거나 효과가 없다면 다음과 같은...       [[0.6894]]  \n",
       "1     두통의 예방법에는 몇 가지 방법이 있습니다. 첫째로, 일상생활에서 올바른 자세를 유...       [[0.6251]]  \n",
       "2     만약 두통이 오랫동안 지속된다면 의사의 진단을 받아보는 것이 좋습니다. 스트레스와 ...       [[0.6988]]  \n",
       "3     만약 두통이 오랫동안 지속된다면 의사의 진단을 받아보는 것이 좋습니다. 스트레스와 ...       [[0.7173]]  \n",
       "4     두통의 예방법에는 몇 가지 방법이 있습니다. 첫째로, 일상생활에서 올바른 자세를 유...       [[0.6314]]  \n",
       "...                                                 ...              ...  \n",
       "3423  두통은 일상 생활에서 자주 경험할 수 있는 증상입니다. 두통은 다양한 원인에 의해 ...       [[0.7376]]  \n",
       "3424  두통은 흔한 증상이며 많은 치료법이 있습니다. 두통은 치료하기 위해 여러 가지 방법...       [[0.7367]]  \n",
       "3425  두통은 흔한 증상이며 많은 치료법이 있습니다. 두통은 치료하기 위해 여러 가지 방법...        [[0.748]]  \n",
       "3426  두통 치료에는 다양한 방법이 있습니다. 약물 치료는 일반적인 원인 질환에 따라 사용...       [[0.6547]]  \n",
       "3427  두통은 흔한 증상이며 많은 치료법이 있습니다. 두통은 치료하기 위해 여러 가지 방법...       [[0.6952]]  \n",
       "\n",
       "[3428 rows x 3 columns]"
      ]
     },
     "execution_count": 170,
     "metadata": {},
     "output_type": "execute_result"
    }
   ],
   "source": [
    "kobert_final_matching_df = pd.DataFrame(kobert_final_matching_list)\n",
    "kobert_final_matching_df[['question', 'answer', 'similarity_score']]"
   ]
  },
  {
   "cell_type": "code",
   "execution_count": 171,
   "metadata": {},
   "outputs": [],
   "source": [
    "kobert_final_matching_df['similarity_score'] = kobert_final_matching_df['similarity_score'].apply(lambda x: x[0][0])"
   ]
  },
  {
   "cell_type": "code",
   "execution_count": 172,
   "metadata": {},
   "outputs": [
    {
     "data": {
      "text/html": [
       "<div>\n",
       "<style scoped>\n",
       "    .dataframe tbody tr th:only-of-type {\n",
       "        vertical-align: middle;\n",
       "    }\n",
       "\n",
       "    .dataframe tbody tr th {\n",
       "        vertical-align: top;\n",
       "    }\n",
       "\n",
       "    .dataframe thead th {\n",
       "        text-align: right;\n",
       "    }\n",
       "</style>\n",
       "<table border=\"1\" class=\"dataframe\">\n",
       "  <thead>\n",
       "    <tr style=\"text-align: right;\">\n",
       "      <th></th>\n",
       "      <th>disease_category</th>\n",
       "      <th>disease_name</th>\n",
       "      <th>intention</th>\n",
       "      <th>question</th>\n",
       "      <th>answer</th>\n",
       "      <th>similarity_score</th>\n",
       "    </tr>\n",
       "  </thead>\n",
       "  <tbody>\n",
       "    <tr>\n",
       "      <th>0</th>\n",
       "      <td>응급질환</td>\n",
       "      <td>두통</td>\n",
       "      <td>예방</td>\n",
       "      <td>두통 예방을 위해 어떤 자세나 활동이 도움이 될까요?</td>\n",
       "      <td>만약 일상적인 예방 및 조절 조치를 취하는 것이 어렵거나 효과가 없다면 다음과 같은...</td>\n",
       "      <td>0.6894</td>\n",
       "    </tr>\n",
       "    <tr>\n",
       "      <th>1</th>\n",
       "      <td>응급질환</td>\n",
       "      <td>두통</td>\n",
       "      <td>예방</td>\n",
       "      <td>스트레스를 많이 받는 사람이 두통을 예방하기 위해 어떤 생활습관을 가져야 할까요?</td>\n",
       "      <td>두통의 예방법에는 몇 가지 방법이 있습니다. 첫째로, 일상생활에서 올바른 자세를 유...</td>\n",
       "      <td>0.6251</td>\n",
       "    </tr>\n",
       "  </tbody>\n",
       "</table>\n",
       "</div>"
      ],
      "text/plain": [
       "  disease_category disease_name intention  \\\n",
       "0             응급질환           두통        예방   \n",
       "1             응급질환           두통        예방   \n",
       "\n",
       "                                        question  \\\n",
       "0                  두통 예방을 위해 어떤 자세나 활동이 도움이 될까요?   \n",
       "1  스트레스를 많이 받는 사람이 두통을 예방하기 위해 어떤 생활습관을 가져야 할까요?   \n",
       "\n",
       "                                              answer  similarity_score  \n",
       "0  만약 일상적인 예방 및 조절 조치를 취하는 것이 어렵거나 효과가 없다면 다음과 같은...            0.6894  \n",
       "1  두통의 예방법에는 몇 가지 방법이 있습니다. 첫째로, 일상생활에서 올바른 자세를 유...            0.6251  "
      ]
     },
     "execution_count": 172,
     "metadata": {},
     "output_type": "execute_result"
    }
   ],
   "source": [
    "kobert_final_matching_df.head(2)"
   ]
  },
  {
   "cell_type": "code",
   "execution_count": 147,
   "metadata": {},
   "outputs": [
    {
     "name": "stdout",
     "output_type": "stream",
     "text": [
      "<class 'pandas.core.frame.DataFrame'>\n",
      "RangeIndex: 3428 entries, 0 to 3427\n",
      "Data columns (total 6 columns):\n",
      " #   Column            Non-Null Count  Dtype  \n",
      "---  ------            --------------  -----  \n",
      " 0   disease_category  3428 non-null   object \n",
      " 1   disease_name      3428 non-null   object \n",
      " 2   intention         3428 non-null   object \n",
      " 3   question          3428 non-null   object \n",
      " 4   answer            3428 non-null   object \n",
      " 5   similarity_score  3428 non-null   float64\n",
      "dtypes: float64(1), object(5)\n",
      "memory usage: 160.8+ KB\n"
     ]
    }
   ],
   "source": [
    "kobert_final_matching_df.info()"
   ]
  },
  {
   "cell_type": "code",
   "execution_count": 188,
   "metadata": {},
   "outputs": [
    {
     "data": {
      "text/plain": [
       "'갈색세포증과 관련하여 일상생활에서 신경써야할 점은 무엇인가요?'"
      ]
     },
     "execution_count": 188,
     "metadata": {},
     "output_type": "execute_result"
    }
   ],
   "source": [
    "kobert_final_matching_df['question'][3]"
   ]
  },
  {
   "cell_type": "code",
   "execution_count": 189,
   "metadata": {},
   "outputs": [
    {
     "data": {
      "text/plain": [
       "['만약 두통이 오랫동안 지속된다면 의사의 진단을 받아보는 것이 좋습니다',\n",
       " '스트레스와 긴장으로 인해 발생하는 두통은 심각할 수 있습니다',\n",
       " '만약 계속해서 두통이 지속되고 있다면, 의사에게 상담하여 증상의 원인을 확인하는 것이 중요합니다',\n",
       " '일반적으로 의사는 뇌혈류 검사를 통해 두통의 원인을 확인할 수 있습니다',\n",
       " '또한, 두통의 증상과 기간을 평가하고, 환자의 생활 습관과 개인적인 요인을 조사합니다',\n",
       " '두통을 효과적으로 관리하기 위해 진통제와 예방제를 사용할 수 있습니다',\n",
       " '그러나 예방을 위해 규칙적인 식습관과 충분한 수면, 스트레스 관리 등의 생활습관 개선이 필요합니다',\n",
       " '스트레스는 뇌혈류의 변화와 관련이 있으므로, 두통이 지속될 경우 의사와 상담하여 예방 조치를 취할 수 있습니다.']"
      ]
     },
     "execution_count": 189,
     "metadata": {},
     "output_type": "execute_result"
    }
   ],
   "source": [
    "kobert_final_matching_df['answer'][3].split('. ')"
   ]
  },
  {
   "cell_type": "code",
   "execution_count": 175,
   "metadata": {},
   "outputs": [],
   "source": [
    "kobert_final_matching_df.to_csv('kobert_matching.csv')"
   ]
  },
  {
   "cell_type": "code",
   "execution_count": 4,
   "metadata": {},
   "outputs": [
    {
     "data": {
      "text/html": [
       "<div>\n",
       "<style scoped>\n",
       "    .dataframe tbody tr th:only-of-type {\n",
       "        vertical-align: middle;\n",
       "    }\n",
       "\n",
       "    .dataframe tbody tr th {\n",
       "        vertical-align: top;\n",
       "    }\n",
       "\n",
       "    .dataframe thead th {\n",
       "        text-align: right;\n",
       "    }\n",
       "</style>\n",
       "<table border=\"1\" class=\"dataframe\">\n",
       "  <thead>\n",
       "    <tr style=\"text-align: right;\">\n",
       "      <th></th>\n",
       "      <th>disease_category</th>\n",
       "      <th>disease_name</th>\n",
       "      <th>intention</th>\n",
       "      <th>question</th>\n",
       "      <th>answer</th>\n",
       "      <th>similarity_score</th>\n",
       "    </tr>\n",
       "  </thead>\n",
       "  <tbody>\n",
       "    <tr>\n",
       "      <th>0</th>\n",
       "      <td>응급질환</td>\n",
       "      <td>두통</td>\n",
       "      <td>예방</td>\n",
       "      <td>두통 예방을 위해 어떤 자세나 활동이 도움이 될까요?</td>\n",
       "      <td>만약 일상적인 예방 및 조절 조치를 취하는 것이 어렵거나 효과가 없다면 다음과 같은...</td>\n",
       "      <td>0.6894</td>\n",
       "    </tr>\n",
       "    <tr>\n",
       "      <th>1</th>\n",
       "      <td>응급질환</td>\n",
       "      <td>두통</td>\n",
       "      <td>예방</td>\n",
       "      <td>스트레스를 많이 받는 사람이 두통을 예방하기 위해 어떤 생활습관을 가져야 할까요?</td>\n",
       "      <td>두통의 예방법에는 몇 가지 방법이 있습니다. 첫째로, 일상생활에서 올바른 자세를 유...</td>\n",
       "      <td>0.6251</td>\n",
       "    </tr>\n",
       "    <tr>\n",
       "      <th>2</th>\n",
       "      <td>응급질환</td>\n",
       "      <td>두통</td>\n",
       "      <td>예방</td>\n",
       "      <td>대상포진 예방접종 후에 어지럼증과 두통이 예방접종과 관련이 있다면 어떻게 되나요?</td>\n",
       "      <td>만약 두통이 오랫동안 지속된다면 의사의 진단을 받아보는 것이 좋습니다. 스트레스와 ...</td>\n",
       "      <td>0.6988</td>\n",
       "    </tr>\n",
       "    <tr>\n",
       "      <th>3</th>\n",
       "      <td>응급질환</td>\n",
       "      <td>두통</td>\n",
       "      <td>예방</td>\n",
       "      <td>갈색세포증과 관련하여 일상생활에서 신경써야할 점은 무엇인가요?</td>\n",
       "      <td>만약 두통이 오랫동안 지속된다면 의사의 진단을 받아보는 것이 좋습니다. 스트레스와 ...</td>\n",
       "      <td>0.7173</td>\n",
       "    </tr>\n",
       "    <tr>\n",
       "      <th>4</th>\n",
       "      <td>응급질환</td>\n",
       "      <td>두통</td>\n",
       "      <td>예방</td>\n",
       "      <td>두통을 예방하기 위한 수면 자세에는 어떤 것들이 있을까요?</td>\n",
       "      <td>두통의 예방법에는 몇 가지 방법이 있습니다. 첫째로, 일상생활에서 올바른 자세를 유...</td>\n",
       "      <td>0.6314</td>\n",
       "    </tr>\n",
       "    <tr>\n",
       "      <th>...</th>\n",
       "      <td>...</td>\n",
       "      <td>...</td>\n",
       "      <td>...</td>\n",
       "      <td>...</td>\n",
       "      <td>...</td>\n",
       "      <td>...</td>\n",
       "    </tr>\n",
       "    <tr>\n",
       "      <th>3423</th>\n",
       "      <td>응급질환</td>\n",
       "      <td>두통</td>\n",
       "      <td>치료</td>\n",
       "      <td>두통과 스트레스 반응에 대한 급성 과민성을 진단하고 치료하는 방법에는 어떤 것들이 ...</td>\n",
       "      <td>두통은 일상 생활에서 자주 경험할 수 있는 증상입니다. 두통은 다양한 원인에 의해 ...</td>\n",
       "      <td>0.7376</td>\n",
       "    </tr>\n",
       "    <tr>\n",
       "      <th>3424</th>\n",
       "      <td>응급질환</td>\n",
       "      <td>두통</td>\n",
       "      <td>치료</td>\n",
       "      <td>약국에서 구입 가능한 두통 치료제 중에서 어떤 것이 가장 효과적인지 알려주세요.</td>\n",
       "      <td>두통은 흔한 증상이며 많은 치료법이 있습니다. 두통은 치료하기 위해 여러 가지 방법...</td>\n",
       "      <td>0.7367</td>\n",
       "    </tr>\n",
       "    <tr>\n",
       "      <th>3425</th>\n",
       "      <td>응급질환</td>\n",
       "      <td>두통</td>\n",
       "      <td>치료</td>\n",
       "      <td>만성 두통을 치료하기 위해 어떤 방법이 있는지 알려주세요.</td>\n",
       "      <td>두통은 흔한 증상이며 많은 치료법이 있습니다. 두통은 치료하기 위해 여러 가지 방법...</td>\n",
       "      <td>0.7480</td>\n",
       "    </tr>\n",
       "    <tr>\n",
       "      <th>3426</th>\n",
       "      <td>응급질환</td>\n",
       "      <td>두통</td>\n",
       "      <td>치료</td>\n",
       "      <td>두통의 치료를 위해 어떤 약물이 사용될 수 있을까요?</td>\n",
       "      <td>두통 치료에는 다양한 방법이 있습니다. 약물 치료는 일반적인 원인 질환에 따라 사용...</td>\n",
       "      <td>0.6547</td>\n",
       "    </tr>\n",
       "    <tr>\n",
       "      <th>3427</th>\n",
       "      <td>응급질환</td>\n",
       "      <td>두통</td>\n",
       "      <td>치료</td>\n",
       "      <td>두통이 자주 생기는데, 이를 치료하기 위해 어떤 치료법을 사용할 수 있을까요?</td>\n",
       "      <td>두통은 흔한 증상이며 많은 치료법이 있습니다. 두통은 치료하기 위해 여러 가지 방법...</td>\n",
       "      <td>0.6952</td>\n",
       "    </tr>\n",
       "  </tbody>\n",
       "</table>\n",
       "<p>3428 rows × 6 columns</p>\n",
       "</div>"
      ],
      "text/plain": [
       "     disease_category disease_name intention  \\\n",
       "0                응급질환           두통        예방   \n",
       "1                응급질환           두통        예방   \n",
       "2                응급질환           두통        예방   \n",
       "3                응급질환           두통        예방   \n",
       "4                응급질환           두통        예방   \n",
       "...               ...          ...       ...   \n",
       "3423             응급질환           두통        치료   \n",
       "3424             응급질환           두통        치료   \n",
       "3425             응급질환           두통        치료   \n",
       "3426             응급질환           두통        치료   \n",
       "3427             응급질환           두통        치료   \n",
       "\n",
       "                                               question  \\\n",
       "0                         두통 예방을 위해 어떤 자세나 활동이 도움이 될까요?   \n",
       "1         스트레스를 많이 받는 사람이 두통을 예방하기 위해 어떤 생활습관을 가져야 할까요?   \n",
       "2         대상포진 예방접종 후에 어지럼증과 두통이 예방접종과 관련이 있다면 어떻게 되나요?   \n",
       "3                    갈색세포증과 관련하여 일상생활에서 신경써야할 점은 무엇인가요?   \n",
       "4                      두통을 예방하기 위한 수면 자세에는 어떤 것들이 있을까요?   \n",
       "...                                                 ...   \n",
       "3423  두통과 스트레스 반응에 대한 급성 과민성을 진단하고 치료하는 방법에는 어떤 것들이 ...   \n",
       "3424       약국에서 구입 가능한 두통 치료제 중에서 어떤 것이 가장 효과적인지 알려주세요.   \n",
       "3425                   만성 두통을 치료하기 위해 어떤 방법이 있는지 알려주세요.   \n",
       "3426                      두통의 치료를 위해 어떤 약물이 사용될 수 있을까요?   \n",
       "3427        두통이 자주 생기는데, 이를 치료하기 위해 어떤 치료법을 사용할 수 있을까요?   \n",
       "\n",
       "                                                 answer  similarity_score  \n",
       "0     만약 일상적인 예방 및 조절 조치를 취하는 것이 어렵거나 효과가 없다면 다음과 같은...            0.6894  \n",
       "1     두통의 예방법에는 몇 가지 방법이 있습니다. 첫째로, 일상생활에서 올바른 자세를 유...            0.6251  \n",
       "2     만약 두통이 오랫동안 지속된다면 의사의 진단을 받아보는 것이 좋습니다. 스트레스와 ...            0.6988  \n",
       "3     만약 두통이 오랫동안 지속된다면 의사의 진단을 받아보는 것이 좋습니다. 스트레스와 ...            0.7173  \n",
       "4     두통의 예방법에는 몇 가지 방법이 있습니다. 첫째로, 일상생활에서 올바른 자세를 유...            0.6314  \n",
       "...                                                 ...               ...  \n",
       "3423  두통은 일상 생활에서 자주 경험할 수 있는 증상입니다. 두통은 다양한 원인에 의해 ...            0.7376  \n",
       "3424  두통은 흔한 증상이며 많은 치료법이 있습니다. 두통은 치료하기 위해 여러 가지 방법...            0.7367  \n",
       "3425  두통은 흔한 증상이며 많은 치료법이 있습니다. 두통은 치료하기 위해 여러 가지 방법...            0.7480  \n",
       "3426  두통 치료에는 다양한 방법이 있습니다. 약물 치료는 일반적인 원인 질환에 따라 사용...            0.6547  \n",
       "3427  두통은 흔한 증상이며 많은 치료법이 있습니다. 두통은 치료하기 위해 여러 가지 방법...            0.6952  \n",
       "\n",
       "[3428 rows x 6 columns]"
      ]
     },
     "execution_count": 4,
     "metadata": {},
     "output_type": "execute_result"
    }
   ],
   "source": [
    "kobert_final_matching_df = pd.read_csv('kobert_matching.csv', index_col=0)\n",
    "kobert_final_matching_df"
   ]
  },
  {
   "cell_type": "markdown",
   "metadata": {},
   "source": [
    "### (2)-1 KoSentence-BERT 모델로 문장 유사도 다시 구해보기"
   ]
  },
  {
   "cell_type": "code",
   "execution_count": 152,
   "metadata": {},
   "outputs": [],
   "source": [
    "from sentence_transformers import SentenceTransformer, util\n",
    "\n",
    "# KoSentence-BERT 모델 불러오기\n",
    "model = SentenceTransformer('snunlp/KR-SBERT-V40K-klueNLI-augSTS')"
   ]
  },
  {
   "cell_type": "code",
   "execution_count": 153,
   "metadata": {},
   "outputs": [],
   "source": [
    "# 임베딩 구하는 함수 만들기\n",
    "def embedding_KR_SBERT(sentence, batch_size=32):\n",
    "    result = model.encode(sentence, batch_size=batch_size)\n",
    "    \n",
    "    return result"
   ]
  },
  {
   "cell_type": "code",
   "execution_count": 154,
   "metadata": {},
   "outputs": [],
   "source": [
    "# 질문과 답변에 대한 임베딩 계산\n",
    "question_embeddings_KR_SBERT = embedding_KR_SBERT(question_df['question'].tolist())"
   ]
  },
  {
   "cell_type": "code",
   "execution_count": 155,
   "metadata": {},
   "outputs": [],
   "source": [
    "answer_embeddings_KR_SBERT = [embedding_KR_SBERT(a) for a in answer_df['answer']]"
   ]
  },
  {
   "cell_type": "code",
   "execution_count": null,
   "metadata": {},
   "outputs": [],
   "source": [
    "ic_answer_embeddings_KR_SBERT = [embedding_KR_SBERT(a) for a in answer_df['answer_intro_conclusion']]"
   ]
  },
  {
   "cell_type": "code",
   "execution_count": 158,
   "metadata": {},
   "outputs": [],
   "source": [
    "# 후보 쌍에 대한 코싸인 유사도 계산 함수\n",
    "\n",
    "def make_cosine_similarity(candidate_pairs, question_embedding, answer_embedding):\n",
    "    \n",
    "    similarities = []\n",
    "    for q_idx, a_idx in candidate_pairs:\n",
    "        # print(q_idx, a_idx)\n",
    "        c_simi = cosine_similarity([question_embedding[q_idx]], [answer_embedding[a_idx]])\n",
    "        similarities.append((q_idx, a_idx, c_simi))\n",
    "\n",
    "    return similarities"
   ]
  },
  {
   "cell_type": "code",
   "execution_count": 162,
   "metadata": {},
   "outputs": [],
   "source": [
    "# 후보 쌍에 대해 코싸인 유사도 계산\n",
    "KR_SBERT_final_similarities = make_cosine_similarity(final_candidate_pairs, question_embeddings_KR_SBERT, answer_embeddings_KR_SBERT)"
   ]
  },
  {
   "cell_type": "code",
   "execution_count": 163,
   "metadata": {},
   "outputs": [
    {
     "data": {
      "text/plain": [
       "(68560, (95, 252, array([[0.50480473]], dtype=float32)))"
      ]
     },
     "execution_count": 163,
     "metadata": {},
     "output_type": "execute_result"
    }
   ],
   "source": [
    "len(KR_SBERT_final_similarities), KR_SBERT_final_similarities[1900]"
   ]
  },
  {
   "cell_type": "code",
   "execution_count": 164,
   "metadata": {},
   "outputs": [],
   "source": [
    "# intro+conclusion 답변과 질문\n",
    "# 후보 쌍에 대해 코싸인 유사도 계산\n",
    "ic_KR_SBERT_final_similarities = make_cosine_similarity(final_candidate_pairs, question_embeddings_KR_SBERT, ic_answer_embeddings_KR_SBERT)"
   ]
  },
  {
   "cell_type": "code",
   "execution_count": 165,
   "metadata": {},
   "outputs": [
    {
     "data": {
      "text/plain": [
       "(95, 252, array([[0.500963]], dtype=float32))"
      ]
     },
     "execution_count": 165,
     "metadata": {},
     "output_type": "execute_result"
    }
   ],
   "source": [
    "KR_SBERT_combine_similarities = []\n",
    "for ic_s, s in zip(ic_KR_SBERT_final_similarities, KR_SBERT_final_similarities):\n",
    "    a, b, ic_c = ic_s\n",
    "    _, _, c = s\n",
    "\n",
    "    combine_score = 0.4*ic_c + 0.6*c\n",
    "\n",
    "    KR_SBERT_combine_similarities.append((a, b, combine_score))\n",
    "\n",
    "KR_SBERT_final_similarities = KR_SBERT_combine_similarities\n",
    "KR_SBERT_final_similarities[1900]"
   ]
  },
  {
   "cell_type": "code",
   "execution_count": 166,
   "metadata": {},
   "outputs": [],
   "source": [
    "from collections import defaultdict\n",
    "\n",
    "# 키에 대한 기본값 설정\n",
    "# 어떤 키를 넣든 없으면 해당 기본값을 줌\n",
    "max_group = defaultdict(lambda: (-1, None)) # max_group에 처음 접근할 때 키가 없으면 (-1(유사도), None(원래값))이 기본값\n",
    "\n",
    "for row in KR_SBERT_final_similarities:\n",
    "    q_idx, a_idx, simi = row\n",
    "    if simi > max_group[q_idx][0]: # simi > 현재 할당되어있는 유사도 이면\n",
    "        max_group[q_idx] = (simi, row) # 동일한 a_idx 키에대해 값 업데이트\n",
    "\n",
    "KR_SBERT_final_result = [row for simi, row in max_group.values()]"
   ]
  },
  {
   "cell_type": "code",
   "execution_count": 167,
   "metadata": {},
   "outputs": [
    {
     "data": {
      "text/plain": [
       "3428"
      ]
     },
     "execution_count": 167,
     "metadata": {},
     "output_type": "execute_result"
    }
   ],
   "source": [
    "len(KR_SBERT_final_result)"
   ]
  },
  {
   "cell_type": "code",
   "execution_count": 177,
   "metadata": {},
   "outputs": [],
   "source": [
    "KR_SBERT_final_matching_list = []\n",
    "for row in KR_SBERT_final_result:\n",
    "\n",
    "    # 답변\n",
    "    answer = answer_df.loc[row[1], 'answer']\n",
    "    answer_intro_conclusion = answer_df.loc[row[1], 'answer_intro_conclusion']\n",
    "    # 질문\n",
    "    question = question_df.loc[row[0], 'question']\n",
    "    # 유사도 점수\n",
    "    similarity_score = row[2]\n",
    "    # 질문 의도\n",
    "    intent = question_df.loc[row[0], 'intention']\n",
    "    # 질병관련 정보\n",
    "    dc = answer_df.loc[row[1], 'disease_category']\n",
    "    dn = answer_df.loc[row[1], 'disease_name']\n",
    "\n",
    "    KR_SBERT_final_matching_list.append({'disease_category': dc, 'disease_name': dn,\n",
    "                                         'intention': intent, 'question': question,\n",
    "                                         # 'answer_intro_conclusion':answer_intro_conclusion,\n",
    "                                         'answer': answer,\n",
    "                                         'similarity_score': np.round(similarity_score, 4)})"
   ]
  },
  {
   "cell_type": "code",
   "execution_count": 178,
   "metadata": {},
   "outputs": [
    {
     "data": {
      "text/html": [
       "<div>\n",
       "<style scoped>\n",
       "    .dataframe tbody tr th:only-of-type {\n",
       "        vertical-align: middle;\n",
       "    }\n",
       "\n",
       "    .dataframe tbody tr th {\n",
       "        vertical-align: top;\n",
       "    }\n",
       "\n",
       "    .dataframe thead th {\n",
       "        text-align: right;\n",
       "    }\n",
       "</style>\n",
       "<table border=\"1\" class=\"dataframe\">\n",
       "  <thead>\n",
       "    <tr style=\"text-align: right;\">\n",
       "      <th></th>\n",
       "      <th>question</th>\n",
       "      <th>answer</th>\n",
       "      <th>similarity_score</th>\n",
       "    </tr>\n",
       "  </thead>\n",
       "  <tbody>\n",
       "    <tr>\n",
       "      <th>0</th>\n",
       "      <td>두통 예방을 위해 어떤 자세나 활동이 도움이 될까요?</td>\n",
       "      <td>만약 일상적인 예방 및 조절 조치를 취하는 것이 어렵거나 효과가 없다면 다음과 같은...</td>\n",
       "      <td>[[0.7519]]</td>\n",
       "    </tr>\n",
       "    <tr>\n",
       "      <th>1</th>\n",
       "      <td>스트레스를 많이 받는 사람이 두통을 예방하기 위해 어떤 생활습관을 가져야 할까요?</td>\n",
       "      <td>두통은 많은 사람들이 일상적으로 겪는 현상입니다. 일반적인 예방 방법으로는 규칙적인...</td>\n",
       "      <td>[[0.7753]]</td>\n",
       "    </tr>\n",
       "    <tr>\n",
       "      <th>2</th>\n",
       "      <td>대상포진 예방접종 후에 어지럼증과 두통이 예방접종과 관련이 있다면 어떻게 되나요?</td>\n",
       "      <td>긴장성 두통은 일상 생활에서 두통을 유발할 수 있는 스트레스와 관련된 원인으로 발생...</td>\n",
       "      <td>[[0.5899]]</td>\n",
       "    </tr>\n",
       "    <tr>\n",
       "      <th>3</th>\n",
       "      <td>갈색세포증과 관련하여 일상생활에서 신경써야할 점은 무엇인가요?</td>\n",
       "      <td>긴장성 두통은 일상생활에서 신경이 쓰이는 통증을 유발하는 상황으로, 예방하는 방법은...</td>\n",
       "      <td>[[0.4367]]</td>\n",
       "    </tr>\n",
       "    <tr>\n",
       "      <th>4</th>\n",
       "      <td>두통을 예방하기 위한 수면 자세에는 어떤 것들이 있을까요?</td>\n",
       "      <td>긴장성 두통은 일상 생활에서 자세나 습관에 따라 발생할 수 있습니다. 특히 수면 자...</td>\n",
       "      <td>[[0.775]]</td>\n",
       "    </tr>\n",
       "    <tr>\n",
       "      <th>...</th>\n",
       "      <td>...</td>\n",
       "      <td>...</td>\n",
       "      <td>...</td>\n",
       "    </tr>\n",
       "    <tr>\n",
       "      <th>3423</th>\n",
       "      <td>두통과 스트레스 반응에 대한 급성 과민성을 진단하고 치료하는 방법에는 어떤 것들이 ...</td>\n",
       "      <td>두통은 원인에 따라 다양한 치료 방법을 사용할 수 있습니다. 한편, 두통의 원인을 ...</td>\n",
       "      <td>[[0.754]]</td>\n",
       "    </tr>\n",
       "    <tr>\n",
       "      <th>3424</th>\n",
       "      <td>약국에서 구입 가능한 두통 치료제 중에서 어떤 것이 가장 효과적인지 알려주세요.</td>\n",
       "      <td>두통은 흔한 증상이며 많은 치료법이 있습니다. 두통은 치료하기 위해 여러 가지 방법...</td>\n",
       "      <td>[[0.6936]]</td>\n",
       "    </tr>\n",
       "    <tr>\n",
       "      <th>3425</th>\n",
       "      <td>만성 두통을 치료하기 위해 어떤 방법이 있는지 알려주세요.</td>\n",
       "      <td>두통은 흔한 증상이며 많은 치료법이 있습니다. 두통은 치료하기 위해 여러 가지 방법...</td>\n",
       "      <td>[[0.7687]]</td>\n",
       "    </tr>\n",
       "    <tr>\n",
       "      <th>3426</th>\n",
       "      <td>두통의 치료를 위해 어떤 약물이 사용될 수 있을까요?</td>\n",
       "      <td>두통의 치료에는 다양한 방법이 있습니다. 주로 약물 요법이나 식이요법을 통해 증상을...</td>\n",
       "      <td>[[0.7581]]</td>\n",
       "    </tr>\n",
       "    <tr>\n",
       "      <th>3427</th>\n",
       "      <td>두통이 자주 생기는데, 이를 치료하기 위해 어떤 치료법을 사용할 수 있을까요?</td>\n",
       "      <td>두통은 사람들이 일상적인 생활에서 자주 겪는 증상입니다. 만약 두통이 계속된다면, ...</td>\n",
       "      <td>[[0.8198]]</td>\n",
       "    </tr>\n",
       "  </tbody>\n",
       "</table>\n",
       "<p>3428 rows × 3 columns</p>\n",
       "</div>"
      ],
      "text/plain": [
       "                                               question  \\\n",
       "0                         두통 예방을 위해 어떤 자세나 활동이 도움이 될까요?   \n",
       "1         스트레스를 많이 받는 사람이 두통을 예방하기 위해 어떤 생활습관을 가져야 할까요?   \n",
       "2         대상포진 예방접종 후에 어지럼증과 두통이 예방접종과 관련이 있다면 어떻게 되나요?   \n",
       "3                    갈색세포증과 관련하여 일상생활에서 신경써야할 점은 무엇인가요?   \n",
       "4                      두통을 예방하기 위한 수면 자세에는 어떤 것들이 있을까요?   \n",
       "...                                                 ...   \n",
       "3423  두통과 스트레스 반응에 대한 급성 과민성을 진단하고 치료하는 방법에는 어떤 것들이 ...   \n",
       "3424       약국에서 구입 가능한 두통 치료제 중에서 어떤 것이 가장 효과적인지 알려주세요.   \n",
       "3425                   만성 두통을 치료하기 위해 어떤 방법이 있는지 알려주세요.   \n",
       "3426                      두통의 치료를 위해 어떤 약물이 사용될 수 있을까요?   \n",
       "3427        두통이 자주 생기는데, 이를 치료하기 위해 어떤 치료법을 사용할 수 있을까요?   \n",
       "\n",
       "                                                 answer similarity_score  \n",
       "0     만약 일상적인 예방 및 조절 조치를 취하는 것이 어렵거나 효과가 없다면 다음과 같은...       [[0.7519]]  \n",
       "1     두통은 많은 사람들이 일상적으로 겪는 현상입니다. 일반적인 예방 방법으로는 규칙적인...       [[0.7753]]  \n",
       "2     긴장성 두통은 일상 생활에서 두통을 유발할 수 있는 스트레스와 관련된 원인으로 발생...       [[0.5899]]  \n",
       "3     긴장성 두통은 일상생활에서 신경이 쓰이는 통증을 유발하는 상황으로, 예방하는 방법은...       [[0.4367]]  \n",
       "4     긴장성 두통은 일상 생활에서 자세나 습관에 따라 발생할 수 있습니다. 특히 수면 자...        [[0.775]]  \n",
       "...                                                 ...              ...  \n",
       "3423  두통은 원인에 따라 다양한 치료 방법을 사용할 수 있습니다. 한편, 두통의 원인을 ...        [[0.754]]  \n",
       "3424  두통은 흔한 증상이며 많은 치료법이 있습니다. 두통은 치료하기 위해 여러 가지 방법...       [[0.6936]]  \n",
       "3425  두통은 흔한 증상이며 많은 치료법이 있습니다. 두통은 치료하기 위해 여러 가지 방법...       [[0.7687]]  \n",
       "3426  두통의 치료에는 다양한 방법이 있습니다. 주로 약물 요법이나 식이요법을 통해 증상을...       [[0.7581]]  \n",
       "3427  두통은 사람들이 일상적인 생활에서 자주 겪는 증상입니다. 만약 두통이 계속된다면, ...       [[0.8198]]  \n",
       "\n",
       "[3428 rows x 3 columns]"
      ]
     },
     "execution_count": 178,
     "metadata": {},
     "output_type": "execute_result"
    }
   ],
   "source": [
    "KR_SBERT_final_matching_df = pd.DataFrame(KR_SBERT_final_matching_list)\n",
    "KR_SBERT_final_matching_df[['question', 'answer', 'similarity_score']]"
   ]
  },
  {
   "cell_type": "code",
   "execution_count": 179,
   "metadata": {},
   "outputs": [],
   "source": [
    "KR_SBERT_final_matching_df['similarity_score'] = KR_SBERT_final_matching_df['similarity_score'].apply(lambda x: x[0][0])"
   ]
  },
  {
   "cell_type": "code",
   "execution_count": 180,
   "metadata": {},
   "outputs": [
    {
     "data": {
      "text/html": [
       "<div>\n",
       "<style scoped>\n",
       "    .dataframe tbody tr th:only-of-type {\n",
       "        vertical-align: middle;\n",
       "    }\n",
       "\n",
       "    .dataframe tbody tr th {\n",
       "        vertical-align: top;\n",
       "    }\n",
       "\n",
       "    .dataframe thead th {\n",
       "        text-align: right;\n",
       "    }\n",
       "</style>\n",
       "<table border=\"1\" class=\"dataframe\">\n",
       "  <thead>\n",
       "    <tr style=\"text-align: right;\">\n",
       "      <th></th>\n",
       "      <th>disease_category</th>\n",
       "      <th>disease_name</th>\n",
       "      <th>intention</th>\n",
       "      <th>question</th>\n",
       "      <th>answer</th>\n",
       "      <th>similarity_score</th>\n",
       "    </tr>\n",
       "  </thead>\n",
       "  <tbody>\n",
       "    <tr>\n",
       "      <th>0</th>\n",
       "      <td>응급질환</td>\n",
       "      <td>두통</td>\n",
       "      <td>예방</td>\n",
       "      <td>두통 예방을 위해 어떤 자세나 활동이 도움이 될까요?</td>\n",
       "      <td>만약 일상적인 예방 및 조절 조치를 취하는 것이 어렵거나 효과가 없다면 다음과 같은...</td>\n",
       "      <td>0.7519</td>\n",
       "    </tr>\n",
       "    <tr>\n",
       "      <th>1</th>\n",
       "      <td>응급질환</td>\n",
       "      <td>두통</td>\n",
       "      <td>예방</td>\n",
       "      <td>스트레스를 많이 받는 사람이 두통을 예방하기 위해 어떤 생활습관을 가져야 할까요?</td>\n",
       "      <td>두통은 많은 사람들이 일상적으로 겪는 현상입니다. 일반적인 예방 방법으로는 규칙적인...</td>\n",
       "      <td>0.7753</td>\n",
       "    </tr>\n",
       "  </tbody>\n",
       "</table>\n",
       "</div>"
      ],
      "text/plain": [
       "  disease_category disease_name intention  \\\n",
       "0             응급질환           두통        예방   \n",
       "1             응급질환           두통        예방   \n",
       "\n",
       "                                        question  \\\n",
       "0                  두통 예방을 위해 어떤 자세나 활동이 도움이 될까요?   \n",
       "1  스트레스를 많이 받는 사람이 두통을 예방하기 위해 어떤 생활습관을 가져야 할까요?   \n",
       "\n",
       "                                              answer  similarity_score  \n",
       "0  만약 일상적인 예방 및 조절 조치를 취하는 것이 어렵거나 효과가 없다면 다음과 같은...            0.7519  \n",
       "1  두통은 많은 사람들이 일상적으로 겪는 현상입니다. 일반적인 예방 방법으로는 규칙적인...            0.7753  "
      ]
     },
     "execution_count": 180,
     "metadata": {},
     "output_type": "execute_result"
    }
   ],
   "source": [
    "KR_SBERT_final_matching_df.head(2)"
   ]
  },
  {
   "cell_type": "code",
   "execution_count": 181,
   "metadata": {},
   "outputs": [
    {
     "name": "stdout",
     "output_type": "stream",
     "text": [
      "<class 'pandas.core.frame.DataFrame'>\n",
      "RangeIndex: 3428 entries, 0 to 3427\n",
      "Data columns (total 6 columns):\n",
      " #   Column            Non-Null Count  Dtype  \n",
      "---  ------            --------------  -----  \n",
      " 0   disease_category  3428 non-null   object \n",
      " 1   disease_name      3428 non-null   object \n",
      " 2   intention         3428 non-null   object \n",
      " 3   question          3428 non-null   object \n",
      " 4   answer            3428 non-null   object \n",
      " 5   similarity_score  3428 non-null   float32\n",
      "dtypes: float32(1), object(5)\n",
      "memory usage: 147.4+ KB\n"
     ]
    }
   ],
   "source": [
    "KR_SBERT_final_matching_df.info()"
   ]
  },
  {
   "cell_type": "code",
   "execution_count": 190,
   "metadata": {},
   "outputs": [
    {
     "data": {
      "text/plain": [
       "'갈색세포증과 관련하여 일상생활에서 신경써야할 점은 무엇인가요?'"
      ]
     },
     "execution_count": 190,
     "metadata": {},
     "output_type": "execute_result"
    }
   ],
   "source": [
    "KR_SBERT_final_matching_df['question'][3]"
   ]
  },
  {
   "cell_type": "code",
   "execution_count": 192,
   "metadata": {},
   "outputs": [
    {
     "data": {
      "text/plain": [
       "['긴장성 두통은 일상생활에서 신경이 쓰이는 통증을 유발하는 상황으로, 예방하는 방법은 그와 관련된 통증을 관리하는 것입니다',\n",
       " '적절한 자세를 유지하고 스트레스를 관리하는 것이 중요합니다',\n",
       " '스트레스는 통증의 원인이 될 수 있으므로, 이를 예방하기 위해 정기적인 운동이나 명상 등을 실천하는 것이 좋습니다',\n",
       " '일상적인 활동을 향상시키고 피로를 피하기 위해 충분한 수면을 취하는 것도 도움이 됩니다',\n",
       " '또한, 정기적인 건강 검진을 받고 의사의 지시에 따라 약물이나 보조적인 치료를 사용하는 것도 중요합니다',\n",
       " '스트레스 관리와 충분한 수면, 건강한 식습관과 정기적인 운동, 충분한 수분 섭취 등은 스트레스와 통증을 효과적으로 관리하는 데 도움이 됩니다.']"
      ]
     },
     "execution_count": 192,
     "metadata": {},
     "output_type": "execute_result"
    }
   ],
   "source": [
    "KR_SBERT_final_matching_df['answer'][3].split('. ')"
   ]
  },
  {
   "cell_type": "code",
   "execution_count": 193,
   "metadata": {},
   "outputs": [],
   "source": [
    "KR_SBERT_final_matching_df.to_csv('KR_SBERT_matching.csv')"
   ]
  },
  {
   "cell_type": "code",
   "execution_count": 3,
   "metadata": {},
   "outputs": [
    {
     "data": {
      "text/html": [
       "<div>\n",
       "<style scoped>\n",
       "    .dataframe tbody tr th:only-of-type {\n",
       "        vertical-align: middle;\n",
       "    }\n",
       "\n",
       "    .dataframe tbody tr th {\n",
       "        vertical-align: top;\n",
       "    }\n",
       "\n",
       "    .dataframe thead th {\n",
       "        text-align: right;\n",
       "    }\n",
       "</style>\n",
       "<table border=\"1\" class=\"dataframe\">\n",
       "  <thead>\n",
       "    <tr style=\"text-align: right;\">\n",
       "      <th></th>\n",
       "      <th>disease_category</th>\n",
       "      <th>disease_name</th>\n",
       "      <th>intention</th>\n",
       "      <th>question</th>\n",
       "      <th>answer</th>\n",
       "      <th>similarity_score</th>\n",
       "    </tr>\n",
       "  </thead>\n",
       "  <tbody>\n",
       "    <tr>\n",
       "      <th>0</th>\n",
       "      <td>응급질환</td>\n",
       "      <td>두통</td>\n",
       "      <td>예방</td>\n",
       "      <td>두통 예방을 위해 어떤 자세나 활동이 도움이 될까요?</td>\n",
       "      <td>만약 일상적인 예방 및 조절 조치를 취하는 것이 어렵거나 효과가 없다면 다음과 같은...</td>\n",
       "      <td>0.7519</td>\n",
       "    </tr>\n",
       "    <tr>\n",
       "      <th>1</th>\n",
       "      <td>응급질환</td>\n",
       "      <td>두통</td>\n",
       "      <td>예방</td>\n",
       "      <td>스트레스를 많이 받는 사람이 두통을 예방하기 위해 어떤 생활습관을 가져야 할까요?</td>\n",
       "      <td>두통은 많은 사람들이 일상적으로 겪는 현상입니다. 일반적인 예방 방법으로는 규칙적인...</td>\n",
       "      <td>0.7753</td>\n",
       "    </tr>\n",
       "    <tr>\n",
       "      <th>2</th>\n",
       "      <td>응급질환</td>\n",
       "      <td>두통</td>\n",
       "      <td>예방</td>\n",
       "      <td>대상포진 예방접종 후에 어지럼증과 두통이 예방접종과 관련이 있다면 어떻게 되나요?</td>\n",
       "      <td>긴장성 두통은 일상 생활에서 두통을 유발할 수 있는 스트레스와 관련된 원인으로 발생...</td>\n",
       "      <td>0.5899</td>\n",
       "    </tr>\n",
       "    <tr>\n",
       "      <th>3</th>\n",
       "      <td>응급질환</td>\n",
       "      <td>두통</td>\n",
       "      <td>예방</td>\n",
       "      <td>갈색세포증과 관련하여 일상생활에서 신경써야할 점은 무엇인가요?</td>\n",
       "      <td>긴장성 두통은 일상생활에서 신경이 쓰이는 통증을 유발하는 상황으로, 예방하는 방법은...</td>\n",
       "      <td>0.4367</td>\n",
       "    </tr>\n",
       "    <tr>\n",
       "      <th>4</th>\n",
       "      <td>응급질환</td>\n",
       "      <td>두통</td>\n",
       "      <td>예방</td>\n",
       "      <td>두통을 예방하기 위한 수면 자세에는 어떤 것들이 있을까요?</td>\n",
       "      <td>긴장성 두통은 일상 생활에서 자세나 습관에 따라 발생할 수 있습니다. 특히 수면 자...</td>\n",
       "      <td>0.7750</td>\n",
       "    </tr>\n",
       "    <tr>\n",
       "      <th>...</th>\n",
       "      <td>...</td>\n",
       "      <td>...</td>\n",
       "      <td>...</td>\n",
       "      <td>...</td>\n",
       "      <td>...</td>\n",
       "      <td>...</td>\n",
       "    </tr>\n",
       "    <tr>\n",
       "      <th>3423</th>\n",
       "      <td>응급질환</td>\n",
       "      <td>두통</td>\n",
       "      <td>치료</td>\n",
       "      <td>두통과 스트레스 반응에 대한 급성 과민성을 진단하고 치료하는 방법에는 어떤 것들이 ...</td>\n",
       "      <td>두통은 원인에 따라 다양한 치료 방법을 사용할 수 있습니다. 한편, 두통의 원인을 ...</td>\n",
       "      <td>0.7540</td>\n",
       "    </tr>\n",
       "    <tr>\n",
       "      <th>3424</th>\n",
       "      <td>응급질환</td>\n",
       "      <td>두통</td>\n",
       "      <td>치료</td>\n",
       "      <td>약국에서 구입 가능한 두통 치료제 중에서 어떤 것이 가장 효과적인지 알려주세요.</td>\n",
       "      <td>두통은 흔한 증상이며 많은 치료법이 있습니다. 두통은 치료하기 위해 여러 가지 방법...</td>\n",
       "      <td>0.6936</td>\n",
       "    </tr>\n",
       "    <tr>\n",
       "      <th>3425</th>\n",
       "      <td>응급질환</td>\n",
       "      <td>두통</td>\n",
       "      <td>치료</td>\n",
       "      <td>만성 두통을 치료하기 위해 어떤 방법이 있는지 알려주세요.</td>\n",
       "      <td>두통은 흔한 증상이며 많은 치료법이 있습니다. 두통은 치료하기 위해 여러 가지 방법...</td>\n",
       "      <td>0.7687</td>\n",
       "    </tr>\n",
       "    <tr>\n",
       "      <th>3426</th>\n",
       "      <td>응급질환</td>\n",
       "      <td>두통</td>\n",
       "      <td>치료</td>\n",
       "      <td>두통의 치료를 위해 어떤 약물이 사용될 수 있을까요?</td>\n",
       "      <td>두통의 치료에는 다양한 방법이 있습니다. 주로 약물 요법이나 식이요법을 통해 증상을...</td>\n",
       "      <td>0.7581</td>\n",
       "    </tr>\n",
       "    <tr>\n",
       "      <th>3427</th>\n",
       "      <td>응급질환</td>\n",
       "      <td>두통</td>\n",
       "      <td>치료</td>\n",
       "      <td>두통이 자주 생기는데, 이를 치료하기 위해 어떤 치료법을 사용할 수 있을까요?</td>\n",
       "      <td>두통은 사람들이 일상적인 생활에서 자주 겪는 증상입니다. 만약 두통이 계속된다면, ...</td>\n",
       "      <td>0.8198</td>\n",
       "    </tr>\n",
       "  </tbody>\n",
       "</table>\n",
       "<p>3428 rows × 6 columns</p>\n",
       "</div>"
      ],
      "text/plain": [
       "     disease_category disease_name intention  \\\n",
       "0                응급질환           두통        예방   \n",
       "1                응급질환           두통        예방   \n",
       "2                응급질환           두통        예방   \n",
       "3                응급질환           두통        예방   \n",
       "4                응급질환           두통        예방   \n",
       "...               ...          ...       ...   \n",
       "3423             응급질환           두통        치료   \n",
       "3424             응급질환           두통        치료   \n",
       "3425             응급질환           두통        치료   \n",
       "3426             응급질환           두통        치료   \n",
       "3427             응급질환           두통        치료   \n",
       "\n",
       "                                               question  \\\n",
       "0                         두통 예방을 위해 어떤 자세나 활동이 도움이 될까요?   \n",
       "1         스트레스를 많이 받는 사람이 두통을 예방하기 위해 어떤 생활습관을 가져야 할까요?   \n",
       "2         대상포진 예방접종 후에 어지럼증과 두통이 예방접종과 관련이 있다면 어떻게 되나요?   \n",
       "3                    갈색세포증과 관련하여 일상생활에서 신경써야할 점은 무엇인가요?   \n",
       "4                      두통을 예방하기 위한 수면 자세에는 어떤 것들이 있을까요?   \n",
       "...                                                 ...   \n",
       "3423  두통과 스트레스 반응에 대한 급성 과민성을 진단하고 치료하는 방법에는 어떤 것들이 ...   \n",
       "3424       약국에서 구입 가능한 두통 치료제 중에서 어떤 것이 가장 효과적인지 알려주세요.   \n",
       "3425                   만성 두통을 치료하기 위해 어떤 방법이 있는지 알려주세요.   \n",
       "3426                      두통의 치료를 위해 어떤 약물이 사용될 수 있을까요?   \n",
       "3427        두통이 자주 생기는데, 이를 치료하기 위해 어떤 치료법을 사용할 수 있을까요?   \n",
       "\n",
       "                                                 answer  similarity_score  \n",
       "0     만약 일상적인 예방 및 조절 조치를 취하는 것이 어렵거나 효과가 없다면 다음과 같은...            0.7519  \n",
       "1     두통은 많은 사람들이 일상적으로 겪는 현상입니다. 일반적인 예방 방법으로는 규칙적인...            0.7753  \n",
       "2     긴장성 두통은 일상 생활에서 두통을 유발할 수 있는 스트레스와 관련된 원인으로 발생...            0.5899  \n",
       "3     긴장성 두통은 일상생활에서 신경이 쓰이는 통증을 유발하는 상황으로, 예방하는 방법은...            0.4367  \n",
       "4     긴장성 두통은 일상 생활에서 자세나 습관에 따라 발생할 수 있습니다. 특히 수면 자...            0.7750  \n",
       "...                                                 ...               ...  \n",
       "3423  두통은 원인에 따라 다양한 치료 방법을 사용할 수 있습니다. 한편, 두통의 원인을 ...            0.7540  \n",
       "3424  두통은 흔한 증상이며 많은 치료법이 있습니다. 두통은 치료하기 위해 여러 가지 방법...            0.6936  \n",
       "3425  두통은 흔한 증상이며 많은 치료법이 있습니다. 두통은 치료하기 위해 여러 가지 방법...            0.7687  \n",
       "3426  두통의 치료에는 다양한 방법이 있습니다. 주로 약물 요법이나 식이요법을 통해 증상을...            0.7581  \n",
       "3427  두통은 사람들이 일상적인 생활에서 자주 겪는 증상입니다. 만약 두통이 계속된다면, ...            0.8198  \n",
       "\n",
       "[3428 rows x 6 columns]"
      ]
     },
     "execution_count": 3,
     "metadata": {},
     "output_type": "execute_result"
    }
   ],
   "source": [
    "KR_SBERT_final_matching_df = pd.read_csv('KR_SBERT_matching.csv', index_col=0)\n",
    "KR_SBERT_final_matching_df"
   ]
  },
  {
   "cell_type": "markdown",
   "metadata": {},
   "source": [
    "----"
   ]
  },
  {
   "cell_type": "markdown",
   "metadata": {},
   "source": [
    "### KoBert 모델과 KR-SBERT 모델 결과 비교"
   ]
  },
  {
   "cell_type": "code",
   "execution_count": 11,
   "metadata": {},
   "outputs": [],
   "source": [
    "# df = pd.merge(kobert_final_matching_df, KR_SBERT_final_matching_df, on=['question', 'intention'], how= 'left')\n",
    "# df.columns"
   ]
  },
  {
   "cell_type": "code",
   "execution_count": 12,
   "metadata": {},
   "outputs": [],
   "source": [
    "# model_result_df = df[['disease_category_x', 'disease_name_x', 'intention', 'question', 'answer_x', 'similarity_score_x', 'answer_y', 'similarity_score_y']]"
   ]
  },
  {
   "cell_type": "code",
   "execution_count": 13,
   "metadata": {},
   "outputs": [],
   "source": [
    "# model_result_df.rename(columns={'disease_category_x': 'disease_category',\n",
    "#                                 'disease_name_x': 'disease_name',\n",
    "#                                 'answer_x': 'kobert_answer',\n",
    "#                                 'similarity_score_x': 'kobert_similarity_score',\n",
    "#                                 'answer_y': 'kr_sbert_answer',\n",
    "#                                 'similarity_score_y': 'kr_sbert_similarity_score'\n",
    "#                                 }, inplace=True)"
   ]
  },
  {
   "cell_type": "code",
   "execution_count": 14,
   "metadata": {},
   "outputs": [],
   "source": [
    "# model_result_df.head(5)"
   ]
  },
  {
   "cell_type": "code",
   "execution_count": 15,
   "metadata": {},
   "outputs": [],
   "source": [
    "# model_result_df['question'][4]"
   ]
  },
  {
   "cell_type": "code",
   "execution_count": 16,
   "metadata": {},
   "outputs": [],
   "source": [
    "# model_result_df['kobert_answer'][4].split('. ')"
   ]
  },
  {
   "cell_type": "code",
   "execution_count": 17,
   "metadata": {},
   "outputs": [],
   "source": [
    "# model_result_df['kr_sbert_answer'][4].split('. ')"
   ]
  },
  {
   "cell_type": "markdown",
   "metadata": {},
   "source": [
    "---------------"
   ]
  },
  {
   "cell_type": "markdown",
   "metadata": {},
   "source": [
    "### 평균과 표준편차를 맞춘 후 유사도 비교"
   ]
  },
  {
   "cell_type": "code",
   "execution_count": 5,
   "metadata": {},
   "outputs": [
    {
     "name": "stdout",
     "output_type": "stream",
     "text": [
      "[kobert]\n",
      "평균: 0.6773873687281213\n",
      "표준편차: 0.06448183213386632\n",
      "[KRSBERT]\n",
      "평균: 0.6611920945157526\n",
      "표준편차: 0.11255157624388429\n"
     ]
    }
   ],
   "source": [
    "kobert_mean, kobert_std = np.mean(kobert_final_matching_df['similarity_score']), np.std(kobert_final_matching_df['similarity_score'])\n",
    "krsbert_mean, krsbert_std = np.mean(KR_SBERT_final_matching_df['similarity_score']), np.std(KR_SBERT_final_matching_df['similarity_score'])\n",
    "\n",
    "print(f\"[kobert]\\n평균: {kobert_mean}\\n표준편차: {kobert_std}\")\n",
    "print(f\"[KRSBERT]\\n평균: {krsbert_mean}\\n표준편차: {krsbert_std}\")"
   ]
  },
  {
   "cell_type": "markdown",
   "metadata": {},
   "source": [
    "- 표준편차가 약 2배정도 차이남. (두 모델의 유사도 계산 방식이 다르기 때문)\n",
    "- 정규화를 통해 유사도 점수를 비교 가능하게함."
   ]
  },
  {
   "cell_type": "code",
   "execution_count": 6,
   "metadata": {},
   "outputs": [],
   "source": [
    "# 평균 0, 표준편차가 1인 형태로 정규화\n",
    "kobert_final_matching_df['similarity_norm'] = (kobert_final_matching_df['similarity_score'] - kobert_mean) / kobert_std\n",
    "KR_SBERT_final_matching_df['similarity_norm'] = (KR_SBERT_final_matching_df['similarity_score'] - krsbert_mean) / krsbert_std"
   ]
  },
  {
   "cell_type": "code",
   "execution_count": 7,
   "metadata": {},
   "outputs": [
    {
     "data": {
      "text/html": [
       "<div>\n",
       "<style scoped>\n",
       "    .dataframe tbody tr th:only-of-type {\n",
       "        vertical-align: middle;\n",
       "    }\n",
       "\n",
       "    .dataframe tbody tr th {\n",
       "        vertical-align: top;\n",
       "    }\n",
       "\n",
       "    .dataframe thead th {\n",
       "        text-align: right;\n",
       "    }\n",
       "</style>\n",
       "<table border=\"1\" class=\"dataframe\">\n",
       "  <thead>\n",
       "    <tr style=\"text-align: right;\">\n",
       "      <th></th>\n",
       "      <th>disease_category</th>\n",
       "      <th>disease_name</th>\n",
       "      <th>intention</th>\n",
       "      <th>question</th>\n",
       "      <th>answer</th>\n",
       "      <th>similarity_score</th>\n",
       "      <th>similarity_norm</th>\n",
       "    </tr>\n",
       "  </thead>\n",
       "  <tbody>\n",
       "    <tr>\n",
       "      <th>0</th>\n",
       "      <td>응급질환</td>\n",
       "      <td>두통</td>\n",
       "      <td>예방</td>\n",
       "      <td>두통 예방을 위해 어떤 자세나 활동이 도움이 될까요?</td>\n",
       "      <td>만약 일상적인 예방 및 조절 조치를 취하는 것이 어렵거나 효과가 없다면 다음과 같은...</td>\n",
       "      <td>0.6894</td>\n",
       "      <td>0.186295</td>\n",
       "    </tr>\n",
       "    <tr>\n",
       "      <th>1</th>\n",
       "      <td>응급질환</td>\n",
       "      <td>두통</td>\n",
       "      <td>예방</td>\n",
       "      <td>스트레스를 많이 받는 사람이 두통을 예방하기 위해 어떤 생활습관을 가져야 할까요?</td>\n",
       "      <td>두통의 예방법에는 몇 가지 방법이 있습니다. 첫째로, 일상생활에서 올바른 자세를 유...</td>\n",
       "      <td>0.6251</td>\n",
       "      <td>-0.810885</td>\n",
       "    </tr>\n",
       "    <tr>\n",
       "      <th>2</th>\n",
       "      <td>응급질환</td>\n",
       "      <td>두통</td>\n",
       "      <td>예방</td>\n",
       "      <td>대상포진 예방접종 후에 어지럼증과 두통이 예방접종과 관련이 있다면 어떻게 되나요?</td>\n",
       "      <td>만약 두통이 오랫동안 지속된다면 의사의 진단을 받아보는 것이 좋습니다. 스트레스와 ...</td>\n",
       "      <td>0.6988</td>\n",
       "      <td>0.332072</td>\n",
       "    </tr>\n",
       "    <tr>\n",
       "      <th>3</th>\n",
       "      <td>응급질환</td>\n",
       "      <td>두통</td>\n",
       "      <td>예방</td>\n",
       "      <td>갈색세포증과 관련하여 일상생활에서 신경써야할 점은 무엇인가요?</td>\n",
       "      <td>만약 두통이 오랫동안 지속된다면 의사의 진단을 받아보는 것이 좋습니다. 스트레스와 ...</td>\n",
       "      <td>0.7173</td>\n",
       "      <td>0.618975</td>\n",
       "    </tr>\n",
       "    <tr>\n",
       "      <th>4</th>\n",
       "      <td>응급질환</td>\n",
       "      <td>두통</td>\n",
       "      <td>예방</td>\n",
       "      <td>두통을 예방하기 위한 수면 자세에는 어떤 것들이 있을까요?</td>\n",
       "      <td>두통의 예방법에는 몇 가지 방법이 있습니다. 첫째로, 일상생활에서 올바른 자세를 유...</td>\n",
       "      <td>0.6314</td>\n",
       "      <td>-0.713183</td>\n",
       "    </tr>\n",
       "  </tbody>\n",
       "</table>\n",
       "</div>"
      ],
      "text/plain": [
       "  disease_category disease_name intention  \\\n",
       "0             응급질환           두통        예방   \n",
       "1             응급질환           두통        예방   \n",
       "2             응급질환           두통        예방   \n",
       "3             응급질환           두통        예방   \n",
       "4             응급질환           두통        예방   \n",
       "\n",
       "                                        question  \\\n",
       "0                  두통 예방을 위해 어떤 자세나 활동이 도움이 될까요?   \n",
       "1  스트레스를 많이 받는 사람이 두통을 예방하기 위해 어떤 생활습관을 가져야 할까요?   \n",
       "2  대상포진 예방접종 후에 어지럼증과 두통이 예방접종과 관련이 있다면 어떻게 되나요?   \n",
       "3             갈색세포증과 관련하여 일상생활에서 신경써야할 점은 무엇인가요?   \n",
       "4               두통을 예방하기 위한 수면 자세에는 어떤 것들이 있을까요?   \n",
       "\n",
       "                                              answer  similarity_score  \\\n",
       "0  만약 일상적인 예방 및 조절 조치를 취하는 것이 어렵거나 효과가 없다면 다음과 같은...            0.6894   \n",
       "1  두통의 예방법에는 몇 가지 방법이 있습니다. 첫째로, 일상생활에서 올바른 자세를 유...            0.6251   \n",
       "2  만약 두통이 오랫동안 지속된다면 의사의 진단을 받아보는 것이 좋습니다. 스트레스와 ...            0.6988   \n",
       "3  만약 두통이 오랫동안 지속된다면 의사의 진단을 받아보는 것이 좋습니다. 스트레스와 ...            0.7173   \n",
       "4  두통의 예방법에는 몇 가지 방법이 있습니다. 첫째로, 일상생활에서 올바른 자세를 유...            0.6314   \n",
       "\n",
       "   similarity_norm  \n",
       "0         0.186295  \n",
       "1        -0.810885  \n",
       "2         0.332072  \n",
       "3         0.618975  \n",
       "4        -0.713183  "
      ]
     },
     "execution_count": 7,
     "metadata": {},
     "output_type": "execute_result"
    }
   ],
   "source": [
    "kobert_final_matching_df.head()"
   ]
  },
  {
   "cell_type": "code",
   "execution_count": 10,
   "metadata": {},
   "outputs": [
    {
     "data": {
      "text/html": [
       "<div>\n",
       "<style scoped>\n",
       "    .dataframe tbody tr th:only-of-type {\n",
       "        vertical-align: middle;\n",
       "    }\n",
       "\n",
       "    .dataframe tbody tr th {\n",
       "        vertical-align: top;\n",
       "    }\n",
       "\n",
       "    .dataframe thead th {\n",
       "        text-align: right;\n",
       "    }\n",
       "</style>\n",
       "<table border=\"1\" class=\"dataframe\">\n",
       "  <thead>\n",
       "    <tr style=\"text-align: right;\">\n",
       "      <th></th>\n",
       "      <th>disease_category</th>\n",
       "      <th>disease_name</th>\n",
       "      <th>intention</th>\n",
       "      <th>question</th>\n",
       "      <th>answer</th>\n",
       "      <th>similarity_score</th>\n",
       "      <th>similarity_norm</th>\n",
       "    </tr>\n",
       "  </thead>\n",
       "  <tbody>\n",
       "    <tr>\n",
       "      <th>0</th>\n",
       "      <td>응급질환</td>\n",
       "      <td>두통</td>\n",
       "      <td>예방</td>\n",
       "      <td>두통 예방을 위해 어떤 자세나 활동이 도움이 될까요?</td>\n",
       "      <td>만약 일상적인 예방 및 조절 조치를 취하는 것이 어렵거나 효과가 없다면 다음과 같은...</td>\n",
       "      <td>0.7519</td>\n",
       "      <td>0.805923</td>\n",
       "    </tr>\n",
       "    <tr>\n",
       "      <th>1</th>\n",
       "      <td>응급질환</td>\n",
       "      <td>두통</td>\n",
       "      <td>예방</td>\n",
       "      <td>스트레스를 많이 받는 사람이 두통을 예방하기 위해 어떤 생활습관을 가져야 할까요?</td>\n",
       "      <td>두통은 많은 사람들이 일상적으로 겪는 현상입니다. 일반적인 예방 방법으로는 규칙적인...</td>\n",
       "      <td>0.7753</td>\n",
       "      <td>1.013828</td>\n",
       "    </tr>\n",
       "    <tr>\n",
       "      <th>2</th>\n",
       "      <td>응급질환</td>\n",
       "      <td>두통</td>\n",
       "      <td>예방</td>\n",
       "      <td>대상포진 예방접종 후에 어지럼증과 두통이 예방접종과 관련이 있다면 어떻게 되나요?</td>\n",
       "      <td>긴장성 두통은 일상 생활에서 두통을 유발할 수 있는 스트레스와 관련된 원인으로 발생...</td>\n",
       "      <td>0.5899</td>\n",
       "      <td>-0.633417</td>\n",
       "    </tr>\n",
       "    <tr>\n",
       "      <th>3</th>\n",
       "      <td>응급질환</td>\n",
       "      <td>두통</td>\n",
       "      <td>예방</td>\n",
       "      <td>갈색세포증과 관련하여 일상생활에서 신경써야할 점은 무엇인가요?</td>\n",
       "      <td>긴장성 두통은 일상생활에서 신경이 쓰이는 통증을 유발하는 상황으로, 예방하는 방법은...</td>\n",
       "      <td>0.4367</td>\n",
       "      <td>-1.994571</td>\n",
       "    </tr>\n",
       "    <tr>\n",
       "      <th>4</th>\n",
       "      <td>응급질환</td>\n",
       "      <td>두통</td>\n",
       "      <td>예방</td>\n",
       "      <td>두통을 예방하기 위한 수면 자세에는 어떤 것들이 있을까요?</td>\n",
       "      <td>긴장성 두통은 일상 생활에서 자세나 습관에 따라 발생할 수 있습니다. 특히 수면 자...</td>\n",
       "      <td>0.7750</td>\n",
       "      <td>1.011162</td>\n",
       "    </tr>\n",
       "  </tbody>\n",
       "</table>\n",
       "</div>"
      ],
      "text/plain": [
       "  disease_category disease_name intention  \\\n",
       "0             응급질환           두통        예방   \n",
       "1             응급질환           두통        예방   \n",
       "2             응급질환           두통        예방   \n",
       "3             응급질환           두통        예방   \n",
       "4             응급질환           두통        예방   \n",
       "\n",
       "                                        question  \\\n",
       "0                  두통 예방을 위해 어떤 자세나 활동이 도움이 될까요?   \n",
       "1  스트레스를 많이 받는 사람이 두통을 예방하기 위해 어떤 생활습관을 가져야 할까요?   \n",
       "2  대상포진 예방접종 후에 어지럼증과 두통이 예방접종과 관련이 있다면 어떻게 되나요?   \n",
       "3             갈색세포증과 관련하여 일상생활에서 신경써야할 점은 무엇인가요?   \n",
       "4               두통을 예방하기 위한 수면 자세에는 어떤 것들이 있을까요?   \n",
       "\n",
       "                                              answer  similarity_score  \\\n",
       "0  만약 일상적인 예방 및 조절 조치를 취하는 것이 어렵거나 효과가 없다면 다음과 같은...            0.7519   \n",
       "1  두통은 많은 사람들이 일상적으로 겪는 현상입니다. 일반적인 예방 방법으로는 규칙적인...            0.7753   \n",
       "2  긴장성 두통은 일상 생활에서 두통을 유발할 수 있는 스트레스와 관련된 원인으로 발생...            0.5899   \n",
       "3  긴장성 두통은 일상생활에서 신경이 쓰이는 통증을 유발하는 상황으로, 예방하는 방법은...            0.4367   \n",
       "4  긴장성 두통은 일상 생활에서 자세나 습관에 따라 발생할 수 있습니다. 특히 수면 자...            0.7750   \n",
       "\n",
       "   similarity_norm  \n",
       "0         0.805923  \n",
       "1         1.013828  \n",
       "2        -0.633417  \n",
       "3        -1.994571  \n",
       "4         1.011162  "
      ]
     },
     "execution_count": 10,
     "metadata": {},
     "output_type": "execute_result"
    }
   ],
   "source": [
    "KR_SBERT_final_matching_df.head()"
   ]
  },
  {
   "cell_type": "code",
   "execution_count": 36,
   "metadata": {},
   "outputs": [
    {
     "data": {
      "text/html": [
       "<div>\n",
       "<style scoped>\n",
       "    .dataframe tbody tr th:only-of-type {\n",
       "        vertical-align: middle;\n",
       "    }\n",
       "\n",
       "    .dataframe tbody tr th {\n",
       "        vertical-align: top;\n",
       "    }\n",
       "\n",
       "    .dataframe thead th {\n",
       "        text-align: right;\n",
       "    }\n",
       "</style>\n",
       "<table border=\"1\" class=\"dataframe\">\n",
       "  <thead>\n",
       "    <tr style=\"text-align: right;\">\n",
       "      <th></th>\n",
       "      <th>ko_disease_category</th>\n",
       "      <th>ko_disease_name</th>\n",
       "      <th>ko_intention</th>\n",
       "      <th>ko_question</th>\n",
       "      <th>ko_answer</th>\n",
       "      <th>ko_similarity_score</th>\n",
       "      <th>ko_similarity_norm</th>\n",
       "      <th>kr_disease_category</th>\n",
       "      <th>kr_disease_name</th>\n",
       "      <th>kr_intention</th>\n",
       "      <th>kr_question</th>\n",
       "      <th>kr_answer</th>\n",
       "      <th>kr_similarity_score</th>\n",
       "      <th>kr_similarity_norm</th>\n",
       "    </tr>\n",
       "  </thead>\n",
       "  <tbody>\n",
       "    <tr>\n",
       "      <th>0</th>\n",
       "      <td>응급질환</td>\n",
       "      <td>두통</td>\n",
       "      <td>예방</td>\n",
       "      <td>두통 예방을 위해 어떤 자세나 활동이 도움이 될까요?</td>\n",
       "      <td>만약 일상적인 예방 및 조절 조치를 취하는 것이 어렵거나 효과가 없다면 다음과 같은...</td>\n",
       "      <td>0.6894</td>\n",
       "      <td>0.186295</td>\n",
       "      <td>응급질환</td>\n",
       "      <td>두통</td>\n",
       "      <td>예방</td>\n",
       "      <td>두통 예방을 위해 어떤 자세나 활동이 도움이 될까요?</td>\n",
       "      <td>만약 일상적인 예방 및 조절 조치를 취하는 것이 어렵거나 효과가 없다면 다음과 같은...</td>\n",
       "      <td>0.7519</td>\n",
       "      <td>0.805923</td>\n",
       "    </tr>\n",
       "    <tr>\n",
       "      <th>1</th>\n",
       "      <td>응급질환</td>\n",
       "      <td>두통</td>\n",
       "      <td>예방</td>\n",
       "      <td>스트레스를 많이 받는 사람이 두통을 예방하기 위해 어떤 생활습관을 가져야 할까요?</td>\n",
       "      <td>두통의 예방법에는 몇 가지 방법이 있습니다. 첫째로, 일상생활에서 올바른 자세를 유...</td>\n",
       "      <td>0.6251</td>\n",
       "      <td>-0.810885</td>\n",
       "      <td>응급질환</td>\n",
       "      <td>두통</td>\n",
       "      <td>예방</td>\n",
       "      <td>스트레스를 많이 받는 사람이 두통을 예방하기 위해 어떤 생활습관을 가져야 할까요?</td>\n",
       "      <td>두통은 많은 사람들이 일상적으로 겪는 현상입니다. 일반적인 예방 방법으로는 규칙적인...</td>\n",
       "      <td>0.7753</td>\n",
       "      <td>1.013828</td>\n",
       "    </tr>\n",
       "    <tr>\n",
       "      <th>2</th>\n",
       "      <td>응급질환</td>\n",
       "      <td>두통</td>\n",
       "      <td>예방</td>\n",
       "      <td>대상포진 예방접종 후에 어지럼증과 두통이 예방접종과 관련이 있다면 어떻게 되나요?</td>\n",
       "      <td>만약 두통이 오랫동안 지속된다면 의사의 진단을 받아보는 것이 좋습니다. 스트레스와 ...</td>\n",
       "      <td>0.6988</td>\n",
       "      <td>0.332072</td>\n",
       "      <td>응급질환</td>\n",
       "      <td>두통</td>\n",
       "      <td>예방</td>\n",
       "      <td>대상포진 예방접종 후에 어지럼증과 두통이 예방접종과 관련이 있다면 어떻게 되나요?</td>\n",
       "      <td>긴장성 두통은 일상 생활에서 두통을 유발할 수 있는 스트레스와 관련된 원인으로 발생...</td>\n",
       "      <td>0.5899</td>\n",
       "      <td>-0.633417</td>\n",
       "    </tr>\n",
       "    <tr>\n",
       "      <th>3</th>\n",
       "      <td>응급질환</td>\n",
       "      <td>두통</td>\n",
       "      <td>예방</td>\n",
       "      <td>갈색세포증과 관련하여 일상생활에서 신경써야할 점은 무엇인가요?</td>\n",
       "      <td>만약 두통이 오랫동안 지속된다면 의사의 진단을 받아보는 것이 좋습니다. 스트레스와 ...</td>\n",
       "      <td>0.7173</td>\n",
       "      <td>0.618975</td>\n",
       "      <td>응급질환</td>\n",
       "      <td>두통</td>\n",
       "      <td>예방</td>\n",
       "      <td>갈색세포증과 관련하여 일상생활에서 신경써야할 점은 무엇인가요?</td>\n",
       "      <td>긴장성 두통은 일상생활에서 신경이 쓰이는 통증을 유발하는 상황으로, 예방하는 방법은...</td>\n",
       "      <td>0.4367</td>\n",
       "      <td>-1.994571</td>\n",
       "    </tr>\n",
       "    <tr>\n",
       "      <th>4</th>\n",
       "      <td>응급질환</td>\n",
       "      <td>두통</td>\n",
       "      <td>예방</td>\n",
       "      <td>두통을 예방하기 위한 수면 자세에는 어떤 것들이 있을까요?</td>\n",
       "      <td>두통의 예방법에는 몇 가지 방법이 있습니다. 첫째로, 일상생활에서 올바른 자세를 유...</td>\n",
       "      <td>0.6314</td>\n",
       "      <td>-0.713183</td>\n",
       "      <td>응급질환</td>\n",
       "      <td>두통</td>\n",
       "      <td>예방</td>\n",
       "      <td>두통을 예방하기 위한 수면 자세에는 어떤 것들이 있을까요?</td>\n",
       "      <td>긴장성 두통은 일상 생활에서 자세나 습관에 따라 발생할 수 있습니다. 특히 수면 자...</td>\n",
       "      <td>0.7750</td>\n",
       "      <td>1.011162</td>\n",
       "    </tr>\n",
       "    <tr>\n",
       "      <th>...</th>\n",
       "      <td>...</td>\n",
       "      <td>...</td>\n",
       "      <td>...</td>\n",
       "      <td>...</td>\n",
       "      <td>...</td>\n",
       "      <td>...</td>\n",
       "      <td>...</td>\n",
       "      <td>...</td>\n",
       "      <td>...</td>\n",
       "      <td>...</td>\n",
       "      <td>...</td>\n",
       "      <td>...</td>\n",
       "      <td>...</td>\n",
       "      <td>...</td>\n",
       "    </tr>\n",
       "    <tr>\n",
       "      <th>3423</th>\n",
       "      <td>응급질환</td>\n",
       "      <td>두통</td>\n",
       "      <td>치료</td>\n",
       "      <td>두통과 스트레스 반응에 대한 급성 과민성을 진단하고 치료하는 방법에는 어떤 것들이 ...</td>\n",
       "      <td>두통은 일상 생활에서 자주 경험할 수 있는 증상입니다. 두통은 다양한 원인에 의해 ...</td>\n",
       "      <td>0.7376</td>\n",
       "      <td>0.933792</td>\n",
       "      <td>응급질환</td>\n",
       "      <td>두통</td>\n",
       "      <td>치료</td>\n",
       "      <td>두통과 스트레스 반응에 대한 급성 과민성을 진단하고 치료하는 방법에는 어떤 것들이 ...</td>\n",
       "      <td>두통은 원인에 따라 다양한 치료 방법을 사용할 수 있습니다. 한편, 두통의 원인을 ...</td>\n",
       "      <td>0.7540</td>\n",
       "      <td>0.824581</td>\n",
       "    </tr>\n",
       "    <tr>\n",
       "      <th>3424</th>\n",
       "      <td>응급질환</td>\n",
       "      <td>두통</td>\n",
       "      <td>치료</td>\n",
       "      <td>약국에서 구입 가능한 두통 치료제 중에서 어떤 것이 가장 효과적인지 알려주세요.</td>\n",
       "      <td>두통은 흔한 증상이며 많은 치료법이 있습니다. 두통은 치료하기 위해 여러 가지 방법...</td>\n",
       "      <td>0.7367</td>\n",
       "      <td>0.919835</td>\n",
       "      <td>응급질환</td>\n",
       "      <td>두통</td>\n",
       "      <td>치료</td>\n",
       "      <td>약국에서 구입 가능한 두통 치료제 중에서 어떤 것이 가장 효과적인지 알려주세요.</td>\n",
       "      <td>두통은 흔한 증상이며 많은 치료법이 있습니다. 두통은 치료하기 위해 여러 가지 방법...</td>\n",
       "      <td>0.6936</td>\n",
       "      <td>0.287938</td>\n",
       "    </tr>\n",
       "    <tr>\n",
       "      <th>3425</th>\n",
       "      <td>응급질환</td>\n",
       "      <td>두통</td>\n",
       "      <td>치료</td>\n",
       "      <td>만성 두통을 치료하기 위해 어떤 방법이 있는지 알려주세요.</td>\n",
       "      <td>두통은 흔한 증상이며 많은 치료법이 있습니다. 두통은 치료하기 위해 여러 가지 방법...</td>\n",
       "      <td>0.7480</td>\n",
       "      <td>1.095078</td>\n",
       "      <td>응급질환</td>\n",
       "      <td>두통</td>\n",
       "      <td>치료</td>\n",
       "      <td>만성 두통을 치료하기 위해 어떤 방법이 있는지 알려주세요.</td>\n",
       "      <td>두통은 흔한 증상이며 많은 치료법이 있습니다. 두통은 치료하기 위해 여러 가지 방법...</td>\n",
       "      <td>0.7687</td>\n",
       "      <td>0.955188</td>\n",
       "    </tr>\n",
       "    <tr>\n",
       "      <th>3426</th>\n",
       "      <td>응급질환</td>\n",
       "      <td>두통</td>\n",
       "      <td>치료</td>\n",
       "      <td>두통의 치료를 위해 어떤 약물이 사용될 수 있을까요?</td>\n",
       "      <td>두통 치료에는 다양한 방법이 있습니다. 약물 치료는 일반적인 원인 질환에 따라 사용...</td>\n",
       "      <td>0.6547</td>\n",
       "      <td>-0.351841</td>\n",
       "      <td>응급질환</td>\n",
       "      <td>두통</td>\n",
       "      <td>치료</td>\n",
       "      <td>두통의 치료를 위해 어떤 약물이 사용될 수 있을까요?</td>\n",
       "      <td>두통의 치료에는 다양한 방법이 있습니다. 주로 약물 요법이나 식이요법을 통해 증상을...</td>\n",
       "      <td>0.7581</td>\n",
       "      <td>0.861009</td>\n",
       "    </tr>\n",
       "    <tr>\n",
       "      <th>3427</th>\n",
       "      <td>응급질환</td>\n",
       "      <td>두통</td>\n",
       "      <td>치료</td>\n",
       "      <td>두통이 자주 생기는데, 이를 치료하기 위해 어떤 치료법을 사용할 수 있을까요?</td>\n",
       "      <td>두통은 흔한 증상이며 많은 치료법이 있습니다. 두통은 치료하기 위해 여러 가지 방법...</td>\n",
       "      <td>0.6952</td>\n",
       "      <td>0.276243</td>\n",
       "      <td>응급질환</td>\n",
       "      <td>두통</td>\n",
       "      <td>치료</td>\n",
       "      <td>두통이 자주 생기는데, 이를 치료하기 위해 어떤 치료법을 사용할 수 있을까요?</td>\n",
       "      <td>두통은 사람들이 일상적인 생활에서 자주 겪는 증상입니다. 만약 두통이 계속된다면, ...</td>\n",
       "      <td>0.8198</td>\n",
       "      <td>1.409202</td>\n",
       "    </tr>\n",
       "  </tbody>\n",
       "</table>\n",
       "<p>3428 rows × 14 columns</p>\n",
       "</div>"
      ],
      "text/plain": [
       "     ko_disease_category ko_disease_name ko_intention  \\\n",
       "0                   응급질환              두통           예방   \n",
       "1                   응급질환              두통           예방   \n",
       "2                   응급질환              두통           예방   \n",
       "3                   응급질환              두통           예방   \n",
       "4                   응급질환              두통           예방   \n",
       "...                  ...             ...          ...   \n",
       "3423                응급질환              두통           치료   \n",
       "3424                응급질환              두통           치료   \n",
       "3425                응급질환              두통           치료   \n",
       "3426                응급질환              두통           치료   \n",
       "3427                응급질환              두통           치료   \n",
       "\n",
       "                                            ko_question  \\\n",
       "0                         두통 예방을 위해 어떤 자세나 활동이 도움이 될까요?   \n",
       "1         스트레스를 많이 받는 사람이 두통을 예방하기 위해 어떤 생활습관을 가져야 할까요?   \n",
       "2         대상포진 예방접종 후에 어지럼증과 두통이 예방접종과 관련이 있다면 어떻게 되나요?   \n",
       "3                    갈색세포증과 관련하여 일상생활에서 신경써야할 점은 무엇인가요?   \n",
       "4                      두통을 예방하기 위한 수면 자세에는 어떤 것들이 있을까요?   \n",
       "...                                                 ...   \n",
       "3423  두통과 스트레스 반응에 대한 급성 과민성을 진단하고 치료하는 방법에는 어떤 것들이 ...   \n",
       "3424       약국에서 구입 가능한 두통 치료제 중에서 어떤 것이 가장 효과적인지 알려주세요.   \n",
       "3425                   만성 두통을 치료하기 위해 어떤 방법이 있는지 알려주세요.   \n",
       "3426                      두통의 치료를 위해 어떤 약물이 사용될 수 있을까요?   \n",
       "3427        두통이 자주 생기는데, 이를 치료하기 위해 어떤 치료법을 사용할 수 있을까요?   \n",
       "\n",
       "                                              ko_answer  ko_similarity_score  \\\n",
       "0     만약 일상적인 예방 및 조절 조치를 취하는 것이 어렵거나 효과가 없다면 다음과 같은...               0.6894   \n",
       "1     두통의 예방법에는 몇 가지 방법이 있습니다. 첫째로, 일상생활에서 올바른 자세를 유...               0.6251   \n",
       "2     만약 두통이 오랫동안 지속된다면 의사의 진단을 받아보는 것이 좋습니다. 스트레스와 ...               0.6988   \n",
       "3     만약 두통이 오랫동안 지속된다면 의사의 진단을 받아보는 것이 좋습니다. 스트레스와 ...               0.7173   \n",
       "4     두통의 예방법에는 몇 가지 방법이 있습니다. 첫째로, 일상생활에서 올바른 자세를 유...               0.6314   \n",
       "...                                                 ...                  ...   \n",
       "3423  두통은 일상 생활에서 자주 경험할 수 있는 증상입니다. 두통은 다양한 원인에 의해 ...               0.7376   \n",
       "3424  두통은 흔한 증상이며 많은 치료법이 있습니다. 두통은 치료하기 위해 여러 가지 방법...               0.7367   \n",
       "3425  두통은 흔한 증상이며 많은 치료법이 있습니다. 두통은 치료하기 위해 여러 가지 방법...               0.7480   \n",
       "3426  두통 치료에는 다양한 방법이 있습니다. 약물 치료는 일반적인 원인 질환에 따라 사용...               0.6547   \n",
       "3427  두통은 흔한 증상이며 많은 치료법이 있습니다. 두통은 치료하기 위해 여러 가지 방법...               0.6952   \n",
       "\n",
       "      ko_similarity_norm kr_disease_category kr_disease_name kr_intention  \\\n",
       "0               0.186295                응급질환              두통           예방   \n",
       "1              -0.810885                응급질환              두통           예방   \n",
       "2               0.332072                응급질환              두통           예방   \n",
       "3               0.618975                응급질환              두통           예방   \n",
       "4              -0.713183                응급질환              두통           예방   \n",
       "...                  ...                 ...             ...          ...   \n",
       "3423            0.933792                응급질환              두통           치료   \n",
       "3424            0.919835                응급질환              두통           치료   \n",
       "3425            1.095078                응급질환              두통           치료   \n",
       "3426           -0.351841                응급질환              두통           치료   \n",
       "3427            0.276243                응급질환              두통           치료   \n",
       "\n",
       "                                            kr_question  \\\n",
       "0                         두통 예방을 위해 어떤 자세나 활동이 도움이 될까요?   \n",
       "1         스트레스를 많이 받는 사람이 두통을 예방하기 위해 어떤 생활습관을 가져야 할까요?   \n",
       "2         대상포진 예방접종 후에 어지럼증과 두통이 예방접종과 관련이 있다면 어떻게 되나요?   \n",
       "3                    갈색세포증과 관련하여 일상생활에서 신경써야할 점은 무엇인가요?   \n",
       "4                      두통을 예방하기 위한 수면 자세에는 어떤 것들이 있을까요?   \n",
       "...                                                 ...   \n",
       "3423  두통과 스트레스 반응에 대한 급성 과민성을 진단하고 치료하는 방법에는 어떤 것들이 ...   \n",
       "3424       약국에서 구입 가능한 두통 치료제 중에서 어떤 것이 가장 효과적인지 알려주세요.   \n",
       "3425                   만성 두통을 치료하기 위해 어떤 방법이 있는지 알려주세요.   \n",
       "3426                      두통의 치료를 위해 어떤 약물이 사용될 수 있을까요?   \n",
       "3427        두통이 자주 생기는데, 이를 치료하기 위해 어떤 치료법을 사용할 수 있을까요?   \n",
       "\n",
       "                                              kr_answer  kr_similarity_score  \\\n",
       "0     만약 일상적인 예방 및 조절 조치를 취하는 것이 어렵거나 효과가 없다면 다음과 같은...               0.7519   \n",
       "1     두통은 많은 사람들이 일상적으로 겪는 현상입니다. 일반적인 예방 방법으로는 규칙적인...               0.7753   \n",
       "2     긴장성 두통은 일상 생활에서 두통을 유발할 수 있는 스트레스와 관련된 원인으로 발생...               0.5899   \n",
       "3     긴장성 두통은 일상생활에서 신경이 쓰이는 통증을 유발하는 상황으로, 예방하는 방법은...               0.4367   \n",
       "4     긴장성 두통은 일상 생활에서 자세나 습관에 따라 발생할 수 있습니다. 특히 수면 자...               0.7750   \n",
       "...                                                 ...                  ...   \n",
       "3423  두통은 원인에 따라 다양한 치료 방법을 사용할 수 있습니다. 한편, 두통의 원인을 ...               0.7540   \n",
       "3424  두통은 흔한 증상이며 많은 치료법이 있습니다. 두통은 치료하기 위해 여러 가지 방법...               0.6936   \n",
       "3425  두통은 흔한 증상이며 많은 치료법이 있습니다. 두통은 치료하기 위해 여러 가지 방법...               0.7687   \n",
       "3426  두통의 치료에는 다양한 방법이 있습니다. 주로 약물 요법이나 식이요법을 통해 증상을...               0.7581   \n",
       "3427  두통은 사람들이 일상적인 생활에서 자주 겪는 증상입니다. 만약 두통이 계속된다면, ...               0.8198   \n",
       "\n",
       "      kr_similarity_norm  \n",
       "0               0.805923  \n",
       "1               1.013828  \n",
       "2              -0.633417  \n",
       "3              -1.994571  \n",
       "4               1.011162  \n",
       "...                  ...  \n",
       "3423            0.824581  \n",
       "3424            0.287938  \n",
       "3425            0.955188  \n",
       "3426            0.861009  \n",
       "3427            1.409202  \n",
       "\n",
       "[3428 rows x 14 columns]"
      ]
     },
     "execution_count": 36,
     "metadata": {},
     "output_type": "execute_result"
    }
   ],
   "source": [
    "ko_df = kobert_final_matching_df.add_prefix('ko_') # 컬럼명 수정\n",
    "kr_df = KR_SBERT_final_matching_df.add_prefix('kr_')\n",
    "concat_df = pd.concat([ko_df, kr_df], axis=1)\n",
    "concat_df"
   ]
  },
  {
   "cell_type": "code",
   "execution_count": 37,
   "metadata": {},
   "outputs": [
    {
     "data": {
      "text/plain": [
       "Index(['ko_disease_category', 'ko_disease_name', 'ko_intention', 'ko_question',\n",
       "       'ko_answer', 'ko_similarity_score', 'ko_similarity_norm',\n",
       "       'kr_disease_category', 'kr_disease_name', 'kr_intention', 'kr_question',\n",
       "       'kr_answer', 'kr_similarity_score', 'kr_similarity_norm'],\n",
       "      dtype='object')"
      ]
     },
     "execution_count": 37,
     "metadata": {},
     "output_type": "execute_result"
    }
   ],
   "source": [
    "concat_df.columns"
   ]
  },
  {
   "cell_type": "code",
   "execution_count": 42,
   "metadata": {},
   "outputs": [],
   "source": [
    "model_result_df = concat_df[['ko_disease_category', 'ko_disease_name', 'ko_intention', 'ko_question', \n",
    "                            'ko_answer', 'ko_similarity_score', 'ko_similarity_norm', \n",
    "                            'kr_question', 'kr_answer', 'kr_similarity_score', 'kr_similarity_norm'\n",
    "                            ]]"
   ]
  },
  {
   "cell_type": "code",
   "execution_count": 43,
   "metadata": {},
   "outputs": [],
   "source": [
    "model_result_df.rename(columns={'ko_disease_category': 'disease_category',\n",
    "                                'ko_disease_name': 'disease_name',\n",
    "                                'ko_intention': 'intention',\n",
    "                                'ko_question': 'question',\n",
    "                                'ko_similarity_score': 'kobert_similarity_score',\n",
    "                                'kr_similarity_score': 'kr_sbert_similarity_score'\n",
    "                                }, inplace=True)"
   ]
  },
  {
   "cell_type": "code",
   "execution_count": 44,
   "metadata": {},
   "outputs": [
    {
     "data": {
      "text/html": [
       "<div>\n",
       "<style scoped>\n",
       "    .dataframe tbody tr th:only-of-type {\n",
       "        vertical-align: middle;\n",
       "    }\n",
       "\n",
       "    .dataframe tbody tr th {\n",
       "        vertical-align: top;\n",
       "    }\n",
       "\n",
       "    .dataframe thead th {\n",
       "        text-align: right;\n",
       "    }\n",
       "</style>\n",
       "<table border=\"1\" class=\"dataframe\">\n",
       "  <thead>\n",
       "    <tr style=\"text-align: right;\">\n",
       "      <th></th>\n",
       "      <th>disease_category</th>\n",
       "      <th>disease_name</th>\n",
       "      <th>intention</th>\n",
       "      <th>question</th>\n",
       "      <th>ko_answer</th>\n",
       "      <th>kobert_similarity_score</th>\n",
       "      <th>ko_similarity_norm</th>\n",
       "      <th>kr_question</th>\n",
       "      <th>kr_answer</th>\n",
       "      <th>kr_sbert_similarity_score</th>\n",
       "      <th>kr_similarity_norm</th>\n",
       "    </tr>\n",
       "  </thead>\n",
       "  <tbody>\n",
       "    <tr>\n",
       "      <th>0</th>\n",
       "      <td>응급질환</td>\n",
       "      <td>두통</td>\n",
       "      <td>예방</td>\n",
       "      <td>두통 예방을 위해 어떤 자세나 활동이 도움이 될까요?</td>\n",
       "      <td>만약 일상적인 예방 및 조절 조치를 취하는 것이 어렵거나 효과가 없다면 다음과 같은...</td>\n",
       "      <td>0.6894</td>\n",
       "      <td>0.186295</td>\n",
       "      <td>두통 예방을 위해 어떤 자세나 활동이 도움이 될까요?</td>\n",
       "      <td>만약 일상적인 예방 및 조절 조치를 취하는 것이 어렵거나 효과가 없다면 다음과 같은...</td>\n",
       "      <td>0.7519</td>\n",
       "      <td>0.805923</td>\n",
       "    </tr>\n",
       "    <tr>\n",
       "      <th>1</th>\n",
       "      <td>응급질환</td>\n",
       "      <td>두통</td>\n",
       "      <td>예방</td>\n",
       "      <td>스트레스를 많이 받는 사람이 두통을 예방하기 위해 어떤 생활습관을 가져야 할까요?</td>\n",
       "      <td>두통의 예방법에는 몇 가지 방법이 있습니다. 첫째로, 일상생활에서 올바른 자세를 유...</td>\n",
       "      <td>0.6251</td>\n",
       "      <td>-0.810885</td>\n",
       "      <td>스트레스를 많이 받는 사람이 두통을 예방하기 위해 어떤 생활습관을 가져야 할까요?</td>\n",
       "      <td>두통은 많은 사람들이 일상적으로 겪는 현상입니다. 일반적인 예방 방법으로는 규칙적인...</td>\n",
       "      <td>0.7753</td>\n",
       "      <td>1.013828</td>\n",
       "    </tr>\n",
       "    <tr>\n",
       "      <th>2</th>\n",
       "      <td>응급질환</td>\n",
       "      <td>두통</td>\n",
       "      <td>예방</td>\n",
       "      <td>대상포진 예방접종 후에 어지럼증과 두통이 예방접종과 관련이 있다면 어떻게 되나요?</td>\n",
       "      <td>만약 두통이 오랫동안 지속된다면 의사의 진단을 받아보는 것이 좋습니다. 스트레스와 ...</td>\n",
       "      <td>0.6988</td>\n",
       "      <td>0.332072</td>\n",
       "      <td>대상포진 예방접종 후에 어지럼증과 두통이 예방접종과 관련이 있다면 어떻게 되나요?</td>\n",
       "      <td>긴장성 두통은 일상 생활에서 두통을 유발할 수 있는 스트레스와 관련된 원인으로 발생...</td>\n",
       "      <td>0.5899</td>\n",
       "      <td>-0.633417</td>\n",
       "    </tr>\n",
       "    <tr>\n",
       "      <th>3</th>\n",
       "      <td>응급질환</td>\n",
       "      <td>두통</td>\n",
       "      <td>예방</td>\n",
       "      <td>갈색세포증과 관련하여 일상생활에서 신경써야할 점은 무엇인가요?</td>\n",
       "      <td>만약 두통이 오랫동안 지속된다면 의사의 진단을 받아보는 것이 좋습니다. 스트레스와 ...</td>\n",
       "      <td>0.7173</td>\n",
       "      <td>0.618975</td>\n",
       "      <td>갈색세포증과 관련하여 일상생활에서 신경써야할 점은 무엇인가요?</td>\n",
       "      <td>긴장성 두통은 일상생활에서 신경이 쓰이는 통증을 유발하는 상황으로, 예방하는 방법은...</td>\n",
       "      <td>0.4367</td>\n",
       "      <td>-1.994571</td>\n",
       "    </tr>\n",
       "    <tr>\n",
       "      <th>4</th>\n",
       "      <td>응급질환</td>\n",
       "      <td>두통</td>\n",
       "      <td>예방</td>\n",
       "      <td>두통을 예방하기 위한 수면 자세에는 어떤 것들이 있을까요?</td>\n",
       "      <td>두통의 예방법에는 몇 가지 방법이 있습니다. 첫째로, 일상생활에서 올바른 자세를 유...</td>\n",
       "      <td>0.6314</td>\n",
       "      <td>-0.713183</td>\n",
       "      <td>두통을 예방하기 위한 수면 자세에는 어떤 것들이 있을까요?</td>\n",
       "      <td>긴장성 두통은 일상 생활에서 자세나 습관에 따라 발생할 수 있습니다. 특히 수면 자...</td>\n",
       "      <td>0.7750</td>\n",
       "      <td>1.011162</td>\n",
       "    </tr>\n",
       "    <tr>\n",
       "      <th>...</th>\n",
       "      <td>...</td>\n",
       "      <td>...</td>\n",
       "      <td>...</td>\n",
       "      <td>...</td>\n",
       "      <td>...</td>\n",
       "      <td>...</td>\n",
       "      <td>...</td>\n",
       "      <td>...</td>\n",
       "      <td>...</td>\n",
       "      <td>...</td>\n",
       "      <td>...</td>\n",
       "    </tr>\n",
       "    <tr>\n",
       "      <th>3423</th>\n",
       "      <td>응급질환</td>\n",
       "      <td>두통</td>\n",
       "      <td>치료</td>\n",
       "      <td>두통과 스트레스 반응에 대한 급성 과민성을 진단하고 치료하는 방법에는 어떤 것들이 ...</td>\n",
       "      <td>두통은 일상 생활에서 자주 경험할 수 있는 증상입니다. 두통은 다양한 원인에 의해 ...</td>\n",
       "      <td>0.7376</td>\n",
       "      <td>0.933792</td>\n",
       "      <td>두통과 스트레스 반응에 대한 급성 과민성을 진단하고 치료하는 방법에는 어떤 것들이 ...</td>\n",
       "      <td>두통은 원인에 따라 다양한 치료 방법을 사용할 수 있습니다. 한편, 두통의 원인을 ...</td>\n",
       "      <td>0.7540</td>\n",
       "      <td>0.824581</td>\n",
       "    </tr>\n",
       "    <tr>\n",
       "      <th>3424</th>\n",
       "      <td>응급질환</td>\n",
       "      <td>두통</td>\n",
       "      <td>치료</td>\n",
       "      <td>약국에서 구입 가능한 두통 치료제 중에서 어떤 것이 가장 효과적인지 알려주세요.</td>\n",
       "      <td>두통은 흔한 증상이며 많은 치료법이 있습니다. 두통은 치료하기 위해 여러 가지 방법...</td>\n",
       "      <td>0.7367</td>\n",
       "      <td>0.919835</td>\n",
       "      <td>약국에서 구입 가능한 두통 치료제 중에서 어떤 것이 가장 효과적인지 알려주세요.</td>\n",
       "      <td>두통은 흔한 증상이며 많은 치료법이 있습니다. 두통은 치료하기 위해 여러 가지 방법...</td>\n",
       "      <td>0.6936</td>\n",
       "      <td>0.287938</td>\n",
       "    </tr>\n",
       "    <tr>\n",
       "      <th>3425</th>\n",
       "      <td>응급질환</td>\n",
       "      <td>두통</td>\n",
       "      <td>치료</td>\n",
       "      <td>만성 두통을 치료하기 위해 어떤 방법이 있는지 알려주세요.</td>\n",
       "      <td>두통은 흔한 증상이며 많은 치료법이 있습니다. 두통은 치료하기 위해 여러 가지 방법...</td>\n",
       "      <td>0.7480</td>\n",
       "      <td>1.095078</td>\n",
       "      <td>만성 두통을 치료하기 위해 어떤 방법이 있는지 알려주세요.</td>\n",
       "      <td>두통은 흔한 증상이며 많은 치료법이 있습니다. 두통은 치료하기 위해 여러 가지 방법...</td>\n",
       "      <td>0.7687</td>\n",
       "      <td>0.955188</td>\n",
       "    </tr>\n",
       "    <tr>\n",
       "      <th>3426</th>\n",
       "      <td>응급질환</td>\n",
       "      <td>두통</td>\n",
       "      <td>치료</td>\n",
       "      <td>두통의 치료를 위해 어떤 약물이 사용될 수 있을까요?</td>\n",
       "      <td>두통 치료에는 다양한 방법이 있습니다. 약물 치료는 일반적인 원인 질환에 따라 사용...</td>\n",
       "      <td>0.6547</td>\n",
       "      <td>-0.351841</td>\n",
       "      <td>두통의 치료를 위해 어떤 약물이 사용될 수 있을까요?</td>\n",
       "      <td>두통의 치료에는 다양한 방법이 있습니다. 주로 약물 요법이나 식이요법을 통해 증상을...</td>\n",
       "      <td>0.7581</td>\n",
       "      <td>0.861009</td>\n",
       "    </tr>\n",
       "    <tr>\n",
       "      <th>3427</th>\n",
       "      <td>응급질환</td>\n",
       "      <td>두통</td>\n",
       "      <td>치료</td>\n",
       "      <td>두통이 자주 생기는데, 이를 치료하기 위해 어떤 치료법을 사용할 수 있을까요?</td>\n",
       "      <td>두통은 흔한 증상이며 많은 치료법이 있습니다. 두통은 치료하기 위해 여러 가지 방법...</td>\n",
       "      <td>0.6952</td>\n",
       "      <td>0.276243</td>\n",
       "      <td>두통이 자주 생기는데, 이를 치료하기 위해 어떤 치료법을 사용할 수 있을까요?</td>\n",
       "      <td>두통은 사람들이 일상적인 생활에서 자주 겪는 증상입니다. 만약 두통이 계속된다면, ...</td>\n",
       "      <td>0.8198</td>\n",
       "      <td>1.409202</td>\n",
       "    </tr>\n",
       "  </tbody>\n",
       "</table>\n",
       "<p>3428 rows × 11 columns</p>\n",
       "</div>"
      ],
      "text/plain": [
       "     disease_category disease_name intention  \\\n",
       "0                응급질환           두통        예방   \n",
       "1                응급질환           두통        예방   \n",
       "2                응급질환           두통        예방   \n",
       "3                응급질환           두통        예방   \n",
       "4                응급질환           두통        예방   \n",
       "...               ...          ...       ...   \n",
       "3423             응급질환           두통        치료   \n",
       "3424             응급질환           두통        치료   \n",
       "3425             응급질환           두통        치료   \n",
       "3426             응급질환           두통        치료   \n",
       "3427             응급질환           두통        치료   \n",
       "\n",
       "                                               question  \\\n",
       "0                         두통 예방을 위해 어떤 자세나 활동이 도움이 될까요?   \n",
       "1         스트레스를 많이 받는 사람이 두통을 예방하기 위해 어떤 생활습관을 가져야 할까요?   \n",
       "2         대상포진 예방접종 후에 어지럼증과 두통이 예방접종과 관련이 있다면 어떻게 되나요?   \n",
       "3                    갈색세포증과 관련하여 일상생활에서 신경써야할 점은 무엇인가요?   \n",
       "4                      두통을 예방하기 위한 수면 자세에는 어떤 것들이 있을까요?   \n",
       "...                                                 ...   \n",
       "3423  두통과 스트레스 반응에 대한 급성 과민성을 진단하고 치료하는 방법에는 어떤 것들이 ...   \n",
       "3424       약국에서 구입 가능한 두통 치료제 중에서 어떤 것이 가장 효과적인지 알려주세요.   \n",
       "3425                   만성 두통을 치료하기 위해 어떤 방법이 있는지 알려주세요.   \n",
       "3426                      두통의 치료를 위해 어떤 약물이 사용될 수 있을까요?   \n",
       "3427        두통이 자주 생기는데, 이를 치료하기 위해 어떤 치료법을 사용할 수 있을까요?   \n",
       "\n",
       "                                              ko_answer  \\\n",
       "0     만약 일상적인 예방 및 조절 조치를 취하는 것이 어렵거나 효과가 없다면 다음과 같은...   \n",
       "1     두통의 예방법에는 몇 가지 방법이 있습니다. 첫째로, 일상생활에서 올바른 자세를 유...   \n",
       "2     만약 두통이 오랫동안 지속된다면 의사의 진단을 받아보는 것이 좋습니다. 스트레스와 ...   \n",
       "3     만약 두통이 오랫동안 지속된다면 의사의 진단을 받아보는 것이 좋습니다. 스트레스와 ...   \n",
       "4     두통의 예방법에는 몇 가지 방법이 있습니다. 첫째로, 일상생활에서 올바른 자세를 유...   \n",
       "...                                                 ...   \n",
       "3423  두통은 일상 생활에서 자주 경험할 수 있는 증상입니다. 두통은 다양한 원인에 의해 ...   \n",
       "3424  두통은 흔한 증상이며 많은 치료법이 있습니다. 두통은 치료하기 위해 여러 가지 방법...   \n",
       "3425  두통은 흔한 증상이며 많은 치료법이 있습니다. 두통은 치료하기 위해 여러 가지 방법...   \n",
       "3426  두통 치료에는 다양한 방법이 있습니다. 약물 치료는 일반적인 원인 질환에 따라 사용...   \n",
       "3427  두통은 흔한 증상이며 많은 치료법이 있습니다. 두통은 치료하기 위해 여러 가지 방법...   \n",
       "\n",
       "      kobert_similarity_score  ko_similarity_norm  \\\n",
       "0                      0.6894            0.186295   \n",
       "1                      0.6251           -0.810885   \n",
       "2                      0.6988            0.332072   \n",
       "3                      0.7173            0.618975   \n",
       "4                      0.6314           -0.713183   \n",
       "...                       ...                 ...   \n",
       "3423                   0.7376            0.933792   \n",
       "3424                   0.7367            0.919835   \n",
       "3425                   0.7480            1.095078   \n",
       "3426                   0.6547           -0.351841   \n",
       "3427                   0.6952            0.276243   \n",
       "\n",
       "                                            kr_question  \\\n",
       "0                         두통 예방을 위해 어떤 자세나 활동이 도움이 될까요?   \n",
       "1         스트레스를 많이 받는 사람이 두통을 예방하기 위해 어떤 생활습관을 가져야 할까요?   \n",
       "2         대상포진 예방접종 후에 어지럼증과 두통이 예방접종과 관련이 있다면 어떻게 되나요?   \n",
       "3                    갈색세포증과 관련하여 일상생활에서 신경써야할 점은 무엇인가요?   \n",
       "4                      두통을 예방하기 위한 수면 자세에는 어떤 것들이 있을까요?   \n",
       "...                                                 ...   \n",
       "3423  두통과 스트레스 반응에 대한 급성 과민성을 진단하고 치료하는 방법에는 어떤 것들이 ...   \n",
       "3424       약국에서 구입 가능한 두통 치료제 중에서 어떤 것이 가장 효과적인지 알려주세요.   \n",
       "3425                   만성 두통을 치료하기 위해 어떤 방법이 있는지 알려주세요.   \n",
       "3426                      두통의 치료를 위해 어떤 약물이 사용될 수 있을까요?   \n",
       "3427        두통이 자주 생기는데, 이를 치료하기 위해 어떤 치료법을 사용할 수 있을까요?   \n",
       "\n",
       "                                              kr_answer  \\\n",
       "0     만약 일상적인 예방 및 조절 조치를 취하는 것이 어렵거나 효과가 없다면 다음과 같은...   \n",
       "1     두통은 많은 사람들이 일상적으로 겪는 현상입니다. 일반적인 예방 방법으로는 규칙적인...   \n",
       "2     긴장성 두통은 일상 생활에서 두통을 유발할 수 있는 스트레스와 관련된 원인으로 발생...   \n",
       "3     긴장성 두통은 일상생활에서 신경이 쓰이는 통증을 유발하는 상황으로, 예방하는 방법은...   \n",
       "4     긴장성 두통은 일상 생활에서 자세나 습관에 따라 발생할 수 있습니다. 특히 수면 자...   \n",
       "...                                                 ...   \n",
       "3423  두통은 원인에 따라 다양한 치료 방법을 사용할 수 있습니다. 한편, 두통의 원인을 ...   \n",
       "3424  두통은 흔한 증상이며 많은 치료법이 있습니다. 두통은 치료하기 위해 여러 가지 방법...   \n",
       "3425  두통은 흔한 증상이며 많은 치료법이 있습니다. 두통은 치료하기 위해 여러 가지 방법...   \n",
       "3426  두통의 치료에는 다양한 방법이 있습니다. 주로 약물 요법이나 식이요법을 통해 증상을...   \n",
       "3427  두통은 사람들이 일상적인 생활에서 자주 겪는 증상입니다. 만약 두통이 계속된다면, ...   \n",
       "\n",
       "      kr_sbert_similarity_score  kr_similarity_norm  \n",
       "0                        0.7519            0.805923  \n",
       "1                        0.7753            1.013828  \n",
       "2                        0.5899           -0.633417  \n",
       "3                        0.4367           -1.994571  \n",
       "4                        0.7750            1.011162  \n",
       "...                         ...                 ...  \n",
       "3423                     0.7540            0.824581  \n",
       "3424                     0.6936            0.287938  \n",
       "3425                     0.7687            0.955188  \n",
       "3426                     0.7581            0.861009  \n",
       "3427                     0.8198            1.409202  \n",
       "\n",
       "[3428 rows x 11 columns]"
      ]
     },
     "execution_count": 44,
     "metadata": {},
     "output_type": "execute_result"
    }
   ],
   "source": [
    "model_result_df"
   ]
  },
  {
   "cell_type": "code",
   "execution_count": 45,
   "metadata": {},
   "outputs": [
    {
     "data": {
      "text/html": [
       "<div>\n",
       "<style scoped>\n",
       "    .dataframe tbody tr th:only-of-type {\n",
       "        vertical-align: middle;\n",
       "    }\n",
       "\n",
       "    .dataframe tbody tr th {\n",
       "        vertical-align: top;\n",
       "    }\n",
       "\n",
       "    .dataframe thead th {\n",
       "        text-align: right;\n",
       "    }\n",
       "</style>\n",
       "<table border=\"1\" class=\"dataframe\">\n",
       "  <thead>\n",
       "    <tr style=\"text-align: right;\">\n",
       "      <th></th>\n",
       "      <th>disease_category</th>\n",
       "      <th>disease_name</th>\n",
       "      <th>intention</th>\n",
       "      <th>question</th>\n",
       "      <th>ko_answer</th>\n",
       "      <th>kobert_similarity_score</th>\n",
       "      <th>ko_similarity_norm</th>\n",
       "      <th>kr_question</th>\n",
       "      <th>kr_answer</th>\n",
       "      <th>kr_sbert_similarity_score</th>\n",
       "      <th>kr_similarity_norm</th>\n",
       "      <th>final_answer</th>\n",
       "    </tr>\n",
       "  </thead>\n",
       "  <tbody>\n",
       "    <tr>\n",
       "      <th>0</th>\n",
       "      <td>응급질환</td>\n",
       "      <td>두통</td>\n",
       "      <td>예방</td>\n",
       "      <td>두통 예방을 위해 어떤 자세나 활동이 도움이 될까요?</td>\n",
       "      <td>만약 일상적인 예방 및 조절 조치를 취하는 것이 어렵거나 효과가 없다면 다음과 같은...</td>\n",
       "      <td>0.6894</td>\n",
       "      <td>0.186295</td>\n",
       "      <td>두통 예방을 위해 어떤 자세나 활동이 도움이 될까요?</td>\n",
       "      <td>만약 일상적인 예방 및 조절 조치를 취하는 것이 어렵거나 효과가 없다면 다음과 같은...</td>\n",
       "      <td>0.7519</td>\n",
       "      <td>0.805923</td>\n",
       "      <td>만약 일상적인 예방 및 조절 조치를 취하는 것이 어렵거나 효과가 없다면 다음과 같은...</td>\n",
       "    </tr>\n",
       "    <tr>\n",
       "      <th>1</th>\n",
       "      <td>응급질환</td>\n",
       "      <td>두통</td>\n",
       "      <td>예방</td>\n",
       "      <td>스트레스를 많이 받는 사람이 두통을 예방하기 위해 어떤 생활습관을 가져야 할까요?</td>\n",
       "      <td>두통의 예방법에는 몇 가지 방법이 있습니다. 첫째로, 일상생활에서 올바른 자세를 유...</td>\n",
       "      <td>0.6251</td>\n",
       "      <td>-0.810885</td>\n",
       "      <td>스트레스를 많이 받는 사람이 두통을 예방하기 위해 어떤 생활습관을 가져야 할까요?</td>\n",
       "      <td>두통은 많은 사람들이 일상적으로 겪는 현상입니다. 일반적인 예방 방법으로는 규칙적인...</td>\n",
       "      <td>0.7753</td>\n",
       "      <td>1.013828</td>\n",
       "      <td>두통은 많은 사람들이 일상적으로 겪는 현상입니다. 일반적인 예방 방법으로는 규칙적인...</td>\n",
       "    </tr>\n",
       "    <tr>\n",
       "      <th>2</th>\n",
       "      <td>응급질환</td>\n",
       "      <td>두통</td>\n",
       "      <td>예방</td>\n",
       "      <td>대상포진 예방접종 후에 어지럼증과 두통이 예방접종과 관련이 있다면 어떻게 되나요?</td>\n",
       "      <td>만약 두통이 오랫동안 지속된다면 의사의 진단을 받아보는 것이 좋습니다. 스트레스와 ...</td>\n",
       "      <td>0.6988</td>\n",
       "      <td>0.332072</td>\n",
       "      <td>대상포진 예방접종 후에 어지럼증과 두통이 예방접종과 관련이 있다면 어떻게 되나요?</td>\n",
       "      <td>긴장성 두통은 일상 생활에서 두통을 유발할 수 있는 스트레스와 관련된 원인으로 발생...</td>\n",
       "      <td>0.5899</td>\n",
       "      <td>-0.633417</td>\n",
       "      <td>만약 두통이 오랫동안 지속된다면 의사의 진단을 받아보는 것이 좋습니다. 스트레스와 ...</td>\n",
       "    </tr>\n",
       "    <tr>\n",
       "      <th>3</th>\n",
       "      <td>응급질환</td>\n",
       "      <td>두통</td>\n",
       "      <td>예방</td>\n",
       "      <td>갈색세포증과 관련하여 일상생활에서 신경써야할 점은 무엇인가요?</td>\n",
       "      <td>만약 두통이 오랫동안 지속된다면 의사의 진단을 받아보는 것이 좋습니다. 스트레스와 ...</td>\n",
       "      <td>0.7173</td>\n",
       "      <td>0.618975</td>\n",
       "      <td>갈색세포증과 관련하여 일상생활에서 신경써야할 점은 무엇인가요?</td>\n",
       "      <td>긴장성 두통은 일상생활에서 신경이 쓰이는 통증을 유발하는 상황으로, 예방하는 방법은...</td>\n",
       "      <td>0.4367</td>\n",
       "      <td>-1.994571</td>\n",
       "      <td>만약 두통이 오랫동안 지속된다면 의사의 진단을 받아보는 것이 좋습니다. 스트레스와 ...</td>\n",
       "    </tr>\n",
       "    <tr>\n",
       "      <th>4</th>\n",
       "      <td>응급질환</td>\n",
       "      <td>두통</td>\n",
       "      <td>예방</td>\n",
       "      <td>두통을 예방하기 위한 수면 자세에는 어떤 것들이 있을까요?</td>\n",
       "      <td>두통의 예방법에는 몇 가지 방법이 있습니다. 첫째로, 일상생활에서 올바른 자세를 유...</td>\n",
       "      <td>0.6314</td>\n",
       "      <td>-0.713183</td>\n",
       "      <td>두통을 예방하기 위한 수면 자세에는 어떤 것들이 있을까요?</td>\n",
       "      <td>긴장성 두통은 일상 생활에서 자세나 습관에 따라 발생할 수 있습니다. 특히 수면 자...</td>\n",
       "      <td>0.7750</td>\n",
       "      <td>1.011162</td>\n",
       "      <td>긴장성 두통은 일상 생활에서 자세나 습관에 따라 발생할 수 있습니다. 특히 수면 자...</td>\n",
       "    </tr>\n",
       "  </tbody>\n",
       "</table>\n",
       "</div>"
      ],
      "text/plain": [
       "  disease_category disease_name intention  \\\n",
       "0             응급질환           두통        예방   \n",
       "1             응급질환           두통        예방   \n",
       "2             응급질환           두통        예방   \n",
       "3             응급질환           두통        예방   \n",
       "4             응급질환           두통        예방   \n",
       "\n",
       "                                        question  \\\n",
       "0                  두통 예방을 위해 어떤 자세나 활동이 도움이 될까요?   \n",
       "1  스트레스를 많이 받는 사람이 두통을 예방하기 위해 어떤 생활습관을 가져야 할까요?   \n",
       "2  대상포진 예방접종 후에 어지럼증과 두통이 예방접종과 관련이 있다면 어떻게 되나요?   \n",
       "3             갈색세포증과 관련하여 일상생활에서 신경써야할 점은 무엇인가요?   \n",
       "4               두통을 예방하기 위한 수면 자세에는 어떤 것들이 있을까요?   \n",
       "\n",
       "                                           ko_answer  kobert_similarity_score  \\\n",
       "0  만약 일상적인 예방 및 조절 조치를 취하는 것이 어렵거나 효과가 없다면 다음과 같은...                   0.6894   \n",
       "1  두통의 예방법에는 몇 가지 방법이 있습니다. 첫째로, 일상생활에서 올바른 자세를 유...                   0.6251   \n",
       "2  만약 두통이 오랫동안 지속된다면 의사의 진단을 받아보는 것이 좋습니다. 스트레스와 ...                   0.6988   \n",
       "3  만약 두통이 오랫동안 지속된다면 의사의 진단을 받아보는 것이 좋습니다. 스트레스와 ...                   0.7173   \n",
       "4  두통의 예방법에는 몇 가지 방법이 있습니다. 첫째로, 일상생활에서 올바른 자세를 유...                   0.6314   \n",
       "\n",
       "   ko_similarity_norm                                    kr_question  \\\n",
       "0            0.186295                  두통 예방을 위해 어떤 자세나 활동이 도움이 될까요?   \n",
       "1           -0.810885  스트레스를 많이 받는 사람이 두통을 예방하기 위해 어떤 생활습관을 가져야 할까요?   \n",
       "2            0.332072  대상포진 예방접종 후에 어지럼증과 두통이 예방접종과 관련이 있다면 어떻게 되나요?   \n",
       "3            0.618975             갈색세포증과 관련하여 일상생활에서 신경써야할 점은 무엇인가요?   \n",
       "4           -0.713183               두통을 예방하기 위한 수면 자세에는 어떤 것들이 있을까요?   \n",
       "\n",
       "                                           kr_answer  \\\n",
       "0  만약 일상적인 예방 및 조절 조치를 취하는 것이 어렵거나 효과가 없다면 다음과 같은...   \n",
       "1  두통은 많은 사람들이 일상적으로 겪는 현상입니다. 일반적인 예방 방법으로는 규칙적인...   \n",
       "2  긴장성 두통은 일상 생활에서 두통을 유발할 수 있는 스트레스와 관련된 원인으로 발생...   \n",
       "3  긴장성 두통은 일상생활에서 신경이 쓰이는 통증을 유발하는 상황으로, 예방하는 방법은...   \n",
       "4  긴장성 두통은 일상 생활에서 자세나 습관에 따라 발생할 수 있습니다. 특히 수면 자...   \n",
       "\n",
       "   kr_sbert_similarity_score  kr_similarity_norm  \\\n",
       "0                     0.7519            0.805923   \n",
       "1                     0.7753            1.013828   \n",
       "2                     0.5899           -0.633417   \n",
       "3                     0.4367           -1.994571   \n",
       "4                     0.7750            1.011162   \n",
       "\n",
       "                                        final_answer  \n",
       "0  만약 일상적인 예방 및 조절 조치를 취하는 것이 어렵거나 효과가 없다면 다음과 같은...  \n",
       "1  두통은 많은 사람들이 일상적으로 겪는 현상입니다. 일반적인 예방 방법으로는 규칙적인...  \n",
       "2  만약 두통이 오랫동안 지속된다면 의사의 진단을 받아보는 것이 좋습니다. 스트레스와 ...  \n",
       "3  만약 두통이 오랫동안 지속된다면 의사의 진단을 받아보는 것이 좋습니다. 스트레스와 ...  \n",
       "4  긴장성 두통은 일상 생활에서 자세나 습관에 따라 발생할 수 있습니다. 특히 수면 자...  "
      ]
     },
     "execution_count": 45,
     "metadata": {},
     "output_type": "execute_result"
    }
   ],
   "source": [
    "model_result_df['final_answer'] = np.where(model_result_df['ko_similarity_norm'] > model_result_df['kr_similarity_norm'], model_result_df['ko_answer'], model_result_df['kr_answer'])\n",
    "model_result_df.head(5)"
   ]
  },
  {
   "cell_type": "code",
   "execution_count": 46,
   "metadata": {},
   "outputs": [
    {
     "data": {
      "text/html": [
       "<div>\n",
       "<style scoped>\n",
       "    .dataframe tbody tr th:only-of-type {\n",
       "        vertical-align: middle;\n",
       "    }\n",
       "\n",
       "    .dataframe tbody tr th {\n",
       "        vertical-align: top;\n",
       "    }\n",
       "\n",
       "    .dataframe thead th {\n",
       "        text-align: right;\n",
       "    }\n",
       "</style>\n",
       "<table border=\"1\" class=\"dataframe\">\n",
       "  <thead>\n",
       "    <tr style=\"text-align: right;\">\n",
       "      <th></th>\n",
       "      <th>disease_category</th>\n",
       "      <th>disease_name</th>\n",
       "      <th>intention</th>\n",
       "      <th>question</th>\n",
       "      <th>final_answer</th>\n",
       "    </tr>\n",
       "  </thead>\n",
       "  <tbody>\n",
       "    <tr>\n",
       "      <th>0</th>\n",
       "      <td>응급질환</td>\n",
       "      <td>두통</td>\n",
       "      <td>예방</td>\n",
       "      <td>두통 예방을 위해 어떤 자세나 활동이 도움이 될까요?</td>\n",
       "      <td>만약 일상적인 예방 및 조절 조치를 취하는 것이 어렵거나 효과가 없다면 다음과 같은...</td>\n",
       "    </tr>\n",
       "    <tr>\n",
       "      <th>1</th>\n",
       "      <td>응급질환</td>\n",
       "      <td>두통</td>\n",
       "      <td>예방</td>\n",
       "      <td>스트레스를 많이 받는 사람이 두통을 예방하기 위해 어떤 생활습관을 가져야 할까요?</td>\n",
       "      <td>두통은 많은 사람들이 일상적으로 겪는 현상입니다. 일반적인 예방 방법으로는 규칙적인...</td>\n",
       "    </tr>\n",
       "    <tr>\n",
       "      <th>2</th>\n",
       "      <td>응급질환</td>\n",
       "      <td>두통</td>\n",
       "      <td>예방</td>\n",
       "      <td>대상포진 예방접종 후에 어지럼증과 두통이 예방접종과 관련이 있다면 어떻게 되나요?</td>\n",
       "      <td>만약 두통이 오랫동안 지속된다면 의사의 진단을 받아보는 것이 좋습니다. 스트레스와 ...</td>\n",
       "    </tr>\n",
       "    <tr>\n",
       "      <th>3</th>\n",
       "      <td>응급질환</td>\n",
       "      <td>두통</td>\n",
       "      <td>예방</td>\n",
       "      <td>갈색세포증과 관련하여 일상생활에서 신경써야할 점은 무엇인가요?</td>\n",
       "      <td>만약 두통이 오랫동안 지속된다면 의사의 진단을 받아보는 것이 좋습니다. 스트레스와 ...</td>\n",
       "    </tr>\n",
       "    <tr>\n",
       "      <th>4</th>\n",
       "      <td>응급질환</td>\n",
       "      <td>두통</td>\n",
       "      <td>예방</td>\n",
       "      <td>두통을 예방하기 위한 수면 자세에는 어떤 것들이 있을까요?</td>\n",
       "      <td>긴장성 두통은 일상 생활에서 자세나 습관에 따라 발생할 수 있습니다. 특히 수면 자...</td>\n",
       "    </tr>\n",
       "    <tr>\n",
       "      <th>...</th>\n",
       "      <td>...</td>\n",
       "      <td>...</td>\n",
       "      <td>...</td>\n",
       "      <td>...</td>\n",
       "      <td>...</td>\n",
       "    </tr>\n",
       "    <tr>\n",
       "      <th>3423</th>\n",
       "      <td>응급질환</td>\n",
       "      <td>두통</td>\n",
       "      <td>치료</td>\n",
       "      <td>두통과 스트레스 반응에 대한 급성 과민성을 진단하고 치료하는 방법에는 어떤 것들이 ...</td>\n",
       "      <td>두통은 일상 생활에서 자주 경험할 수 있는 증상입니다. 두통은 다양한 원인에 의해 ...</td>\n",
       "    </tr>\n",
       "    <tr>\n",
       "      <th>3424</th>\n",
       "      <td>응급질환</td>\n",
       "      <td>두통</td>\n",
       "      <td>치료</td>\n",
       "      <td>약국에서 구입 가능한 두통 치료제 중에서 어떤 것이 가장 효과적인지 알려주세요.</td>\n",
       "      <td>두통은 흔한 증상이며 많은 치료법이 있습니다. 두통은 치료하기 위해 여러 가지 방법...</td>\n",
       "    </tr>\n",
       "    <tr>\n",
       "      <th>3425</th>\n",
       "      <td>응급질환</td>\n",
       "      <td>두통</td>\n",
       "      <td>치료</td>\n",
       "      <td>만성 두통을 치료하기 위해 어떤 방법이 있는지 알려주세요.</td>\n",
       "      <td>두통은 흔한 증상이며 많은 치료법이 있습니다. 두통은 치료하기 위해 여러 가지 방법...</td>\n",
       "    </tr>\n",
       "    <tr>\n",
       "      <th>3426</th>\n",
       "      <td>응급질환</td>\n",
       "      <td>두통</td>\n",
       "      <td>치료</td>\n",
       "      <td>두통의 치료를 위해 어떤 약물이 사용될 수 있을까요?</td>\n",
       "      <td>두통의 치료에는 다양한 방법이 있습니다. 주로 약물 요법이나 식이요법을 통해 증상을...</td>\n",
       "    </tr>\n",
       "    <tr>\n",
       "      <th>3427</th>\n",
       "      <td>응급질환</td>\n",
       "      <td>두통</td>\n",
       "      <td>치료</td>\n",
       "      <td>두통이 자주 생기는데, 이를 치료하기 위해 어떤 치료법을 사용할 수 있을까요?</td>\n",
       "      <td>두통은 사람들이 일상적인 생활에서 자주 겪는 증상입니다. 만약 두통이 계속된다면, ...</td>\n",
       "    </tr>\n",
       "  </tbody>\n",
       "</table>\n",
       "<p>3428 rows × 5 columns</p>\n",
       "</div>"
      ],
      "text/plain": [
       "     disease_category disease_name intention  \\\n",
       "0                응급질환           두통        예방   \n",
       "1                응급질환           두통        예방   \n",
       "2                응급질환           두통        예방   \n",
       "3                응급질환           두통        예방   \n",
       "4                응급질환           두통        예방   \n",
       "...               ...          ...       ...   \n",
       "3423             응급질환           두통        치료   \n",
       "3424             응급질환           두통        치료   \n",
       "3425             응급질환           두통        치료   \n",
       "3426             응급질환           두통        치료   \n",
       "3427             응급질환           두통        치료   \n",
       "\n",
       "                                               question  \\\n",
       "0                         두통 예방을 위해 어떤 자세나 활동이 도움이 될까요?   \n",
       "1         스트레스를 많이 받는 사람이 두통을 예방하기 위해 어떤 생활습관을 가져야 할까요?   \n",
       "2         대상포진 예방접종 후에 어지럼증과 두통이 예방접종과 관련이 있다면 어떻게 되나요?   \n",
       "3                    갈색세포증과 관련하여 일상생활에서 신경써야할 점은 무엇인가요?   \n",
       "4                      두통을 예방하기 위한 수면 자세에는 어떤 것들이 있을까요?   \n",
       "...                                                 ...   \n",
       "3423  두통과 스트레스 반응에 대한 급성 과민성을 진단하고 치료하는 방법에는 어떤 것들이 ...   \n",
       "3424       약국에서 구입 가능한 두통 치료제 중에서 어떤 것이 가장 효과적인지 알려주세요.   \n",
       "3425                   만성 두통을 치료하기 위해 어떤 방법이 있는지 알려주세요.   \n",
       "3426                      두통의 치료를 위해 어떤 약물이 사용될 수 있을까요?   \n",
       "3427        두통이 자주 생기는데, 이를 치료하기 위해 어떤 치료법을 사용할 수 있을까요?   \n",
       "\n",
       "                                           final_answer  \n",
       "0     만약 일상적인 예방 및 조절 조치를 취하는 것이 어렵거나 효과가 없다면 다음과 같은...  \n",
       "1     두통은 많은 사람들이 일상적으로 겪는 현상입니다. 일반적인 예방 방법으로는 규칙적인...  \n",
       "2     만약 두통이 오랫동안 지속된다면 의사의 진단을 받아보는 것이 좋습니다. 스트레스와 ...  \n",
       "3     만약 두통이 오랫동안 지속된다면 의사의 진단을 받아보는 것이 좋습니다. 스트레스와 ...  \n",
       "4     긴장성 두통은 일상 생활에서 자세나 습관에 따라 발생할 수 있습니다. 특히 수면 자...  \n",
       "...                                                 ...  \n",
       "3423  두통은 일상 생활에서 자주 경험할 수 있는 증상입니다. 두통은 다양한 원인에 의해 ...  \n",
       "3424  두통은 흔한 증상이며 많은 치료법이 있습니다. 두통은 치료하기 위해 여러 가지 방법...  \n",
       "3425  두통은 흔한 증상이며 많은 치료법이 있습니다. 두통은 치료하기 위해 여러 가지 방법...  \n",
       "3426  두통의 치료에는 다양한 방법이 있습니다. 주로 약물 요법이나 식이요법을 통해 증상을...  \n",
       "3427  두통은 사람들이 일상적인 생활에서 자주 겪는 증상입니다. 만약 두통이 계속된다면, ...  \n",
       "\n",
       "[3428 rows x 5 columns]"
      ]
     },
     "execution_count": 46,
     "metadata": {},
     "output_type": "execute_result"
    }
   ],
   "source": [
    "model_result_df = model_result_df[['disease_category', 'disease_name', 'intention', 'question', 'final_answer']]\n",
    "model_result_df"
   ]
  },
  {
   "cell_type": "code",
   "execution_count": 47,
   "metadata": {},
   "outputs": [],
   "source": [
    "model_result_df.to_csv('headache_qa_matching.csv')"
   ]
  },
  {
   "cell_type": "code",
   "execution_count": 48,
   "metadata": {},
   "outputs": [
    {
     "data": {
      "text/html": [
       "<div>\n",
       "<style scoped>\n",
       "    .dataframe tbody tr th:only-of-type {\n",
       "        vertical-align: middle;\n",
       "    }\n",
       "\n",
       "    .dataframe tbody tr th {\n",
       "        vertical-align: top;\n",
       "    }\n",
       "\n",
       "    .dataframe thead th {\n",
       "        text-align: right;\n",
       "    }\n",
       "</style>\n",
       "<table border=\"1\" class=\"dataframe\">\n",
       "  <thead>\n",
       "    <tr style=\"text-align: right;\">\n",
       "      <th></th>\n",
       "      <th>disease_category</th>\n",
       "      <th>disease_name</th>\n",
       "      <th>intention</th>\n",
       "      <th>question</th>\n",
       "      <th>final_answer</th>\n",
       "    </tr>\n",
       "  </thead>\n",
       "  <tbody>\n",
       "    <tr>\n",
       "      <th>0</th>\n",
       "      <td>응급질환</td>\n",
       "      <td>두통</td>\n",
       "      <td>예방</td>\n",
       "      <td>두통 예방을 위해 어떤 자세나 활동이 도움이 될까요?</td>\n",
       "      <td>만약 일상적인 예방 및 조절 조치를 취하는 것이 어렵거나 효과가 없다면 다음과 같은...</td>\n",
       "    </tr>\n",
       "    <tr>\n",
       "      <th>1</th>\n",
       "      <td>응급질환</td>\n",
       "      <td>두통</td>\n",
       "      <td>예방</td>\n",
       "      <td>스트레스를 많이 받는 사람이 두통을 예방하기 위해 어떤 생활습관을 가져야 할까요?</td>\n",
       "      <td>두통은 많은 사람들이 일상적으로 겪는 현상입니다. 일반적인 예방 방법으로는 규칙적인...</td>\n",
       "    </tr>\n",
       "    <tr>\n",
       "      <th>2</th>\n",
       "      <td>응급질환</td>\n",
       "      <td>두통</td>\n",
       "      <td>예방</td>\n",
       "      <td>대상포진 예방접종 후에 어지럼증과 두통이 예방접종과 관련이 있다면 어떻게 되나요?</td>\n",
       "      <td>만약 두통이 오랫동안 지속된다면 의사의 진단을 받아보는 것이 좋습니다. 스트레스와 ...</td>\n",
       "    </tr>\n",
       "    <tr>\n",
       "      <th>3</th>\n",
       "      <td>응급질환</td>\n",
       "      <td>두통</td>\n",
       "      <td>예방</td>\n",
       "      <td>갈색세포증과 관련하여 일상생활에서 신경써야할 점은 무엇인가요?</td>\n",
       "      <td>만약 두통이 오랫동안 지속된다면 의사의 진단을 받아보는 것이 좋습니다. 스트레스와 ...</td>\n",
       "    </tr>\n",
       "    <tr>\n",
       "      <th>4</th>\n",
       "      <td>응급질환</td>\n",
       "      <td>두통</td>\n",
       "      <td>예방</td>\n",
       "      <td>두통을 예방하기 위한 수면 자세에는 어떤 것들이 있을까요?</td>\n",
       "      <td>긴장성 두통은 일상 생활에서 자세나 습관에 따라 발생할 수 있습니다. 특히 수면 자...</td>\n",
       "    </tr>\n",
       "    <tr>\n",
       "      <th>...</th>\n",
       "      <td>...</td>\n",
       "      <td>...</td>\n",
       "      <td>...</td>\n",
       "      <td>...</td>\n",
       "      <td>...</td>\n",
       "    </tr>\n",
       "    <tr>\n",
       "      <th>3423</th>\n",
       "      <td>응급질환</td>\n",
       "      <td>두통</td>\n",
       "      <td>치료</td>\n",
       "      <td>두통과 스트레스 반응에 대한 급성 과민성을 진단하고 치료하는 방법에는 어떤 것들이 ...</td>\n",
       "      <td>두통은 일상 생활에서 자주 경험할 수 있는 증상입니다. 두통은 다양한 원인에 의해 ...</td>\n",
       "    </tr>\n",
       "    <tr>\n",
       "      <th>3424</th>\n",
       "      <td>응급질환</td>\n",
       "      <td>두통</td>\n",
       "      <td>치료</td>\n",
       "      <td>약국에서 구입 가능한 두통 치료제 중에서 어떤 것이 가장 효과적인지 알려주세요.</td>\n",
       "      <td>두통은 흔한 증상이며 많은 치료법이 있습니다. 두통은 치료하기 위해 여러 가지 방법...</td>\n",
       "    </tr>\n",
       "    <tr>\n",
       "      <th>3425</th>\n",
       "      <td>응급질환</td>\n",
       "      <td>두통</td>\n",
       "      <td>치료</td>\n",
       "      <td>만성 두통을 치료하기 위해 어떤 방법이 있는지 알려주세요.</td>\n",
       "      <td>두통은 흔한 증상이며 많은 치료법이 있습니다. 두통은 치료하기 위해 여러 가지 방법...</td>\n",
       "    </tr>\n",
       "    <tr>\n",
       "      <th>3426</th>\n",
       "      <td>응급질환</td>\n",
       "      <td>두통</td>\n",
       "      <td>치료</td>\n",
       "      <td>두통의 치료를 위해 어떤 약물이 사용될 수 있을까요?</td>\n",
       "      <td>두통의 치료에는 다양한 방법이 있습니다. 주로 약물 요법이나 식이요법을 통해 증상을...</td>\n",
       "    </tr>\n",
       "    <tr>\n",
       "      <th>3427</th>\n",
       "      <td>응급질환</td>\n",
       "      <td>두통</td>\n",
       "      <td>치료</td>\n",
       "      <td>두통이 자주 생기는데, 이를 치료하기 위해 어떤 치료법을 사용할 수 있을까요?</td>\n",
       "      <td>두통은 사람들이 일상적인 생활에서 자주 겪는 증상입니다. 만약 두통이 계속된다면, ...</td>\n",
       "    </tr>\n",
       "  </tbody>\n",
       "</table>\n",
       "<p>3428 rows × 5 columns</p>\n",
       "</div>"
      ],
      "text/plain": [
       "     disease_category disease_name intention  \\\n",
       "0                응급질환           두통        예방   \n",
       "1                응급질환           두통        예방   \n",
       "2                응급질환           두통        예방   \n",
       "3                응급질환           두통        예방   \n",
       "4                응급질환           두통        예방   \n",
       "...               ...          ...       ...   \n",
       "3423             응급질환           두통        치료   \n",
       "3424             응급질환           두통        치료   \n",
       "3425             응급질환           두통        치료   \n",
       "3426             응급질환           두통        치료   \n",
       "3427             응급질환           두통        치료   \n",
       "\n",
       "                                               question  \\\n",
       "0                         두통 예방을 위해 어떤 자세나 활동이 도움이 될까요?   \n",
       "1         스트레스를 많이 받는 사람이 두통을 예방하기 위해 어떤 생활습관을 가져야 할까요?   \n",
       "2         대상포진 예방접종 후에 어지럼증과 두통이 예방접종과 관련이 있다면 어떻게 되나요?   \n",
       "3                    갈색세포증과 관련하여 일상생활에서 신경써야할 점은 무엇인가요?   \n",
       "4                      두통을 예방하기 위한 수면 자세에는 어떤 것들이 있을까요?   \n",
       "...                                                 ...   \n",
       "3423  두통과 스트레스 반응에 대한 급성 과민성을 진단하고 치료하는 방법에는 어떤 것들이 ...   \n",
       "3424       약국에서 구입 가능한 두통 치료제 중에서 어떤 것이 가장 효과적인지 알려주세요.   \n",
       "3425                   만성 두통을 치료하기 위해 어떤 방법이 있는지 알려주세요.   \n",
       "3426                      두통의 치료를 위해 어떤 약물이 사용될 수 있을까요?   \n",
       "3427        두통이 자주 생기는데, 이를 치료하기 위해 어떤 치료법을 사용할 수 있을까요?   \n",
       "\n",
       "                                           final_answer  \n",
       "0     만약 일상적인 예방 및 조절 조치를 취하는 것이 어렵거나 효과가 없다면 다음과 같은...  \n",
       "1     두통은 많은 사람들이 일상적으로 겪는 현상입니다. 일반적인 예방 방법으로는 규칙적인...  \n",
       "2     만약 두통이 오랫동안 지속된다면 의사의 진단을 받아보는 것이 좋습니다. 스트레스와 ...  \n",
       "3     만약 두통이 오랫동안 지속된다면 의사의 진단을 받아보는 것이 좋습니다. 스트레스와 ...  \n",
       "4     긴장성 두통은 일상 생활에서 자세나 습관에 따라 발생할 수 있습니다. 특히 수면 자...  \n",
       "...                                                 ...  \n",
       "3423  두통은 일상 생활에서 자주 경험할 수 있는 증상입니다. 두통은 다양한 원인에 의해 ...  \n",
       "3424  두통은 흔한 증상이며 많은 치료법이 있습니다. 두통은 치료하기 위해 여러 가지 방법...  \n",
       "3425  두통은 흔한 증상이며 많은 치료법이 있습니다. 두통은 치료하기 위해 여러 가지 방법...  \n",
       "3426  두통의 치료에는 다양한 방법이 있습니다. 주로 약물 요법이나 식이요법을 통해 증상을...  \n",
       "3427  두통은 사람들이 일상적인 생활에서 자주 겪는 증상입니다. 만약 두통이 계속된다면, ...  \n",
       "\n",
       "[3428 rows x 5 columns]"
      ]
     },
     "execution_count": 48,
     "metadata": {},
     "output_type": "execute_result"
    }
   ],
   "source": [
    "model_result_df = pd.read_csv('headache_qa_matching.csv', index_col=0)\n",
    "model_result_df"
   ]
  },
  {
   "cell_type": "code",
   "execution_count": null,
   "metadata": {},
   "outputs": [],
   "source": []
  }
 ],
 "metadata": {
  "kernelspec": {
   "display_name": "ds_study",
   "language": "python",
   "name": "python3"
  },
  "language_info": {
   "codemirror_mode": {
    "name": "ipython",
    "version": 3
   },
   "file_extension": ".py",
   "mimetype": "text/x-python",
   "name": "python",
   "nbconvert_exporter": "python",
   "pygments_lexer": "ipython3",
   "version": "3.12.3"
  }
 },
 "nbformat": 4,
 "nbformat_minor": 2
}
