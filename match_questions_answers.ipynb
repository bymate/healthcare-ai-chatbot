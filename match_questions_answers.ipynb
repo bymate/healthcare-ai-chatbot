{
 "cells": [
  {
   "cell_type": "code",
   "execution_count": 1,
   "metadata": {},
   "outputs": [],
   "source": [
    "import numpy as np\n",
    "import pandas as pd\n",
    "import os"
   ]
  },
  {
   "cell_type": "code",
   "execution_count": 2,
   "metadata": {},
   "outputs": [],
   "source": [
    "answer_df = pd.read_csv('./두통 답변.csv', index_col=0)\n",
    "question_df = pd.read_csv('./두통 질문.csv', index_col=0)"
   ]
  },
  {
   "cell_type": "code",
   "execution_count": 3,
   "metadata": {},
   "outputs": [
    {
     "data": {
      "text/html": [
       "<div>\n",
       "<style scoped>\n",
       "    .dataframe tbody tr th:only-of-type {\n",
       "        vertical-align: middle;\n",
       "    }\n",
       "\n",
       "    .dataframe tbody tr th {\n",
       "        vertical-align: top;\n",
       "    }\n",
       "\n",
       "    .dataframe thead th {\n",
       "        text-align: right;\n",
       "    }\n",
       "</style>\n",
       "<table border=\"1\" class=\"dataframe\">\n",
       "  <thead>\n",
       "    <tr style=\"text-align: right;\">\n",
       "      <th></th>\n",
       "      <th>disease_category</th>\n",
       "      <th>disease_name</th>\n",
       "      <th>intention</th>\n",
       "      <th>answer_intro_conclusion</th>\n",
       "      <th>answer</th>\n",
       "    </tr>\n",
       "  </thead>\n",
       "  <tbody>\n",
       "    <tr>\n",
       "      <th>0</th>\n",
       "      <td>응급질환</td>\n",
       "      <td>두통</td>\n",
       "      <td>예방</td>\n",
       "      <td>두통을 예방하기 위해서는 일상적으로 바른 자세를 유지해야 합니다. 일상 생활에서의 ...</td>\n",
       "      <td>두통을 예방하기 위해서는 일상적으로 바른 자세를 유지해야 합니다. 일상 생활에서의 ...</td>\n",
       "    </tr>\n",
       "    <tr>\n",
       "      <th>1</th>\n",
       "      <td>응급질환</td>\n",
       "      <td>두통</td>\n",
       "      <td>예방</td>\n",
       "      <td>긴장성 두통을 예방하기 위한 몇 가지 조치를 취할 수 있습니다. 마지막으로, 의사나...</td>\n",
       "      <td>긴장성 두통을 예방하기 위한 몇 가지 조치를 취할 수 있습니다. 먼저, 건강한 생활...</td>\n",
       "    </tr>\n",
       "    <tr>\n",
       "      <th>2</th>\n",
       "      <td>응급질환</td>\n",
       "      <td>두통</td>\n",
       "      <td>예방</td>\n",
       "      <td>두통 예방을 위한 생활습관은 다양한 방법으로 개선할 수 있습니다. 일상적인 습관 중...</td>\n",
       "      <td>두통 예방을 위한 생활습관은 다양한 방법으로 개선할 수 있습니다. 일상적인 습관 중...</td>\n",
       "    </tr>\n",
       "    <tr>\n",
       "      <th>3</th>\n",
       "      <td>응급질환</td>\n",
       "      <td>두통</td>\n",
       "      <td>예방</td>\n",
       "      <td>머리 통증을 예방하기 위해 몇 가지 전략을 시도해볼 수 있습니다. 이러한 전략들은 ...</td>\n",
       "      <td>머리 통증을 예방하기 위해 몇 가지 전략을 시도해볼 수 있습니다. 스트레스를 관리하...</td>\n",
       "    </tr>\n",
       "    <tr>\n",
       "      <th>4</th>\n",
       "      <td>응급질환</td>\n",
       "      <td>두통</td>\n",
       "      <td>예방</td>\n",
       "      <td>스트레스는 긴장성 두통을 유발하는 중요한 요인 중 하나입니다. 스트레스를 줄이는 것...</td>\n",
       "      <td>스트레스는 긴장성 두통을 유발하는 중요한 요인 중 하나입니다. 스트레스를 줄이는 것...</td>\n",
       "    </tr>\n",
       "    <tr>\n",
       "      <th>...</th>\n",
       "      <td>...</td>\n",
       "      <td>...</td>\n",
       "      <td>...</td>\n",
       "      <td>...</td>\n",
       "      <td>...</td>\n",
       "    </tr>\n",
       "    <tr>\n",
       "      <th>5513</th>\n",
       "      <td>응급질환</td>\n",
       "      <td>두통</td>\n",
       "      <td>치료</td>\n",
       "      <td>두통은 우리 일상생활에서 흔히 겪는 증상입니다. 만약 두통이 반복적으로 발생한다면,...</td>\n",
       "      <td>두통은 우리 일상생활에서 흔히 겪는 증상입니다. 두통의 치료는 그 원인과 심각성에 ...</td>\n",
       "    </tr>\n",
       "    <tr>\n",
       "      <th>5514</th>\n",
       "      <td>응급질환</td>\n",
       "      <td>두통</td>\n",
       "      <td>치료</td>\n",
       "      <td>두통은 많은 사람들이 겪는 일상적인 문제입니다. 치료 방법은 두통의 종류와 원인에 ...</td>\n",
       "      <td>두통은 많은 사람들이 겪는 일상적인 문제입니다. 치료 방법은 두통의 종류와 원인에 ...</td>\n",
       "    </tr>\n",
       "    <tr>\n",
       "      <th>5515</th>\n",
       "      <td>응급질환</td>\n",
       "      <td>두통</td>\n",
       "      <td>치료</td>\n",
       "      <td>두통은 일상 생활에 불편을 초래할 수 있는 주요한 증상 중 하나입니다. 치료법은 두...</td>\n",
       "      <td>두통은 일상 생활에 불편을 초래할 수 있는 주요한 증상 중 하나입니다. 치료법은 두...</td>\n",
       "    </tr>\n",
       "    <tr>\n",
       "      <th>5516</th>\n",
       "      <td>응급질환</td>\n",
       "      <td>두통</td>\n",
       "      <td>치료</td>\n",
       "      <td>두통은 일반적으로 일차성 두통과 이차성 두통으로 구분됩니다. 일차성 두통은 두통을 ...</td>\n",
       "      <td>두통은 일반적으로 일차성 두통과 이차성 두통으로 구분됩니다. 일차성 두통은 두통을 ...</td>\n",
       "    </tr>\n",
       "    <tr>\n",
       "      <th>5517</th>\n",
       "      <td>응급질환</td>\n",
       "      <td>두통</td>\n",
       "      <td>치료</td>\n",
       "      <td>두통은 일상생활에 큰 지장을 주는 증상입니다. 두통이 심하거나 지속적인 증상이 있을...</td>\n",
       "      <td>두통은 일상생활에 큰 지장을 주는 증상입니다. 두통이 심하거나 지속적인 증상이 있을...</td>\n",
       "    </tr>\n",
       "  </tbody>\n",
       "</table>\n",
       "<p>5518 rows × 5 columns</p>\n",
       "</div>"
      ],
      "text/plain": [
       "     disease_category disease_name intention  \\\n",
       "0                응급질환           두통        예방   \n",
       "1                응급질환           두통        예방   \n",
       "2                응급질환           두통        예방   \n",
       "3                응급질환           두통        예방   \n",
       "4                응급질환           두통        예방   \n",
       "...               ...          ...       ...   \n",
       "5513             응급질환           두통        치료   \n",
       "5514             응급질환           두통        치료   \n",
       "5515             응급질환           두통        치료   \n",
       "5516             응급질환           두통        치료   \n",
       "5517             응급질환           두통        치료   \n",
       "\n",
       "                                answer_intro_conclusion  \\\n",
       "0     두통을 예방하기 위해서는 일상적으로 바른 자세를 유지해야 합니다. 일상 생활에서의 ...   \n",
       "1     긴장성 두통을 예방하기 위한 몇 가지 조치를 취할 수 있습니다. 마지막으로, 의사나...   \n",
       "2     두통 예방을 위한 생활습관은 다양한 방법으로 개선할 수 있습니다. 일상적인 습관 중...   \n",
       "3     머리 통증을 예방하기 위해 몇 가지 전략을 시도해볼 수 있습니다. 이러한 전략들은 ...   \n",
       "4     스트레스는 긴장성 두통을 유발하는 중요한 요인 중 하나입니다. 스트레스를 줄이는 것...   \n",
       "...                                                 ...   \n",
       "5513  두통은 우리 일상생활에서 흔히 겪는 증상입니다. 만약 두통이 반복적으로 발생한다면,...   \n",
       "5514  두통은 많은 사람들이 겪는 일상적인 문제입니다. 치료 방법은 두통의 종류와 원인에 ...   \n",
       "5515  두통은 일상 생활에 불편을 초래할 수 있는 주요한 증상 중 하나입니다. 치료법은 두...   \n",
       "5516  두통은 일반적으로 일차성 두통과 이차성 두통으로 구분됩니다. 일차성 두통은 두통을 ...   \n",
       "5517  두통은 일상생활에 큰 지장을 주는 증상입니다. 두통이 심하거나 지속적인 증상이 있을...   \n",
       "\n",
       "                                                 answer  \n",
       "0     두통을 예방하기 위해서는 일상적으로 바른 자세를 유지해야 합니다. 일상 생활에서의 ...  \n",
       "1     긴장성 두통을 예방하기 위한 몇 가지 조치를 취할 수 있습니다. 먼저, 건강한 생활...  \n",
       "2     두통 예방을 위한 생활습관은 다양한 방법으로 개선할 수 있습니다. 일상적인 습관 중...  \n",
       "3     머리 통증을 예방하기 위해 몇 가지 전략을 시도해볼 수 있습니다. 스트레스를 관리하...  \n",
       "4     스트레스는 긴장성 두통을 유발하는 중요한 요인 중 하나입니다. 스트레스를 줄이는 것...  \n",
       "...                                                 ...  \n",
       "5513  두통은 우리 일상생활에서 흔히 겪는 증상입니다. 두통의 치료는 그 원인과 심각성에 ...  \n",
       "5514  두통은 많은 사람들이 겪는 일상적인 문제입니다. 치료 방법은 두통의 종류와 원인에 ...  \n",
       "5515  두통은 일상 생활에 불편을 초래할 수 있는 주요한 증상 중 하나입니다. 치료법은 두...  \n",
       "5516  두통은 일반적으로 일차성 두통과 이차성 두통으로 구분됩니다. 일차성 두통은 두통을 ...  \n",
       "5517  두통은 일상생활에 큰 지장을 주는 증상입니다. 두통이 심하거나 지속적인 증상이 있을...  \n",
       "\n",
       "[5518 rows x 5 columns]"
      ]
     },
     "execution_count": 3,
     "metadata": {},
     "output_type": "execute_result"
    }
   ],
   "source": [
    "answer_df"
   ]
  },
  {
   "cell_type": "markdown",
   "metadata": {},
   "source": [
    "### 키워드 및 문장기반 유사도 측정 및 질문-답변 매칭\n",
    "(1) KeyBERT 모델을 사용해 키워드 유사도가 높은 질문들만 1차 추출\n",
    "- 명사, 형용사 형태소로만 재 문장 구성 \n",
    "- KeyBERT 모델을 활용해 문장의 키워드 추출(BERT 기반이므로 문맥정보 이해)\n",
    "- TF-IDF 벡터로 변환 후 코사인 유사도 계산. 답변당 상위 n개의 질문만 추출\n",
    "- 바로 모든 질문과 답변을 비교하기보다 1차 필터링을 통해 문장수를 줄여 대용량시 연산 속도를 높이기 위함.\n",
    "\n",
    "(2) 필터링된 문장들만 임베딩 후 유사도 비교\n",
    "- KoBERT: 한국어로 된 문장, 단어, 문맥을 이해하고 처리하는 범용 모델. ex) 감정 분석, 문서 분류, 질의 응답 등\n",
    "- KR-SBERT: 문장 유사도에 조금 더 최적화\n",
    "\n",
    "(3) 가장 연관성이 높은 질문 데이터프레임화"
   ]
  },
  {
   "cell_type": "markdown",
   "metadata": {},
   "source": [
    "### (1)-1 형태소 분석 후 문장 재생성"
   ]
  },
  {
   "cell_type": "code",
   "execution_count": 4,
   "metadata": {},
   "outputs": [],
   "source": [
    "from konlpy.tag import Okt\n",
    "\n",
    "okt = Okt()\n",
    "\n",
    "# 형태소 분석 및 품사 정보\n",
    "test_keyword = []\n",
    "for sentence in question_df['question']:\n",
    "    test_keyword.append(okt.pos(sentence))"
   ]
  },
  {
   "cell_type": "markdown",
   "metadata": {},
   "source": [
    "- 키워드 추출, 문장 재생성 함수"
   ]
  },
  {
   "cell_type": "code",
   "execution_count": 5,
   "metadata": {},
   "outputs": [],
   "source": [
    "def text_extract(df, column):\n",
    "    # 의도\n",
    "    pos_keywords = []\n",
    "    for q in df[f'{column}']:\n",
    "        pos_keywords.append(okt.pos(q))\n",
    "\n",
    "    # Noun, Adjective 키워드만 추출\n",
    "    keyword_lists = []\n",
    "    for list in pos_keywords:\n",
    "        \n",
    "        sentence_keywords = []\n",
    "        for pair in list:\n",
    "            keyword, pos = pair\n",
    "            if pos in ['Noun', 'Adjective']:\n",
    "                sentence_keywords.append((keyword, pos))\n",
    "\n",
    "        keyword_lists.append(sentence_keywords)\n",
    "\n",
    "    return keyword_lists"
   ]
  },
  {
   "cell_type": "code",
   "execution_count": 6,
   "metadata": {},
   "outputs": [],
   "source": [
    "question_keyword_lists = text_extract(question_df, 'question')"
   ]
  },
  {
   "cell_type": "code",
   "execution_count": 7,
   "metadata": {},
   "outputs": [],
   "source": [
    "# 다시 문장으로 만드는 함수 만들기\n",
    "def remake_sentence(keyword_lists):\n",
    "    remake_question = []\n",
    "    for list in keyword_lists:\n",
    "        sentence = ''\n",
    "        for pair in list:\n",
    "            sentence = sentence + pair[0] + ' '\n",
    "        remake_question.append(sentence)\n",
    "\n",
    "    return remake_question"
   ]
  },
  {
   "cell_type": "code",
   "execution_count": 8,
   "metadata": {},
   "outputs": [
    {
     "data": {
      "text/plain": [
       "['두통 예방 위해 어떤 자세 활동 도움 요 ',\n",
       " '스트레스 사람 두통 예방 위해 어떤 생활 습관 요 ',\n",
       " '대상포진 예방접종 후 어지럼증 두통 예방접종 관련 있다면 어떻게 ',\n",
       " '갈색 포증 관련 일상생활 신경 점 무엇 ',\n",
       " '두통 예방 위 수면 자세 어떤 것 있을까요 ']"
      ]
     },
     "execution_count": 8,
     "metadata": {},
     "output_type": "execute_result"
    }
   ],
   "source": [
    "question_remake_sentence = remake_sentence(question_keyword_lists)\n",
    "question_remake_sentence[:5]"
   ]
  },
  {
   "cell_type": "markdown",
   "metadata": {},
   "source": [
    "- 의도별 키워드 추출 및 문장 재생성 함수로 문장 재생성하기"
   ]
  },
  {
   "cell_type": "code",
   "execution_count": 9,
   "metadata": {},
   "outputs": [
    {
     "data": {
      "text/plain": [
       "array(['예방', '원인', '정의', '증상', '진단', '치료'], dtype=object)"
      ]
     },
     "execution_count": 9,
     "metadata": {},
     "output_type": "execute_result"
    }
   ],
   "source": [
    "question_df['intention'].unique()"
   ]
  },
  {
   "cell_type": "code",
   "execution_count": 10,
   "metadata": {},
   "outputs": [],
   "source": [
    "# 키워드 추출 및 문장 재생성 함수\n",
    "def remake_sentence_by_intention(df, intention, column):\n",
    "    filtered_df = df[df['intention'] == f'{intention}']\n",
    "    # 형태소 키워드 추출\n",
    "    keyword_lists = text_extract(filtered_df, column)\n",
    "    # 문장 재생성\n",
    "    result = remake_sentence(keyword_lists)\n",
    "\n",
    "    return result"
   ]
  },
  {
   "cell_type": "code",
   "execution_count": 11,
   "metadata": {},
   "outputs": [
    {
     "data": {
      "text/plain": [
       "308"
      ]
     },
     "execution_count": 11,
     "metadata": {},
     "output_type": "execute_result"
    }
   ],
   "source": [
    "len(remake_sentence_by_intention(question_df, '예방', 'question'))"
   ]
  },
  {
   "cell_type": "code",
   "execution_count": 12,
   "metadata": {},
   "outputs": [
    {
     "name": "stdout",
     "output_type": "stream",
     "text": [
      "prevention_sentence\n",
      "cause_sentence\n",
      "definition_sentence\n",
      "symptom_sentence\n",
      "diagnosis_sentence\n",
      "treatment_sentence\n"
     ]
    }
   ],
   "source": [
    "intention_en = {'예방': 'prevention',\n",
    "                '원인': 'cause',\n",
    "                '정의': 'definition',\n",
    "                '증상': 'symptom',\n",
    "                '진단': 'diagnosis',\n",
    "                '치료': 'treatment'}\n",
    "\n",
    "for i in question_df['intention'].unique():\n",
    "    print(f'{intention_en[i]}_sentence')"
   ]
  },
  {
   "cell_type": "code",
   "execution_count": 13,
   "metadata": {},
   "outputs": [],
   "source": [
    "# 의도별 질문 문장 재생성\n",
    "question_sentences_dic = {} # 딕셔너리로 변수명 저장\n",
    "\n",
    "for i in question_df['intention'].unique():\n",
    "    var_name = f'{intention_en[i]}_sentence' # 변수명\n",
    "    question_sentences_dic[var_name] = remake_sentence_by_intention(question_df, i, 'question')"
   ]
  },
  {
   "cell_type": "code",
   "execution_count": 14,
   "metadata": {},
   "outputs": [
    {
     "data": {
      "text/plain": [
       "['두통 예방 위해 어떤 자세 활동 도움 요 ',\n",
       " '스트레스 사람 두통 예방 위해 어떤 생활 습관 요 ',\n",
       " '대상포진 예방접종 후 어지럼증 두통 예방접종 관련 있다면 어떻게 ']"
      ]
     },
     "execution_count": 14,
     "metadata": {},
     "output_type": "execute_result"
    }
   ],
   "source": [
    "question_sentences_dic['prevention_sentence'][:3]"
   ]
  },
  {
   "cell_type": "code",
   "execution_count": 15,
   "metadata": {},
   "outputs": [],
   "source": [
    "# 의도별 답변 문장 재생성\n",
    "answer_sentences_dic = {} # 딕셔너리로 변수명 저장\n",
    "\n",
    "for i in answer_df['intention'].unique():\n",
    "    var_name = f'{intention_en[i]}_sentence' # 변수명\n",
    "    answer_sentences_dic[var_name] = remake_sentence_by_intention(answer_df, i, 'answer_intro_conclusion')"
   ]
  },
  {
   "cell_type": "code",
   "execution_count": 16,
   "metadata": {},
   "outputs": [
    {
     "data": {
      "text/plain": [
       "['두통 예방 위 일상 자세 유지 일상 생활 자세한 관리 두통 예방 도움 수 있습니다 올바른 자세 수면 스트레칭 통해 일상 생활 올바른 자세 유지 것 두통 예방 도움 ',\n",
       " '긴장 두통 예방 위 몇 가지 조치 취할 수 있습니다 마지막 의사 영양사 상담 통해 적절한 예방 조치 취하 것 중요합니다 의사 영양사 조언 정기 건강 관리 스트레스 관리 긴장 두통 예방 데 도움 것 입니다 ',\n",
       " '두통 예방 위 생활 습관 다양한 방법 개선 수 있습니다 일상 습관 중 하나 충분한 수면 취하 것 입니다 수면 시간 충분히 확보 잠자리 전 긴장 운동 활동 것 좋습니다 또한 스트레스 관리 것 중요한 요소 입니다 스트레스 긴장 두통 유발 주요한 요인 므 스트레스 효과 관리 방법 것 중요합니다 두통 예방 위 일상 습관 개선 스트레스 관리 충분한 휴식 필요합니다 스트레스 높을 경우 의사 상담 적절한 치료 방법 것 좋습니다 ']"
      ]
     },
     "execution_count": 16,
     "metadata": {},
     "output_type": "execute_result"
    }
   ],
   "source": [
    "answer_sentences_dic['prevention_sentence'][:3]"
   ]
  },
  {
   "cell_type": "markdown",
   "metadata": {},
   "source": [
    "### (1)-2 keybert 모델로 키워드 추출\n",
    "- 재생산한 문장에서의 키워드 중요도 반영"
   ]
  },
  {
   "cell_type": "code",
   "execution_count": 17,
   "metadata": {},
   "outputs": [
    {
     "name": "stdout",
     "output_type": "stream",
     "text": [
      "WARNING:tensorflow:From c:\\Users\\Paris\\miniconda3\\envs\\ds_study\\Lib\\site-packages\\tf_keras\\src\\losses.py:2976: The name tf.losses.sparse_softmax_cross_entropy is deprecated. Please use tf.compat.v1.losses.sparse_softmax_cross_entropy instead.\n",
      "\n"
     ]
    }
   ],
   "source": [
    "from keybert import KeyBERT\n",
    "\n",
    "# 모델 불러오기\n",
    "kw_model = KeyBERT()"
   ]
  },
  {
   "cell_type": "code",
   "execution_count": 18,
   "metadata": {},
   "outputs": [
    {
     "data": {
      "text/plain": [
       "['prevention_sentence',\n",
       " 'cause_sentence',\n",
       " 'definition_sentence',\n",
       " 'symptom_sentence',\n",
       " 'diagnosis_sentence',\n",
       " 'treatment_sentence']"
      ]
     },
     "execution_count": 18,
     "metadata": {},
     "output_type": "execute_result"
    }
   ],
   "source": [
    "list(question_sentences_dic.keys())"
   ]
  },
  {
   "cell_type": "code",
   "execution_count": 19,
   "metadata": {},
   "outputs": [
    {
     "data": {
      "text/plain": [
       "dict_keys(['prevention_sentence', 'cause_sentence', 'definition_sentence', 'symptom_sentence', 'diagnosis_sentence', 'treatment_sentence'])"
      ]
     },
     "execution_count": 19,
     "metadata": {},
     "output_type": "execute_result"
    }
   ],
   "source": [
    "question_sentences_dic.keys()"
   ]
  },
  {
   "cell_type": "code",
   "execution_count": 20,
   "metadata": {},
   "outputs": [
    {
     "name": "stderr",
     "output_type": "stream",
     "text": [
      "c:\\Users\\Paris\\miniconda3\\envs\\ds_study\\Lib\\site-packages\\transformers\\models\\bert\\modeling_bert.py:440: UserWarning: 1Torch was not compiled with flash attention. (Triggered internally at C:\\cb\\pytorch_1000000000000\\work\\aten\\src\\ATen\\native\\transformers\\cuda\\sdp_utils.cpp:555.)\n",
      "  attn_output = torch.nn.functional.scaled_dot_product_attention(\n"
     ]
    }
   ],
   "source": [
    "# 질문 keybert 키워드 추출\n",
    "question_keybert_dic = {}\n",
    "\n",
    "# 변수명 딕셔너리에 키값으로 담음.\n",
    "for key in list(question_sentences_dic.keys()):\n",
    "    var = key.split('_')[0]\n",
    "    var_name = f'{var}_question_keywords'\n",
    "\n",
    "    question_keybert_dic[var_name] = []\n",
    "    # question_keywords = []\n",
    "    for q in question_sentences_dic[key]:\n",
    "        kw = kw_model.extract_keywords(q, keyphrase_ngram_range=(1, 1), top_n=10)\n",
    "        question_keybert_dic[var_name].append(kw)"
   ]
  },
  {
   "cell_type": "code",
   "execution_count": 21,
   "metadata": {},
   "outputs": [
    {
     "data": {
      "text/plain": [
       "(dict_keys(['prevention_question_keywords', 'cause_question_keywords', 'definition_question_keywords', 'symptom_question_keywords', 'diagnosis_question_keywords', 'treatment_question_keywords']),\n",
       " [[('진통제', 0.6325),\n",
       "   ('충분한', 0.5314),\n",
       "   ('두통', 0.4342),\n",
       "   ('치료', 0.3565),\n",
       "   ('효과', 0.3234),\n",
       "   ('있을까요', 0.201),\n",
       "   ('있을', 0.201)],\n",
       "  [('성적', 0.5468),\n",
       "   ('달성', 0.4924),\n",
       "   ('장기', 0.444),\n",
       "   ('두통', 0.4321),\n",
       "   ('목표', 0.4252),\n",
       "   ('도움', 0.2602),\n",
       "   ('전략', 0.1802),\n",
       "   ('예방', 0.1802),\n",
       "   ('어떤', 0.1802)]])"
      ]
     },
     "execution_count": 21,
     "metadata": {},
     "output_type": "execute_result"
    }
   ],
   "source": [
    "# 제대로 들어갔나 확인\n",
    "question_keybert_dic.keys(), question_keybert_dic['treatment_question_keywords'][:2]"
   ]
  },
  {
   "cell_type": "code",
   "execution_count": 22,
   "metadata": {},
   "outputs": [],
   "source": [
    "# 답변 keybert 키워드 추출\n",
    "answer_keybert_dic = {}\n",
    "\n",
    "# 변수명 딕셔너리에 키값으로 담음.\n",
    "for key in list(answer_sentences_dic.keys()):\n",
    "    var = key.split('_')[0]\n",
    "    var_name = f'{var}_answer_keywords'\n",
    "\n",
    "    answer_keybert_dic[var_name] = []\n",
    "    for q in answer_sentences_dic[key]:\n",
    "        kw = kw_model.extract_keywords(q, keyphrase_ngram_range=(1, 1), top_n=10)\n",
    "        answer_keybert_dic[var_name].append(kw)"
   ]
  },
  {
   "cell_type": "code",
   "execution_count": 23,
   "metadata": {},
   "outputs": [
    {
     "data": {
      "text/plain": [
       "(dict_keys(['prevention_answer_keywords', 'cause_answer_keywords', 'definition_answer_keywords', 'symptom_answer_keywords', 'diagnosis_answer_keywords', 'treatment_answer_keywords']),\n",
       " [[('중요합니다', 0.5574),\n",
       "   ('정신', 0.4489),\n",
       "   ('적절한', 0.4295),\n",
       "   ('사용', 0.4231),\n",
       "   ('요법', 0.4121),\n",
       "   ('치료', 0.4052),\n",
       "   ('결정', 0.4021),\n",
       "   ('생활', 0.3958),\n",
       "   ('이완', 0.3898),\n",
       "   ('전문가', 0.385)],\n",
       "  [('정확한', 0.2811),\n",
       "   ('성적', 0.2523),\n",
       "   ('적절한', 0.2416),\n",
       "   ('건강한', 0.2302),\n",
       "   ('통증', 0.2273),\n",
       "   ('중요합니다', 0.2206),\n",
       "   ('라이프스타일', 0.2107),\n",
       "   ('증상', 0.2028),\n",
       "   ('의해', 0.1943),\n",
       "   ('정기', 0.1932)]])"
      ]
     },
     "execution_count": 23,
     "metadata": {},
     "output_type": "execute_result"
    }
   ],
   "source": [
    "# 제대로 들어갔나 확인\n",
    "answer_keybert_dic.keys(), answer_keybert_dic['treatment_answer_keywords'][:2]"
   ]
  },
  {
   "cell_type": "markdown",
   "metadata": {},
   "source": [
    "#### (1)-3 TF-IDF 벡터로 변환 후 코사인 유사도 계산\n",
    "- TF-IDF 사용 이유: 유사한 질문들이 있을경우 키워드간 중요도를 판별하기 위함."
   ]
  },
  {
   "cell_type": "code",
   "execution_count": 24,
   "metadata": {},
   "outputs": [],
   "source": [
    "from sklearn.feature_extraction.text import TfidfVectorizer\n",
    "from sklearn.metrics.pairwise import cosine_similarity\n",
    "\n",
    "# 키워드를 TF-IDF 벡터로 변환\n",
    "# 질문을 학습시킨 벡터화 모델에 답변을 벡터화해야 차원을 맞출 수 있음.\n",
    "# 질문만 학습시켜 생긴 어휘사전 기반으로 답변은 변환만 하면 어휘사전에 없는 단어들은 벡터화가 안됨.\n",
    "# 즉, 답변에만 등장하는 단어들의 유사도를 비교할 필요가 없는 것.\n",
    "vectorizer = TfidfVectorizer()\n",
    "\n",
    "def tfidf_vectorizer(q_keybert_dic, a_keybert_dic, q_column, a_column, vectorizer):\n",
    "    \n",
    "    q_tfidf_dic = {}\n",
    "    a_tfidf_dic = {}\n",
    "    for q_key, a_key in zip(q_keybert_dic.keys(), a_keybert_dic.keys()):\n",
    "        var = q_key.split('_')[0]\n",
    "        q_var_name = f'{var}_{q_column}_vectors'\n",
    "        a_var_name = f'{var}_{a_column}_vectors'\n",
    "\n",
    "\n",
    "        q_tfidf_dic[q_var_name] = vectorizer.fit_transform([' '.join([kw[0] for kw in kblist]) for kblist in q_keybert_dic[q_key]])\n",
    "        a_tfidf_dic[a_var_name] = vectorizer.transform([' '.join([kw[0] for kw in kblist]) for kblist in a_keybert_dic[a_key]])\n",
    "\n",
    "    return q_tfidf_dic, a_tfidf_dic"
   ]
  },
  {
   "cell_type": "code",
   "execution_count": 25,
   "metadata": {},
   "outputs": [],
   "source": [
    "# tfi-df 벡터화 진행\n",
    "question_vectors_dic, answer_vectors_dic = tfidf_vectorizer(question_keybert_dic, answer_keybert_dic, 'question', 'answer', vectorizer)"
   ]
  },
  {
   "cell_type": "code",
   "execution_count": 26,
   "metadata": {},
   "outputs": [
    {
     "data": {
      "text/plain": [
       "{'prevention_question_vectors': <308x186 sparse matrix of type '<class 'numpy.float64'>'\n",
       " \twith 2234 stored elements in Compressed Sparse Row format>,\n",
       " 'cause_question_vectors': <567x260 sparse matrix of type '<class 'numpy.float64'>'\n",
       " \twith 3556 stored elements in Compressed Sparse Row format>,\n",
       " 'definition_question_vectors': <606x278 sparse matrix of type '<class 'numpy.float64'>'\n",
       " \twith 3859 stored elements in Compressed Sparse Row format>,\n",
       " 'symptom_question_vectors': <772x361 sparse matrix of type '<class 'numpy.float64'>'\n",
       " \twith 5531 stored elements in Compressed Sparse Row format>,\n",
       " 'diagnosis_question_vectors': <707x335 sparse matrix of type '<class 'numpy.float64'>'\n",
       " \twith 5096 stored elements in Compressed Sparse Row format>,\n",
       " 'treatment_question_vectors': <468x240 sparse matrix of type '<class 'numpy.float64'>'\n",
       " \twith 3283 stored elements in Compressed Sparse Row format>}"
      ]
     },
     "execution_count": 26,
     "metadata": {},
     "output_type": "execute_result"
    }
   ],
   "source": [
    "question_vectors_dic"
   ]
  },
  {
   "cell_type": "code",
   "execution_count": 27,
   "metadata": {},
   "outputs": [
    {
     "name": "stdout",
     "output_type": "stream",
     "text": [
      "(316, 361)\n"
     ]
    }
   ],
   "source": [
    "print(answer_vectors_dic['symptom_answer_vectors'].shape) # 316개의 문장이 361개의 키워드로 표현됨."
   ]
  },
  {
   "cell_type": "code",
   "execution_count": 28,
   "metadata": {},
   "outputs": [],
   "source": [
    "# 코사인 유사도 함수화\n",
    "# 증상 질문과 증상 답변, 진단 질문과 진단 답변들 간의 유사도\n",
    "# 코사인 유사도 결과 값을 보면 첫번째 데이터는 첫번째 답변과 모든 질문간의 유사도가 하나의 행렬 벡터에 있는 것이다.\n",
    "# 즉 각 벡터마다 답변 문장의 수만큼 유사도 점수가 있음.\n",
    "# 모든 답변 벡터에 대한 질문들의 유사도를 비교하고 싶으므로 답변 벡터를 먼저 배치.\n",
    "def from_dic_cos_similarity(q_vector_dic, a_vector_dic):\n",
    "\n",
    "    similarity_dic = {}\n",
    "    \n",
    "    for q_key, a_key in zip(q_vector_dic.keys(), a_vector_dic.keys()):\n",
    "        var = q_key.split('_')[0]\n",
    "        var_name = f'{var}_keyword_similarities'\n",
    "\n",
    "        # 질문에 대한 \n",
    "        similarity_dic[var_name] = cosine_similarity(a_vector_dic[a_key], q_vector_dic[q_key])\n",
    "    \n",
    "    return similarity_dic"
   ]
  },
  {
   "cell_type": "code",
   "execution_count": 29,
   "metadata": {},
   "outputs": [],
   "source": [
    "keyword_similarities_dic = from_dic_cos_similarity(question_vectors_dic, answer_vectors_dic)"
   ]
  },
  {
   "cell_type": "code",
   "execution_count": 30,
   "metadata": {},
   "outputs": [
    {
     "data": {
      "text/plain": [
       "array([[0.13805125, 0.13321107, 0.00853558, ..., 0.01095506, 0.01342833,\n",
       "        0.01021405],\n",
       "       [0.        , 0.        , 0.        , ..., 0.23342105, 0.        ,\n",
       "        0.        ],\n",
       "       [0.        , 0.27651168, 0.        , ..., 0.        , 0.        ,\n",
       "        0.        ],\n",
       "       ...,\n",
       "       [0.        , 0.15550197, 0.        , ..., 0.42014554, 0.        ,\n",
       "        0.        ],\n",
       "       [0.        , 0.22172608, 0.        , ..., 0.34910328, 0.        ,\n",
       "        0.        ],\n",
       "       [0.01590486, 0.3341344 , 0.01293952, ..., 0.01660733, 0.02035669,\n",
       "        0.015484  ]])"
      ]
     },
     "execution_count": 30,
     "metadata": {},
     "output_type": "execute_result"
    }
   ],
   "source": [
    "keyword_similarities_dic['prevention_keyword_similarities'][:20]"
   ]
  },
  {
   "cell_type": "code",
   "execution_count": 31,
   "metadata": {},
   "outputs": [
    {
     "name": "stdout",
     "output_type": "stream",
     "text": [
      "데이터 프레임 '예방' 답변 개수:  1108\n",
      "'예방' 유사도 리스트 개수:  1108\n"
     ]
    }
   ],
   "source": [
    "# 모든 답변에 대한 질문을 매칭해야 하므로 답변의 개수만큼 유사도 리스트가 생성되야함.\n",
    "\n",
    "print(\"데이터 프레임 '예방' 답변 개수: \", len(answer_df[answer_df['intention'] == '예방']))\n",
    "print(\"'예방' 유사도 리스트 개수: \", len(keyword_similarities_dic['prevention_keyword_similarities']))"
   ]
  },
  {
   "cell_type": "code",
   "execution_count": 32,
   "metadata": {},
   "outputs": [
    {
     "name": "stdout",
     "output_type": "stream",
     "text": [
      "첫번째 답변에 매칭된 질문 유사도 개수:  308\n",
      "두번째 답변에 매칭된 질문 유사도 개수:  308\n"
     ]
    }
   ],
   "source": [
    "# 각 증상 질문당 매칭된 답변의 유사도 개수\n",
    "print('첫번째 답변에 매칭된 질문 유사도 개수: ', len(keyword_similarities_dic['prevention_keyword_similarities'][0]))\n",
    "print('두번째 답변에 매칭된 질문 유사도 개수: ', len(keyword_similarities_dic['prevention_keyword_similarities'][1]))"
   ]
  },
  {
   "cell_type": "code",
   "execution_count": 33,
   "metadata": {},
   "outputs": [
    {
     "data": {
      "text/plain": [
       "1108"
      ]
     },
     "execution_count": 33,
     "metadata": {},
     "output_type": "execute_result"
    }
   ],
   "source": [
    "len(keyword_similarities_dic['prevention_keyword_similarities'])"
   ]
  },
  {
   "cell_type": "code",
   "execution_count": 34,
   "metadata": {},
   "outputs": [
    {
     "name": "stdout",
     "output_type": "stream",
     "text": [
      "1108\n",
      "1328\n",
      "1375\n",
      "316\n",
      "1231\n",
      "160\n"
     ]
    }
   ],
   "source": [
    "k = list(keyword_similarities_dic.keys())\n",
    "for i in k:\n",
    "    print(len(keyword_similarities_dic[i]))"
   ]
  },
  {
   "cell_type": "code",
   "execution_count": 35,
   "metadata": {},
   "outputs": [
    {
     "name": "stdout",
     "output_type": "stream",
     "text": [
      "ddd\n",
      "cause_keyword_similarities\n",
      "definition_keyword_similarities\n",
      "symptom_keyword_similarities\n",
      "diagnosis_keyword_similarities\n",
      "treatment_keyword_similarities\n"
     ]
    }
   ],
   "source": [
    "k = list(keyword_similarities_dic.keys())\n",
    "for i in k:\n",
    "    if i == k[0]:\n",
    "        print('ddd')\n",
    "    else:\n",
    "        print(i)"
   ]
  },
  {
   "cell_type": "code",
   "execution_count": 118,
   "metadata": {},
   "outputs": [],
   "source": [
    "def top_n_similarity_idx(similarity_dic, top_n=5):\n",
    "\n",
    "    # key 리스트를 먼저 만들어야 마지막 for문에 사용할 수 있음.\n",
    "    key_lists = list(similarity_dic.keys())\n",
    "    answer_total_num = 0\n",
    "    question_total_num = 0\n",
    "    final_candidate_pairs =[]\n",
    "    \n",
    "    for k in key_lists:\n",
    "        \n",
    "        candidate_pairs = []\n",
    "        \n",
    "        for i, row in enumerate(similarity_dic[k]):\n",
    "            idx_row=[]\n",
    "            for j, score in enumerate(row):\n",
    "                # 유사도와 인덱스를 튜플로 만들어서 저장\n",
    "                idx_row.append((j, score))\n",
    "                # reverse=True: 내림차순\n",
    "                # key: x[1]에 있는 값(=score)을 기준으로 정렬\n",
    "            \n",
    "            top_sim = sorted(idx_row, reverse=True, key=lambda x: x[1])[:top_n]\n",
    "            for j, score in top_sim:\n",
    "                if k == key_lists[0]:\n",
    "                    candidate_pairs.append((i, j))\n",
    "                else:\n",
    "                    candidate_pairs.append((i + answer_total_num, j + question_total_num))\n",
    "                \n",
    "        answer_total_num += len(similarity_dic[k])\n",
    "        question_total_num += len(similarity_dic[k][0])\n",
    "        final_candidate_pairs += candidate_pairs\n",
    "                    \n",
    "\n",
    "    return final_candidate_pairs"
   ]
  },
  {
   "cell_type": "code",
   "execution_count": 119,
   "metadata": {},
   "outputs": [],
   "source": [
    "final_candidate_pairs = top_n_similarity_idx(keyword_similarities_dic, top_n=20)"
   ]
  },
  {
   "cell_type": "code",
   "execution_count": 38,
   "metadata": {},
   "outputs": [
    {
     "name": "stdout",
     "output_type": "stream",
     "text": [
      "원천데이터 답변 개수:  5518\n",
      "최종 유사도 인덱스 쌍의 개수/n개:  5518.0\n"
     ]
    }
   ],
   "source": [
    "print('원천데이터 답변 개수: ', len(answer_df))\n",
    "print('최종 유사도 인덱스 쌍의 개수/n개: ', len(final_candidate_pairs) / 20)"
   ]
  },
  {
   "cell_type": "code",
   "execution_count": 39,
   "metadata": {},
   "outputs": [
    {
     "data": {
      "text/plain": [
       "110360"
      ]
     },
     "execution_count": 39,
     "metadata": {},
     "output_type": "execute_result"
    }
   ],
   "source": [
    "len(final_candidate_pairs)"
   ]
  },
  {
   "cell_type": "code",
   "execution_count": 120,
   "metadata": {},
   "outputs": [
    {
     "data": {
      "text/plain": [
       "[(1107, 51),\n",
       " (1107, 88),\n",
       " (1107, 87),\n",
       " (1107, 16),\n",
       " (1107, 114),\n",
       " (1107, 290),\n",
       " (1107, 266),\n",
       " (1107, 197),\n",
       " (1107, 166),\n",
       " (1107, 220),\n",
       " (1107, 115),\n",
       " (1107, 77),\n",
       " (1107, 30),\n",
       " (1107, 222),\n",
       " (1107, 195),\n",
       " (1107, 1),\n",
       " (1107, 61),\n",
       " (1107, 74),\n",
       " (1107, 280),\n",
       " (1107, 300),\n",
       " (1108, 393),\n",
       " (1108, 519),\n",
       " (1108, 569),\n",
       " (1108, 448),\n",
       " (1108, 467),\n",
       " (1108, 512),\n",
       " (1108, 328),\n",
       " (1108, 381),\n",
       " (1108, 460),\n",
       " (1108, 370)]"
      ]
     },
     "execution_count": 120,
     "metadata": {},
     "output_type": "execute_result"
    }
   ],
   "source": [
    "# 답변당 20개씩 매칭이 되어있음.\n",
    "# (답변 위치(몇 번째 답변), 질문 위치)\n",
    "final_candidate_pairs[22140:22170]"
   ]
  },
  {
   "cell_type": "markdown",
   "metadata": {},
   "source": [
    "### (2) 필터링된 문장들만 문장 임베딩\n",
    "- KoBert 모델 사용"
   ]
  },
  {
   "cell_type": "code",
   "execution_count": 41,
   "metadata": {},
   "outputs": [],
   "source": [
    "import torch\n",
    "from kobert_transformers import get_kobert_model, get_tokenizer\n",
    "model = get_kobert_model()\n",
    "tokenizer = get_tokenizer()\n",
    "\n",
    "# tokenizer.tokenize(\"[CLS] 한국어 모델을 공유합니다. [SEP]\")"
   ]
  },
  {
   "cell_type": "code",
   "execution_count": 96,
   "metadata": {},
   "outputs": [],
   "source": [
    "# 임베딩 구하는 함수 만들기\n",
    "def embedding(sentence):\n",
    "    # BERT 모델 최대 입력길이 제한이 512 토큰 이라고 함.\n",
    "    tokens = tokenizer.encode(sentence, return_tensors='pt', max_length=512, truncation=True, padding=True)\n",
    "\n",
    "    # 추론과정에서 기울기 구하지 않도록 설정\n",
    "    # 학습이 아니라 추론만 하므로 메모리 사용량을 줄이고 속도를 높이기 위해 no_grad 사용\n",
    "    with torch.no_grad():\n",
    "        output = model(tokens)\n",
    "\n",
    "\n",
    "    # output[0]: 각 입력 토큰에 대한 벡터\n",
    "    # shape: [batch_size, seq_length, hidden_size]\n",
    "    # output[1]: 문장 전체적인 의미\n",
    "    # [:, 0, :]: 모든 batch 차원(한번에 처리하는 데이터 묶음), 첫번째 토큰, 마지막 차원 모두\n",
    "    return output[0][:, 0, :].squeeze().numpy() # 유사도 비교를 위해 numpy 배열로 변환"
   ]
  },
  {
   "cell_type": "code",
   "execution_count": 97,
   "metadata": {},
   "outputs": [],
   "source": [
    "# 인트로+결론 답변, 전체 답변, 질문에 대한 임베딩 계산\n",
    "question_embeddings_kobert = [embedding(q) for q in question_df['question']] "
   ]
  },
  {
   "cell_type": "code",
   "execution_count": 44,
   "metadata": {},
   "outputs": [],
   "source": [
    "ic_answer_embeddings_kobert = [embedding(a) for a in answer_df['answer_intro_conclusion']]"
   ]
  },
  {
   "cell_type": "code",
   "execution_count": 45,
   "metadata": {},
   "outputs": [],
   "source": [
    "answer_embeddings_kobert = [embedding(a) for a in answer_df['answer']]"
   ]
  },
  {
   "cell_type": "code",
   "execution_count": 46,
   "metadata": {},
   "outputs": [
    {
     "data": {
      "text/plain": [
       "(5518, 5518, 5518)"
      ]
     },
     "execution_count": 46,
     "metadata": {},
     "output_type": "execute_result"
    }
   ],
   "source": [
    "len(answer_embeddings_kobert), len(ic_answer_embeddings_kobert), len(answer_embeddings_kobert)"
   ]
  },
  {
   "cell_type": "code",
   "execution_count": 47,
   "metadata": {},
   "outputs": [],
   "source": [
    "# 후보 쌍에 대한 코싸인 유사도 계산 함수\n",
    "\n",
    "def make_cosine_similarity(candidate_pairs, answer_embedding, question_embedding):\n",
    "    \n",
    "    similarities = []\n",
    "    for a_idx, q_idx in candidate_pairs:\n",
    "        # print(a_idx, q_idx)\n",
    "        c_simi = cosine_similarity([answer_embedding[a_idx]], [question_embedding[q_idx]])\n",
    "        similarities.append((a_idx, q_idx, c_simi))\n",
    "\n",
    "    return similarities"
   ]
  },
  {
   "cell_type": "code",
   "execution_count": 48,
   "metadata": {},
   "outputs": [],
   "source": [
    "# 전체 답변과 질문\n",
    "# 후보 쌍에 대해 코싸인 유사도 계산\n",
    "kobert_final_similarities = make_cosine_similarity(final_candidate_pairs, answer_embeddings_kobert, question_embeddings_kobert)"
   ]
  },
  {
   "cell_type": "code",
   "execution_count": 49,
   "metadata": {},
   "outputs": [
    {
     "data": {
      "text/plain": [
       "(110360, (95, 162, array([[0.60487926]], dtype=float32)))"
      ]
     },
     "execution_count": 49,
     "metadata": {},
     "output_type": "execute_result"
    }
   ],
   "source": [
    "len(kobert_final_similarities), kobert_final_similarities[1900]"
   ]
  },
  {
   "cell_type": "code",
   "execution_count": 50,
   "metadata": {},
   "outputs": [],
   "source": [
    "# intro+conclusion 답변과 질문\n",
    "# 후보 쌍에 대해 코싸인 유사도 계산\n",
    "ic_kobert_final_similarities = make_cosine_similarity(final_candidate_pairs, answer_embeddings_kobert, question_embeddings_kobert)"
   ]
  },
  {
   "cell_type": "markdown",
   "metadata": {},
   "source": [
    "- 가중치를 부여한 유사도 점수 계산\n",
    "- intro + conclusion 답변에 대한 유사도에 가중치 0.4, 전체 답변에 대한 유사도에 가중치 0.6 부여"
   ]
  },
  {
   "cell_type": "code",
   "execution_count": 52,
   "metadata": {},
   "outputs": [
    {
     "data": {
      "text/plain": [
       "(5517, 3206, array([[0.6336633]], dtype=float32))"
      ]
     },
     "execution_count": 52,
     "metadata": {},
     "output_type": "execute_result"
    }
   ],
   "source": [
    "ic_kobert_final_similarities[-1]"
   ]
  },
  {
   "cell_type": "code",
   "execution_count": 53,
   "metadata": {},
   "outputs": [],
   "source": [
    "combine_similarities = []\n",
    "for ic_s, s in zip(ic_kobert_final_similarities, kobert_final_similarities):\n",
    "    a, b, ic_c = ic_s\n",
    "    _, _, c = s\n",
    "\n",
    "    combine_score = 0.4*ic_c + 0.6*c\n",
    "\n",
    "    combine_similarities.append((a, b, combine_score))\n",
    "\n",
    "kobert_final_similarities = combine_similarities"
   ]
  },
  {
   "cell_type": "code",
   "execution_count": 58,
   "metadata": {},
   "outputs": [
    {
     "data": {
      "text/plain": [
       "(5517, 3206, array([[0.6336633]], dtype=float32))"
      ]
     },
     "execution_count": 58,
     "metadata": {},
     "output_type": "execute_result"
    }
   ],
   "source": [
    "kobert_final_similarities[-1]"
   ]
  },
  {
   "cell_type": "markdown",
   "metadata": {},
   "source": [
    "### (3) 가장 연관성이 높은 질문 데이터 프레임화"
   ]
  },
  {
   "cell_type": "markdown",
   "metadata": {},
   "source": [
    "- 10만개 이상의 데이터를 계속 for문 속에 for문을 넣으면서 코드를 돌리니 시간이 너무 오래걸림.\n",
    "- defaultdict를 사용해 한 번만 순회하면서 최대유사도를 업데이트하는 방향으로 코드 변경\n",
    "- 160분 넘어도 안끝나던 코드가 -> 0.2초만에 끝남\n",
    "- defaultdict\n",
    "    - dictionary와 동일하게 key: value 형식.\n",
    "    - 존재하지 않는 key에 대해 기본값을 설정할 수 있음."
   ]
  },
  {
   "cell_type": "code",
   "execution_count": 82,
   "metadata": {},
   "outputs": [],
   "source": [
    "# # 인덱스와 유사도 리스트화\n",
    "# idx_group = set(i[0] for i in kobert_final_similarities) # set(): 유니크한 값을 가지는 집합\n",
    "\n",
    "# for g in idx_group:\n",
    "#     simi_list = [i[2] for i in kobert_final_similarities if i[0] == g]\n",
    "\n",
    "#     # 유사도가 가장 높은 값에 해당하는 데이터 하나만 추출\n",
    "#     result = [row for row in kobert_final_similarities if (row[2] == max(simi_list)) and (row[0]==g)] "
   ]
  },
  {
   "cell_type": "code",
   "execution_count": 76,
   "metadata": {},
   "outputs": [],
   "source": [
    "from collections import defaultdict\n",
    "a = defaultdict(int)"
   ]
  },
  {
   "cell_type": "code",
   "execution_count": 77,
   "metadata": {},
   "outputs": [
    {
     "data": {
      "text/plain": [
       "(0, 0)"
      ]
     },
     "execution_count": 77,
     "metadata": {},
     "output_type": "execute_result"
    }
   ],
   "source": [
    "a[0], a['키값']"
   ]
  },
  {
   "cell_type": "code",
   "execution_count": 98,
   "metadata": {},
   "outputs": [],
   "source": [
    "from collections import defaultdict\n",
    "\n",
    "# 키에 대한 기본값 설정\n",
    "# 어떤 키를 넣든 없으면 해당 기본값을 줌\n",
    "max_group = defaultdict(lambda: (-1, None)) # max_group에 처음 접근할 때 키가 없으면 (-1(유사도), None(원래값))이 기본값\n",
    "\n",
    "for row in kobert_final_similarities:\n",
    "    a_idx, q_idx, simi = row\n",
    "    if simi > max_group[a_idx][0]: # simi > 현재 할당되어있는 유사도 이면\n",
    "        max_group[a_idx] = (simi, row) # 동일한 a_idx 키에대해 값 업데이트\n",
    "\n",
    "kobert_final_result = [row for simi, row in max_group.values()]"
   ]
  },
  {
   "cell_type": "code",
   "execution_count": 99,
   "metadata": {},
   "outputs": [
    {
     "data": {
      "text/plain": [
       "(5518, (5501, 3101, array([[0.74056315]], dtype=float32)))"
      ]
     },
     "execution_count": 99,
     "metadata": {},
     "output_type": "execute_result"
    }
   ],
   "source": [
    "len(kobert_final_result), result[5501]"
   ]
  },
  {
   "cell_type": "code",
   "execution_count": 100,
   "metadata": {},
   "outputs": [],
   "source": [
    "kobert_final_matching_list = []\n",
    "for row in kobert_final_result:\n",
    "\n",
    "    # 답변\n",
    "    answer = answer_df.loc[row[0], 'answer']\n",
    "    answer_intro_conclusion = answer_df.loc[row[0], 'answer_intro_conclusion']\n",
    "    # 질문\n",
    "    question = question_df.loc[row[1], 'question']\n",
    "    # 유사도 점수\n",
    "    similarity_score = row[2]\n",
    "    # 질문 의도\n",
    "    intent = answer_df.loc[row[0], 'intention']\n",
    "    # 질병관련 정보\n",
    "    dc = answer_df.loc[row[0], 'disease_category']\n",
    "    dn = answer_df.loc[row[0], 'disease_name']\n",
    "\n",
    "    kobert_final_matching_list.append({'disease_category': dc, 'disease_name': dn,\n",
    "                                       'intention': intent, 'question': question,\n",
    "                                       # 'answer_intro_conclusion': answer_intro_conclusion,\n",
    "                                       'answer': answer,\n",
    "                                       'similarity_score': similarity_score})"
   ]
  },
  {
   "cell_type": "code",
   "execution_count": 101,
   "metadata": {},
   "outputs": [
    {
     "data": {
      "text/html": [
       "<div>\n",
       "<style scoped>\n",
       "    .dataframe tbody tr th:only-of-type {\n",
       "        vertical-align: middle;\n",
       "    }\n",
       "\n",
       "    .dataframe tbody tr th {\n",
       "        vertical-align: top;\n",
       "    }\n",
       "\n",
       "    .dataframe thead th {\n",
       "        text-align: right;\n",
       "    }\n",
       "</style>\n",
       "<table border=\"1\" class=\"dataframe\">\n",
       "  <thead>\n",
       "    <tr style=\"text-align: right;\">\n",
       "      <th></th>\n",
       "      <th>question</th>\n",
       "      <th>answer</th>\n",
       "      <th>similarity_score</th>\n",
       "    </tr>\n",
       "  </thead>\n",
       "  <tbody>\n",
       "    <tr>\n",
       "      <th>0</th>\n",
       "      <td>약물 복용을 통해 두통을 미리 예방하는 방법을 알려주세요.</td>\n",
       "      <td>두통을 예방하기 위해서는 일상적으로 바른 자세를 유지해야 합니다. 일상 생활에서의 ...</td>\n",
       "      <td>[[0.71982515]]</td>\n",
       "    </tr>\n",
       "    <tr>\n",
       "      <th>1</th>\n",
       "      <td>갈색세포증의 증상을 개선하기 위해 건강에 좋은 운동이나 영양을 신경써야 할까요?</td>\n",
       "      <td>긴장성 두통을 예방하기 위한 몇 가지 조치를 취할 수 있습니다. 먼저, 건강한 생활...</td>\n",
       "      <td>[[0.727221]]</td>\n",
       "    </tr>\n",
       "    <tr>\n",
       "      <th>2</th>\n",
       "      <td>두통 예방을 위해 충분한 휴식이 중요한가요?</td>\n",
       "      <td>두통 예방을 위한 생활습관은 다양한 방법으로 개선할 수 있습니다. 일상적인 습관 중...</td>\n",
       "      <td>[[0.7377082]]</td>\n",
       "    </tr>\n",
       "    <tr>\n",
       "      <th>3</th>\n",
       "      <td>두통을 예방하기 위해 어떤 예방 방법이 있는지 알려주세요.</td>\n",
       "      <td>머리 통증을 예방하기 위해 몇 가지 전략을 시도해볼 수 있습니다. 스트레스를 관리하...</td>\n",
       "      <td>[[0.7103399]]</td>\n",
       "    </tr>\n",
       "    <tr>\n",
       "      <th>4</th>\n",
       "      <td>두통을 예방하기 위한 생활 습관에는 어떤 것이 있는지 알려주세요.</td>\n",
       "      <td>스트레스는 긴장성 두통을 유발하는 중요한 요인 중 하나입니다. 스트레스를 줄이는 것...</td>\n",
       "      <td>[[0.68233]]</td>\n",
       "    </tr>\n",
       "    <tr>\n",
       "      <th>...</th>\n",
       "      <td>...</td>\n",
       "      <td>...</td>\n",
       "      <td>...</td>\n",
       "    </tr>\n",
       "    <tr>\n",
       "      <th>5513</th>\n",
       "      <td>최근에 두통이 자주 발생하는 경우 어떤 종류의 두통인지 정확한 진단을 받을 수 있을까요?</td>\n",
       "      <td>두통은 우리 일상생활에서 흔히 겪는 증상입니다. 두통의 치료는 그 원인과 심각성에 ...</td>\n",
       "      <td>[[0.79728603]]</td>\n",
       "    </tr>\n",
       "    <tr>\n",
       "      <th>5514</th>\n",
       "      <td>두통이 자주 발생하는 것은 일반적인 현상인가요? 집에서 할 수 있는 간단한 치료 방...</td>\n",
       "      <td>두통은 많은 사람들이 겪는 일상적인 문제입니다. 치료 방법은 두통의 종류와 원인에 ...</td>\n",
       "      <td>[[0.7807157]]</td>\n",
       "    </tr>\n",
       "    <tr>\n",
       "      <th>5515</th>\n",
       "      <td>두통의 치료는 어떤 생활습관을 가지는 것이 중요한가요?</td>\n",
       "      <td>두통은 일상 생활에 불편을 초래할 수 있는 주요한 증상 중 하나입니다. 치료법은 두...</td>\n",
       "      <td>[[0.7130239]]</td>\n",
       "    </tr>\n",
       "    <tr>\n",
       "      <th>5516</th>\n",
       "      <td>최근에 두통이 자주 발생하는 경우 어떤 종류의 두통인지 정확한 진단을 받을 수 있을까요?</td>\n",
       "      <td>두통은 일반적으로 일차성 두통과 이차성 두통으로 구분됩니다. 일차성 두통은 두통을 ...</td>\n",
       "      <td>[[0.7706493]]</td>\n",
       "    </tr>\n",
       "    <tr>\n",
       "      <th>5517</th>\n",
       "      <td>두통의 원인과 상태에 따라 적절한 치료 방법을 추천해주세요.</td>\n",
       "      <td>두통은 일상생활에 큰 지장을 주는 증상입니다. 두통이 심하거나 지속적인 증상이 있을...</td>\n",
       "      <td>[[0.7502097]]</td>\n",
       "    </tr>\n",
       "  </tbody>\n",
       "</table>\n",
       "<p>5518 rows × 3 columns</p>\n",
       "</div>"
      ],
      "text/plain": [
       "                                               question  \\\n",
       "0                      약물 복용을 통해 두통을 미리 예방하는 방법을 알려주세요.   \n",
       "1          갈색세포증의 증상을 개선하기 위해 건강에 좋은 운동이나 영양을 신경써야 할까요?   \n",
       "2                              두통 예방을 위해 충분한 휴식이 중요한가요?   \n",
       "3                      두통을 예방하기 위해 어떤 예방 방법이 있는지 알려주세요.   \n",
       "4                  두통을 예방하기 위한 생활 습관에는 어떤 것이 있는지 알려주세요.   \n",
       "...                                                 ...   \n",
       "5513  최근에 두통이 자주 발생하는 경우 어떤 종류의 두통인지 정확한 진단을 받을 수 있을까요?   \n",
       "5514  두통이 자주 발생하는 것은 일반적인 현상인가요? 집에서 할 수 있는 간단한 치료 방...   \n",
       "5515                     두통의 치료는 어떤 생활습관을 가지는 것이 중요한가요?   \n",
       "5516  최근에 두통이 자주 발생하는 경우 어떤 종류의 두통인지 정확한 진단을 받을 수 있을까요?   \n",
       "5517                  두통의 원인과 상태에 따라 적절한 치료 방법을 추천해주세요.   \n",
       "\n",
       "                                                 answer similarity_score  \n",
       "0     두통을 예방하기 위해서는 일상적으로 바른 자세를 유지해야 합니다. 일상 생활에서의 ...   [[0.71982515]]  \n",
       "1     긴장성 두통을 예방하기 위한 몇 가지 조치를 취할 수 있습니다. 먼저, 건강한 생활...     [[0.727221]]  \n",
       "2     두통 예방을 위한 생활습관은 다양한 방법으로 개선할 수 있습니다. 일상적인 습관 중...    [[0.7377082]]  \n",
       "3     머리 통증을 예방하기 위해 몇 가지 전략을 시도해볼 수 있습니다. 스트레스를 관리하...    [[0.7103399]]  \n",
       "4     스트레스는 긴장성 두통을 유발하는 중요한 요인 중 하나입니다. 스트레스를 줄이는 것...      [[0.68233]]  \n",
       "...                                                 ...              ...  \n",
       "5513  두통은 우리 일상생활에서 흔히 겪는 증상입니다. 두통의 치료는 그 원인과 심각성에 ...   [[0.79728603]]  \n",
       "5514  두통은 많은 사람들이 겪는 일상적인 문제입니다. 치료 방법은 두통의 종류와 원인에 ...    [[0.7807157]]  \n",
       "5515  두통은 일상 생활에 불편을 초래할 수 있는 주요한 증상 중 하나입니다. 치료법은 두...    [[0.7130239]]  \n",
       "5516  두통은 일반적으로 일차성 두통과 이차성 두통으로 구분됩니다. 일차성 두통은 두통을 ...    [[0.7706493]]  \n",
       "5517  두통은 일상생활에 큰 지장을 주는 증상입니다. 두통이 심하거나 지속적인 증상이 있을...    [[0.7502097]]  \n",
       "\n",
       "[5518 rows x 3 columns]"
      ]
     },
     "execution_count": 101,
     "metadata": {},
     "output_type": "execute_result"
    }
   ],
   "source": [
    "kobert_final_matching_df = pd.DataFrame(kobert_final_matching_list)\n",
    "kobert_final_matching_df[['question', 'answer', 'similarity_score']]"
   ]
  },
  {
   "cell_type": "code",
   "execution_count": 104,
   "metadata": {},
   "outputs": [
    {
     "data": {
      "text/plain": [
       "'약물 복용을 통해 두통을 미리 예방하는 방법을 알려주세요.'"
      ]
     },
     "execution_count": 104,
     "metadata": {},
     "output_type": "execute_result"
    }
   ],
   "source": [
    "kobert_final_matching_df['question'][0]"
   ]
  },
  {
   "cell_type": "code",
   "execution_count": 105,
   "metadata": {},
   "outputs": [
    {
     "data": {
      "text/plain": [
       "['두통을 예방하기 위해서는 일상적으로 바른 자세를 유지해야 합니다',\n",
       " '일상 생활에서의 자세한 관리는 두통 예방에 도움이 될 수 있습니다',\n",
       " '컴퓨터를 사용할 때는 모니터를 눈높이에 배치하는 것이 좋습니다',\n",
       " '의자에 앉을 때는 등을 펴고 허리를 곧게 세워 앉습니다',\n",
       " '책을 읽을 때는 눈높이에 맞추어 읽으며 책을 읽을 때는 한손으로 받친 자세로 읽는 것이 좋습니다',\n",
       " '모니터를 멀리 배치할 경우 눈의 피로를 줄일 수 있습니다',\n",
       " '긴 시간동안 앉아 있는 경우에는 일어나서 스트레칭을 해주거나 몸을 좌우로 비틀어서 자세를 풀어주는 것이 좋습니다',\n",
       " '또한, 일상생활에서 적절한 자세를 유지하는 것과 충분한 수면을 취함으로써 두통 예방에 도움을 줄 수 있습니다',\n",
       " '올바른 자세와 수면, 스트레칭을 통해 일상 생활에서 올바른 자세를 유지하는 것이 두통 예방에 도움이 됩니다.']"
      ]
     },
     "execution_count": 105,
     "metadata": {},
     "output_type": "execute_result"
    }
   ],
   "source": [
    "kobert_final_matching_df['answer'][0].split('. ')"
   ]
  },
  {
   "cell_type": "code",
   "execution_count": 107,
   "metadata": {},
   "outputs": [],
   "source": [
    "kobert_final_matching_df.to_csv('kobert_matching.csv')"
   ]
  },
  {
   "cell_type": "code",
   "execution_count": 108,
   "metadata": {},
   "outputs": [
    {
     "data": {
      "text/html": [
       "<div>\n",
       "<style scoped>\n",
       "    .dataframe tbody tr th:only-of-type {\n",
       "        vertical-align: middle;\n",
       "    }\n",
       "\n",
       "    .dataframe tbody tr th {\n",
       "        vertical-align: top;\n",
       "    }\n",
       "\n",
       "    .dataframe thead th {\n",
       "        text-align: right;\n",
       "    }\n",
       "</style>\n",
       "<table border=\"1\" class=\"dataframe\">\n",
       "  <thead>\n",
       "    <tr style=\"text-align: right;\">\n",
       "      <th></th>\n",
       "      <th>disease_category</th>\n",
       "      <th>disease_name</th>\n",
       "      <th>intention</th>\n",
       "      <th>question</th>\n",
       "      <th>answer</th>\n",
       "      <th>similarity_score</th>\n",
       "    </tr>\n",
       "  </thead>\n",
       "  <tbody>\n",
       "    <tr>\n",
       "      <th>0</th>\n",
       "      <td>응급질환</td>\n",
       "      <td>두통</td>\n",
       "      <td>예방</td>\n",
       "      <td>약물 복용을 통해 두통을 미리 예방하는 방법을 알려주세요.</td>\n",
       "      <td>두통을 예방하기 위해서는 일상적으로 바른 자세를 유지해야 합니다. 일상 생활에서의 ...</td>\n",
       "      <td>[[0.71982515]]</td>\n",
       "    </tr>\n",
       "    <tr>\n",
       "      <th>1</th>\n",
       "      <td>응급질환</td>\n",
       "      <td>두통</td>\n",
       "      <td>예방</td>\n",
       "      <td>갈색세포증의 증상을 개선하기 위해 건강에 좋은 운동이나 영양을 신경써야 할까요?</td>\n",
       "      <td>긴장성 두통을 예방하기 위한 몇 가지 조치를 취할 수 있습니다. 먼저, 건강한 생활...</td>\n",
       "      <td>[[0.727221]]</td>\n",
       "    </tr>\n",
       "    <tr>\n",
       "      <th>2</th>\n",
       "      <td>응급질환</td>\n",
       "      <td>두통</td>\n",
       "      <td>예방</td>\n",
       "      <td>두통 예방을 위해 충분한 휴식이 중요한가요?</td>\n",
       "      <td>두통 예방을 위한 생활습관은 다양한 방법으로 개선할 수 있습니다. 일상적인 습관 중...</td>\n",
       "      <td>[[0.7377082]]</td>\n",
       "    </tr>\n",
       "    <tr>\n",
       "      <th>3</th>\n",
       "      <td>응급질환</td>\n",
       "      <td>두통</td>\n",
       "      <td>예방</td>\n",
       "      <td>두통을 예방하기 위해 어떤 예방 방법이 있는지 알려주세요.</td>\n",
       "      <td>머리 통증을 예방하기 위해 몇 가지 전략을 시도해볼 수 있습니다. 스트레스를 관리하...</td>\n",
       "      <td>[[0.7103399]]</td>\n",
       "    </tr>\n",
       "    <tr>\n",
       "      <th>4</th>\n",
       "      <td>응급질환</td>\n",
       "      <td>두통</td>\n",
       "      <td>예방</td>\n",
       "      <td>두통을 예방하기 위한 생활 습관에는 어떤 것이 있는지 알려주세요.</td>\n",
       "      <td>스트레스는 긴장성 두통을 유발하는 중요한 요인 중 하나입니다. 스트레스를 줄이는 것...</td>\n",
       "      <td>[[0.68233]]</td>\n",
       "    </tr>\n",
       "    <tr>\n",
       "      <th>...</th>\n",
       "      <td>...</td>\n",
       "      <td>...</td>\n",
       "      <td>...</td>\n",
       "      <td>...</td>\n",
       "      <td>...</td>\n",
       "      <td>...</td>\n",
       "    </tr>\n",
       "    <tr>\n",
       "      <th>5513</th>\n",
       "      <td>응급질환</td>\n",
       "      <td>두통</td>\n",
       "      <td>치료</td>\n",
       "      <td>최근에 두통이 자주 발생하는 경우 어떤 종류의 두통인지 정확한 진단을 받을 수 있을까요?</td>\n",
       "      <td>두통은 우리 일상생활에서 흔히 겪는 증상입니다. 두통의 치료는 그 원인과 심각성에 ...</td>\n",
       "      <td>[[0.79728603]]</td>\n",
       "    </tr>\n",
       "    <tr>\n",
       "      <th>5514</th>\n",
       "      <td>응급질환</td>\n",
       "      <td>두통</td>\n",
       "      <td>치료</td>\n",
       "      <td>두통이 자주 발생하는 것은 일반적인 현상인가요? 집에서 할 수 있는 간단한 치료 방...</td>\n",
       "      <td>두통은 많은 사람들이 겪는 일상적인 문제입니다. 치료 방법은 두통의 종류와 원인에 ...</td>\n",
       "      <td>[[0.7807157]]</td>\n",
       "    </tr>\n",
       "    <tr>\n",
       "      <th>5515</th>\n",
       "      <td>응급질환</td>\n",
       "      <td>두통</td>\n",
       "      <td>치료</td>\n",
       "      <td>두통의 치료는 어떤 생활습관을 가지는 것이 중요한가요?</td>\n",
       "      <td>두통은 일상 생활에 불편을 초래할 수 있는 주요한 증상 중 하나입니다. 치료법은 두...</td>\n",
       "      <td>[[0.7130239]]</td>\n",
       "    </tr>\n",
       "    <tr>\n",
       "      <th>5516</th>\n",
       "      <td>응급질환</td>\n",
       "      <td>두통</td>\n",
       "      <td>치료</td>\n",
       "      <td>최근에 두통이 자주 발생하는 경우 어떤 종류의 두통인지 정확한 진단을 받을 수 있을까요?</td>\n",
       "      <td>두통은 일반적으로 일차성 두통과 이차성 두통으로 구분됩니다. 일차성 두통은 두통을 ...</td>\n",
       "      <td>[[0.7706493]]</td>\n",
       "    </tr>\n",
       "    <tr>\n",
       "      <th>5517</th>\n",
       "      <td>응급질환</td>\n",
       "      <td>두통</td>\n",
       "      <td>치료</td>\n",
       "      <td>두통의 원인과 상태에 따라 적절한 치료 방법을 추천해주세요.</td>\n",
       "      <td>두통은 일상생활에 큰 지장을 주는 증상입니다. 두통이 심하거나 지속적인 증상이 있을...</td>\n",
       "      <td>[[0.7502097]]</td>\n",
       "    </tr>\n",
       "  </tbody>\n",
       "</table>\n",
       "<p>5518 rows × 6 columns</p>\n",
       "</div>"
      ],
      "text/plain": [
       "     disease_category disease_name intention  \\\n",
       "0                응급질환           두통        예방   \n",
       "1                응급질환           두통        예방   \n",
       "2                응급질환           두통        예방   \n",
       "3                응급질환           두통        예방   \n",
       "4                응급질환           두통        예방   \n",
       "...               ...          ...       ...   \n",
       "5513             응급질환           두통        치료   \n",
       "5514             응급질환           두통        치료   \n",
       "5515             응급질환           두통        치료   \n",
       "5516             응급질환           두통        치료   \n",
       "5517             응급질환           두통        치료   \n",
       "\n",
       "                                               question  \\\n",
       "0                      약물 복용을 통해 두통을 미리 예방하는 방법을 알려주세요.   \n",
       "1          갈색세포증의 증상을 개선하기 위해 건강에 좋은 운동이나 영양을 신경써야 할까요?   \n",
       "2                              두통 예방을 위해 충분한 휴식이 중요한가요?   \n",
       "3                      두통을 예방하기 위해 어떤 예방 방법이 있는지 알려주세요.   \n",
       "4                  두통을 예방하기 위한 생활 습관에는 어떤 것이 있는지 알려주세요.   \n",
       "...                                                 ...   \n",
       "5513  최근에 두통이 자주 발생하는 경우 어떤 종류의 두통인지 정확한 진단을 받을 수 있을까요?   \n",
       "5514  두통이 자주 발생하는 것은 일반적인 현상인가요? 집에서 할 수 있는 간단한 치료 방...   \n",
       "5515                     두통의 치료는 어떤 생활습관을 가지는 것이 중요한가요?   \n",
       "5516  최근에 두통이 자주 발생하는 경우 어떤 종류의 두통인지 정확한 진단을 받을 수 있을까요?   \n",
       "5517                  두통의 원인과 상태에 따라 적절한 치료 방법을 추천해주세요.   \n",
       "\n",
       "                                                 answer similarity_score  \n",
       "0     두통을 예방하기 위해서는 일상적으로 바른 자세를 유지해야 합니다. 일상 생활에서의 ...   [[0.71982515]]  \n",
       "1     긴장성 두통을 예방하기 위한 몇 가지 조치를 취할 수 있습니다. 먼저, 건강한 생활...     [[0.727221]]  \n",
       "2     두통 예방을 위한 생활습관은 다양한 방법으로 개선할 수 있습니다. 일상적인 습관 중...    [[0.7377082]]  \n",
       "3     머리 통증을 예방하기 위해 몇 가지 전략을 시도해볼 수 있습니다. 스트레스를 관리하...    [[0.7103399]]  \n",
       "4     스트레스는 긴장성 두통을 유발하는 중요한 요인 중 하나입니다. 스트레스를 줄이는 것...      [[0.68233]]  \n",
       "...                                                 ...              ...  \n",
       "5513  두통은 우리 일상생활에서 흔히 겪는 증상입니다. 두통의 치료는 그 원인과 심각성에 ...   [[0.79728603]]  \n",
       "5514  두통은 많은 사람들이 겪는 일상적인 문제입니다. 치료 방법은 두통의 종류와 원인에 ...    [[0.7807157]]  \n",
       "5515  두통은 일상 생활에 불편을 초래할 수 있는 주요한 증상 중 하나입니다. 치료법은 두...    [[0.7130239]]  \n",
       "5516  두통은 일반적으로 일차성 두통과 이차성 두통으로 구분됩니다. 일차성 두통은 두통을 ...    [[0.7706493]]  \n",
       "5517  두통은 일상생활에 큰 지장을 주는 증상입니다. 두통이 심하거나 지속적인 증상이 있을...    [[0.7502097]]  \n",
       "\n",
       "[5518 rows x 6 columns]"
      ]
     },
     "execution_count": 108,
     "metadata": {},
     "output_type": "execute_result"
    }
   ],
   "source": [
    "kobert_final_matching_df = pd.read_csv('kobert_matching.csv', index_col=0)\n",
    "kobert_final_matching_df"
   ]
  },
  {
   "cell_type": "markdown",
   "metadata": {},
   "source": [
    "### (2)-1 KoSentence-BERT 모델로 문장 유사도 다시 구해보기"
   ]
  },
  {
   "cell_type": "code",
   "execution_count": 109,
   "metadata": {},
   "outputs": [],
   "source": [
    "from sentence_transformers import SentenceTransformer, util\n",
    "\n",
    "# KoSentence-BERT 모델 불러오기\n",
    "model = SentenceTransformer('snunlp/KR-SBERT-V40K-klueNLI-augSTS')"
   ]
  },
  {
   "cell_type": "code",
   "execution_count": 110,
   "metadata": {},
   "outputs": [],
   "source": [
    "# 임베딩 구하는 함수 만들기\n",
    "def embedding_KR_SBERT(sentence):\n",
    "    result = model.encode(sentence)\n",
    "    \n",
    "    return result"
   ]
  },
  {
   "cell_type": "code",
   "execution_count": 112,
   "metadata": {},
   "outputs": [],
   "source": [
    "# 질문과 답변에 대한 임베딩 계산\n",
    "question_embeddings_KR_SBERT = [embedding_KR_SBERT(q) for q in question_df['question']] "
   ]
  },
  {
   "cell_type": "code",
   "execution_count": 113,
   "metadata": {},
   "outputs": [],
   "source": [
    "answer_embeddings_KR_SBERT = [embedding_KR_SBERT(a) for a in answer_df['answer']]"
   ]
  },
  {
   "cell_type": "code",
   "execution_count": 114,
   "metadata": {},
   "outputs": [],
   "source": [
    "ic_answer_embeddings_KR_SBERT = [embedding_KR_SBERT(a) for a in answer_df['answer_intro_conclusion']]"
   ]
  },
  {
   "cell_type": "code",
   "execution_count": 121,
   "metadata": {},
   "outputs": [
    {
     "data": {
      "text/plain": [
       "(110360, (95, 162, array([[0.38487184]], dtype=float32)))"
      ]
     },
     "execution_count": 121,
     "metadata": {},
     "output_type": "execute_result"
    }
   ],
   "source": [
    "# 후보 쌍에 대해 코싸인 유사도 계산\n",
    "KR_SBERT_final_similarities = []\n",
    "for a_idx, q_idx in final_candidate_pairs:\n",
    "    # print(a_idx, q_idx)\n",
    "    c_simi = cosine_similarity([answer_embeddings_KR_SBERT[a_idx]], [question_embeddings_KR_SBERT[q_idx]])\n",
    "    KR_SBERT_final_similarities.append((a_idx, q_idx, c_simi))\n",
    "\n",
    "len(KR_SBERT_final_similarities), KR_SBERT_final_similarities[1900]"
   ]
  },
  {
   "cell_type": "code",
   "execution_count": 122,
   "metadata": {},
   "outputs": [
    {
     "data": {
      "text/plain": [
       "(110360, (95, 162, array([[0.6645186]], dtype=float32)))"
      ]
     },
     "execution_count": 122,
     "metadata": {},
     "output_type": "execute_result"
    }
   ],
   "source": [
    "# intro+conclusion 답변과 질문\n",
    "# 후보 쌍에 대해 코싸인 유사도 계산\n",
    "ic_KR_SBERT_final_similarities = []\n",
    "for a_idx, q_idx in final_candidate_pairs:\n",
    "    # print(a_idx, q_idx)\n",
    "    c_simi = cosine_similarity([ic_answer_embeddings_kobert[a_idx]], [question_embeddings_kobert[q_idx]])\n",
    "    ic_KR_SBERT_final_similarities.append((a_idx, q_idx, c_simi))\n",
    "\n",
    "len(ic_KR_SBERT_final_similarities), ic_KR_SBERT_final_similarities[1900]"
   ]
  },
  {
   "cell_type": "code",
   "execution_count": 123,
   "metadata": {},
   "outputs": [
    {
     "data": {
      "text/plain": [
       "(95, 162, array([[0.49673057]], dtype=float32))"
      ]
     },
     "execution_count": 123,
     "metadata": {},
     "output_type": "execute_result"
    }
   ],
   "source": [
    "KR_SBERT_combine_similarities = []\n",
    "for ic_s, s in zip(ic_KR_SBERT_final_similarities, KR_SBERT_final_similarities):\n",
    "    a, b, ic_c = ic_s\n",
    "    _, _, c = s\n",
    "\n",
    "    combine_score = 0.4*ic_c + 0.6*c\n",
    "\n",
    "    KR_SBERT_combine_similarities.append((a, b, combine_score))\n",
    "\n",
    "KR_SBERT_final_similarities = KR_SBERT_combine_similarities\n",
    "KR_SBERT_final_similarities[1900]"
   ]
  },
  {
   "cell_type": "code",
   "execution_count": 126,
   "metadata": {},
   "outputs": [],
   "source": [
    "from collections import defaultdict\n",
    "\n",
    "# 키에 대한 기본값 설정\n",
    "# 어떤 키를 넣든 없으면 해당 기본값을 줌\n",
    "max_group = defaultdict(lambda: (-1, None)) # max_group에 처음 접근할 때 키가 없으면 (-1(유사도), None(원래값))이 기본값\n",
    "\n",
    "for row in KR_SBERT_final_similarities:\n",
    "    a_idx, q_idx, simi = row\n",
    "    if simi > max_group[a_idx][0]: # simi > 현재 할당되어있는 유사도 이면\n",
    "        max_group[a_idx] = (simi, row) # 동일한 a_idx 키에대해 값 업데이트\n",
    "\n",
    "KR_SBERT_final_result = [row for simi, row in max_group.values()]"
   ]
  },
  {
   "cell_type": "code",
   "execution_count": 128,
   "metadata": {},
   "outputs": [
    {
     "data": {
      "text/plain": [
       "5518"
      ]
     },
     "execution_count": 128,
     "metadata": {},
     "output_type": "execute_result"
    }
   ],
   "source": [
    "len(KR_SBERT_final_result)"
   ]
  },
  {
   "cell_type": "code",
   "execution_count": 129,
   "metadata": {},
   "outputs": [],
   "source": [
    "KR_SBERT_final_matching_list = []\n",
    "for row in KR_SBERT_final_result:\n",
    "\n",
    "    # 답변\n",
    "    answer = answer_df.loc[row[0], 'answer']\n",
    "    answer_intro_conclusion = answer_df.loc[row[0], 'answer_intro_conclusion']\n",
    "    # 질문\n",
    "    question = question_df.loc[row[1], 'question']\n",
    "    # 유사도 점수\n",
    "    similarity_score = row[2]\n",
    "    # 질문 의도\n",
    "    intent = answer_df.loc[row[0], 'intention']\n",
    "    # 질병관련 정보\n",
    "    dc = answer_df.loc[row[0], 'disease_category']\n",
    "    dn = answer_df.loc[row[0], 'disease_name']\n",
    "\n",
    "    KR_SBERT_final_matching_list.append({'disease_category': dc, 'disease_name': dn,\n",
    "                                         'intention': intent, 'question': question,\n",
    "                                         # 'answer_intro_conclusion':answer_intro_conclusion,\n",
    "                                         'answer': answer,\n",
    "                                         'similarity_score': similarity_score})"
   ]
  },
  {
   "cell_type": "code",
   "execution_count": 130,
   "metadata": {},
   "outputs": [
    {
     "data": {
      "text/html": [
       "<div>\n",
       "<style scoped>\n",
       "    .dataframe tbody tr th:only-of-type {\n",
       "        vertical-align: middle;\n",
       "    }\n",
       "\n",
       "    .dataframe tbody tr th {\n",
       "        vertical-align: top;\n",
       "    }\n",
       "\n",
       "    .dataframe thead th {\n",
       "        text-align: right;\n",
       "    }\n",
       "</style>\n",
       "<table border=\"1\" class=\"dataframe\">\n",
       "  <thead>\n",
       "    <tr style=\"text-align: right;\">\n",
       "      <th></th>\n",
       "      <th>question</th>\n",
       "      <th>answer</th>\n",
       "      <th>similarity_score</th>\n",
       "    </tr>\n",
       "  </thead>\n",
       "  <tbody>\n",
       "    <tr>\n",
       "      <th>0</th>\n",
       "      <td>두통 예방을 위해 어떤 스트레칭이 도움이 될까요?</td>\n",
       "      <td>두통을 예방하기 위해서는 일상적으로 바른 자세를 유지해야 합니다. 일상 생활에서의 ...</td>\n",
       "      <td>[[0.62894523]]</td>\n",
       "    </tr>\n",
       "    <tr>\n",
       "      <th>1</th>\n",
       "      <td>두통 예방을 위해 어떤 자세와 운동 습관을 가지면 좋을까요?</td>\n",
       "      <td>긴장성 두통을 예방하기 위한 몇 가지 조치를 취할 수 있습니다. 먼저, 건강한 생활...</td>\n",
       "      <td>[[0.67311627]]</td>\n",
       "    </tr>\n",
       "    <tr>\n",
       "      <th>2</th>\n",
       "      <td>두통 예방을 위해 충분한 휴식이 중요한가요?</td>\n",
       "      <td>두통 예방을 위한 생활습관은 다양한 방법으로 개선할 수 있습니다. 일상적인 습관 중...</td>\n",
       "      <td>[[0.73985565]]</td>\n",
       "    </tr>\n",
       "    <tr>\n",
       "      <th>3</th>\n",
       "      <td>두통 예방을 위한 효과적인 방법들을 알려주세요.</td>\n",
       "      <td>머리 통증을 예방하기 위해 몇 가지 전략을 시도해볼 수 있습니다. 스트레스를 관리하...</td>\n",
       "      <td>[[0.72741425]]</td>\n",
       "    </tr>\n",
       "    <tr>\n",
       "      <th>4</th>\n",
       "      <td>두통을 예방하기 위한 생활 습관에는 어떤 것이 있는지 알려주세요.</td>\n",
       "      <td>스트레스는 긴장성 두통을 유발하는 중요한 요인 중 하나입니다. 스트레스를 줄이는 것...</td>\n",
       "      <td>[[0.69896096]]</td>\n",
       "    </tr>\n",
       "    <tr>\n",
       "      <th>...</th>\n",
       "      <td>...</td>\n",
       "      <td>...</td>\n",
       "      <td>...</td>\n",
       "    </tr>\n",
       "    <tr>\n",
       "      <th>5513</th>\n",
       "      <td>최근에 두통이 자주 발생하는 경우 어떤 종류의 두통인지 정확한 진단을 받을 수 있을까요?</td>\n",
       "      <td>두통은 우리 일상생활에서 흔히 겪는 증상입니다. 두통의 치료는 그 원인과 심각성에 ...</td>\n",
       "      <td>[[0.7733924]]</td>\n",
       "    </tr>\n",
       "    <tr>\n",
       "      <th>5514</th>\n",
       "      <td>두통의 원인과 상태에 따라 어떤 치료 방법을 선택해야 할까요?</td>\n",
       "      <td>두통은 많은 사람들이 겪는 일상적인 문제입니다. 치료 방법은 두통의 종류와 원인에 ...</td>\n",
       "      <td>[[0.7367816]]</td>\n",
       "    </tr>\n",
       "    <tr>\n",
       "      <th>5515</th>\n",
       "      <td>두통의 치료는 어떤 생활습관을 가지는 것이 중요한가요?</td>\n",
       "      <td>두통은 일상 생활에 불편을 초래할 수 있는 주요한 증상 중 하나입니다. 치료법은 두...</td>\n",
       "      <td>[[0.71166277]]</td>\n",
       "    </tr>\n",
       "    <tr>\n",
       "      <th>5516</th>\n",
       "      <td>최근에 두통이 자주 발생하는 경우 어떤 종류의 두통인지 정확한 진단을 받을 수 있을까요?</td>\n",
       "      <td>두통은 일반적으로 일차성 두통과 이차성 두통으로 구분됩니다. 일차성 두통은 두통을 ...</td>\n",
       "      <td>[[0.71532214]]</td>\n",
       "    </tr>\n",
       "    <tr>\n",
       "      <th>5517</th>\n",
       "      <td>두통의 원인과 상태에 따라 적절한 치료 방법을 추천해주세요.</td>\n",
       "      <td>두통은 일상생활에 큰 지장을 주는 증상입니다. 두통이 심하거나 지속적인 증상이 있을...</td>\n",
       "      <td>[[0.72976184]]</td>\n",
       "    </tr>\n",
       "  </tbody>\n",
       "</table>\n",
       "<p>5518 rows × 3 columns</p>\n",
       "</div>"
      ],
      "text/plain": [
       "                                               question  \\\n",
       "0                           두통 예방을 위해 어떤 스트레칭이 도움이 될까요?   \n",
       "1                     두통 예방을 위해 어떤 자세와 운동 습관을 가지면 좋을까요?   \n",
       "2                              두통 예방을 위해 충분한 휴식이 중요한가요?   \n",
       "3                            두통 예방을 위한 효과적인 방법들을 알려주세요.   \n",
       "4                  두통을 예방하기 위한 생활 습관에는 어떤 것이 있는지 알려주세요.   \n",
       "...                                                 ...   \n",
       "5513  최근에 두통이 자주 발생하는 경우 어떤 종류의 두통인지 정확한 진단을 받을 수 있을까요?   \n",
       "5514                 두통의 원인과 상태에 따라 어떤 치료 방법을 선택해야 할까요?   \n",
       "5515                     두통의 치료는 어떤 생활습관을 가지는 것이 중요한가요?   \n",
       "5516  최근에 두통이 자주 발생하는 경우 어떤 종류의 두통인지 정확한 진단을 받을 수 있을까요?   \n",
       "5517                  두통의 원인과 상태에 따라 적절한 치료 방법을 추천해주세요.   \n",
       "\n",
       "                                                 answer similarity_score  \n",
       "0     두통을 예방하기 위해서는 일상적으로 바른 자세를 유지해야 합니다. 일상 생활에서의 ...   [[0.62894523]]  \n",
       "1     긴장성 두통을 예방하기 위한 몇 가지 조치를 취할 수 있습니다. 먼저, 건강한 생활...   [[0.67311627]]  \n",
       "2     두통 예방을 위한 생활습관은 다양한 방법으로 개선할 수 있습니다. 일상적인 습관 중...   [[0.73985565]]  \n",
       "3     머리 통증을 예방하기 위해 몇 가지 전략을 시도해볼 수 있습니다. 스트레스를 관리하...   [[0.72741425]]  \n",
       "4     스트레스는 긴장성 두통을 유발하는 중요한 요인 중 하나입니다. 스트레스를 줄이는 것...   [[0.69896096]]  \n",
       "...                                                 ...              ...  \n",
       "5513  두통은 우리 일상생활에서 흔히 겪는 증상입니다. 두통의 치료는 그 원인과 심각성에 ...    [[0.7733924]]  \n",
       "5514  두통은 많은 사람들이 겪는 일상적인 문제입니다. 치료 방법은 두통의 종류와 원인에 ...    [[0.7367816]]  \n",
       "5515  두통은 일상 생활에 불편을 초래할 수 있는 주요한 증상 중 하나입니다. 치료법은 두...   [[0.71166277]]  \n",
       "5516  두통은 일반적으로 일차성 두통과 이차성 두통으로 구분됩니다. 일차성 두통은 두통을 ...   [[0.71532214]]  \n",
       "5517  두통은 일상생활에 큰 지장을 주는 증상입니다. 두통이 심하거나 지속적인 증상이 있을...   [[0.72976184]]  \n",
       "\n",
       "[5518 rows x 3 columns]"
      ]
     },
     "execution_count": 130,
     "metadata": {},
     "output_type": "execute_result"
    }
   ],
   "source": [
    "KR_SBERT_final_matching_df = pd.DataFrame(KR_SBERT_final_matching_list)\n",
    "KR_SBERT_final_matching_df[['question', 'answer', 'similarity_score']]"
   ]
  },
  {
   "cell_type": "code",
   "execution_count": 133,
   "metadata": {},
   "outputs": [
    {
     "data": {
      "text/plain": [
       "'두통 예방을 위해 어떤 스트레칭이 도움이 될까요?'"
      ]
     },
     "execution_count": 133,
     "metadata": {},
     "output_type": "execute_result"
    }
   ],
   "source": [
    "KR_SBERT_final_matching_df['question'][0]"
   ]
  },
  {
   "cell_type": "code",
   "execution_count": 134,
   "metadata": {},
   "outputs": [
    {
     "data": {
      "text/plain": [
       "['두통을 예방하기 위해서는 일상적으로 바른 자세를 유지해야 합니다',\n",
       " '일상 생활에서의 자세한 관리는 두통 예방에 도움이 될 수 있습니다',\n",
       " '컴퓨터를 사용할 때는 모니터를 눈높이에 배치하는 것이 좋습니다',\n",
       " '의자에 앉을 때는 등을 펴고 허리를 곧게 세워 앉습니다',\n",
       " '책을 읽을 때는 눈높이에 맞추어 읽으며 책을 읽을 때는 한손으로 받친 자세로 읽는 것이 좋습니다',\n",
       " '모니터를 멀리 배치할 경우 눈의 피로를 줄일 수 있습니다',\n",
       " '긴 시간동안 앉아 있는 경우에는 일어나서 스트레칭을 해주거나 몸을 좌우로 비틀어서 자세를 풀어주는 것이 좋습니다',\n",
       " '또한, 일상생활에서 적절한 자세를 유지하는 것과 충분한 수면을 취함으로써 두통 예방에 도움을 줄 수 있습니다',\n",
       " '올바른 자세와 수면, 스트레칭을 통해 일상 생활에서 올바른 자세를 유지하는 것이 두통 예방에 도움이 됩니다.']"
      ]
     },
     "execution_count": 134,
     "metadata": {},
     "output_type": "execute_result"
    }
   ],
   "source": [
    "KR_SBERT_final_matching_df['answer'][0].split('. ')"
   ]
  },
  {
   "cell_type": "code",
   "execution_count": 135,
   "metadata": {},
   "outputs": [],
   "source": [
    "KR_SBERT_final_matching_df.to_csv('KR_SBERT_matching.csv')"
   ]
  },
  {
   "cell_type": "code",
   "execution_count": 136,
   "metadata": {},
   "outputs": [
    {
     "data": {
      "text/html": [
       "<div>\n",
       "<style scoped>\n",
       "    .dataframe tbody tr th:only-of-type {\n",
       "        vertical-align: middle;\n",
       "    }\n",
       "\n",
       "    .dataframe tbody tr th {\n",
       "        vertical-align: top;\n",
       "    }\n",
       "\n",
       "    .dataframe thead th {\n",
       "        text-align: right;\n",
       "    }\n",
       "</style>\n",
       "<table border=\"1\" class=\"dataframe\">\n",
       "  <thead>\n",
       "    <tr style=\"text-align: right;\">\n",
       "      <th></th>\n",
       "      <th>disease_category</th>\n",
       "      <th>disease_name</th>\n",
       "      <th>intention</th>\n",
       "      <th>question</th>\n",
       "      <th>answer</th>\n",
       "      <th>similarity_score</th>\n",
       "    </tr>\n",
       "  </thead>\n",
       "  <tbody>\n",
       "    <tr>\n",
       "      <th>0</th>\n",
       "      <td>응급질환</td>\n",
       "      <td>두통</td>\n",
       "      <td>예방</td>\n",
       "      <td>두통 예방을 위해 어떤 스트레칭이 도움이 될까요?</td>\n",
       "      <td>두통을 예방하기 위해서는 일상적으로 바른 자세를 유지해야 합니다. 일상 생활에서의 ...</td>\n",
       "      <td>[[0.62894523]]</td>\n",
       "    </tr>\n",
       "    <tr>\n",
       "      <th>1</th>\n",
       "      <td>응급질환</td>\n",
       "      <td>두통</td>\n",
       "      <td>예방</td>\n",
       "      <td>두통 예방을 위해 어떤 자세와 운동 습관을 가지면 좋을까요?</td>\n",
       "      <td>긴장성 두통을 예방하기 위한 몇 가지 조치를 취할 수 있습니다. 먼저, 건강한 생활...</td>\n",
       "      <td>[[0.67311627]]</td>\n",
       "    </tr>\n",
       "    <tr>\n",
       "      <th>2</th>\n",
       "      <td>응급질환</td>\n",
       "      <td>두통</td>\n",
       "      <td>예방</td>\n",
       "      <td>두통 예방을 위해 충분한 휴식이 중요한가요?</td>\n",
       "      <td>두통 예방을 위한 생활습관은 다양한 방법으로 개선할 수 있습니다. 일상적인 습관 중...</td>\n",
       "      <td>[[0.73985565]]</td>\n",
       "    </tr>\n",
       "    <tr>\n",
       "      <th>3</th>\n",
       "      <td>응급질환</td>\n",
       "      <td>두통</td>\n",
       "      <td>예방</td>\n",
       "      <td>두통 예방을 위한 효과적인 방법들을 알려주세요.</td>\n",
       "      <td>머리 통증을 예방하기 위해 몇 가지 전략을 시도해볼 수 있습니다. 스트레스를 관리하...</td>\n",
       "      <td>[[0.72741425]]</td>\n",
       "    </tr>\n",
       "    <tr>\n",
       "      <th>4</th>\n",
       "      <td>응급질환</td>\n",
       "      <td>두통</td>\n",
       "      <td>예방</td>\n",
       "      <td>두통을 예방하기 위한 생활 습관에는 어떤 것이 있는지 알려주세요.</td>\n",
       "      <td>스트레스는 긴장성 두통을 유발하는 중요한 요인 중 하나입니다. 스트레스를 줄이는 것...</td>\n",
       "      <td>[[0.69896096]]</td>\n",
       "    </tr>\n",
       "    <tr>\n",
       "      <th>...</th>\n",
       "      <td>...</td>\n",
       "      <td>...</td>\n",
       "      <td>...</td>\n",
       "      <td>...</td>\n",
       "      <td>...</td>\n",
       "      <td>...</td>\n",
       "    </tr>\n",
       "    <tr>\n",
       "      <th>5513</th>\n",
       "      <td>응급질환</td>\n",
       "      <td>두통</td>\n",
       "      <td>치료</td>\n",
       "      <td>최근에 두통이 자주 발생하는 경우 어떤 종류의 두통인지 정확한 진단을 받을 수 있을까요?</td>\n",
       "      <td>두통은 우리 일상생활에서 흔히 겪는 증상입니다. 두통의 치료는 그 원인과 심각성에 ...</td>\n",
       "      <td>[[0.7733924]]</td>\n",
       "    </tr>\n",
       "    <tr>\n",
       "      <th>5514</th>\n",
       "      <td>응급질환</td>\n",
       "      <td>두통</td>\n",
       "      <td>치료</td>\n",
       "      <td>두통의 원인과 상태에 따라 어떤 치료 방법을 선택해야 할까요?</td>\n",
       "      <td>두통은 많은 사람들이 겪는 일상적인 문제입니다. 치료 방법은 두통의 종류와 원인에 ...</td>\n",
       "      <td>[[0.7367816]]</td>\n",
       "    </tr>\n",
       "    <tr>\n",
       "      <th>5515</th>\n",
       "      <td>응급질환</td>\n",
       "      <td>두통</td>\n",
       "      <td>치료</td>\n",
       "      <td>두통의 치료는 어떤 생활습관을 가지는 것이 중요한가요?</td>\n",
       "      <td>두통은 일상 생활에 불편을 초래할 수 있는 주요한 증상 중 하나입니다. 치료법은 두...</td>\n",
       "      <td>[[0.71166277]]</td>\n",
       "    </tr>\n",
       "    <tr>\n",
       "      <th>5516</th>\n",
       "      <td>응급질환</td>\n",
       "      <td>두통</td>\n",
       "      <td>치료</td>\n",
       "      <td>최근에 두통이 자주 발생하는 경우 어떤 종류의 두통인지 정확한 진단을 받을 수 있을까요?</td>\n",
       "      <td>두통은 일반적으로 일차성 두통과 이차성 두통으로 구분됩니다. 일차성 두통은 두통을 ...</td>\n",
       "      <td>[[0.71532214]]</td>\n",
       "    </tr>\n",
       "    <tr>\n",
       "      <th>5517</th>\n",
       "      <td>응급질환</td>\n",
       "      <td>두통</td>\n",
       "      <td>치료</td>\n",
       "      <td>두통의 원인과 상태에 따라 적절한 치료 방법을 추천해주세요.</td>\n",
       "      <td>두통은 일상생활에 큰 지장을 주는 증상입니다. 두통이 심하거나 지속적인 증상이 있을...</td>\n",
       "      <td>[[0.72976184]]</td>\n",
       "    </tr>\n",
       "  </tbody>\n",
       "</table>\n",
       "<p>5518 rows × 6 columns</p>\n",
       "</div>"
      ],
      "text/plain": [
       "     disease_category disease_name intention  \\\n",
       "0                응급질환           두통        예방   \n",
       "1                응급질환           두통        예방   \n",
       "2                응급질환           두통        예방   \n",
       "3                응급질환           두통        예방   \n",
       "4                응급질환           두통        예방   \n",
       "...               ...          ...       ...   \n",
       "5513             응급질환           두통        치료   \n",
       "5514             응급질환           두통        치료   \n",
       "5515             응급질환           두통        치료   \n",
       "5516             응급질환           두통        치료   \n",
       "5517             응급질환           두통        치료   \n",
       "\n",
       "                                               question  \\\n",
       "0                           두통 예방을 위해 어떤 스트레칭이 도움이 될까요?   \n",
       "1                     두통 예방을 위해 어떤 자세와 운동 습관을 가지면 좋을까요?   \n",
       "2                              두통 예방을 위해 충분한 휴식이 중요한가요?   \n",
       "3                            두통 예방을 위한 효과적인 방법들을 알려주세요.   \n",
       "4                  두통을 예방하기 위한 생활 습관에는 어떤 것이 있는지 알려주세요.   \n",
       "...                                                 ...   \n",
       "5513  최근에 두통이 자주 발생하는 경우 어떤 종류의 두통인지 정확한 진단을 받을 수 있을까요?   \n",
       "5514                 두통의 원인과 상태에 따라 어떤 치료 방법을 선택해야 할까요?   \n",
       "5515                     두통의 치료는 어떤 생활습관을 가지는 것이 중요한가요?   \n",
       "5516  최근에 두통이 자주 발생하는 경우 어떤 종류의 두통인지 정확한 진단을 받을 수 있을까요?   \n",
       "5517                  두통의 원인과 상태에 따라 적절한 치료 방법을 추천해주세요.   \n",
       "\n",
       "                                                 answer similarity_score  \n",
       "0     두통을 예방하기 위해서는 일상적으로 바른 자세를 유지해야 합니다. 일상 생활에서의 ...   [[0.62894523]]  \n",
       "1     긴장성 두통을 예방하기 위한 몇 가지 조치를 취할 수 있습니다. 먼저, 건강한 생활...   [[0.67311627]]  \n",
       "2     두통 예방을 위한 생활습관은 다양한 방법으로 개선할 수 있습니다. 일상적인 습관 중...   [[0.73985565]]  \n",
       "3     머리 통증을 예방하기 위해 몇 가지 전략을 시도해볼 수 있습니다. 스트레스를 관리하...   [[0.72741425]]  \n",
       "4     스트레스는 긴장성 두통을 유발하는 중요한 요인 중 하나입니다. 스트레스를 줄이는 것...   [[0.69896096]]  \n",
       "...                                                 ...              ...  \n",
       "5513  두통은 우리 일상생활에서 흔히 겪는 증상입니다. 두통의 치료는 그 원인과 심각성에 ...    [[0.7733924]]  \n",
       "5514  두통은 많은 사람들이 겪는 일상적인 문제입니다. 치료 방법은 두통의 종류와 원인에 ...    [[0.7367816]]  \n",
       "5515  두통은 일상 생활에 불편을 초래할 수 있는 주요한 증상 중 하나입니다. 치료법은 두...   [[0.71166277]]  \n",
       "5516  두통은 일반적으로 일차성 두통과 이차성 두통으로 구분됩니다. 일차성 두통은 두통을 ...   [[0.71532214]]  \n",
       "5517  두통은 일상생활에 큰 지장을 주는 증상입니다. 두통이 심하거나 지속적인 증상이 있을...   [[0.72976184]]  \n",
       "\n",
       "[5518 rows x 6 columns]"
      ]
     },
     "execution_count": 136,
     "metadata": {},
     "output_type": "execute_result"
    }
   ],
   "source": [
    "KR_SBERT_final_matching_df = pd.read_csv('KR_SBERT_matching.csv', index_col=0)\n",
    "KR_SBERT_final_matching_df"
   ]
  },
  {
   "cell_type": "code",
   "execution_count": null,
   "metadata": {},
   "outputs": [],
   "source": []
  }
 ],
 "metadata": {
  "kernelspec": {
   "display_name": "ds_study",
   "language": "python",
   "name": "python3"
  },
  "language_info": {
   "codemirror_mode": {
    "name": "ipython",
    "version": 3
   },
   "file_extension": ".py",
   "mimetype": "text/x-python",
   "name": "python",
   "nbconvert_exporter": "python",
   "pygments_lexer": "ipython3",
   "version": "3.12.3"
  }
 },
 "nbformat": 4,
 "nbformat_minor": 2
}
